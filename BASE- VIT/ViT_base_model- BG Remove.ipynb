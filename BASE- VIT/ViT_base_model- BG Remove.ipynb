{
  "cells": [
    {
      "cell_type": "markdown",
      "metadata": {
        "id": "eGJscg-YvIIg"
      },
      "source": [
        "## Data Preprocessing"
      ]
    },
    {
      "cell_type": "code",
      "execution_count": 27,
      "metadata": {},
      "outputs": [],
      "source": [
        "# !pip3 install pandas\n",
        "# !pip3 install scikit-learn"
      ]
    },
    {
      "cell_type": "code",
      "execution_count": 28,
      "metadata": {
        "id": "bl0iXmKYvW_x"
      },
      "outputs": [],
      "source": [
        "from PIL import Image\n",
        "import numpy as np\n",
        "import glob\n",
        "import pandas as pd\n",
        "from sklearn import preprocessing\n",
        "from sklearn.model_selection import train_test_split\n",
        "import os"
      ]
    },
    {
      "cell_type": "markdown",
      "metadata": {
        "id": "yQ5TBzDGvOeQ"
      },
      "source": [
        "## ViT base"
      ]
    },
    {
      "cell_type": "code",
      "execution_count": 29,
      "metadata": {
        "colab": {
          "base_uri": "https://localhost:8080/"
        },
        "id": "bKi4AoOeyCgZ",
        "outputId": "7cd78e47-0a8d-4079-c21e-12fec34af9db"
      },
      "outputs": [],
      "source": [
        "# !pip install vit-pytorch\n",
        "# !pip3 install seaborn\n"
      ]
    },
    {
      "cell_type": "code",
      "execution_count": 30,
      "metadata": {
        "id": "-20XYiuuvdHK"
      },
      "outputs": [],
      "source": [
        "from __future__ import print_function\n",
        "from PIL import Image\n",
        "from vit_pytorch import ViT\n",
        "import torch.nn as nn\n",
        "import torch.optim as optim\n",
        "from torchvision import datasets, transforms\n",
        "from torch.optim.lr_scheduler import StepLR\n",
        "from torch.utils.data import DataLoader, Dataset\n",
        "import glob\n",
        "import pandas as pd\n",
        "from sklearn import preprocessing\n",
        "from sklearn.model_selection import train_test_split\n",
        "import os\n",
        "import pickle\n",
        "import collections\n",
        "import torch\n",
        "import matplotlib.pyplot as plt\n",
        "from sklearn.metrics import confusion_matrix, mean_squared_error, classification_report\n",
        "import numpy as np\n",
        "import seaborn as sn"
      ]
    },
    {
      "cell_type": "code",
      "execution_count": 31,
      "metadata": {
        "id": "yn7vW0U1sICJ"
      },
      "outputs": [],
      "source": [
        "# Setting CUDA Device:\n",
        "torch.cuda.set_device(0)\n",
        "# CUDA_VISIBLE_DEVICES= [1,2]"
      ]
    },
    {
      "cell_type": "code",
      "execution_count": null,
      "metadata": {
        "id": "XanYdlmbsIFJ"
      },
      "outputs": [],
      "source": []
    },
    {
      "cell_type": "code",
      "execution_count": 32,
      "metadata": {
        "id": "bZlIcqgUsIHm"
      },
      "outputs": [],
      "source": [
        "# Importing metadata:\n",
        "# total_df = pd.read_csv('/home/uditha/snap/snapd-desktop-integration/current/Desktop/FYP/dataset/ham10000/HAM10000_metadata.csv')\n",
        "file_list_mel = glob.glob(r'/home/uditha/snap/snapd-desktop-integration/current/Desktop/FYP/BG_remove/Data/REMOVE/MEL/*.png')\n",
        "file_list_nev = glob.glob(r'/home/uditha/snap/snapd-desktop-integration/current/Desktop/FYP/BG_remove/Data/REMOVE/NEVS/*.png')"
      ]
    },
    {
      "cell_type": "code",
      "execution_count": 33,
      "metadata": {
        "colab": {
          "base_uri": "https://localhost:8080/"
        },
        "id": "0TMr4ug9sIK3",
        "outputId": "d91d321c-a001-4edd-960b-aab358821ad8"
      },
      "outputs": [],
      "source": [
        "# Generating labels:\n",
        "y_all = []\n",
        "file_list2 = []\n",
        "\n",
        "for name in file_list_mel:    \n",
        "  y_all.append('mel')\n",
        "  file_list2.append(name)\n",
        "\n",
        "for name in file_list_nev:    \n",
        "  y_all.append('nev')\n",
        "  file_list2.append(name)\n",
        "    "
      ]
    },
    {
      "cell_type": "code",
      "execution_count": 34,
      "metadata": {
        "id": "VY7640EpcYh2"
      },
      "outputs": [],
      "source": [
        "y_all.count(\"mel\")\n",
        "len(file_list2)\n",
        "file_list = file_list2"
      ]
    },
    {
      "cell_type": "code",
      "execution_count": 35,
      "metadata": {
        "id": "IivK_ZjosINJ"
      },
      "outputs": [],
      "source": [
        "# Encodeing lables:\n",
        "le = preprocessing.LabelEncoder()\n",
        "y_all1 = le.fit_transform(y_all)"
      ]
    },
    {
      "cell_type": "code",
      "execution_count": 36,
      "metadata": {
        "colab": {
          "base_uri": "https://localhost:8080/"
        },
        "id": "J5hmEhAshEaU",
        "outputId": "b82140db-0662-4013-9491-3697932d03a3"
      },
      "outputs": [
        {
          "name": "stdout",
          "output_type": "stream",
          "text": [
            "1228\n"
          ]
        }
      ],
      "source": [
        "# print(y_all)\n",
        "print(len(y_all1))"
      ]
    },
    {
      "cell_type": "code",
      "execution_count": 37,
      "metadata": {
        "id": "vGN6EYHQsIPg"
      },
      "outputs": [],
      "source": [
        "# Applying test train split\n",
        "X_train, X_temp, y_train, y_temp = train_test_split(file_list, y_all1, random_state=1, stratify=y_all1, test_size=0.201)\n",
        "X_val, X_test, y_val, y_test = train_test_split(X_temp, y_temp, random_state=1, stratify=y_temp, test_size=0.5)\n"
      ]
    },
    {
      "cell_type": "code",
      "execution_count": null,
      "metadata": {},
      "outputs": [],
      "source": []
    },
    {
      "cell_type": "code",
      "execution_count": 38,
      "metadata": {
        "colab": {
          "base_uri": "https://localhost:8080/"
        },
        "id": "QtReOMPmyq1h",
        "outputId": "dec23590-eabd-48c5-f0e0-c4013e068dba"
      },
      "outputs": [
        {
          "name": "stdout",
          "output_type": "stream",
          "text": [
            "124\n"
          ]
        }
      ],
      "source": [
        "print(len(X_test))"
      ]
    },
    {
      "cell_type": "code",
      "execution_count": 58,
      "metadata": {
        "id": "xRve1xzesiyk"
      },
      "outputs": [],
      "source": [
        "# Creating Dataset:\n",
        "data_transforms = transforms.Compose(\n",
        "    [\n",
        "        transforms.Resize((224, 224)),\n",
        "        transforms.RandomHorizontalFlip(),\n",
        "        transforms.RandomResizedCrop(224),\n",
        "        transforms.ToTensor(),\n",
        "    ]\n",
        ")"
      ]
    },
    {
      "cell_type": "code",
      "execution_count": 59,
      "metadata": {
        "id": "InXGFFCusi6n"
      },
      "outputs": [],
      "source": [
        "class MyDataset(Dataset):\n",
        "    def __init__(self, file_list, y_all, transform=None):\n",
        "        self.file_list = file_list\n",
        "        self.transform = transform\n",
        "        self.y_all = y_all\n",
        "\n",
        "\n",
        "    def __getitem__(self, index1):\n",
        "        img_path = self.file_list[index1]\n",
        "        img = Image.open(img_path)\n",
        "        img_transformed = self.transform(img)\n",
        "        label = self.y_all[index1]\n",
        "        return img_transformed, label\n",
        "\n",
        "    def __len__(self):\n",
        "      return len(self.file_list)\n"
      ]
    },
    {
      "cell_type": "code",
      "execution_count": 60,
      "metadata": {
        "id": "SgMgqBGtsi9C"
      },
      "outputs": [],
      "source": [
        "train_data = MyDataset(X_train, y_train, transform=data_transforms)\n",
        "valid_data = MyDataset(X_val, y_val, transform=data_transforms)\n",
        "test_data = MyDataset(X_test, y_test, transform=data_transforms)\n",
        "\n",
        "# Fixing Dataloader:\n",
        "train_loader = DataLoader(dataset = train_data, batch_size=32, shuffle=True )\n",
        "valid_loader = DataLoader(dataset = valid_data, batch_size=32, shuffle=True)\n",
        "test_loader = DataLoader(dataset = test_data, batch_size=32, shuffle=True)\n"
      ]
    },
    {
      "cell_type": "code",
      "execution_count": 42,
      "metadata": {},
      "outputs": [
        {
          "data": {
            "text/plain": [
              "4"
            ]
          },
          "execution_count": 42,
          "metadata": {},
          "output_type": "execute_result"
        }
      ],
      "source": [
        "len(valid_loader)"
      ]
    },
    {
      "cell_type": "code",
      "execution_count": 61,
      "metadata": {},
      "outputs": [
        {
          "name": "stdout",
          "output_type": "stream",
          "text": [
            "........\n",
            "torch.Size([32, 4, 224, 224])\n",
            "........\n",
            "torch.Size([32, 4, 224, 224])\n",
            "........\n",
            "torch.Size([32, 4, 224, 224])\n",
            "........\n",
            "torch.Size([32, 4, 224, 224])\n",
            "........\n",
            "torch.Size([32, 4, 224, 224])\n",
            "........\n",
            "torch.Size([32, 4, 224, 224])\n",
            "........\n",
            "torch.Size([32, 4, 224, 224])\n",
            "........\n",
            "torch.Size([32, 4, 224, 224])\n",
            "........\n",
            "torch.Size([32, 4, 224, 224])\n",
            "........\n",
            "torch.Size([32, 4, 224, 224])\n",
            "........\n",
            "torch.Size([32, 4, 224, 224])\n",
            "........\n",
            "torch.Size([32, 4, 224, 224])\n",
            "........\n",
            "torch.Size([32, 4, 224, 224])\n",
            "........\n",
            "torch.Size([32, 4, 224, 224])\n",
            "........\n",
            "torch.Size([32, 4, 224, 224])\n",
            "........\n",
            "torch.Size([32, 4, 224, 224])\n",
            "........\n",
            "torch.Size([32, 4, 224, 224])\n",
            "........\n",
            "torch.Size([32, 4, 224, 224])\n",
            "........\n",
            "torch.Size([32, 4, 224, 224])\n",
            "........\n",
            "torch.Size([32, 4, 224, 224])\n",
            "........\n",
            "torch.Size([32, 4, 224, 224])\n",
            "........\n",
            "torch.Size([32, 4, 224, 224])\n",
            "........\n",
            "torch.Size([32, 4, 224, 224])\n",
            "........\n",
            "torch.Size([32, 4, 224, 224])\n",
            "........\n",
            "torch.Size([32, 4, 224, 224])\n",
            "........\n",
            "torch.Size([32, 4, 224, 224])\n",
            "........\n",
            "torch.Size([32, 4, 224, 224])\n",
            "........\n",
            "torch.Size([32, 4, 224, 224])\n",
            "........\n",
            "torch.Size([32, 4, 224, 224])\n",
            "........\n",
            "torch.Size([32, 4, 224, 224])\n",
            "........\n",
            "torch.Size([21, 4, 224, 224])\n"
          ]
        }
      ],
      "source": [
        "for data, label in train_loader:\n",
        "    print(\"........\")\n",
        "    print(data.size())"
      ]
    },
    {
      "cell_type": "code",
      "execution_count": 62,
      "metadata": {},
      "outputs": [],
      "source": [
        "# Hyperparameters:\n",
        "num_epochs = 100\n",
        "# batch_size_list = [32, 64, 128]\n",
        "batch_size = 32\n",
        "# lr_list = [3e-5, 2e-4, 1e-3, 5e-6]\n",
        "lr_list = [0.0001]\n",
        "# gamma_list = [0.9, 0.7]  # for learning rate scheduler\n",
        "gamma_list = [0.7]"
      ]
    },
    {
      "cell_type": "code",
      "execution_count": 63,
      "metadata": {
        "id": "zky8VzIvsi_b"
      },
      "outputs": [],
      "source": [
        "\n",
        "# Model Specifications\n",
        "model = ViT(\n",
        "    image_size = 224,\n",
        "    patch_size = 32,\n",
        "    num_classes = 2,\n",
        "    dim = 1024,\n",
        "    depth = 6,\n",
        "    heads = 16,\n",
        "    mlp_dim = 2048,\n",
        "    dropout = 0.1,\n",
        "    emb_dropout = 0.1\n",
        ").to(torch.device(\"cuda\"))\n",
        "\n"
      ]
    },
    {
      "cell_type": "code",
      "execution_count": 65,
      "metadata": {
        "colab": {
          "base_uri": "https://localhost:8080/"
        },
        "id": "RTLJ4skWsjCO",
        "outputId": "98a3670b-f828-4dd0-9fac-71881eb8a4c9"
      },
      "outputs": [
        {
          "name": "stdout",
          "output_type": "stream",
          "text": [
            "lr: 0.0001     gamma: 0.7\n"
          ]
        },
        {
          "ename": "RuntimeError",
          "evalue": "Given normalized_shape=[3072], expected input with shape [*, 3072], but got input of size[32, 49, 4096]",
          "output_type": "error",
          "traceback": [
            "\u001b[0;31m---------------------------------------------------------------------------\u001b[0m",
            "\u001b[0;31mRuntimeError\u001b[0m                              Traceback (most recent call last)",
            "Cell \u001b[0;32mIn[65], line 24\u001b[0m\n\u001b[1;32m     22\u001b[0m data \u001b[39m=\u001b[39m data\u001b[39m.\u001b[39mto(torch\u001b[39m.\u001b[39mdevice(\u001b[39m\"\u001b[39m\u001b[39mcuda\u001b[39m\u001b[39m\"\u001b[39m))\n\u001b[1;32m     23\u001b[0m label \u001b[39m=\u001b[39m label\u001b[39m.\u001b[39mto(torch\u001b[39m.\u001b[39mdevice(\u001b[39m\"\u001b[39m\u001b[39mcuda\u001b[39m\u001b[39m\"\u001b[39m))\n\u001b[0;32m---> 24\u001b[0m output \u001b[39m=\u001b[39m model(data)\n\u001b[1;32m     25\u001b[0m loss \u001b[39m=\u001b[39m criterion(output, label)\n\u001b[1;32m     26\u001b[0m optimizer\u001b[39m.\u001b[39mzero_grad()\n",
            "File \u001b[0;32m~/.local/lib/python3.10/site-packages/torch/nn/modules/module.py:1501\u001b[0m, in \u001b[0;36mModule._call_impl\u001b[0;34m(self, *args, **kwargs)\u001b[0m\n\u001b[1;32m   1496\u001b[0m \u001b[39m# If we don't have any hooks, we want to skip the rest of the logic in\u001b[39;00m\n\u001b[1;32m   1497\u001b[0m \u001b[39m# this function, and just call forward.\u001b[39;00m\n\u001b[1;32m   1498\u001b[0m \u001b[39mif\u001b[39;00m \u001b[39mnot\u001b[39;00m (\u001b[39mself\u001b[39m\u001b[39m.\u001b[39m_backward_hooks \u001b[39mor\u001b[39;00m \u001b[39mself\u001b[39m\u001b[39m.\u001b[39m_backward_pre_hooks \u001b[39mor\u001b[39;00m \u001b[39mself\u001b[39m\u001b[39m.\u001b[39m_forward_hooks \u001b[39mor\u001b[39;00m \u001b[39mself\u001b[39m\u001b[39m.\u001b[39m_forward_pre_hooks\n\u001b[1;32m   1499\u001b[0m         \u001b[39mor\u001b[39;00m _global_backward_pre_hooks \u001b[39mor\u001b[39;00m _global_backward_hooks\n\u001b[1;32m   1500\u001b[0m         \u001b[39mor\u001b[39;00m _global_forward_hooks \u001b[39mor\u001b[39;00m _global_forward_pre_hooks):\n\u001b[0;32m-> 1501\u001b[0m     \u001b[39mreturn\u001b[39;00m forward_call(\u001b[39m*\u001b[39;49margs, \u001b[39m*\u001b[39;49m\u001b[39m*\u001b[39;49mkwargs)\n\u001b[1;32m   1502\u001b[0m \u001b[39m# Do not call functions when jit is used\u001b[39;00m\n\u001b[1;32m   1503\u001b[0m full_backward_hooks, non_full_backward_hooks \u001b[39m=\u001b[39m [], []\n",
            "File \u001b[0;32m~/.local/lib/python3.10/site-packages/vit_pytorch/vit.py:116\u001b[0m, in \u001b[0;36mViT.forward\u001b[0;34m(self, img)\u001b[0m\n\u001b[1;32m    115\u001b[0m \u001b[39mdef\u001b[39;00m \u001b[39mforward\u001b[39m(\u001b[39mself\u001b[39m, img):\n\u001b[0;32m--> 116\u001b[0m     x \u001b[39m=\u001b[39m \u001b[39mself\u001b[39;49m\u001b[39m.\u001b[39;49mto_patch_embedding(img)\n\u001b[1;32m    117\u001b[0m     b, n, _ \u001b[39m=\u001b[39m x\u001b[39m.\u001b[39mshape\n\u001b[1;32m    119\u001b[0m     cls_tokens \u001b[39m=\u001b[39m repeat(\u001b[39mself\u001b[39m\u001b[39m.\u001b[39mcls_token, \u001b[39m'\u001b[39m\u001b[39m1 1 d -> b 1 d\u001b[39m\u001b[39m'\u001b[39m, b \u001b[39m=\u001b[39m b)\n",
            "File \u001b[0;32m~/.local/lib/python3.10/site-packages/torch/nn/modules/module.py:1501\u001b[0m, in \u001b[0;36mModule._call_impl\u001b[0;34m(self, *args, **kwargs)\u001b[0m\n\u001b[1;32m   1496\u001b[0m \u001b[39m# If we don't have any hooks, we want to skip the rest of the logic in\u001b[39;00m\n\u001b[1;32m   1497\u001b[0m \u001b[39m# this function, and just call forward.\u001b[39;00m\n\u001b[1;32m   1498\u001b[0m \u001b[39mif\u001b[39;00m \u001b[39mnot\u001b[39;00m (\u001b[39mself\u001b[39m\u001b[39m.\u001b[39m_backward_hooks \u001b[39mor\u001b[39;00m \u001b[39mself\u001b[39m\u001b[39m.\u001b[39m_backward_pre_hooks \u001b[39mor\u001b[39;00m \u001b[39mself\u001b[39m\u001b[39m.\u001b[39m_forward_hooks \u001b[39mor\u001b[39;00m \u001b[39mself\u001b[39m\u001b[39m.\u001b[39m_forward_pre_hooks\n\u001b[1;32m   1499\u001b[0m         \u001b[39mor\u001b[39;00m _global_backward_pre_hooks \u001b[39mor\u001b[39;00m _global_backward_hooks\n\u001b[1;32m   1500\u001b[0m         \u001b[39mor\u001b[39;00m _global_forward_hooks \u001b[39mor\u001b[39;00m _global_forward_pre_hooks):\n\u001b[0;32m-> 1501\u001b[0m     \u001b[39mreturn\u001b[39;00m forward_call(\u001b[39m*\u001b[39;49margs, \u001b[39m*\u001b[39;49m\u001b[39m*\u001b[39;49mkwargs)\n\u001b[1;32m   1502\u001b[0m \u001b[39m# Do not call functions when jit is used\u001b[39;00m\n\u001b[1;32m   1503\u001b[0m full_backward_hooks, non_full_backward_hooks \u001b[39m=\u001b[39m [], []\n",
            "File \u001b[0;32m~/.local/lib/python3.10/site-packages/torch/nn/modules/container.py:217\u001b[0m, in \u001b[0;36mSequential.forward\u001b[0;34m(self, input)\u001b[0m\n\u001b[1;32m    215\u001b[0m \u001b[39mdef\u001b[39;00m \u001b[39mforward\u001b[39m(\u001b[39mself\u001b[39m, \u001b[39minput\u001b[39m):\n\u001b[1;32m    216\u001b[0m     \u001b[39mfor\u001b[39;00m module \u001b[39min\u001b[39;00m \u001b[39mself\u001b[39m:\n\u001b[0;32m--> 217\u001b[0m         \u001b[39minput\u001b[39m \u001b[39m=\u001b[39m module(\u001b[39minput\u001b[39;49m)\n\u001b[1;32m    218\u001b[0m     \u001b[39mreturn\u001b[39;00m \u001b[39minput\u001b[39m\n",
            "File \u001b[0;32m~/.local/lib/python3.10/site-packages/torch/nn/modules/module.py:1501\u001b[0m, in \u001b[0;36mModule._call_impl\u001b[0;34m(self, *args, **kwargs)\u001b[0m\n\u001b[1;32m   1496\u001b[0m \u001b[39m# If we don't have any hooks, we want to skip the rest of the logic in\u001b[39;00m\n\u001b[1;32m   1497\u001b[0m \u001b[39m# this function, and just call forward.\u001b[39;00m\n\u001b[1;32m   1498\u001b[0m \u001b[39mif\u001b[39;00m \u001b[39mnot\u001b[39;00m (\u001b[39mself\u001b[39m\u001b[39m.\u001b[39m_backward_hooks \u001b[39mor\u001b[39;00m \u001b[39mself\u001b[39m\u001b[39m.\u001b[39m_backward_pre_hooks \u001b[39mor\u001b[39;00m \u001b[39mself\u001b[39m\u001b[39m.\u001b[39m_forward_hooks \u001b[39mor\u001b[39;00m \u001b[39mself\u001b[39m\u001b[39m.\u001b[39m_forward_pre_hooks\n\u001b[1;32m   1499\u001b[0m         \u001b[39mor\u001b[39;00m _global_backward_pre_hooks \u001b[39mor\u001b[39;00m _global_backward_hooks\n\u001b[1;32m   1500\u001b[0m         \u001b[39mor\u001b[39;00m _global_forward_hooks \u001b[39mor\u001b[39;00m _global_forward_pre_hooks):\n\u001b[0;32m-> 1501\u001b[0m     \u001b[39mreturn\u001b[39;00m forward_call(\u001b[39m*\u001b[39;49margs, \u001b[39m*\u001b[39;49m\u001b[39m*\u001b[39;49mkwargs)\n\u001b[1;32m   1502\u001b[0m \u001b[39m# Do not call functions when jit is used\u001b[39;00m\n\u001b[1;32m   1503\u001b[0m full_backward_hooks, non_full_backward_hooks \u001b[39m=\u001b[39m [], []\n",
            "File \u001b[0;32m~/.local/lib/python3.10/site-packages/torch/nn/modules/normalization.py:190\u001b[0m, in \u001b[0;36mLayerNorm.forward\u001b[0;34m(self, input)\u001b[0m\n\u001b[1;32m    189\u001b[0m \u001b[39mdef\u001b[39;00m \u001b[39mforward\u001b[39m(\u001b[39mself\u001b[39m, \u001b[39minput\u001b[39m: Tensor) \u001b[39m-\u001b[39m\u001b[39m>\u001b[39m Tensor:\n\u001b[0;32m--> 190\u001b[0m     \u001b[39mreturn\u001b[39;00m F\u001b[39m.\u001b[39;49mlayer_norm(\n\u001b[1;32m    191\u001b[0m         \u001b[39minput\u001b[39;49m, \u001b[39mself\u001b[39;49m\u001b[39m.\u001b[39;49mnormalized_shape, \u001b[39mself\u001b[39;49m\u001b[39m.\u001b[39;49mweight, \u001b[39mself\u001b[39;49m\u001b[39m.\u001b[39;49mbias, \u001b[39mself\u001b[39;49m\u001b[39m.\u001b[39;49meps)\n",
            "File \u001b[0;32m~/.local/lib/python3.10/site-packages/torch/nn/functional.py:2515\u001b[0m, in \u001b[0;36mlayer_norm\u001b[0;34m(input, normalized_shape, weight, bias, eps)\u001b[0m\n\u001b[1;32m   2511\u001b[0m \u001b[39mif\u001b[39;00m has_torch_function_variadic(\u001b[39minput\u001b[39m, weight, bias):\n\u001b[1;32m   2512\u001b[0m     \u001b[39mreturn\u001b[39;00m handle_torch_function(\n\u001b[1;32m   2513\u001b[0m         layer_norm, (\u001b[39minput\u001b[39m, weight, bias), \u001b[39minput\u001b[39m, normalized_shape, weight\u001b[39m=\u001b[39mweight, bias\u001b[39m=\u001b[39mbias, eps\u001b[39m=\u001b[39meps\n\u001b[1;32m   2514\u001b[0m     )\n\u001b[0;32m-> 2515\u001b[0m \u001b[39mreturn\u001b[39;00m torch\u001b[39m.\u001b[39;49mlayer_norm(\u001b[39minput\u001b[39;49m, normalized_shape, weight, bias, eps, torch\u001b[39m.\u001b[39;49mbackends\u001b[39m.\u001b[39;49mcudnn\u001b[39m.\u001b[39;49menabled)\n",
            "\u001b[0;31mRuntimeError\u001b[0m: Given normalized_shape=[3072], expected input with shape [*, 3072], but got input of size[32, 49, 4096]"
          ]
        }
      ],
      "source": [
        "\n",
        "#start training\n",
        "train_loss_list_list = []\n",
        "val_loss_list_list = []\n",
        "train_acc_list_list = []\n",
        "val_acc_list_list = []\n",
        "\n",
        "for lr in lr_list:\n",
        "    for gamma in gamma_list:\n",
        "        optimizer = optim.Adam(model.parameters(), lr=lr)\n",
        "        criterion = nn.CrossEntropyLoss()\n",
        "        scheduler = StepLR(optimizer, step_size=1, gamma=gamma)\n",
        "\n",
        "        train_loss_list = []\n",
        "        val_loss_list = []\n",
        "        train_acc_list = []\n",
        "        val_acc_list = []\n",
        "        print(\"lr:\", lr, \"    gamma:\", gamma)\n",
        "        for epoch in range(num_epochs):\n",
        "            epoch_loss = 0\n",
        "            epoch_accuracy = 0\n",
        "            for data, label in train_loader:\n",
        "                data = data.to(torch.device(\"cuda\"))\n",
        "                label = label.to(torch.device(\"cuda\"))\n",
        "                output = model(data)\n",
        "                loss = criterion(output, label)\n",
        "                optimizer.zero_grad()\n",
        "                loss.backward()\n",
        "                optimizer.step()\n",
        "                accuracy = (output.argmax(dim=1) == label).float().mean()\n",
        "                epoch_accuracy += accuracy / len(train_loader)\n",
        "                epoch_loss += loss / len(train_loader)\n",
        "            with torch.no_grad():\n",
        "                epoch_val_accuracy = 0\n",
        "                epoch_val_loss = 0\n",
        "                for data, label in valid_loader:\n",
        "                    data = data.to(torch.device(\"cuda\"))\n",
        "                    label = label.to(torch.device(\"cuda\"))\n",
        "                    val_output = model(data)\n",
        "                    val_loss = criterion(val_output, label)\n",
        "                    acc = (val_output.argmax(dim=1) == label).float().mean()\n",
        "                    epoch_val_accuracy += acc / len(valid_loader)\n",
        "                    epoch_val_loss += val_loss / len(valid_loader)\n",
        "            train_loss_list.append(epoch_loss.detach().cpu().numpy().flatten()[0])\n",
        "            train_acc_list.append(epoch_accuracy.detach().cpu().numpy().flatten()[0])\n",
        "            val_loss_list.append(epoch_val_loss.detach().cpu().numpy().flatten()[0])\n",
        "            val_acc_list.append(epoch_val_accuracy.detach().cpu().numpy().flatten()[0])\n",
        "            print(\n",
        "                f\"Epoch : {epoch+1} - loss : {epoch_loss:.4f} - acc: {epoch_accuracy:.4f} - val_loss : {epoch_val_loss:.4f} - val_acc: {epoch_val_accuracy:.4f}\\n\"\n",
        "            )\n",
        "        val_acc_list_list.append(val_acc_list)\n",
        "        val_loss_list_list.append(val_loss_list)\n",
        "        train_acc_list_list.append(train_acc_list)\n",
        "        train_loss_list_list.append(train_loss_list)\n"
      ]
    },
    {
      "cell_type": "code",
      "execution_count": null,
      "metadata": {
        "id": "e62sfq2ksjFF"
      },
      "outputs": [],
      "source": [
        "\n",
        "torch.save(model.state_dict(), '/home/uditha/snap/snapd-desktop-integration/current/Desktop/FYP/vit/Base Vit/FinalModelsSimple/ViT_model.pth')\n",
        "metrices = [train_loss_list, val_loss_list, train_acc_list, val_acc_list]\n",
        "with open(\"/home/uditha/snap/snapd-desktop-integration/current/Desktop/FYP/vit/Base Vit/FinalModelsSimple/ViT_metrices.pk\", \"wb\") as fp:   #Pickling\n",
        "    pickle.dump(metrices, fp)\n",
        "\n",
        "# a = []\n",
        "# for i in range(0, num_epochs):\n",
        "#     a.append(val_acc_list[i].detach().cpu().numpy().flatten()[0])\n",
        "# maxi = []\n",
        "# for i in range(0, 8):\n",
        "#     maxi.append(max(val_acc_list_list[i]))\n",
        "\n"
      ]
    },
    {
      "cell_type": "code",
      "execution_count": null,
      "metadata": {
        "colab": {
          "base_uri": "https://localhost:8080/"
        },
        "id": "6vSKWH80sjHL",
        "outputId": "52c82f5f-afd4-4b8c-c0ea-6acea3eda3f3"
      },
      "outputs": [
        {
          "data": {
            "text/plain": [
              "ViT(\n",
              "  (to_patch_embedding): Sequential(\n",
              "    (0): Rearrange('b c (h p1) (w p2) -> b (h w) (p1 p2 c)', p1=32, p2=32)\n",
              "    (1): LayerNorm((3072,), eps=1e-05, elementwise_affine=True)\n",
              "    (2): Linear(in_features=3072, out_features=1024, bias=True)\n",
              "    (3): LayerNorm((1024,), eps=1e-05, elementwise_affine=True)\n",
              "  )\n",
              "  (dropout): Dropout(p=0.1, inplace=False)\n",
              "  (transformer): Transformer(\n",
              "    (layers): ModuleList(\n",
              "      (0-5): 6 x ModuleList(\n",
              "        (0): PreNorm(\n",
              "          (norm): LayerNorm((1024,), eps=1e-05, elementwise_affine=True)\n",
              "          (fn): Attention(\n",
              "            (attend): Softmax(dim=-1)\n",
              "            (dropout): Dropout(p=0.1, inplace=False)\n",
              "            (to_qkv): Linear(in_features=1024, out_features=3072, bias=False)\n",
              "            (to_out): Sequential(\n",
              "              (0): Linear(in_features=1024, out_features=1024, bias=True)\n",
              "              (1): Dropout(p=0.1, inplace=False)\n",
              "            )\n",
              "          )\n",
              "        )\n",
              "        (1): PreNorm(\n",
              "          (norm): LayerNorm((1024,), eps=1e-05, elementwise_affine=True)\n",
              "          (fn): FeedForward(\n",
              "            (net): Sequential(\n",
              "              (0): Linear(in_features=1024, out_features=2048, bias=True)\n",
              "              (1): GELU(approximate='none')\n",
              "              (2): Dropout(p=0.1, inplace=False)\n",
              "              (3): Linear(in_features=2048, out_features=1024, bias=True)\n",
              "              (4): Dropout(p=0.1, inplace=False)\n",
              "            )\n",
              "          )\n",
              "        )\n",
              "      )\n",
              "    )\n",
              "  )\n",
              "  (to_latent): Identity()\n",
              "  (mlp_head): Sequential(\n",
              "    (0): LayerNorm((1024,), eps=1e-05, elementwise_affine=True)\n",
              "    (1): Linear(in_features=1024, out_features=2, bias=True)\n",
              "  )\n",
              ")"
            ]
          },
          "execution_count": 29,
          "metadata": {},
          "output_type": "execute_result"
        }
      ],
      "source": [
        "# loading model:\n",
        "oldP = \"/home/uditha/snap/snapd-desktop-integration/current/Desktop/FYP/vit/Base Vit/FinalModelsSimple/ViT_model.pth\"\n",
        "model.load_state_dict(torch.load(oldP))\n",
        "model.eval()"
      ]
    },
    {
      "cell_type": "code",
      "execution_count": null,
      "metadata": {
        "colab": {
          "base_uri": "https://localhost:8080/"
        },
        "id": "PGkS-UTXs2XR",
        "outputId": "f891159e-62a1-4aa7-ad54-1b91420e53bd"
      },
      "outputs": [
        {
          "name": "stdout",
          "output_type": "stream",
          "text": [
            "123\n",
            "step:  0\n",
            "step:  100\n",
            "step:  100\n",
            "step:  100\n",
            "step:  100\n"
          ]
        }
      ],
      "source": [
        "# Creating Validation predictions and metrics:\n",
        "\n",
        "pred = []\n",
        "pred_label = []\n",
        "i=0\n",
        "criterion = nn.CrossEntropyLoss()\n",
        "print(len(X_val))\n",
        "for i in range(0,len(X_val)):\n",
        "    with torch.no_grad():\n",
        "        epoch_val_accuracy = 0\n",
        "        epoch_val_loss = 0\n",
        "\n",
        "        for data, label in valid_loader: #! Change: test_loader --> valid_loader           \n",
        "            if i%100==0:\n",
        "                print(\"step: \", i)\n",
        "            i +=1\n",
        "            data = data.to(torch.device(\"cuda\"))\n",
        "            label = label.to(torch.device(\"cuda\"))\n",
        "            val_output = model(data)\n",
        "            val_loss = criterion(val_output, label)\n",
        "            pred.append(list(val_output.argmax(dim=1).detach().cpu().numpy()))\n",
        "            pred_label.append(list(label.detach().cpu().numpy()))\n",
        "            acc = (val_output.argmax(dim=1) == label).float().mean()\n",
        "            epoch_val_accuracy += acc / len(valid_loader)\n",
        "            epoch_val_loss += val_loss / len(valid_loader)\n",
        "\n",
        "val_pred_flat = [item for sublist in pred for item in sublist]\n",
        "val_pred_label_flat = [item for sublist in pred_label for item in sublist]"
      ]
    },
    {
      "cell_type": "code",
      "execution_count": null,
      "metadata": {},
      "outputs": [
        {
          "name": "stdout",
          "output_type": "stream",
          "text": [
            "124\n"
          ]
        }
      ],
      "source": [
        "# len(test_loader)\n",
        "print(len(test_loader.dataset))"
      ]
    },
    {
      "cell_type": "code",
      "execution_count": null,
      "metadata": {
        "colab": {
          "base_uri": "https://localhost:8080/"
        },
        "id": "QPLZjjsRs2ae",
        "outputId": "41e685eb-f90c-42d7-9e01-281598e10ef0"
      },
      "outputs": [
        {
          "name": "stdout",
          "output_type": "stream",
          "text": [
            "124\n",
            "step:  0\n",
            "[1, 0, 1, 0, 1, 0, 0, 1, 1, 0, 0, 0, 1, 0, 1, 0, 1, 1, 0, 0, 0, 1, 1, 0, 0, 1, 1, 0, 0, 1, 0, 1]\n",
            "[1, 1, 1, 1, 0, 0, 1, 0, 1, 1, 0, 0, 1, 0, 1, 1, 1, 1, 0, 0, 1, 1, 1, 1, 0, 0, 1, 1, 0, 0, 0, 0]\n",
            "[1, 1, 1, 0, 1, 0, 1, 1, 1, 1, 0, 1, 1, 1, 1, 0, 0, 1, 0, 0, 1, 1, 0, 1, 0, 0, 0, 1, 1, 1, 0, 1]\n",
            "[1, 0, 1, 1, 0, 1, 1, 1, 0, 1, 1, 0, 0, 1, 0, 0, 0, 1, 0, 1, 0, 1, 1, 1, 1, 0, 0, 1]\n"
          ]
        }
      ],
      "source": [
        "# Creating test set predictions and mertrices:\n",
        "\n",
        "pred = []\n",
        "pred_label = []\n",
        "i=0\n",
        "criterion = nn.CrossEntropyLoss()\n",
        "print(len(X_test))\n",
        "for i in range(0,len(X_test)):    \n",
        "    # test_data = MyDataset([X_test[i]], [y_test[i]], transform=transforms)\n",
        "    # test_loader = DataLoader(dataset = test_data, batch_size=1, shuffle=False)\n",
        "    with torch.no_grad():\n",
        "        epoch_val_accuracy = 0\n",
        "        epoch_val_loss = 0\n",
        "\n",
        "        for data, label in test_loader:            \n",
        "            if i%100==0:\n",
        "                print(\"step: \", i)\n",
        "            i +=1\n",
        "            data = data.to(torch.device(\"cuda\"))\n",
        "            label = label.to(torch.device(\"cuda\"))\n",
        "            val_output = model(data)            \n",
        "            val_loss = criterion(val_output, label)\n",
        "            pred.append(list(val_output.argmax(dim=1).detach().cpu().numpy()))\n",
        "            print(list(val_output.argmax(dim=1).detach().cpu().numpy()))\n",
        "            pred_label.append(list(label.detach().cpu().numpy()))\n",
        "            acc = (val_output.argmax(dim=1) == label).float().mean()\n",
        "            epoch_val_accuracy += acc / len(test_loader)\n",
        "            epoch_val_loss += val_loss / len(test_loader)\n",
        "        \n",
        "        break\n",
        "\n",
        "test_pred_flat = [item for sublist in pred for item in sublist]\n",
        "test_pred_label_flat = [item for sublist in pred_label for item in sublist]\n",
        "\n",
        "predictions = [val_pred_flat, val_pred_label_flat, test_pred_flat, test_pred_label_flat]\n",
        "with open(\"/home/uditha/snap/snapd-desktop-integration/current/Desktop/FYP/vit/Base Vit/FinalModelsSimple/ViT_predictions.pk\", \"wb\") as fp:   #Pickling\n",
        "    pickle.dump(predictions, fp)"
      ]
    },
    {
      "cell_type": "code",
      "execution_count": null,
      "metadata": {},
      "outputs": [],
      "source": [
        "test_pred_flat_1 = [len(sublist) for sublist in pred ]"
      ]
    },
    {
      "cell_type": "code",
      "execution_count": null,
      "metadata": {
        "colab": {
          "base_uri": "https://localhost:8080/",
          "height": 1000
        },
        "id": "fRKEKXpCs2eN",
        "outputId": "6a58e2c5-8b51-4c3d-cb14-cded27f89d47"
      },
      "outputs": [
        {
          "name": "stdout",
          "output_type": "stream",
          "text": [
            "\n",
            "\n",
            "ViT MODEL:  \n",
            "              precision    recall  f1-score   support\n",
            "\n",
            "           0     0.6613    0.7455    0.7009        55\n",
            "           1     0.7742    0.6957    0.7328        69\n",
            "\n",
            "    accuracy                         0.7177       124\n",
            "   macro avg     0.7177    0.7206    0.7168       124\n",
            "weighted avg     0.7241    0.7177    0.7186       124\n",
            "\n",
            "[1, 0, 1, 0, 1, 0, 0, 1, 1, 0, 0, 0, 1, 0, 1, 1, 0, 1, 1, 0, 0, 1, 0, 1, 0, 1, 0, 1, 0, 1, 0, 1, 0, 0, 1, 1, 0, 0, 0, 0, 1, 1, 0, 0, 1, 1, 0, 1, 0, 1, 1, 0, 1, 0, 0, 1, 0, 1, 1, 0, 1, 0, 0, 0, 0, 1, 1, 0, 1, 1, 1, 1, 1, 1, 0, 1, 1, 0, 0, 1, 0, 0, 0, 0, 1, 1, 1, 1, 0, 0, 0, 1, 0, 0, 0, 0, 0, 0, 0, 1, 0, 1, 1, 1, 0, 1, 0, 1, 1, 1, 0, 0, 0, 1, 1, 1, 0, 1, 1, 1, 1, 0, 0, 1]\n"
          ]
        },
        {
          "data": {
            "image/png": "[encoded data removed]",
            "text/plain": [
              "<Figure size 640x480 with 1 Axes>"
            ]
          },
          "metadata": {},
          "output_type": "display_data"
        },
        {
          "data": {
            "image/png": "[encoded data removed]",
            "text/plain": [
              "<Figure size 500x400 with 2 Axes>"
            ]
          },
          "metadata": {},
          "output_type": "display_data"
        }
      ],
      "source": [
        "\n",
        "# Plotting training and val accuracy with training steps:\n",
        "train_acc_list = metrices[2]\n",
        "val_acc_list = metrices[3]\n",
        "\n",
        "plt.plot(range(0,len(val_acc_list)), val_acc_list, color='b', label='Validation accuracy')\n",
        "plt.plot(range(0,len(train_acc_list)), train_acc_list, color='r', label='Training accuracy')\n",
        "plt.title(\"Training and Validation accuracy\")\n",
        "plt.xlabel(\"Steps:\")\n",
        "plt.ylabel(\"Accuracy:\")\n",
        "\n",
        "# Precsion and recall:\n",
        "# with open('./final_models_simple/ViT_predictions.pk', 'rb') as f:\n",
        "#     predictions = pickle.load(f)\n",
        "\n",
        "val_pred_flat = predictions[0]\n",
        "val_pred_label_flat = predictions[1]\n",
        "test_pred_flat = predictions[2]\n",
        "test_pred_label_flat = predictions[3]\n",
        "print(\"\\n\\nViT MODEL:  \")\n",
        "print(classification_report(test_pred_flat, test_pred_label_flat,digits=4))\n",
        "# Confusion Matrix:\n",
        "y_true = test_pred_label_flat\n",
        "y_pred = test_pred_flat\n",
        "print(y_true)\n",
        "data = confusion_matrix(y_true, y_pred)\n",
        "df_cm = pd.DataFrame(data, columns=np.unique(y_true), index = np.unique(y_true))\n",
        "df_cm.index.name = 'Actual'\n",
        "df_cm.columns.name = 'Predicted'\n",
        "plt.figure(figsize = (5,4))\n",
        "sn.set(font_scale=1.4)#for label size\n",
        "sn.heatmap(df_cm, cmap=\"Blues\", annot=True,annot_kws={\"size\":10}, fmt='d')# font size\n",
        "plt.title(\"Confusion matrix for ViT model\")\n",
        "plt.show()"
      ]
    },
    {
      "cell_type": "code",
      "execution_count": null,
      "metadata": {},
      "outputs": [
        {
          "data": {
            "text/plain": [
              "array([[41, 21],\n",
              "       [14, 48]])"
            ]
          },
          "execution_count": 35,
          "metadata": {},
          "output_type": "execute_result"
        }
      ],
      "source": [
        "data"
      ]
    },
    {
      "cell_type": "code",
      "execution_count": null,
      "metadata": {
        "id": "B4VmemLJs2hW"
      },
      "outputs": [
        {
          "data": {
            "text/plain": [
              "15129"
            ]
          },
          "execution_count": 36,
          "metadata": {},
          "output_type": "execute_result"
        }
      ],
      "source": [
        "len(predictions[1])"
      ]
    },
    {
      "cell_type": "code",
      "execution_count": null,
      "metadata": {},
      "outputs": [],
      "source": []
    },
    {
      "cell_type": "code",
      "execution_count": null,
      "metadata": {},
      "outputs": [],
      "source": []
    },
    {
      "cell_type": "code",
      "execution_count": null,
      "metadata": {},
      "outputs": [],
      "source": []
    },
    {
      "cell_type": "code",
      "execution_count": null,
      "metadata": {},
      "outputs": [],
      "source": []
    },
    {
      "cell_type": "code",
      "execution_count": null,
      "metadata": {},
      "outputs": [],
      "source": []
    }
  ],
  "metadata": {
    "accelerator": "GPU",
    "colab": {
      "provenance": []
    },
    "gpuClass": "standard",
    "kernelspec": {
      "display_name": "Python 3 (ipykernel)",
      "language": "python",
      "name": "python3"
    },
    "language_info": {
      "codemirror_mode": {
        "name": "ipython",
        "version": 3
      },
      "file_extension": ".py",
      "mimetype": "text/x-python",
      "name": "python",
      "nbconvert_exporter": "python",
      "pygments_lexer": "ipython3",
      "version": "3.10.6"
    }
  },
  "nbformat": 4,
  "nbformat_minor": 0
}
