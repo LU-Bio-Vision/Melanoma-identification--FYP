{
  "cells": [
    {
      "cell_type": "markdown",
      "metadata": {
        "id": "eGJscg-YvIIg"
      },
      "source": [
        "## Data Preprocessing"
      ]
    },
    {
      "cell_type": "code",
      "execution_count": 1,
      "metadata": {},
      "outputs": [],
      "source": [
        "# !pip3 install pandas\n",
        "# !pip3 install scikit-learn"
      ]
    },
    {
      "cell_type": "code",
      "execution_count": null,
      "metadata": {},
      "outputs": [],
      "source": []
    },
    {
      "cell_type": "code",
      "execution_count": 2,
      "metadata": {
        "id": "bl0iXmKYvW_x"
      },
      "outputs": [],
      "source": [
        "from PIL import Image\n",
        "import numpy as np\n",
        "import glob\n",
        "import pandas as pd\n",
        "from sklearn import preprocessing\n",
        "from sklearn.model_selection import train_test_split\n",
        "import os"
      ]
    },
    {
      "cell_type": "code",
      "execution_count": 3,
      "metadata": {
        "id": "IjEo4j9Ts-oi"
      },
      "outputs": [],
      "source": [
        "# file_list1 = glob.glob(r'/content/gdrive/MyDrive/Research Workspace/Dataset/Kaggle/Skin cancer data set/HAM10000_images_part_1/*.jpg')\n",
        "# file_list2 = glob.glob(r'/content/gdrive/MyDrive/Research Workspace/Dataset/Kaggle/Skin cancer data set/HAM10000_images_part_2/*.jpg')\n",
        "metadata_df = pd.read_csv('/home/uditha/snap/snapd-desktop-integration/current/Desktop/FYP/dataset/ham10000/HAM10000_metadata.csv')\n",
        "\n",
        "\n",
        "metadata_df = metadata_df[(metadata_df.dx != \"akiec\") & (metadata_df.dx != \"bkl\")&(metadata_df.dx != \"df\") & (metadata_df.dx != \"bcc\") & (metadata_df.dx != \"vasc\")]\n",
        "dx = metadata_df['dx'].to_list()\n",
        "# dx_type = metadata_df['dx_type'].to_list()\n",
        "image_id = metadata_df['image_id'].to_list()\n",
        "le = preprocessing.LabelEncoder()\n",
        "dx_labels = list(le.fit_transform(dx))\n"
      ]
    },
    {
      "cell_type": "code",
      "execution_count": 4,
      "metadata": {
        "colab": {
          "base_uri": "https://localhost:8080/"
        },
        "id": "B5-YjEvbMMXK",
        "outputId": "4589d486-e754-4f0a-ce1b-cc4bd7f1574c"
      },
      "outputs": [
        {
          "name": "stdout",
          "output_type": "stream",
          "text": [
            "['nv', 'nv', 'mel', 'mel', 'mel', 'mel', 'mel', 'mel', 'mel', 'mel', 'mel', 'mel', 'mel', 'mel', 'mel', 'mel', 'mel', 'mel', 'mel', 'mel', 'mel', 'mel', 'mel', 'mel', 'mel', 'mel', 'mel', 'mel', 'mel', 'mel', 'mel', 'mel', 'mel', 'mel', 'mel', 'mel', 'mel', 'mel', 'mel', 'mel', 'mel', 'mel', 'mel', 'mel', 'mel', 'mel', 'mel', 'mel', 'mel', 'mel', 'mel', 'mel', 'mel', 'mel', 'mel', 'mel', 'mel', 'mel', 'mel', 'mel', 'mel', 'mel', 'mel', 'mel', 'mel', 'mel', 'mel', 'mel', 'mel', 'mel', 'mel', 'mel', 'mel', 'mel', 'mel', 'mel', 'mel', 'mel', 'mel', 'mel', 'mel', 'mel', 'mel', 'mel', 'mel', 'mel', 'mel', 'mel', 'mel', 'mel', 'mel', 'mel', 'mel', 'mel', 'mel', 'mel', 'mel', 'mel', 'mel', 'mel', 'mel', 'mel', 'mel', 'mel', 'mel', 'mel', 'mel', 'mel', 'mel', 'mel', 'mel', 'mel', 'mel', 'mel', 'mel', 'mel', 'mel', 'mel', 'mel', 'mel', 'mel', 'mel', 'mel', 'mel', 'mel', 'mel', 'mel', 'mel', 'mel', 'mel', 'mel', 'mel', 'mel', 'mel', 'mel', 'mel', 'mel', 'mel', 'mel', 'mel', 'mel', 'mel', 'mel', 'mel', 'mel', 'mel', 'mel', 'mel', 'mel', 'mel', 'mel', 'mel', 'mel', 'mel', 'mel', 'mel', 'mel', 'mel', 'mel', 'mel', 'mel', 'mel', 'mel', 'mel', 'mel', 'mel', 'mel', 'mel', 'mel', 'mel', 'mel', 'mel', 'mel', 'mel', 'mel', 'mel', 'mel', 'mel', 'mel', 'mel', 'mel', 'mel', 'mel', 'mel', 'mel', 'mel', 'mel', 'mel', 'mel', 'mel', 'mel', 'mel', 'mel', 'mel', 'mel', 'mel', 'mel', 'mel', 'mel', 'mel', 'mel', 'mel', 'mel', 'mel', 'mel', 'mel', 'mel', 'mel', 'mel', 'mel', 'mel', 'mel', 'mel', 'mel', 'mel', 'mel', 'mel', 'mel', 'mel', 'mel', 'mel', 'mel', 'mel', 'mel', 'mel', 'mel', 'mel', 'mel', 'mel', 'mel', 'mel', 'mel', 'mel', 'mel', 'mel', 'mel', 'mel', 'mel', 'mel', 'mel', 'mel', 'mel', 'mel', 'mel', 'mel', 'mel', 'mel', 'mel', 'mel', 'mel', 'mel', 'mel', 'mel', 'mel', 'mel', 'mel', 'mel', 'mel', 'mel', 'mel', 'mel', 'mel', 'mel', 'mel', 'mel', 'mel', 'mel', 'mel', 'mel', 'mel', 'mel', 'mel', 'mel', 'mel', 'mel', 'mel', 'mel', 'mel', 'mel', 'mel', 'mel', 'mel', 'mel', 'mel', 'mel', 'mel', 'mel', 'mel', 'mel', 'mel', 'mel', 'mel', 'mel', 'mel', 'mel', 'mel', 'mel', 'mel', 'mel', 'mel', 'mel', 'mel', 'mel', 'mel', 'mel', 'mel', 'mel', 'mel', 'mel', 'mel', 'mel', 'mel', 'mel', 'mel', 'mel', 'mel', 'mel', 'mel', 'mel', 'mel', 'mel', 'mel', 'mel', 'mel', 'mel', 'mel', 'mel', 'mel', 'mel', 'mel', 'mel', 'mel', 'mel', 'mel', 'mel', 'mel', 'mel', 'mel', 'mel', 'mel', 'mel', 'mel', 'mel', 'mel', 'mel', 'mel', 'mel', 'mel', 'mel', 'mel', 'mel', 'mel', 'mel', 'mel', 'mel', 'mel', 'mel', 'mel', 'mel', 'mel', 'mel', 'mel', 'mel', 'mel', 'mel', 'mel', 'mel', 'mel', 'mel', 'mel', 'mel', 'mel', 'mel', 'mel', 'mel', 'mel', 'mel', 'mel', 'mel', 'mel', 'mel', 'mel', 'mel', 'mel', 'mel', 'mel', 'mel', 'mel', 'mel', 'mel', 'mel', 'mel', 'mel', 'mel', 'mel', 'mel', 'mel', 'mel', 'mel', 'mel', 'mel', 'mel', 'mel', 'mel', 'mel', 'mel', 'mel', 'mel', 'mel', 'mel', 'mel', 'mel', 'mel', 'mel', 'mel', 'mel', 'mel', 'mel', 'mel', 'mel', 'mel', 'mel', 'mel', 'mel', 'mel', 'mel', 'mel', 'mel', 'mel', 'mel', 'mel', 'mel', 'mel', 'mel', 'mel', 'mel', 'mel', 'mel', 'mel', 'mel', 'mel', 'mel', 'mel', 'mel', 'mel', 'mel', 'mel', 'mel', 'mel', 'mel', 'mel', 'mel', 'mel', 'mel', 'mel', 'mel', 'mel', 'mel', 'mel', 'mel', 'mel', 'mel', 'mel', 'mel', 'mel', 'mel', 'mel', 'mel', 'mel', 'mel', 'mel', 'mel', 'mel', 'mel', 'mel', 'mel', 'mel', 'mel', 'mel', 'mel', 'mel', 'mel', 'mel', 'mel', 'mel', 'mel', 'mel', 'mel', 'mel', 'mel', 'mel', 'mel', 'mel', 'mel', 'mel', 'mel', 'mel', 'mel', 'mel', 'mel', 'mel', 'mel', 'mel', 'mel', 'mel', 'mel', 'mel', 'mel', 'mel', 'mel', 'mel', 'mel', 'mel', 'mel', 'mel', 'mel', 'mel', 'mel', 'mel', 'mel', 'mel', 'mel', 'mel', 'mel', 'mel', 'mel', 'mel', 'mel', 'mel', 'mel', 'mel', 'mel', 'mel', 'mel', 'mel', 'mel', 'mel', 'mel', 'mel', 'mel', 'mel', 'mel', 'mel', 'mel', 'mel', 'mel', 'mel', 'mel', 'mel', 'mel', 'mel', 'mel', 'mel', 'mel', 'mel', 'mel', 'mel', 'mel', 'mel', 'mel', 'mel', 'mel', 'mel', 'mel', 'mel', 'mel', 'mel', 'mel', 'mel', 'mel', 'mel', 'mel', 'mel', 'mel', 'mel', 'mel', 'mel', 'mel', 'mel', 'mel', 'mel', 'mel', 'mel', 'mel', 'mel', 'mel', 'mel', 'mel', 'mel', 'mel', 'mel', 'mel', 'mel', 'mel', 'mel', 'mel', 'mel', 'mel', 'mel', 'mel', 'mel', 'mel', 'mel', 'mel', 'mel', 'mel', 'mel', 'mel', 'mel', 'mel', 'mel', 'mel', 'mel', 'mel', 'mel', 'mel', 'mel', 'mel', 'mel', 'mel', 'mel', 'mel', 'mel', 'mel', 'mel', 'mel', 'mel', 'mel', 'mel', 'mel', 'mel', 'mel', 'mel', 'mel', 'mel', 'mel', 'mel', 'mel', 'mel', 'mel', 'mel', 'mel', 'mel', 'mel', 'mel', 'mel', 'mel', 'mel', 'mel', 'mel', 'mel', 'mel', 'mel', 'mel', 'mel', 'mel', 'mel', 'mel', 'mel', 'mel', 'mel', 'mel', 'mel', 'mel', 'mel', 'mel', 'mel', 'mel', 'mel', 'mel', 'mel', 'mel', 'mel', 'mel', 'mel', 'mel', 'mel', 'mel', 'mel', 'mel', 'mel', 'mel', 'mel', 'mel', 'mel', 'mel', 'mel', 'mel', 'mel', 'mel', 'mel', 'mel', 'mel', 'mel', 'mel', 'mel', 'mel', 'mel', 'mel', 'mel', 'mel', 'mel', 'mel', 'mel', 'mel', 'mel', 'mel', 'mel', 'mel', 'mel', 'mel', 'mel', 'mel', 'mel', 'mel', 'mel', 'mel', 'mel', 'mel', 'mel', 'mel', 'mel', 'mel', 'mel', 'mel', 'mel', 'mel', 'mel', 'mel', 'mel', 'mel', 'mel', 'mel', 'mel', 'mel', 'mel', 'mel', 'mel', 'mel', 'mel', 'mel', 'mel', 'mel', 'mel', 'mel', 'mel', 'mel', 'mel', 'mel', 'mel', 'mel', 'mel', 'mel', 'mel', 'mel', 'mel', 'mel', 'mel', 'mel', 'mel', 'mel', 'mel', 'mel', 'mel', 'mel', 'mel', 'mel', 'mel', 'mel', 'mel', 'mel', 'mel', 'mel', 'mel', 'mel', 'mel', 'mel', 'mel', 'mel', 'mel', 'mel', 'mel', 'mel', 'mel', 'mel', 'mel', 'mel', 'mel', 'mel', 'mel', 'mel', 'mel', 'mel', 'mel', 'mel', 'mel', 'mel', 'mel', 'mel', 'mel', 'mel', 'mel', 'mel', 'mel', 'mel', 'mel', 'mel', 'mel', 'mel', 'mel', 'mel', 'mel', 'mel', 'mel', 'mel', 'mel', 'mel', 'mel', 'mel', 'mel', 'mel', 'mel', 'mel', 'mel', 'mel', 'mel', 'mel', 'mel', 'mel', 'mel', 'mel', 'mel', 'mel', 'mel', 'mel', 'mel', 'mel', 'mel', 'mel', 'mel', 'mel', 'mel', 'mel', 'mel', 'mel', 'mel', 'mel', 'mel', 'mel', 'mel', 'mel', 'mel', 'mel', 'mel', 'mel', 'mel', 'mel', 'mel', 'mel', 'mel', 'mel', 'mel', 'mel', 'mel', 'mel', 'mel', 'mel', 'mel', 'mel', 'mel', 'mel', 'mel', 'mel', 'mel', 'mel', 'mel', 'mel', 'mel', 'mel', 'mel', 'mel', 'mel', 'mel', 'mel', 'mel', 'mel', 'mel', 'mel', 'mel', 'mel', 'mel', 'mel', 'mel', 'mel', 'mel', 'mel', 'mel', 'mel', 'mel', 'mel', 'mel', 'mel', 'mel', 'mel', 'mel', 'mel', 'mel', 'mel', 'mel', 'mel', 'mel', 'mel', 'mel', 'mel', 'mel', 'mel', 'mel', 'mel', 'mel', 'mel', 'mel', 'mel', 'mel', 'mel', 'mel', 'mel', 'mel', 'mel', 'mel', 'mel', 'mel', 'mel', 'mel', 'mel', 'mel', 'mel', 'mel', 'mel', 'mel', 'mel', 'mel', 'mel', 'mel', 'mel', 'mel', 'mel', 'mel', 'mel', 'mel', 'mel', 'mel', 'mel', 'mel', 'mel', 'mel', 'mel', 'mel', 'mel', 'mel', 'mel', 'mel', 'mel', 'mel', 'mel', 'mel', 'mel', 'mel', 'mel', 'mel', 'mel', 'mel', 'mel', 'mel', 'mel', 'mel', 'mel', 'mel', 'mel', 'mel', 'mel', 'mel', 'mel', 'mel', 'mel', 'mel', 'mel', 'mel', 'mel', 'mel', 'mel', 'mel', 'mel', 'mel', 'mel', 'mel', 'mel', 'mel', 'mel', 'mel', 'mel', 'mel', 'mel', 'mel', 'mel', 'mel', 'mel', 'mel', 'mel', 'mel', 'mel', 'mel', 'mel', 'mel', 'mel', 'mel', 'mel', 'mel', 'mel', 'mel', 'mel', 'mel', 'mel', 'mel', 'mel', 'mel', 'mel', 'mel', 'mel', 'mel', 'mel', 'mel', 'mel', 'mel', 'mel', 'mel', 'mel', 'mel', 'mel', 'mel', 'mel', 'mel', 'mel', 'mel', 'mel', 'mel', 'mel', 'mel', 'mel', 'mel', 'mel', 'mel', 'mel', 'mel', 'mel', 'mel', 'mel', 'mel', 'mel', 'mel', 'mel', 'mel', 'mel', 'mel', 'mel', 'mel', 'mel', 'mel', 'mel', 'mel', 'mel', 'mel', 'mel', 'mel', 'mel', 'mel', 'mel', 'mel', 'mel', 'mel', 'mel', 'mel', 'mel', 'mel', 'mel', 'mel', 'mel', 'mel', 'mel', 'mel', 'mel', 'mel', 'mel', 'mel', 'mel', 'mel', 'mel', 'mel', 'mel', 'mel', 'mel', 'mel', 'mel', 'mel', 'mel', 'mel', 'mel', 'mel', 'mel', 'mel', 'mel', 'mel', 'nv', 'nv', 'nv', 'nv', 'nv', 'nv', 'nv', 'nv', 'nv', 'nv', 'nv', 'nv', 'nv', 'nv', 'nv', 'nv', 'nv', 'nv', 'nv', 'nv', 'nv', 'nv', 'nv', 'nv', 'nv', 'nv', 'nv', 'nv', 'nv', 'nv', 'nv', 'nv', 'nv', 'nv', 'nv', 'nv', 'nv', 'nv', 'nv', 'nv', 'nv', 'nv', 'nv', 'nv', 'nv', 'nv', 'nv', 'nv', 'nv', 'nv', 'nv', 'nv', 'nv', 'nv', 'nv', 'nv', 'nv', 'nv', 'nv', 'nv', 'nv', 'nv', 'nv', 'nv', 'nv', 'nv', 'nv', 'nv', 'nv', 'nv', 'nv', 'nv', 'nv', 'nv', 'nv', 'nv', 'nv', 'nv', 'nv', 'nv', 'nv', 'nv', 'nv', 'nv', 'nv', 'nv', 'nv', 'nv', 'nv', 'nv', 'nv', 'nv', 'nv', 'nv', 'nv', 'nv', 'nv', 'nv', 'nv', 'nv', 'nv', 'nv', 'nv', 'nv', 'nv', 'nv', 'nv', 'nv', 'nv', 'nv', 'nv', 'nv', 'nv', 'nv', 'nv', 'nv', 'nv', 'nv', 'nv', 'nv', 'nv', 'nv', 'nv', 'nv', 'nv', 'nv', 'nv', 'nv', 'nv', 'nv', 'nv', 'nv', 'nv', 'nv', 'nv', 'nv', 'nv', 'nv', 'nv', 'nv', 'nv', 'nv', 'nv', 'nv', 'nv', 'nv', 'nv', 'nv', 'nv', 'nv', 'nv', 'nv', 'nv', 'nv', 'nv', 'nv', 'nv', 'nv', 'nv', 'nv', 'nv', 'nv', 'nv', 'nv', 'nv', 'nv', 'nv', 'nv', 'nv', 'nv', 'nv', 'nv', 'nv', 'nv', 'nv', 'nv', 'nv', 'nv', 'nv', 'nv', 'nv', 'nv', 'nv', 'nv', 'nv', 'nv', 'nv', 'nv', 'nv', 'nv', 'nv', 'nv', 'nv', 'nv', 'nv', 'nv', 'nv', 'nv', 'nv', 'nv', 'nv', 'nv', 'nv', 'nv', 'nv', 'nv', 'nv', 'nv', 'nv', 'nv', 'nv', 'nv', 'nv', 'nv', 'nv', 'nv', 'nv', 'nv', 'nv', 'nv', 'nv', 'nv', 'nv', 'nv', 'nv', 'nv', 'nv', 'nv', 'nv', 'nv', 'nv', 'nv', 'nv', 'nv', 'nv', 'nv', 'nv', 'nv', 'nv', 'nv', 'nv', 'nv', 'nv', 'nv', 'nv', 'nv', 'nv', 'nv', 'nv', 'nv', 'nv', 'nv', 'nv', 'nv', 'nv', 'nv', 'nv', 'nv', 'nv', 'nv', 'nv', 'nv', 'nv', 'nv', 'nv', 'nv', 'nv', 'nv', 'nv', 'nv', 'nv', 'nv', 'nv', 'nv', 'nv', 'nv', 'nv', 'nv', 'nv', 'nv', 'nv', 'nv', 'nv', 'nv', 'nv', 'nv', 'nv', 'nv', 'nv', 'nv', 'nv', 'nv', 'nv', 'nv', 'nv', 'nv', 'nv', 'nv', 'nv', 'nv', 'nv', 'nv', 'nv', 'nv', 'nv', 'nv', 'nv', 'nv', 'nv', 'nv', 'nv', 'nv', 'nv', 'nv', 'nv', 'nv', 'nv', 'nv', 'nv', 'nv', 'nv', 'nv', 'nv', 'nv', 'nv', 'nv', 'nv', 'nv', 'nv', 'nv', 'nv', 'nv', 'nv', 'nv', 'nv', 'nv', 'nv', 'nv', 'nv', 'nv', 'nv', 'nv', 'nv', 'nv', 'nv', 'nv', 'nv', 'nv', 'nv', 'nv', 'nv', 'nv', 'nv', 'nv', 'nv', 'nv', 'nv', 'nv', 'nv', 'nv', 'nv', 'nv', 'nv', 'nv', 'nv', 'nv', 'nv', 'nv', 'nv', 'nv', 'nv', 'nv', 'nv', 'nv', 'nv', 'nv', 'nv', 'nv', 'nv', 'nv', 'nv', 'nv', 'nv', 'nv', 'nv', 'nv', 'nv', 'nv', 'nv', 'nv', 'nv', 'nv', 'nv', 'nv', 'nv', 'nv', 'nv', 'nv', 'nv', 'nv', 'nv', 'nv', 'nv', 'nv', 'nv', 'nv', 'nv', 'nv', 'nv', 'nv', 'nv', 'nv', 'nv', 'nv', 'nv', 'nv', 'nv', 'nv', 'nv', 'nv', 'nv', 'nv', 'nv', 'nv', 'nv', 'nv', 'nv', 'nv', 'nv', 'nv', 'nv', 'nv', 'nv', 'nv', 'nv', 'nv', 'nv', 'nv', 'nv', 'nv', 'nv', 'nv', 'nv', 'nv', 'nv', 'nv', 'nv', 'nv', 'nv', 'nv', 'nv', 'nv', 'nv', 'nv', 'nv', 'nv', 'nv', 'nv', 'nv', 'nv', 'nv', 'nv', 'nv', 'nv', 'nv', 'nv', 'nv', 'nv', 'nv', 'nv', 'nv', 'nv', 'nv', 'nv', 'nv', 'nv', 'nv', 'nv', 'nv', 'nv', 'nv', 'nv', 'nv', 'nv', 'nv', 'nv', 'nv', 'nv', 'nv', 'nv', 'nv', 'nv', 'nv', 'nv', 'nv', 'nv', 'nv', 'nv', 'nv', 'nv', 'nv', 'nv', 'nv', 'nv', 'nv', 'nv', 'nv', 'nv', 'nv', 'nv', 'nv', 'nv', 'nv', 'nv', 'nv', 'nv', 'nv', 'nv', 'nv', 'nv', 'nv', 'nv', 'nv', 'nv', 'nv', 'nv', 'nv', 'nv', 'nv', 'nv', 'nv', 'nv', 'nv', 'nv', 'nv', 'nv', 'nv', 'nv', 'nv', 'nv', 'nv', 'nv', 'nv', 'nv', 'nv', 'nv', 'nv', 'nv', 'nv', 'nv', 'nv', 'nv', 'nv', 'nv', 'nv', 'nv', 'nv', 'nv', 'nv', 'nv', 'nv', 'nv', 'nv', 'nv', 'nv', 'nv', 'nv', 'nv', 'nv', 'nv', 'nv', 'nv', 'nv', 'nv', 'nv', 'nv', 'nv', 'nv', 'nv', 'nv', 'nv', 'nv', 'nv', 'nv', 'nv', 'nv', 'nv', 'nv', 'nv', 'nv', 'nv', 'nv', 'nv', 'nv', 'nv', 'nv', 'nv', 'nv', 'nv', 'nv', 'nv', 'nv', 'nv', 'nv', 'nv', 'nv', 'nv', 'nv', 'nv', 'nv', 'nv', 'nv', 'nv', 'nv', 'nv', 'nv', 'nv', 'nv', 'nv', 'nv', 'nv', 'nv', 'nv', 'nv', 'nv', 'nv', 'nv', 'nv', 'nv', 'nv', 'nv', 'nv', 'nv', 'nv', 'nv', 'nv', 'nv', 'nv', 'nv', 'nv', 'nv', 'nv', 'nv', 'nv', 'nv', 'nv', 'nv', 'nv', 'nv', 'nv', 'nv', 'nv', 'nv', 'nv', 'nv', 'nv', 'nv', 'nv', 'nv', 'nv', 'nv', 'nv', 'nv', 'nv', 'nv', 'nv', 'nv', 'nv', 'nv', 'nv', 'nv', 'nv', 'nv', 'nv', 'nv', 'nv', 'nv', 'nv', 'nv', 'nv', 'nv', 'nv', 'nv', 'nv', 'nv', 'nv', 'nv', 'nv', 'nv', 'nv', 'nv', 'nv', 'nv', 'nv', 'nv', 'nv', 'nv', 'nv', 'nv', 'nv', 'nv', 'nv', 'nv', 'nv', 'nv', 'nv', 'nv', 'nv', 'nv', 'nv', 'nv', 'nv', 'nv', 'nv', 'nv', 'nv', 'nv', 'nv', 'nv', 'nv', 'nv', 'nv', 'nv', 'nv', 'nv', 'nv', 'nv', 'nv', 'nv', 'nv', 'nv', 'nv', 'nv', 'nv', 'nv', 'nv', 'nv', 'nv', 'nv', 'nv', 'nv', 'nv', 'nv', 'nv', 'nv', 'nv', 'nv', 'nv', 'nv', 'nv', 'nv', 'nv', 'nv', 'nv', 'nv', 'nv', 'nv', 'nv', 'nv', 'nv', 'nv', 'nv', 'nv', 'nv', 'nv', 'nv', 'nv', 'nv', 'nv', 'nv', 'nv', 'nv', 'nv', 'nv', 'nv', 'nv', 'nv', 'nv', 'nv', 'nv', 'nv', 'nv', 'nv', 'nv', 'nv', 'nv', 'nv', 'nv', 'nv', 'nv', 'nv', 'nv', 'nv', 'nv', 'nv', 'nv', 'nv', 'nv', 'nv', 'nv', 'nv', 'nv', 'nv', 'nv', 'nv', 'nv', 'nv', 'nv', 'nv', 'nv', 'nv', 'nv', 'nv', 'nv', 'nv', 'nv', 'nv', 'nv', 'nv', 'nv', 'nv', 'nv', 'nv', 'nv', 'nv', 'nv', 'nv', 'nv', 'nv', 'nv', 'nv', 'nv', 'nv', 'nv', 'nv', 'nv', 'nv', 'nv', 'nv', 'nv', 'nv', 'nv', 'nv', 'nv', 'nv', 'nv', 'nv', 'nv', 'nv', 'nv', 'nv', 'nv', 'nv', 'nv', 'nv', 'nv', 'nv', 'nv', 'nv', 'nv', 'nv', 'nv', 'nv', 'nv', 'nv', 'nv', 'nv', 'nv', 'nv', 'nv', 'nv', 'nv', 'nv', 'nv', 'nv', 'nv', 'nv', 'nv', 'nv', 'nv', 'nv', 'nv', 'nv', 'nv', 'nv', 'nv', 'nv', 'nv', 'nv', 'nv', 'nv', 'nv', 'nv', 'nv', 'nv', 'nv', 'nv', 'nv', 'nv', 'nv', 'nv', 'nv', 'nv', 'nv', 'nv', 'nv', 'nv', 'nv', 'nv', 'nv', 'nv', 'nv', 'nv', 'nv', 'nv', 'nv', 'nv', 'nv', 'nv', 'nv', 'nv', 'nv', 'nv', 'nv', 'nv', 'nv', 'nv', 'nv', 'nv', 'nv', 'nv', 'nv', 'nv', 'nv', 'nv', 'nv', 'nv', 'nv', 'nv', 'nv', 'nv', 'nv', 'nv', 'nv', 'nv', 'nv', 'nv', 'nv', 'nv', 'nv', 'nv', 'nv', 'nv', 'nv', 'nv', 'nv', 'nv', 'nv', 'nv', 'nv', 'nv', 'nv', 'nv', 'nv', 'nv', 'nv', 'nv', 'nv', 'nv', 'nv', 'nv', 'nv', 'nv', 'nv', 'nv', 'nv', 'nv', 'nv', 'nv', 'nv', 'nv', 'nv', 'nv', 'nv', 'nv', 'nv', 'nv', 'nv', 'nv', 'nv', 'nv', 'nv', 'nv', 'nv', 'nv', 'nv', 'nv', 'nv', 'nv', 'nv', 'nv', 'nv', 'nv', 'nv', 'nv', 'nv', 'nv', 'nv', 'nv', 'nv', 'nv', 'nv', 'nv', 'nv', 'nv', 'nv', 'nv', 'nv', 'nv', 'nv', 'nv', 'nv', 'nv', 'nv', 'nv', 'nv', 'nv', 'nv', 'nv', 'nv', 'nv', 'nv', 'nv', 'nv', 'nv', 'nv', 'nv', 'nv', 'nv', 'nv', 'nv', 'nv', 'nv', 'nv', 'nv', 'nv', 'nv', 'nv', 'nv', 'nv', 'nv', 'nv', 'nv', 'nv', 'nv', 'nv', 'nv', 'nv', 'nv', 'nv', 'nv', 'nv', 'nv', 'nv', 'nv', 'nv', 'nv', 'nv', 'nv', 'nv', 'nv', 'nv', 'nv', 'nv', 'nv', 'nv', 'nv', 'nv', 'nv', 'nv', 'nv', 'nv', 'nv', 'nv', 'nv', 'nv', 'nv', 'nv', 'nv', 'nv', 'nv', 'nv', 'nv', 'nv', 'nv', 'nv', 'nv', 'nv', 'nv', 'nv', 'nv', 'nv', 'nv', 'nv', 'nv', 'nv', 'nv', 'nv', 'nv', 'nv', 'nv', 'nv', 'nv', 'nv', 'nv', 'nv', 'nv', 'nv', 'nv', 'nv', 'nv', 'nv', 'nv', 'nv', 'nv', 'nv', 'nv', 'nv', 'nv', 'nv', 'nv', 'nv', 'nv', 'nv', 'nv', 'nv', 'nv', 'nv', 'nv', 'nv', 'nv', 'nv', 'nv', 'nv', 'nv', 'nv', 'nv', 'nv', 'nv', 'nv', 'nv', 'nv', 'nv', 'nv', 'nv', 'nv', 'nv', 'nv', 'nv', 'nv', 'nv', 'nv', 'nv', 'nv', 'nv', 'nv', 'nv', 'nv', 'nv', 'nv', 'nv', 'nv', 'nv', 'nv', 'nv', 'nv', 'nv', 'nv', 'nv', 'nv', 'nv', 'nv', 'nv', 'nv', 'nv', 'nv', 'nv', 'nv', 'nv', 'nv', 'nv', 'nv', 'nv', 'nv', 'nv', 'nv', 'nv', 'nv', 'nv', 'nv', 'nv', 'nv', 'nv', 'nv', 'nv', 'nv', 'nv', 'nv', 'nv', 'nv', 'nv', 'nv', 'nv', 'nv', 'nv', 'nv', 'nv', 'nv', 'nv', 'nv', 'nv', 'nv', 'nv', 'nv', 'nv', 'nv', 'nv', 'nv', 'nv', 'nv', 'nv', 'nv', 'nv', 'nv', 'nv', 'nv', 'nv', 'nv', 'nv', 'nv', 'nv', 'nv', 'nv', 'nv', 'nv', 'nv', 'nv', 'nv', 'nv', 'nv', 'nv', 'nv', 'nv', 'nv', 'nv', 'nv', 'nv', 'nv', 'nv', 'nv', 'nv', 'nv', 'nv', 'nv', 'nv', 'nv', 'nv', 'nv', 'nv', 'nv', 'nv', 'nv', 'nv', 'nv', 'nv', 'nv', 'nv', 'nv', 'nv', 'nv', 'nv', 'nv', 'nv', 'nv', 'nv', 'nv', 'nv', 'nv', 'nv', 'nv', 'nv', 'nv', 'nv', 'nv', 'nv', 'nv', 'nv', 'nv', 'nv', 'nv', 'nv', 'nv', 'nv', 'nv', 'nv', 'nv', 'nv', 'nv', 'nv', 'nv', 'nv', 'nv', 'nv', 'nv', 'nv', 'nv', 'nv', 'nv', 'nv', 'nv', 'nv', 'nv', 'nv', 'nv', 'nv', 'nv', 'nv', 'nv', 'nv', 'nv', 'nv', 'nv', 'nv', 'nv', 'nv', 'nv', 'nv', 'nv', 'nv', 'nv', 'nv', 'nv', 'nv', 'nv', 'nv', 'nv', 'nv', 'nv', 'nv', 'nv', 'nv', 'nv', 'nv', 'nv', 'nv', 'nv', 'nv', 'nv', 'nv', 'nv', 'nv', 'nv', 'nv', 'nv', 'nv', 'nv', 'nv', 'nv', 'nv', 'nv', 'nv', 'nv', 'nv', 'nv', 'nv', 'nv', 'nv', 'nv', 'nv', 'nv', 'nv', 'nv', 'nv', 'nv', 'nv', 'nv', 'nv', 'nv', 'nv', 'nv', 'nv', 'nv', 'nv', 'nv', 'nv', 'nv', 'nv', 'nv', 'nv', 'nv', 'nv', 'nv', 'nv', 'nv', 'nv', 'nv', 'nv', 'nv', 'nv', 'nv', 'nv', 'nv', 'nv', 'nv', 'nv', 'nv', 'nv', 'nv', 'nv', 'nv', 'nv', 'nv', 'nv', 'nv', 'nv', 'nv', 'nv', 'nv', 'nv', 'nv', 'nv', 'nv', 'nv', 'nv', 'nv', 'nv', 'nv', 'nv', 'nv', 'nv', 'nv', 'nv', 'nv', 'nv', 'nv', 'nv', 'nv', 'nv', 'nv', 'nv', 'nv', 'nv', 'nv', 'nv', 'nv', 'nv', 'nv', 'nv', 'nv', 'nv', 'nv', 'nv', 'nv', 'nv', 'nv', 'nv', 'nv', 'nv', 'nv', 'nv', 'nv', 'nv', 'nv', 'nv', 'nv', 'nv', 'nv', 'nv', 'nv', 'nv', 'nv', 'nv', 'nv', 'nv', 'nv', 'nv', 'nv', 'nv', 'nv', 'nv', 'nv', 'nv', 'nv', 'nv', 'nv', 'nv', 'nv', 'nv', 'nv', 'nv', 'nv', 'nv', 'nv', 'nv', 'nv', 'nv', 'nv', 'nv', 'nv', 'nv', 'nv', 'nv', 'nv', 'nv', 'nv', 'nv', 'nv', 'nv', 'nv', 'nv', 'nv', 'nv', 'nv', 'nv', 'nv', 'nv', 'nv', 'nv', 'nv', 'nv', 'nv', 'nv', 'nv', 'nv', 'nv', 'nv', 'nv', 'nv', 'nv', 'nv', 'nv', 'nv', 'nv', 'nv', 'nv', 'nv', 'nv', 'nv', 'nv', 'nv', 'nv', 'nv', 'nv', 'nv', 'nv', 'nv', 'nv', 'nv', 'nv', 'nv', 'nv', 'nv', 'nv', 'nv', 'nv', 'nv', 'nv', 'nv', 'nv', 'nv', 'nv', 'nv', 'nv', 'nv', 'nv', 'nv', 'nv', 'nv', 'nv', 'nv', 'nv', 'nv', 'nv', 'nv', 'nv', 'nv', 'nv', 'nv', 'nv', 'nv', 'nv', 'nv', 'nv', 'nv', 'nv', 'nv', 'nv', 'nv', 'nv', 'nv', 'nv', 'nv', 'nv', 'nv', 'nv', 'nv', 'nv', 'nv', 'nv', 'nv', 'nv', 'nv', 'nv', 'nv', 'nv', 'nv', 'nv', 'nv', 'nv', 'nv', 'nv', 'nv', 'nv', 'nv', 'nv', 'nv', 'nv', 'nv', 'nv', 'nv', 'nv', 'nv', 'nv', 'nv', 'nv', 'nv', 'nv', 'nv', 'nv', 'nv', 'nv', 'nv', 'nv', 'nv', 'nv', 'nv', 'nv', 'nv', 'nv', 'nv', 'nv', 'nv', 'nv', 'nv', 'nv', 'nv', 'nv', 'nv', 'nv', 'nv', 'nv', 'nv', 'nv', 'nv', 'nv', 'nv', 'nv', 'nv', 'nv', 'nv', 'nv', 'nv', 'nv', 'nv', 'nv', 'nv', 'nv', 'nv', 'nv', 'nv', 'nv', 'nv', 'nv', 'nv', 'nv', 'nv', 'nv', 'nv', 'nv', 'nv', 'nv', 'nv', 'nv', 'nv', 'nv', 'nv', 'nv', 'nv', 'nv', 'nv', 'nv', 'nv', 'nv', 'nv', 'nv', 'nv', 'nv', 'nv', 'nv', 'nv', 'nv', 'nv', 'nv', 'nv', 'nv', 'nv', 'nv', 'nv', 'nv', 'nv', 'nv', 'nv', 'nv', 'nv', 'nv', 'nv', 'nv', 'nv', 'nv', 'nv', 'nv', 'nv', 'nv', 'nv', 'nv', 'nv', 'nv', 'nv', 'nv', 'nv', 'nv', 'nv', 'nv', 'nv', 'nv', 'nv', 'nv', 'nv', 'nv', 'nv', 'nv', 'nv', 'nv', 'nv', 'nv', 'nv', 'nv', 'nv', 'nv', 'nv', 'nv', 'nv', 'nv', 'nv', 'nv', 'nv', 'nv', 'nv', 'nv', 'nv', 'nv', 'nv', 'nv', 'nv', 'nv', 'nv', 'nv', 'nv', 'nv', 'nv', 'nv', 'nv', 'nv', 'nv', 'nv', 'nv', 'nv', 'nv', 'nv', 'nv', 'nv', 'nv', 'nv', 'nv', 'nv', 'nv', 'nv', 'nv', 'nv', 'nv', 'nv', 'nv', 'nv', 'nv', 'nv', 'nv', 'nv', 'nv', 'nv', 'nv', 'nv', 'nv', 'nv', 'nv', 'nv', 'nv', 'nv', 'nv', 'nv', 'nv', 'nv', 'nv', 'nv', 'nv', 'nv', 'nv', 'nv', 'nv', 'nv', 'nv', 'nv', 'nv', 'nv', 'nv', 'nv', 'nv', 'nv', 'nv', 'nv', 'nv', 'nv', 'nv', 'nv', 'nv', 'nv', 'nv', 'nv', 'nv', 'nv', 'nv', 'nv', 'nv', 'nv', 'nv', 'nv', 'nv', 'nv', 'nv', 'nv', 'nv', 'nv', 'nv', 'nv', 'nv', 'nv', 'nv', 'nv', 'nv', 'nv', 'nv', 'nv', 'nv', 'nv', 'nv', 'nv', 'nv', 'nv', 'nv', 'nv', 'nv', 'nv', 'nv', 'nv', 'nv', 'nv', 'nv', 'nv', 'nv', 'nv', 'nv', 'nv', 'nv', 'nv', 'nv', 'nv', 'nv', 'nv', 'nv', 'nv', 'nv', 'nv', 'nv', 'nv', 'nv', 'nv', 'nv', 'nv', 'nv', 'nv', 'nv', 'nv', 'nv', 'nv', 'nv', 'nv', 'nv', 'nv', 'nv', 'nv', 'nv', 'nv', 'nv', 'nv', 'nv', 'nv', 'nv', 'nv', 'nv', 'nv', 'nv', 'nv', 'nv', 'nv', 'nv', 'nv', 'nv', 'nv', 'nv', 'nv', 'nv', 'nv', 'nv', 'nv', 'nv', 'nv', 'nv', 'nv', 'nv', 'nv', 'nv', 'nv', 'nv', 'nv', 'nv', 'nv', 'nv', 'nv', 'nv', 'nv', 'nv', 'nv', 'nv', 'nv', 'nv', 'nv', 'nv', 'nv', 'nv', 'nv', 'nv', 'nv', 'nv', 'nv', 'nv', 'nv', 'nv', 'nv', 'nv', 'nv', 'nv', 'nv', 'nv', 'nv', 'nv', 'nv', 'nv', 'nv', 'nv', 'nv', 'nv', 'nv', 'nv', 'nv', 'nv', 'nv', 'nv', 'nv', 'nv', 'nv', 'nv', 'nv', 'nv', 'nv', 'nv', 'nv', 'nv', 'nv', 'nv', 'nv', 'nv', 'nv', 'nv', 'nv', 'nv', 'nv', 'nv', 'nv', 'nv', 'nv', 'nv', 'nv', 'nv', 'nv', 'nv', 'nv', 'nv', 'nv', 'nv', 'nv', 'nv', 'nv', 'nv', 'nv', 'nv', 'nv', 'nv', 'nv', 'nv', 'nv', 'nv', 'nv', 'nv', 'nv', 'nv', 'nv', 'nv', 'nv', 'nv', 'nv', 'nv', 'nv', 'nv', 'nv', 'nv', 'nv', 'nv', 'nv', 'nv', 'nv', 'nv', 'nv', 'nv', 'nv', 'nv', 'nv', 'nv', 'nv', 'nv', 'nv', 'nv', 'nv', 'nv', 'nv', 'nv', 'nv', 'nv', 'nv', 'nv', 'nv', 'nv', 'nv', 'nv', 'nv', 'nv', 'nv', 'nv', 'nv', 'nv', 'nv', 'nv', 'nv', 'nv', 'nv', 'nv', 'nv', 'nv', 'nv', 'nv', 'nv', 'nv', 'nv', 'nv', 'nv', 'nv', 'nv', 'nv', 'nv', 'nv', 'nv', 'nv', 'nv', 'nv', 'nv', 'nv', 'nv', 'nv', 'nv', 'nv', 'nv', 'nv', 'nv', 'nv', 'nv', 'nv', 'nv', 'nv', 'nv', 'nv', 'nv', 'nv', 'nv', 'nv', 'nv', 'nv', 'nv', 'nv', 'nv', 'nv', 'nv', 'nv', 'nv', 'nv', 'nv', 'nv', 'nv', 'nv', 'nv', 'nv', 'nv', 'nv', 'nv', 'nv', 'nv', 'nv', 'nv', 'nv', 'nv', 'nv', 'nv', 'nv', 'nv', 'nv', 'nv', 'nv', 'nv', 'nv', 'nv', 'nv', 'nv', 'nv', 'nv', 'nv', 'nv', 'nv', 'nv', 'nv', 'nv', 'nv', 'nv', 'nv', 'nv', 'nv', 'nv', 'nv', 'nv', 'nv', 'nv', 'nv', 'nv', 'nv', 'nv', 'nv', 'nv', 'nv', 'nv', 'nv', 'nv', 'nv', 'nv', 'nv', 'nv', 'nv', 'nv', 'nv', 'nv', 'nv', 'nv', 'nv', 'nv', 'nv', 'nv', 'nv', 'nv', 'nv', 'nv', 'nv', 'nv', 'nv', 'nv', 'nv', 'nv', 'nv', 'nv', 'nv', 'nv', 'nv', 'nv', 'nv', 'nv', 'nv', 'nv', 'nv', 'nv', 'nv', 'nv', 'nv', 'nv', 'nv', 'nv', 'nv', 'nv', 'nv', 'nv', 'nv', 'nv', 'nv', 'nv', 'nv', 'nv', 'nv', 'nv', 'nv', 'nv', 'nv', 'nv', 'nv', 'nv', 'nv', 'nv', 'nv', 'nv', 'nv', 'nv', 'nv', 'nv', 'nv', 'nv', 'nv', 'nv', 'nv', 'nv', 'nv', 'nv', 'nv', 'nv', 'nv', 'nv', 'nv', 'nv', 'nv', 'nv', 'nv', 'nv', 'nv', 'nv', 'nv', 'nv', 'nv', 'nv', 'nv', 'nv', 'nv', 'nv', 'nv', 'nv', 'nv', 'nv', 'nv', 'nv', 'nv', 'nv', 'nv', 'nv', 'nv', 'nv', 'nv', 'nv', 'nv', 'nv', 'nv', 'nv', 'nv', 'nv', 'nv', 'nv', 'nv', 'nv', 'nv', 'nv', 'nv', 'nv', 'nv', 'nv', 'nv', 'nv', 'nv', 'nv', 'nv', 'nv', 'nv', 'nv', 'nv', 'nv', 'nv', 'nv', 'nv', 'nv', 'nv', 'nv', 'nv', 'nv', 'nv', 'nv', 'nv', 'nv', 'nv', 'nv', 'nv', 'nv', 'nv', 'nv', 'nv', 'nv', 'nv', 'nv', 'nv', 'nv', 'nv', 'nv', 'nv', 'nv', 'nv', 'nv', 'nv', 'nv', 'nv', 'nv', 'nv', 'nv', 'nv', 'nv', 'nv', 'nv', 'nv', 'nv', 'nv', 'nv', 'nv', 'nv', 'nv', 'nv', 'nv', 'nv', 'nv', 'nv', 'nv', 'nv', 'nv', 'nv', 'nv', 'nv', 'nv', 'nv', 'nv', 'nv', 'nv', 'nv', 'nv', 'nv', 'nv', 'nv', 'nv', 'nv', 'nv', 'nv', 'nv', 'nv', 'nv', 'nv', 'nv', 'nv', 'nv', 'nv', 'nv', 'nv', 'nv', 'nv', 'nv', 'nv', 'nv', 'nv', 'nv', 'nv', 'nv', 'nv', 'nv', 'nv', 'nv', 'nv', 'nv', 'nv', 'nv', 'nv', 'nv', 'nv', 'nv', 'nv', 'nv', 'nv', 'nv', 'nv', 'nv', 'nv', 'nv', 'nv', 'nv', 'nv', 'nv', 'nv', 'nv', 'nv', 'nv', 'nv', 'nv', 'nv', 'nv', 'nv', 'nv', 'nv', 'nv', 'nv', 'nv', 'nv', 'nv', 'nv', 'nv', 'nv', 'nv', 'nv', 'nv', 'nv', 'nv', 'nv', 'nv', 'nv', 'nv', 'nv', 'nv', 'nv', 'nv', 'nv', 'nv', 'nv', 'nv', 'nv', 'nv', 'nv', 'nv', 'nv', 'nv', 'nv', 'nv', 'nv', 'nv', 'nv', 'nv', 'nv', 'nv', 'nv', 'nv', 'nv', 'nv', 'nv', 'nv', 'nv', 'nv', 'nv', 'nv', 'nv', 'nv', 'nv', 'nv', 'nv', 'nv', 'nv', 'nv', 'nv', 'nv', 'nv', 'nv', 'nv', 'nv', 'nv', 'nv', 'nv', 'nv', 'nv', 'nv', 'nv', 'nv', 'nv', 'nv', 'nv', 'nv', 'nv', 'nv', 'nv', 'nv', 'nv', 'nv', 'nv', 'nv', 'nv', 'nv', 'nv', 'nv', 'nv', 'nv', 'nv', 'nv', 'nv', 'nv', 'nv', 'nv', 'nv', 'nv', 'nv', 'nv', 'nv', 'nv', 'nv', 'nv', 'nv', 'nv', 'nv', 'nv', 'nv', 'nv', 'nv', 'nv', 'nv', 'nv', 'nv', 'nv', 'nv', 'nv', 'nv', 'nv', 'nv', 'nv', 'nv', 'nv', 'nv', 'nv', 'nv', 'nv', 'nv', 'nv', 'nv', 'nv', 'nv', 'nv', 'nv', 'nv', 'nv', 'nv', 'nv', 'nv', 'nv', 'nv', 'nv', 'nv', 'nv', 'nv', 'nv', 'nv', 'nv', 'nv', 'nv', 'nv', 'nv', 'nv', 'nv', 'nv', 'nv', 'nv', 'nv', 'nv', 'nv', 'nv', 'nv', 'nv', 'nv', 'nv', 'nv', 'nv', 'nv', 'nv', 'nv', 'nv', 'nv', 'nv', 'nv', 'nv', 'nv', 'nv', 'nv', 'nv', 'nv', 'nv', 'nv', 'nv', 'nv', 'nv', 'nv', 'nv', 'nv', 'nv', 'nv', 'nv', 'nv', 'nv', 'nv', 'nv', 'nv', 'nv', 'nv', 'nv', 'nv', 'nv', 'nv', 'nv', 'nv', 'nv', 'nv', 'nv', 'nv', 'nv', 'nv', 'nv', 'nv', 'nv', 'nv', 'nv', 'nv', 'nv', 'nv', 'nv', 'nv', 'nv', 'nv', 'nv', 'nv', 'nv', 'nv', 'nv', 'nv', 'nv', 'nv', 'nv', 'nv', 'nv', 'nv', 'nv', 'nv', 'nv', 'nv', 'nv', 'nv', 'nv', 'nv', 'nv', 'nv', 'nv', 'nv', 'nv', 'nv', 'nv', 'nv', 'nv', 'nv', 'nv', 'nv', 'nv', 'nv', 'nv', 'nv', 'nv', 'nv', 'nv', 'nv', 'nv', 'nv', 'nv', 'nv', 'nv', 'nv', 'nv', 'nv', 'nv', 'nv', 'nv', 'nv', 'nv', 'nv', 'nv', 'nv', 'nv', 'nv', 'nv', 'nv', 'nv', 'nv', 'nv', 'nv', 'nv', 'nv', 'nv', 'nv', 'nv', 'nv', 'nv', 'nv', 'nv', 'nv', 'nv', 'nv', 'nv', 'nv', 'nv', 'nv', 'nv', 'nv', 'nv', 'nv', 'nv', 'nv', 'nv', 'nv', 'nv', 'nv', 'nv', 'nv', 'nv', 'nv', 'nv', 'nv', 'nv', 'nv', 'nv', 'nv', 'nv', 'nv', 'nv', 'nv', 'nv', 'nv', 'nv', 'nv', 'nv', 'nv', 'nv', 'nv', 'nv', 'nv', 'nv', 'nv', 'nv', 'nv', 'nv', 'nv', 'nv', 'nv', 'nv', 'nv', 'nv', 'nv', 'nv', 'nv', 'nv', 'nv', 'nv', 'nv', 'nv', 'nv', 'nv', 'nv', 'nv', 'nv', 'nv', 'nv', 'nv', 'nv', 'nv', 'nv', 'nv', 'nv', 'nv', 'nv', 'nv', 'nv', 'nv', 'nv', 'nv', 'nv', 'nv', 'nv', 'nv', 'nv', 'nv', 'nv', 'nv', 'nv', 'nv', 'nv', 'nv', 'nv', 'nv', 'nv', 'nv', 'nv', 'nv', 'nv', 'nv', 'nv', 'nv', 'nv', 'nv', 'nv', 'nv', 'nv', 'nv', 'nv', 'nv', 'nv', 'nv', 'nv', 'nv', 'nv', 'nv', 'nv', 'nv', 'nv', 'nv', 'nv', 'nv', 'nv', 'nv', 'nv', 'nv', 'nv', 'nv', 'nv', 'nv', 'nv', 'nv', 'nv', 'nv', 'nv', 'nv', 'nv', 'nv', 'nv', 'nv', 'nv', 'nv', 'nv', 'nv', 'nv', 'nv', 'nv', 'nv', 'nv', 'nv', 'nv', 'nv', 'nv', 'nv', 'nv', 'nv', 'nv', 'nv', 'nv', 'nv', 'nv', 'nv', 'nv', 'nv', 'nv', 'nv', 'nv', 'nv', 'nv', 'nv', 'nv', 'nv', 'nv', 'nv', 'nv', 'nv', 'nv', 'nv', 'nv', 'nv', 'nv', 'nv', 'nv', 'nv', 'nv', 'nv', 'nv', 'nv', 'nv', 'nv', 'nv', 'nv', 'nv', 'nv', 'nv', 'nv', 'nv', 'nv', 'nv', 'nv', 'nv', 'nv', 'nv', 'nv', 'nv', 'nv', 'nv', 'nv', 'nv', 'nv', 'nv', 'nv', 'nv', 'nv', 'nv', 'nv', 'nv', 'nv', 'nv', 'nv', 'nv', 'nv', 'nv', 'nv', 'nv', 'nv', 'nv', 'nv', 'nv', 'nv', 'nv', 'nv', 'nv', 'nv', 'nv', 'nv', 'nv', 'nv', 'nv', 'nv', 'nv', 'nv', 'nv', 'nv', 'nv', 'nv', 'nv', 'nv', 'nv', 'nv', 'nv', 'nv', 'nv', 'nv', 'nv', 'nv', 'nv', 'nv', 'nv', 'nv', 'nv', 'nv', 'nv', 'nv', 'nv', 'nv', 'nv', 'nv', 'nv', 'nv', 'nv', 'nv', 'nv', 'nv', 'nv', 'nv', 'nv', 'nv', 'nv', 'nv', 'nv', 'nv', 'nv', 'nv', 'nv', 'nv', 'nv', 'nv', 'nv', 'nv', 'nv', 'nv', 'nv', 'nv', 'nv', 'nv', 'nv', 'nv', 'nv', 'nv', 'nv', 'nv', 'nv', 'nv', 'nv', 'nv', 'nv', 'nv', 'nv', 'nv', 'nv', 'nv', 'nv', 'nv', 'nv', 'nv', 'nv', 'nv', 'nv', 'nv', 'nv', 'nv', 'nv', 'nv', 'nv', 'nv', 'nv', 'nv', 'nv', 'nv', 'nv', 'nv', 'nv', 'nv', 'nv', 'nv', 'nv', 'nv', 'nv', 'nv', 'nv', 'nv', 'nv', 'nv', 'nv', 'nv', 'nv', 'nv', 'nv', 'nv', 'nv', 'nv', 'nv', 'nv', 'nv', 'nv', 'nv', 'nv', 'nv', 'nv', 'nv', 'nv', 'nv', 'nv', 'nv', 'nv', 'nv', 'nv', 'nv', 'nv', 'nv', 'nv', 'nv', 'nv', 'nv', 'nv', 'nv', 'nv', 'nv', 'nv', 'nv', 'nv', 'nv', 'nv', 'nv', 'nv', 'nv', 'nv', 'nv', 'nv', 'nv', 'nv', 'nv', 'nv', 'nv', 'nv', 'nv', 'nv', 'nv', 'nv', 'nv', 'nv', 'nv', 'nv', 'nv', 'nv', 'nv', 'nv', 'nv', 'nv', 'nv', 'nv', 'nv', 'nv', 'nv', 'nv', 'nv', 'nv', 'nv', 'nv', 'nv', 'nv', 'nv', 'nv', 'nv', 'nv', 'nv', 'nv', 'nv', 'nv', 'nv', 'nv', 'nv', 'nv', 'nv', 'nv', 'nv', 'nv', 'nv', 'nv', 'nv', 'nv', 'nv', 'nv', 'nv', 'nv', 'nv', 'nv', 'nv', 'nv', 'nv', 'nv', 'nv', 'nv', 'nv', 'nv', 'nv', 'nv', 'nv', 'nv', 'nv', 'nv', 'nv', 'nv', 'nv', 'nv', 'nv', 'nv', 'nv', 'nv', 'nv', 'nv', 'nv', 'nv', 'nv', 'nv', 'nv', 'nv', 'nv', 'nv', 'nv', 'nv', 'nv', 'nv', 'nv', 'nv', 'nv', 'nv', 'nv', 'nv', 'nv', 'nv', 'nv', 'nv', 'nv', 'nv', 'nv', 'nv', 'nv', 'nv', 'nv', 'nv', 'nv', 'nv', 'nv', 'nv', 'nv', 'nv', 'nv', 'nv', 'nv', 'nv', 'nv', 'nv', 'nv', 'nv', 'nv', 'nv', 'nv', 'nv', 'nv', 'nv', 'nv', 'nv', 'nv', 'nv', 'nv', 'nv', 'nv', 'nv', 'nv', 'nv', 'nv', 'nv', 'nv', 'nv', 'nv', 'nv', 'nv', 'nv', 'nv', 'nv', 'nv', 'nv', 'nv', 'nv', 'nv', 'nv', 'nv', 'nv', 'nv', 'nv', 'nv', 'nv', 'nv', 'nv', 'nv', 'nv', 'nv', 'nv', 'nv', 'nv', 'nv', 'nv', 'nv', 'nv', 'nv', 'nv', 'nv', 'nv', 'nv', 'nv', 'nv', 'nv', 'nv', 'nv', 'nv', 'nv', 'nv', 'nv', 'nv', 'nv', 'nv', 'nv', 'nv', 'nv', 'nv', 'nv', 'nv', 'nv', 'nv', 'nv', 'nv', 'nv', 'nv', 'nv', 'nv', 'nv', 'nv', 'nv', 'nv', 'nv', 'nv', 'nv', 'nv', 'nv', 'nv', 'nv', 'nv', 'nv', 'nv', 'nv', 'nv', 'nv', 'nv', 'nv', 'nv', 'nv', 'nv', 'nv', 'nv', 'nv', 'nv', 'nv', 'nv', 'nv', 'nv', 'nv', 'nv', 'nv', 'nv', 'nv', 'nv', 'nv', 'nv', 'nv', 'nv', 'nv', 'nv', 'nv', 'nv', 'nv', 'nv', 'nv', 'nv', 'nv', 'nv', 'nv', 'nv', 'nv', 'nv', 'nv', 'nv', 'nv', 'nv', 'nv', 'nv', 'nv', 'nv', 'nv', 'nv', 'nv', 'nv', 'nv', 'nv', 'nv', 'nv', 'nv', 'nv', 'nv', 'nv', 'nv', 'nv', 'nv', 'nv', 'nv', 'nv', 'nv', 'nv', 'nv', 'nv', 'nv', 'nv', 'nv', 'nv', 'nv', 'nv', 'nv', 'nv', 'nv', 'nv', 'nv', 'nv', 'nv', 'nv', 'nv', 'nv', 'nv', 'nv', 'nv', 'nv', 'nv', 'nv', 'nv', 'nv', 'nv', 'nv', 'nv', 'nv', 'nv', 'nv', 'nv', 'nv', 'nv', 'nv', 'nv', 'nv', 'nv', 'nv', 'nv', 'nv', 'nv', 'nv', 'nv', 'nv', 'nv', 'nv', 'nv', 'nv', 'nv', 'nv', 'nv', 'nv', 'nv', 'nv', 'nv', 'nv', 'nv', 'nv', 'nv', 'nv', 'nv', 'nv', 'nv', 'nv', 'nv', 'nv', 'nv', 'nv', 'nv', 'nv', 'nv', 'nv', 'nv', 'nv', 'nv', 'nv', 'nv', 'nv', 'nv', 'nv', 'nv', 'nv', 'nv', 'nv', 'nv', 'nv', 'nv', 'nv', 'nv', 'nv', 'nv', 'nv', 'nv', 'nv', 'nv', 'nv', 'nv', 'nv', 'nv', 'nv', 'nv', 'nv', 'nv', 'nv', 'nv', 'nv', 'nv', 'nv', 'nv', 'nv', 'nv', 'nv', 'nv', 'nv', 'nv', 'nv', 'nv', 'nv', 'nv', 'nv', 'nv', 'nv', 'nv', 'nv', 'nv', 'nv', 'nv', 'nv', 'nv', 'nv', 'nv', 'nv', 'nv', 'nv', 'nv', 'nv', 'nv', 'nv', 'nv', 'nv', 'nv', 'nv', 'nv', 'nv', 'nv', 'nv', 'nv', 'nv', 'nv', 'nv', 'nv', 'nv', 'nv', 'nv', 'nv', 'nv', 'nv', 'nv', 'nv', 'nv', 'nv', 'nv', 'nv', 'nv', 'nv', 'nv', 'nv', 'nv', 'nv', 'nv', 'nv', 'nv', 'nv', 'nv', 'nv', 'nv', 'nv', 'nv', 'nv', 'nv', 'nv', 'nv', 'nv', 'nv', 'nv', 'nv', 'nv', 'nv', 'nv', 'nv', 'nv', 'nv', 'nv', 'nv', 'nv', 'nv', 'nv', 'nv', 'nv', 'nv', 'nv', 'nv', 'nv', 'nv', 'nv', 'nv', 'nv', 'nv', 'nv', 'nv', 'nv', 'nv', 'nv', 'nv', 'nv', 'nv', 'nv', 'nv', 'nv', 'nv', 'nv', 'nv', 'nv', 'nv', 'nv', 'nv', 'nv', 'nv', 'nv', 'nv', 'nv', 'nv', 'nv', 'nv', 'nv', 'nv', 'nv', 'nv', 'nv', 'nv', 'nv', 'nv', 'nv', 'nv', 'nv', 'nv', 'nv', 'nv', 'nv', 'nv', 'nv', 'nv', 'nv', 'nv', 'nv', 'nv', 'nv', 'nv', 'nv', 'nv', 'nv', 'nv', 'nv', 'nv', 'nv', 'nv', 'nv', 'nv', 'nv', 'nv', 'nv', 'nv', 'nv', 'nv', 'nv', 'nv', 'nv', 'nv', 'nv', 'nv', 'nv', 'nv', 'nv', 'nv', 'nv', 'nv', 'nv', 'nv', 'nv', 'nv', 'nv', 'nv', 'nv', 'nv', 'nv', 'nv', 'nv', 'nv', 'nv', 'nv', 'nv', 'nv', 'nv', 'nv', 'nv', 'nv', 'nv', 'nv', 'nv', 'nv', 'nv', 'nv', 'nv', 'nv', 'nv', 'nv', 'nv', 'nv', 'nv', 'nv', 'nv', 'nv', 'nv', 'nv', 'nv', 'nv', 'nv', 'nv', 'nv', 'nv', 'nv', 'nv', 'nv', 'nv', 'nv', 'nv', 'nv', 'nv', 'nv', 'nv', 'nv', 'nv', 'nv', 'nv', 'nv', 'nv', 'nv', 'nv', 'nv', 'nv', 'nv', 'nv', 'nv', 'nv', 'nv', 'nv', 'nv', 'mel', 'nv', 'nv', 'nv', 'nv', 'nv', 'nv', 'nv', 'nv', 'nv', 'nv', 'nv', 'nv', 'nv', 'nv', 'nv', 'nv', 'nv', 'nv', 'nv', 'nv', 'nv', 'nv', 'nv', 'nv', 'nv', 'nv', 'nv', 'nv', 'nv', 'nv', 'nv', 'nv', 'nv', 'nv', 'nv', 'nv', 'nv', 'nv', 'nv', 'nv', 'nv', 'nv', 'nv', 'nv', 'nv', 'nv', 'nv', 'nv', 'nv', 'nv', 'nv', 'nv', 'nv', 'nv', 'nv', 'nv', 'nv', 'nv', 'nv', 'nv', 'nv', 'nv', 'nv', 'nv', 'nv', 'nv', 'nv', 'nv', 'nv', 'nv', 'nv', 'nv', 'nv', 'nv', 'nv', 'nv', 'nv', 'nv', 'nv', 'nv', 'nv', 'nv', 'nv', 'nv', 'nv', 'nv', 'nv', 'nv', 'nv', 'nv', 'nv', 'nv', 'nv', 'nv', 'nv', 'nv', 'nv', 'nv', 'nv', 'nv', 'nv', 'nv', 'nv', 'nv', 'nv', 'nv', 'nv', 'nv', 'nv', 'nv', 'nv', 'nv', 'nv', 'nv', 'nv', 'nv', 'nv', 'nv', 'nv', 'nv', 'nv', 'nv', 'nv', 'nv', 'nv', 'nv', 'nv', 'nv', 'nv', 'nv', 'nv', 'nv', 'nv', 'nv', 'nv', 'nv', 'nv', 'nv', 'nv', 'nv', 'nv', 'nv', 'nv', 'nv', 'nv', 'nv', 'nv', 'nv', 'nv', 'nv', 'nv', 'nv', 'nv', 'nv', 'nv', 'nv', 'nv', 'nv', 'nv', 'nv', 'nv', 'nv', 'nv', 'nv', 'nv', 'nv', 'nv', 'nv', 'nv', 'nv', 'nv', 'nv', 'nv', 'nv', 'nv', 'nv', 'nv', 'nv', 'nv', 'nv', 'nv', 'nv', 'nv', 'nv', 'nv', 'nv', 'nv', 'nv', 'nv', 'nv', 'nv', 'nv', 'nv', 'nv', 'nv', 'nv', 'nv', 'nv', 'nv', 'nv', 'nv', 'nv', 'nv', 'nv', 'nv', 'nv', 'nv', 'nv', 'nv', 'nv', 'nv', 'nv', 'nv', 'nv', 'nv', 'nv', 'nv', 'nv', 'nv', 'nv', 'nv', 'nv', 'nv', 'nv', 'nv', 'nv', 'nv', 'nv', 'nv', 'nv', 'nv', 'nv', 'nv', 'nv', 'nv', 'nv', 'nv', 'nv', 'nv', 'nv', 'nv', 'nv', 'nv', 'nv', 'nv', 'nv', 'nv', 'nv', 'nv', 'nv', 'nv', 'nv', 'nv', 'nv', 'nv', 'nv', 'nv', 'nv', 'nv', 'nv', 'nv', 'nv', 'nv', 'nv', 'nv', 'nv', 'nv', 'nv', 'nv', 'nv', 'nv', 'nv', 'nv', 'nv', 'nv', 'nv', 'nv', 'nv', 'nv', 'nv', 'nv', 'nv', 'nv', 'nv', 'nv', 'nv', 'nv', 'nv', 'nv', 'nv', 'nv', 'nv', 'nv', 'nv', 'nv', 'nv', 'nv', 'nv', 'nv', 'nv', 'nv', 'nv', 'nv', 'nv', 'nv', 'nv', 'nv', 'nv', 'nv', 'nv', 'nv', 'nv', 'nv', 'nv', 'nv', 'nv', 'nv', 'nv', 'nv', 'nv', 'nv', 'nv', 'nv', 'nv', 'nv', 'nv', 'nv', 'nv', 'nv', 'nv', 'nv', 'nv', 'nv', 'nv', 'nv', 'nv', 'nv', 'nv', 'nv', 'nv', 'nv', 'nv', 'nv', 'nv', 'nv', 'nv', 'nv', 'nv', 'nv', 'nv', 'nv', 'nv', 'nv', 'nv', 'nv', 'nv', 'nv', 'nv', 'nv', 'nv', 'nv', 'nv', 'nv', 'nv', 'nv', 'nv', 'nv', 'nv', 'nv', 'nv', 'nv', 'nv', 'nv', 'nv', 'nv', 'nv', 'nv', 'nv', 'nv', 'nv', 'nv', 'nv', 'nv', 'nv', 'nv', 'nv', 'nv', 'nv', 'nv', 'nv', 'nv', 'nv', 'nv', 'nv', 'nv', 'nv', 'nv', 'nv', 'nv', 'nv', 'nv', 'nv', 'nv', 'nv', 'nv', 'nv', 'nv', 'nv', 'nv', 'nv', 'nv', 'nv', 'nv', 'nv', 'nv', 'nv', 'nv', 'nv', 'nv', 'nv', 'nv', 'nv', 'nv', 'nv', 'nv', 'nv', 'nv', 'nv', 'nv', 'nv', 'nv', 'nv', 'nv', 'nv', 'nv', 'nv', 'nv', 'nv', 'nv', 'nv', 'nv', 'nv', 'nv', 'nv', 'nv', 'nv', 'nv', 'nv', 'nv', 'nv', 'nv', 'nv', 'nv', 'nv', 'nv', 'nv', 'nv', 'nv', 'nv', 'nv', 'nv', 'nv', 'nv', 'nv', 'nv', 'nv', 'nv', 'nv', 'nv', 'nv', 'nv', 'nv', 'nv', 'nv', 'nv', 'nv', 'nv', 'nv', 'nv', 'nv', 'nv', 'nv', 'nv', 'nv', 'nv', 'nv', 'nv', 'nv', 'nv', 'nv', 'nv', 'nv', 'nv', 'nv', 'nv', 'nv', 'nv', 'nv', 'nv', 'nv', 'nv', 'nv', 'nv', 'nv', 'nv', 'nv', 'nv', 'nv', 'nv', 'nv', 'nv', 'nv', 'nv', 'nv', 'nv', 'nv', 'nv', 'nv', 'nv', 'nv', 'nv', 'nv', 'nv', 'nv', 'nv', 'nv', 'nv', 'nv', 'nv', 'nv', 'nv', 'nv', 'nv', 'nv', 'nv', 'nv', 'nv', 'nv', 'nv', 'nv', 'nv', 'nv', 'nv', 'nv', 'nv', 'nv', 'nv', 'nv', 'nv', 'nv', 'nv', 'nv', 'nv', 'nv', 'nv', 'nv', 'nv', 'nv', 'nv', 'nv', 'nv', 'nv', 'nv', 'nv', 'nv', 'nv', 'nv', 'nv', 'nv', 'nv', 'nv', 'nv', 'nv', 'nv', 'nv', 'nv', 'nv', 'nv', 'nv', 'nv', 'nv', 'nv', 'nv', 'nv', 'nv', 'nv', 'nv', 'nv', 'nv', 'nv', 'nv', 'nv', 'nv', 'nv', 'nv', 'nv', 'nv', 'nv', 'nv', 'nv', 'nv', 'nv', 'nv', 'nv', 'nv', 'nv', 'nv', 'nv', 'nv', 'nv', 'nv', 'nv', 'nv', 'nv', 'nv', 'nv', 'nv', 'nv', 'nv', 'nv', 'nv', 'nv', 'nv', 'nv', 'nv', 'nv', 'nv', 'nv', 'nv', 'nv', 'nv', 'nv', 'nv', 'nv', 'nv', 'nv', 'nv', 'nv', 'nv', 'nv', 'nv', 'nv', 'nv', 'nv', 'nv', 'nv', 'nv', 'nv', 'nv', 'nv', 'nv', 'nv', 'nv', 'nv', 'nv', 'nv', 'nv', 'nv', 'nv', 'nv', 'nv', 'nv', 'nv', 'nv', 'nv', 'nv', 'nv', 'nv', 'nv', 'nv', 'nv', 'nv', 'nv', 'nv', 'nv', 'nv', 'nv', 'nv', 'nv', 'nv', 'nv', 'nv', 'nv', 'nv', 'nv', 'nv', 'nv', 'nv', 'nv', 'nv', 'nv', 'nv', 'nv', 'nv', 'nv', 'nv', 'nv', 'nv', 'nv', 'nv', 'nv', 'nv', 'nv', 'nv', 'nv', 'nv', 'nv', 'nv', 'nv', 'nv', 'nv', 'nv', 'nv', 'nv', 'nv', 'nv', 'nv', 'nv', 'nv', 'nv', 'nv', 'nv', 'nv', 'nv', 'nv', 'nv', 'nv', 'nv', 'nv', 'nv', 'nv', 'nv', 'nv', 'nv', 'nv', 'nv', 'nv', 'nv', 'nv', 'nv', 'nv', 'nv', 'nv', 'nv', 'nv', 'nv', 'nv', 'nv', 'nv', 'nv', 'nv', 'nv', 'nv', 'nv', 'nv', 'nv', 'nv', 'nv', 'nv', 'nv', 'nv', 'nv', 'nv', 'nv', 'nv', 'nv', 'nv', 'nv', 'nv', 'nv', 'nv', 'nv', 'nv', 'nv', 'nv', 'nv', 'nv', 'nv', 'nv', 'nv', 'nv', 'nv', 'nv', 'nv', 'nv', 'nv', 'nv', 'nv', 'nv', 'nv', 'nv', 'nv', 'nv', 'nv', 'nv', 'nv', 'nv', 'nv', 'nv', 'nv', 'nv', 'nv', 'nv', 'nv', 'nv', 'nv', 'nv', 'nv', 'nv', 'nv', 'nv', 'nv', 'nv', 'nv', 'nv', 'nv', 'nv', 'nv', 'nv', 'nv', 'nv', 'nv', 'nv', 'nv', 'nv', 'nv', 'nv', 'nv', 'nv', 'nv', 'nv', 'nv', 'nv', 'nv', 'nv', 'nv', 'nv', 'nv', 'nv', 'nv', 'nv', 'nv', 'nv', 'nv', 'nv', 'nv', 'nv', 'nv', 'nv', 'nv', 'nv', 'nv', 'nv', 'nv', 'nv', 'nv', 'nv', 'nv', 'nv', 'nv', 'nv', 'nv', 'nv', 'nv', 'nv', 'nv', 'nv', 'nv', 'nv', 'nv', 'nv', 'nv', 'nv', 'nv', 'nv', 'nv', 'nv', 'nv', 'nv', 'nv', 'nv', 'nv', 'nv', 'nv', 'nv', 'nv', 'nv', 'nv', 'nv', 'nv', 'nv', 'nv', 'nv', 'nv', 'nv', 'nv', 'nv', 'nv', 'nv', 'nv', 'nv', 'nv', 'nv', 'nv', 'nv', 'nv', 'nv', 'nv', 'nv', 'nv', 'nv', 'nv', 'nv', 'nv', 'nv', 'nv', 'nv', 'nv', 'nv', 'nv', 'nv', 'nv', 'nv', 'nv', 'nv', 'nv', 'nv', 'nv', 'nv', 'nv', 'nv', 'nv', 'nv', 'nv', 'nv', 'nv', 'nv', 'nv', 'nv', 'nv', 'nv', 'nv', 'nv', 'nv', 'nv', 'nv', 'nv', 'nv', 'nv', 'nv', 'nv', 'nv', 'nv', 'nv', 'nv', 'nv', 'nv', 'nv', 'nv', 'nv', 'nv', 'nv', 'nv', 'nv', 'nv', 'nv', 'nv', 'nv', 'nv', 'nv', 'nv', 'nv', 'nv', 'nv', 'nv', 'nv', 'nv', 'nv', 'nv', 'nv', 'nv', 'nv', 'nv', 'nv', 'nv', 'nv', 'nv', 'nv', 'nv', 'nv', 'nv', 'nv', 'nv', 'nv', 'nv', 'nv', 'nv', 'nv', 'nv', 'nv', 'nv', 'nv', 'nv', 'nv', 'nv', 'nv', 'nv', 'nv', 'nv', 'nv', 'nv', 'nv', 'nv', 'nv', 'nv', 'nv', 'nv', 'nv', 'nv', 'nv', 'nv', 'nv', 'nv', 'nv', 'nv', 'nv', 'nv', 'nv', 'nv', 'nv', 'nv', 'nv', 'nv', 'nv', 'nv', 'nv', 'nv', 'nv', 'nv', 'nv', 'nv', 'nv', 'nv', 'nv', 'nv', 'nv', 'nv', 'nv', 'nv', 'nv', 'nv', 'nv', 'nv', 'nv', 'nv', 'nv', 'nv', 'nv', 'nv', 'nv', 'nv', 'nv', 'nv', 'nv', 'nv', 'nv', 'nv', 'nv', 'nv', 'nv', 'nv', 'nv', 'nv', 'nv', 'nv', 'nv', 'nv', 'nv', 'nv', 'nv', 'nv', 'nv', 'nv', 'nv', 'nv', 'nv', 'nv', 'nv', 'nv', 'nv', 'nv', 'nv', 'nv', 'nv', 'nv', 'nv', 'nv', 'nv', 'nv', 'nv', 'nv', 'nv', 'nv', 'nv', 'nv', 'nv', 'nv', 'nv', 'nv', 'nv', 'nv', 'nv', 'nv', 'nv', 'nv', 'nv', 'nv', 'nv', 'nv', 'nv', 'nv', 'nv', 'nv', 'nv', 'nv', 'nv', 'nv', 'nv', 'nv', 'nv', 'nv', 'nv', 'nv', 'nv', 'nv', 'nv', 'nv', 'nv', 'nv', 'nv', 'nv', 'nv', 'nv', 'nv', 'nv', 'nv', 'nv', 'nv', 'nv', 'nv', 'nv', 'nv', 'nv', 'nv', 'nv', 'nv', 'nv', 'nv', 'nv', 'nv', 'nv', 'nv', 'nv', 'nv', 'nv', 'nv', 'nv', 'nv', 'nv', 'nv', 'nv', 'nv', 'nv', 'nv', 'nv', 'nv', 'nv', 'nv', 'nv', 'nv', 'nv', 'nv', 'nv', 'nv', 'nv', 'nv', 'nv', 'nv', 'nv', 'nv', 'nv', 'nv', 'nv', 'nv', 'nv', 'nv', 'nv', 'nv', 'nv', 'nv', 'nv', 'nv', 'nv', 'nv', 'nv', 'nv', 'nv', 'nv', 'nv', 'nv', 'nv', 'nv', 'nv', 'nv', 'nv', 'nv', 'nv', 'nv', 'nv', 'nv', 'nv', 'nv', 'nv', 'nv', 'nv', 'nv', 'nv', 'nv', 'nv', 'nv', 'nv', 'nv', 'nv', 'nv', 'nv', 'nv', 'nv', 'nv', 'nv', 'nv', 'nv', 'nv', 'nv', 'nv', 'nv', 'nv', 'nv', 'nv', 'nv', 'nv', 'nv', 'nv', 'nv', 'nv', 'nv', 'nv', 'nv', 'nv', 'nv', 'nv', 'nv', 'nv', 'nv', 'nv', 'nv', 'nv', 'nv', 'nv', 'nv', 'nv', 'nv', 'nv', 'nv', 'nv', 'nv', 'nv', 'nv', 'nv', 'nv', 'nv', 'nv', 'nv', 'nv', 'nv', 'nv', 'nv', 'nv', 'nv', 'nv', 'nv', 'nv', 'nv', 'nv', 'nv', 'nv', 'nv', 'nv', 'nv', 'nv', 'nv', 'nv', 'nv', 'nv', 'nv', 'nv', 'nv', 'nv', 'nv', 'nv', 'nv', 'nv', 'nv', 'nv', 'nv', 'nv', 'nv', 'nv', 'nv', 'nv', 'nv', 'nv', 'nv', 'nv', 'nv', 'nv', 'nv', 'nv', 'nv', 'nv', 'nv', 'nv', 'nv', 'nv', 'nv', 'nv', 'nv', 'nv', 'nv', 'nv', 'nv', 'nv', 'nv', 'nv', 'nv', 'nv', 'nv', 'nv', 'nv', 'nv', 'nv', 'nv', 'nv', 'nv', 'nv', 'nv', 'nv', 'nv', 'nv', 'nv', 'nv', 'nv', 'nv', 'nv', 'nv', 'nv', 'nv', 'nv', 'nv', 'nv', 'nv', 'nv', 'nv', 'nv', 'nv', 'nv', 'nv', 'nv', 'nv', 'nv', 'nv', 'nv', 'nv', 'nv', 'nv', 'nv', 'nv', 'nv', 'nv', 'nv', 'nv', 'nv', 'nv', 'nv', 'nv', 'nv', 'nv', 'nv', 'nv', 'nv', 'nv', 'nv', 'nv', 'nv', 'nv', 'nv', 'nv', 'nv', 'nv', 'nv', 'nv', 'nv', 'nv', 'nv', 'nv', 'nv', 'nv', 'nv', 'nv', 'nv', 'nv', 'nv', 'nv', 'nv', 'nv', 'nv', 'nv', 'nv', 'nv', 'nv', 'nv', 'nv', 'nv', 'nv', 'nv', 'nv', 'nv', 'nv', 'nv', 'nv', 'nv', 'nv', 'nv', 'nv', 'nv', 'nv', 'nv', 'nv', 'nv', 'nv', 'nv', 'nv', 'nv', 'nv', 'nv', 'nv', 'nv', 'nv', 'nv', 'nv', 'nv', 'nv', 'nv', 'nv', 'nv', 'nv', 'nv', 'nv', 'nv', 'nv', 'nv', 'nv', 'nv', 'nv', 'nv', 'nv', 'nv', 'nv', 'nv', 'nv', 'nv', 'nv', 'nv', 'nv', 'nv', 'nv', 'nv', 'nv', 'nv', 'nv', 'nv', 'nv', 'nv', 'nv', 'nv', 'nv', 'nv', 'nv', 'nv', 'nv', 'nv', 'nv', 'nv', 'nv', 'nv', 'nv', 'nv', 'nv', 'nv', 'nv', 'nv', 'nv', 'nv', 'nv', 'nv', 'nv', 'nv', 'nv', 'nv', 'nv', 'nv', 'nv', 'nv', 'nv', 'nv', 'nv', 'nv', 'nv', 'nv', 'nv', 'nv', 'nv', 'nv', 'nv', 'nv', 'nv', 'nv', 'nv', 'nv', 'nv', 'nv', 'nv', 'nv', 'nv', 'nv', 'nv', 'nv', 'nv', 'nv', 'nv', 'nv', 'nv', 'nv', 'nv', 'nv', 'nv', 'nv', 'nv', 'nv', 'nv', 'nv', 'nv', 'nv', 'nv', 'nv', 'nv', 'nv', 'nv', 'nv', 'nv', 'nv', 'nv', 'nv', 'nv', 'nv', 'nv', 'nv', 'nv', 'nv', 'nv', 'nv', 'nv', 'nv', 'nv', 'nv', 'nv', 'nv', 'nv', 'nv', 'nv', 'nv', 'nv', 'nv', 'nv', 'nv', 'nv', 'nv', 'nv', 'nv', 'nv', 'nv', 'nv', 'nv', 'nv', 'nv', 'nv', 'nv', 'nv', 'nv', 'nv', 'nv', 'nv', 'nv', 'nv', 'nv', 'nv', 'nv', 'nv', 'nv', 'nv', 'nv', 'nv', 'nv', 'nv', 'nv', 'nv', 'nv', 'nv', 'nv', 'nv', 'nv', 'nv', 'nv', 'nv', 'nv', 'nv', 'nv', 'nv', 'nv', 'nv', 'nv', 'nv', 'nv', 'nv', 'nv', 'nv', 'nv', 'nv', 'nv', 'nv', 'nv', 'nv', 'nv', 'nv', 'nv', 'nv', 'nv', 'nv', 'nv', 'nv', 'nv', 'nv', 'nv', 'nv', 'nv', 'nv', 'nv', 'nv', 'nv', 'nv', 'nv', 'nv', 'nv', 'nv', 'nv', 'nv', 'nv', 'nv', 'nv', 'nv', 'nv', 'nv', 'nv', 'nv', 'nv', 'nv', 'nv', 'nv', 'nv', 'nv', 'nv', 'nv', 'nv', 'nv', 'nv', 'nv', 'nv', 'nv', 'nv', 'nv', 'nv', 'nv', 'nv', 'nv', 'nv', 'nv', 'nv', 'nv', 'nv', 'nv', 'nv', 'nv', 'nv', 'nv', 'nv', 'nv', 'nv', 'nv', 'nv', 'nv', 'nv', 'nv', 'nv', 'nv', 'nv', 'nv', 'nv', 'nv', 'nv', 'nv', 'nv', 'nv', 'nv', 'nv', 'nv', 'nv', 'nv', 'nv', 'nv', 'nv', 'nv', 'nv', 'nv', 'nv', 'nv', 'nv', 'nv', 'nv', 'nv', 'nv', 'nv', 'nv', 'nv', 'nv', 'nv', 'nv', 'nv', 'nv', 'nv', 'nv', 'nv', 'nv', 'nv', 'nv', 'nv', 'nv', 'nv', 'nv', 'nv', 'nv', 'nv', 'nv', 'nv', 'nv', 'nv', 'nv', 'nv', 'nv', 'nv', 'nv', 'nv', 'nv', 'nv', 'nv', 'nv', 'nv', 'nv', 'nv', 'nv', 'nv', 'nv', 'nv', 'nv', 'nv', 'nv', 'nv', 'nv', 'nv', 'nv', 'nv', 'nv', 'nv', 'nv', 'nv', 'nv', 'nv', 'nv', 'nv', 'nv', 'nv', 'nv', 'nv', 'nv', 'nv', 'nv', 'nv', 'nv', 'nv', 'nv', 'nv', 'nv', 'nv', 'nv', 'nv', 'nv', 'nv', 'nv', 'nv', 'nv', 'nv', 'nv', 'nv', 'nv', 'nv', 'nv', 'nv', 'nv', 'nv', 'nv', 'nv', 'nv', 'nv', 'nv', 'nv', 'nv', 'nv', 'nv', 'nv', 'nv', 'nv', 'nv', 'nv', 'nv', 'nv', 'nv', 'nv', 'nv', 'nv', 'nv', 'nv', 'nv', 'nv', 'nv', 'nv', 'nv', 'nv', 'nv', 'nv', 'nv', 'nv', 'nv', 'nv', 'nv', 'nv', 'nv', 'nv', 'nv', 'nv', 'nv', 'nv', 'nv', 'nv', 'nv', 'nv', 'nv', 'nv', 'nv', 'nv', 'nv', 'nv', 'nv', 'nv', 'nv', 'nv', 'nv', 'nv', 'nv', 'nv', 'nv', 'nv', 'nv', 'nv', 'nv', 'nv', 'nv', 'nv', 'nv', 'nv', 'nv', 'nv', 'nv', 'nv', 'nv', 'nv', 'nv', 'nv', 'nv', 'nv', 'nv', 'nv', 'nv', 'nv', 'nv', 'nv', 'nv', 'nv', 'nv', 'nv', 'nv', 'nv', 'nv', 'nv', 'nv', 'nv', 'nv', 'nv', 'nv', 'nv', 'nv', 'nv', 'nv', 'nv', 'nv', 'nv', 'nv', 'nv', 'nv', 'nv', 'nv', 'nv', 'nv', 'nv', 'nv', 'nv', 'nv', 'nv', 'nv', 'nv', 'nv', 'nv', 'nv', 'nv', 'nv', 'nv', 'nv', 'nv', 'nv', 'nv', 'nv', 'nv', 'nv', 'nv', 'nv', 'nv', 'nv', 'nv', 'nv', 'nv', 'nv', 'nv', 'nv', 'nv', 'nv', 'nv', 'nv', 'nv', 'nv', 'nv', 'nv', 'nv', 'nv', 'nv', 'nv', 'nv', 'nv', 'nv', 'nv', 'nv', 'nv', 'nv', 'nv', 'nv', 'nv', 'nv', 'nv', 'nv', 'nv', 'nv', 'nv', 'nv', 'nv', 'nv', 'nv', 'nv', 'nv', 'nv', 'nv', 'nv', 'nv', 'nv', 'nv', 'nv', 'nv', 'nv', 'nv', 'nv', 'nv', 'nv', 'nv', 'nv', 'nv', 'nv', 'nv', 'nv', 'nv', 'nv', 'nv', 'nv', 'nv', 'nv', 'nv', 'nv', 'nv', 'nv', 'nv', 'nv', 'nv', 'nv', 'nv', 'nv', 'mel', 'nv', 'nv', 'nv', 'nv', 'nv', 'nv', 'nv', 'nv', 'nv', 'nv', 'nv', 'nv', 'nv', 'mel', 'nv', 'nv', 'nv', 'nv', 'nv', 'nv', 'nv', 'nv', 'nv', 'nv', 'nv', 'nv', 'nv', 'nv', 'nv', 'nv', 'nv', 'nv', 'nv', 'nv', 'nv', 'nv', 'nv', 'nv', 'nv', 'nv', 'nv', 'nv', 'nv', 'nv', 'nv', 'nv', 'nv', 'nv', 'nv', 'nv', 'nv', 'nv', 'nv', 'nv', 'nv', 'nv', 'nv', 'nv', 'nv', 'nv', 'nv', 'nv', 'nv', 'nv', 'nv', 'nv', 'nv', 'nv', 'nv', 'nv', 'nv', 'nv', 'nv', 'nv', 'nv', 'nv', 'nv', 'nv', 'nv', 'nv', 'nv', 'nv', 'nv', 'nv', 'nv', 'nv', 'nv', 'nv', 'nv', 'nv', 'nv', 'nv', 'nv', 'nv', 'nv', 'nv', 'nv', 'nv', 'nv', 'nv', 'nv', 'nv', 'nv', 'nv', 'nv', 'nv', 'nv', 'nv', 'nv', 'nv', 'nv', 'nv', 'nv', 'nv', 'nv', 'nv', 'nv', 'nv', 'nv', 'nv', 'nv', 'nv', 'nv', 'nv', 'nv', 'nv', 'nv', 'nv', 'nv', 'nv', 'nv', 'nv', 'nv', 'nv', 'nv', 'nv', 'nv', 'nv', 'nv', 'nv', 'nv', 'nv', 'nv', 'nv', 'nv', 'nv', 'nv', 'nv', 'nv', 'nv', 'nv', 'nv', 'nv', 'nv', 'nv', 'nv', 'nv', 'nv', 'nv', 'nv', 'nv', 'nv', 'nv', 'nv', 'nv', 'nv', 'nv', 'nv', 'nv', 'nv', 'nv', 'nv', 'nv', 'nv', 'nv', 'nv', 'nv', 'nv', 'nv', 'nv', 'nv', 'nv', 'nv', 'nv', 'nv', 'nv', 'nv', 'nv', 'nv', 'nv', 'nv', 'nv', 'nv', 'nv', 'nv', 'nv', 'nv', 'nv', 'nv', 'nv', 'nv', 'nv', 'nv', 'nv', 'nv', 'nv', 'nv', 'nv', 'nv', 'nv', 'nv', 'nv', 'nv', 'nv', 'nv', 'nv', 'nv', 'nv', 'nv', 'nv', 'nv', 'nv', 'nv', 'nv', 'nv', 'nv', 'nv', 'nv', 'nv', 'nv', 'nv', 'nv', 'nv', 'nv', 'nv', 'nv', 'nv', 'nv', 'nv', 'nv', 'nv', 'nv', 'nv', 'nv', 'nv', 'nv', 'nv', 'nv', 'nv', 'nv', 'nv', 'nv', 'nv', 'nv', 'nv', 'nv', 'nv', 'nv', 'nv', 'nv', 'nv', 'nv', 'nv', 'nv', 'nv', 'nv', 'nv', 'nv', 'nv', 'nv', 'nv', 'nv', 'nv', 'nv', 'nv', 'nv', 'nv', 'nv', 'nv', 'nv', 'nv', 'nv', 'nv', 'nv', 'nv', 'nv', 'nv', 'nv', 'nv', 'nv', 'nv', 'nv', 'nv', 'nv', 'nv', 'nv', 'nv', 'nv', 'nv', 'nv', 'nv', 'nv', 'nv', 'nv', 'nv', 'nv', 'nv', 'nv', 'nv', 'nv', 'nv', 'nv', 'nv', 'nv', 'nv', 'nv', 'nv', 'nv', 'nv', 'nv', 'nv', 'nv', 'nv', 'nv', 'nv', 'nv', 'nv', 'nv', 'nv', 'nv', 'nv', 'nv', 'nv', 'nv', 'nv', 'nv', 'nv', 'nv', 'nv', 'nv', 'nv', 'nv', 'nv', 'nv', 'nv', 'nv', 'nv', 'nv', 'nv', 'nv', 'nv', 'nv', 'nv', 'nv', 'nv', 'nv', 'nv', 'nv', 'nv', 'nv', 'nv', 'nv', 'nv', 'nv', 'nv', 'nv', 'nv', 'nv', 'nv', 'nv', 'nv', 'nv', 'nv', 'nv', 'nv', 'nv', 'nv', 'nv', 'nv', 'nv', 'nv', 'nv', 'nv', 'nv', 'nv', 'nv', 'nv', 'nv', 'nv', 'nv', 'nv', 'nv', 'nv', 'nv', 'nv', 'nv', 'nv', 'nv', 'nv', 'nv', 'nv', 'nv', 'nv', 'nv', 'nv', 'nv', 'nv', 'nv', 'nv', 'nv', 'nv', 'nv', 'nv', 'nv', 'nv', 'nv', 'nv', 'nv', 'nv', 'nv', 'nv', 'nv', 'nv', 'nv', 'nv', 'nv', 'nv', 'nv', 'nv', 'nv', 'nv', 'nv', 'nv', 'nv', 'nv', 'nv', 'nv', 'nv', 'nv', 'nv', 'nv', 'nv', 'nv', 'nv', 'nv', 'nv', 'nv', 'nv', 'nv', 'nv', 'nv', 'nv', 'nv', 'nv', 'nv', 'nv', 'nv', 'nv', 'nv', 'nv', 'nv', 'nv', 'nv', 'nv', 'nv', 'nv', 'nv', 'nv', 'nv', 'nv', 'nv', 'nv', 'nv', 'nv', 'nv', 'nv', 'nv', 'nv', 'nv', 'nv', 'nv', 'nv', 'nv', 'nv', 'nv', 'nv', 'nv', 'nv', 'nv', 'nv', 'nv', 'nv', 'nv', 'nv', 'nv', 'nv', 'nv', 'nv', 'nv', 'nv', 'nv', 'nv', 'nv', 'nv', 'nv', 'nv', 'nv', 'nv', 'nv', 'nv', 'nv', 'nv', 'nv', 'nv', 'nv', 'nv', 'nv', 'nv', 'nv', 'nv', 'nv', 'nv', 'nv', 'nv', 'nv', 'nv', 'nv', 'nv', 'nv', 'nv', 'nv', 'nv', 'nv', 'nv', 'nv', 'nv', 'nv', 'nv', 'nv', 'nv', 'nv', 'nv', 'nv', 'nv', 'nv', 'nv', 'nv', 'nv', 'nv', 'nv', 'nv', 'nv', 'nv', 'nv', 'nv', 'nv', 'nv', 'nv', 'nv', 'nv', 'nv', 'nv', 'nv', 'nv', 'nv', 'nv', 'nv', 'nv', 'nv', 'nv', 'nv', 'nv', 'nv', 'nv', 'nv', 'nv', 'nv', 'nv', 'nv', 'nv', 'nv', 'nv', 'nv', 'nv', 'nv', 'nv', 'nv', 'nv', 'nv', 'nv', 'nv', 'nv', 'nv', 'nv', 'nv', 'nv', 'nv', 'nv', 'nv', 'nv', 'nv', 'nv', 'nv', 'nv', 'nv', 'nv', 'nv', 'nv', 'nv', 'nv', 'nv', 'nv', 'nv', 'nv', 'nv', 'nv', 'nv', 'nv', 'nv', 'nv', 'nv', 'nv', 'nv', 'nv', 'nv', 'nv', 'nv', 'nv', 'nv', 'nv', 'nv', 'nv', 'nv', 'nv', 'nv', 'nv', 'nv', 'nv', 'nv', 'nv', 'nv', 'nv', 'nv', 'nv', 'nv', 'nv', 'nv', 'nv', 'nv', 'nv', 'nv', 'nv', 'nv', 'nv', 'nv', 'nv', 'nv', 'nv', 'nv', 'nv', 'nv', 'nv', 'nv', 'nv', 'nv', 'nv', 'nv', 'nv', 'nv', 'nv', 'nv', 'nv', 'nv', 'nv', 'nv', 'nv', 'nv', 'nv', 'nv', 'nv', 'nv', 'nv', 'nv', 'nv', 'nv', 'nv', 'nv', 'nv', 'nv', 'nv', 'nv', 'nv', 'nv', 'nv', 'nv', 'nv', 'nv', 'nv', 'nv', 'nv', 'nv', 'nv', 'nv', 'nv', 'nv', 'nv', 'nv', 'nv', 'nv', 'nv', 'nv', 'nv', 'nv', 'nv', 'nv', 'nv', 'nv', 'nv', 'nv', 'nv', 'nv', 'nv', 'nv', 'nv', 'nv', 'nv', 'nv', 'nv', 'nv', 'nv', 'nv', 'nv', 'nv', 'nv', 'nv', 'nv', 'nv', 'nv', 'nv', 'nv', 'nv', 'nv', 'nv', 'nv', 'nv', 'nv', 'nv', 'nv', 'nv', 'nv', 'nv', 'nv', 'nv', 'nv', 'nv', 'nv', 'nv', 'nv', 'nv', 'nv', 'nv', 'nv', 'nv', 'nv', 'nv', 'nv', 'nv', 'nv', 'nv', 'nv', 'nv', 'nv', 'nv', 'nv', 'nv', 'nv', 'nv', 'nv', 'nv', 'nv', 'nv', 'nv', 'nv', 'nv', 'nv', 'nv', 'nv', 'nv', 'nv', 'nv', 'nv', 'nv', 'nv', 'nv', 'nv', 'nv', 'nv', 'nv', 'nv', 'nv', 'nv', 'nv', 'nv', 'nv', 'nv', 'nv', 'nv', 'nv', 'nv', 'nv', 'nv', 'nv', 'nv', 'nv', 'nv', 'nv', 'nv', 'nv', 'nv', 'nv', 'nv', 'nv', 'nv', 'nv', 'nv', 'nv', 'nv', 'nv', 'nv', 'nv', 'nv', 'nv', 'nv', 'nv', 'nv', 'nv', 'nv', 'nv', 'nv', 'nv', 'nv', 'nv', 'nv', 'nv', 'nv', 'nv', 'nv', 'nv', 'nv', 'nv', 'nv', 'nv', 'nv', 'nv', 'nv', 'nv', 'nv', 'nv', 'nv', 'nv', 'nv', 'nv', 'nv', 'mel']\n",
            "[1, 1, 0, 0, 0, 0, 0, 0, 0, 0, 0, 0, 0, 0, 0, 0, 0, 0, 0, 0, 0, 0, 0, 0, 0, 0, 0, 0, 0, 0, 0, 0, 0, 0, 0, 0, 0, 0, 0, 0, 0, 0, 0, 0, 0, 0, 0, 0, 0, 0, 0, 0, 0, 0, 0, 0, 0, 0, 0, 0, 0, 0, 0, 0, 0, 0, 0, 0, 0, 0, 0, 0, 0, 0, 0, 0, 0, 0, 0, 0, 0, 0, 0, 0, 0, 0, 0, 0, 0, 0, 0, 0, 0, 0, 0, 0, 0, 0, 0, 0, 0, 0, 0, 0, 0, 0, 0, 0, 0, 0, 0, 0, 0, 0, 0, 0, 0, 0, 0, 0, 0, 0, 0, 0, 0, 0, 0, 0, 0, 0, 0, 0, 0, 0, 0, 0, 0, 0, 0, 0, 0, 0, 0, 0, 0, 0, 0, 0, 0, 0, 0, 0, 0, 0, 0, 0, 0, 0, 0, 0, 0, 0, 0, 0, 0, 0, 0, 0, 0, 0, 0, 0, 0, 0, 0, 0, 0, 0, 0, 0, 0, 0, 0, 0, 0, 0, 0, 0, 0, 0, 0, 0, 0, 0, 0, 0, 0, 0, 0, 0, 0, 0, 0, 0, 0, 0, 0, 0, 0, 0, 0, 0, 0, 0, 0, 0, 0, 0, 0, 0, 0, 0, 0, 0, 0, 0, 0, 0, 0, 0, 0, 0, 0, 0, 0, 0, 0, 0, 0, 0, 0, 0, 0, 0, 0, 0, 0, 0, 0, 0, 0, 0, 0, 0, 0, 0, 0, 0, 0, 0, 0, 0, 0, 0, 0, 0, 0, 0, 0, 0, 0, 0, 0, 0, 0, 0, 0, 0, 0, 0, 0, 0, 0, 0, 0, 0, 0, 0, 0, 0, 0, 0, 0, 0, 0, 0, 0, 0, 0, 0, 0, 0, 0, 0, 0, 0, 0, 0, 0, 0, 0, 0, 0, 0, 0, 0, 0, 0, 0, 0, 0, 0, 0, 0, 0, 0, 0, 0, 0, 0, 0, 0, 0, 0, 0, 0, 0, 0, 0, 0, 0, 0, 0, 0, 0, 0, 0, 0, 0, 0, 0, 0, 0, 0, 0, 0, 0, 0, 0, 0, 0, 0, 0, 0, 0, 0, 0, 0, 0, 0, 0, 0, 0, 0, 0, 0, 0, 0, 0, 0, 0, 0, 0, 0, 0, 0, 0, 0, 0, 0, 0, 0, 0, 0, 0, 0, 0, 0, 0, 0, 0, 0, 0, 0, 0, 0, 0, 0, 0, 0, 0, 0, 0, 0, 0, 0, 0, 0, 0, 0, 0, 0, 0, 0, 0, 0, 0, 0, 0, 0, 0, 0, 0, 0, 0, 0, 0, 0, 0, 0, 0, 0, 0, 0, 0, 0, 0, 0, 0, 0, 0, 0, 0, 0, 0, 0, 0, 0, 0, 0, 0, 0, 0, 0, 0, 0, 0, 0, 0, 0, 0, 0, 0, 0, 0, 0, 0, 0, 0, 0, 0, 0, 0, 0, 0, 0, 0, 0, 0, 0, 0, 0, 0, 0, 0, 0, 0, 0, 0, 0, 0, 0, 0, 0, 0, 0, 0, 0, 0, 0, 0, 0, 0, 0, 0, 0, 0, 0, 0, 0, 0, 0, 0, 0, 0, 0, 0, 0, 0, 0, 0, 0, 0, 0, 0, 0, 0, 0, 0, 0, 0, 0, 0, 0, 0, 0, 0, 0, 0, 0, 0, 0, 0, 0, 0, 0, 0, 0, 0, 0, 0, 0, 0, 0, 0, 0, 0, 0, 0, 0, 0, 0, 0, 0, 0, 0, 0, 0, 0, 0, 0, 0, 0, 0, 0, 0, 0, 0, 0, 0, 0, 0, 0, 0, 0, 0, 0, 0, 0, 0, 0, 0, 0, 0, 0, 0, 0, 0, 0, 0, 0, 0, 0, 0, 0, 0, 0, 0, 0, 0, 0, 0, 0, 0, 0, 0, 0, 0, 0, 0, 0, 0, 0, 0, 0, 0, 0, 0, 0, 0, 0, 0, 0, 0, 0, 0, 0, 0, 0, 0, 0, 0, 0, 0, 0, 0, 0, 0, 0, 0, 0, 0, 0, 0, 0, 0, 0, 0, 0, 0, 0, 0, 0, 0, 0, 0, 0, 0, 0, 0, 0, 0, 0, 0, 0, 0, 0, 0, 0, 0, 0, 0, 0, 0, 0, 0, 0, 0, 0, 0, 0, 0, 0, 0, 0, 0, 0, 0, 0, 0, 0, 0, 0, 0, 0, 0, 0, 0, 0, 0, 0, 0, 0, 0, 0, 0, 0, 0, 0, 0, 0, 0, 0, 0, 0, 0, 0, 0, 0, 0, 0, 0, 0, 0, 0, 0, 0, 0, 0, 0, 0, 0, 0, 0, 0, 0, 0, 0, 0, 0, 0, 0, 0, 0, 0, 0, 0, 0, 0, 0, 0, 0, 0, 0, 0, 0, 0, 0, 0, 0, 0, 0, 0, 0, 0, 0, 0, 0, 0, 0, 0, 0, 0, 0, 0, 0, 0, 0, 0, 0, 0, 0, 0, 0, 0, 0, 0, 0, 0, 0, 0, 0, 0, 0, 0, 0, 0, 0, 0, 0, 0, 0, 0, 0, 0, 0, 0, 0, 0, 0, 0, 0, 0, 0, 0, 0, 0, 0, 0, 0, 0, 0, 0, 0, 0, 0, 0, 0, 0, 0, 0, 0, 0, 0, 0, 0, 0, 0, 0, 0, 0, 0, 0, 0, 0, 0, 0, 0, 0, 0, 0, 0, 0, 0, 0, 0, 0, 0, 0, 0, 0, 0, 0, 0, 0, 0, 0, 0, 0, 0, 0, 0, 0, 0, 0, 0, 0, 0, 0, 0, 0, 0, 0, 0, 0, 0, 0, 0, 0, 0, 0, 0, 0, 0, 0, 0, 0, 0, 0, 0, 0, 0, 0, 0, 0, 0, 0, 0, 0, 0, 0, 0, 0, 0, 0, 0, 0, 0, 0, 0, 0, 0, 0, 0, 0, 0, 0, 0, 0, 0, 0, 0, 0, 0, 0, 0, 0, 0, 0, 0, 0, 0, 0, 0, 0, 0, 0, 0, 0, 0, 0, 0, 0, 0, 0, 0, 0, 0, 0, 0, 0, 0, 0, 0, 0, 0, 0, 0, 0, 0, 0, 0, 0, 0, 0, 0, 0, 0, 0, 0, 0, 0, 0, 0, 0, 0, 0, 0, 0, 0, 0, 0, 0, 0, 0, 0, 0, 0, 0, 0, 0, 0, 0, 0, 0, 0, 0, 0, 0, 0, 0, 0, 0, 0, 0, 0, 0, 0, 0, 0, 0, 0, 0, 0, 0, 0, 0, 0, 0, 0, 0, 0, 0, 0, 0, 0, 0, 0, 0, 0, 0, 0, 0, 0, 0, 0, 0, 0, 0, 0, 0, 0, 0, 0, 0, 0, 0, 0, 0, 0, 0, 0, 0, 0, 0, 0, 0, 0, 0, 0, 0, 0, 0, 0, 0, 0, 0, 0, 0, 0, 0, 0, 0, 0, 0, 0, 0, 0, 0, 0, 0, 1, 1, 1, 1, 1, 1, 1, 1, 1, 1, 1, 1, 1, 1, 1, 1, 1, 1, 1, 1, 1, 1, 1, 1, 1, 1, 1, 1, 1, 1, 1, 1, 1, 1, 1, 1, 1, 1, 1, 1, 1, 1, 1, 1, 1, 1, 1, 1, 1, 1, 1, 1, 1, 1, 1, 1, 1, 1, 1, 1, 1, 1, 1, 1, 1, 1, 1, 1, 1, 1, 1, 1, 1, 1, 1, 1, 1, 1, 1, 1, 1, 1, 1, 1, 1, 1, 1, 1, 1, 1, 1, 1, 1, 1, 1, 1, 1, 1, 1, 1, 1, 1, 1, 1, 1, 1, 1, 1, 1, 1, 1, 1, 1, 1, 1, 1, 1, 1, 1, 1, 1, 1, 1, 1, 1, 1, 1, 1, 1, 1, 1, 1, 1, 1, 1, 1, 1, 1, 1, 1, 1, 1, 1, 1, 1, 1, 1, 1, 1, 1, 1, 1, 1, 1, 1, 1, 1, 1, 1, 1, 1, 1, 1, 1, 1, 1, 1, 1, 1, 1, 1, 1, 1, 1, 1, 1, 1, 1, 1, 1, 1, 1, 1, 1, 1, 1, 1, 1, 1, 1, 1, 1, 1, 1, 1, 1, 1, 1, 1, 1, 1, 1, 1, 1, 1, 1, 1, 1, 1, 1, 1, 1, 1, 1, 1, 1, 1, 1, 1, 1, 1, 1, 1, 1, 1, 1, 1, 1, 1, 1, 1, 1, 1, 1, 1, 1, 1, 1, 1, 1, 1, 1, 1, 1, 1, 1, 1, 1, 1, 1, 1, 1, 1, 1, 1, 1, 1, 1, 1, 1, 1, 1, 1, 1, 1, 1, 1, 1, 1, 1, 1, 1, 1, 1, 1, 1, 1, 1, 1, 1, 1, 1, 1, 1, 1, 1, 1, 1, 1, 1, 1, 1, 1, 1, 1, 1, 1, 1, 1, 1, 1, 1, 1, 1, 1, 1, 1, 1, 1, 1, 1, 1, 1, 1, 1, 1, 1, 1, 1, 1, 1, 1, 1, 1, 1, 1, 1, 1, 1, 1, 1, 1, 1, 1, 1, 1, 1, 1, 1, 1, 1, 1, 1, 1, 1, 1, 1, 1, 1, 1, 1, 1, 1, 1, 1, 1, 1, 1, 1, 1, 1, 1, 1, 1, 1, 1, 1, 1, 1, 1, 1, 1, 1, 1, 1, 1, 1, 1, 1, 1, 1, 1, 1, 1, 1, 1, 1, 1, 1, 1, 1, 1, 1, 1, 1, 1, 1, 1, 1, 1, 1, 1, 1, 1, 1, 1, 1, 1, 1, 1, 1, 1, 1, 1, 1, 1, 1, 1, 1, 1, 1, 1, 1, 1, 1, 1, 1, 1, 1, 1, 1, 1, 1, 1, 1, 1, 1, 1, 1, 1, 1, 1, 1, 1, 1, 1, 1, 1, 1, 1, 1, 1, 1, 1, 1, 1, 1, 1, 1, 1, 1, 1, 1, 1, 1, 1, 1, 1, 1, 1, 1, 1, 1, 1, 1, 1, 1, 1, 1, 1, 1, 1, 1, 1, 1, 1, 1, 1, 1, 1, 1, 1, 1, 1, 1, 1, 1, 1, 1, 1, 1, 1, 1, 1, 1, 1, 1, 1, 1, 1, 1, 1, 1, 1, 1, 1, 1, 1, 1, 1, 1, 1, 1, 1, 1, 1, 1, 1, 1, 1, 1, 1, 1, 1, 1, 1, 1, 1, 1, 1, 1, 1, 1, 1, 1, 1, 1, 1, 1, 1, 1, 1, 1, 1, 1, 1, 1, 1, 1, 1, 1, 1, 1, 1, 1, 1, 1, 1, 1, 1, 1, 1, 1, 1, 1, 1, 1, 1, 1, 1, 1, 1, 1, 1, 1, 1, 1, 1, 1, 1, 1, 1, 1, 1, 1, 1, 1, 1, 1, 1, 1, 1, 1, 1, 1, 1, 1, 1, 1, 1, 1, 1, 1, 1, 1, 1, 1, 1, 1, 1, 1, 1, 1, 1, 1, 1, 1, 1, 1, 1, 1, 1, 1, 1, 1, 1, 1, 1, 1, 1, 1, 1, 1, 1, 1, 1, 1, 1, 1, 1, 1, 1, 1, 1, 1, 1, 1, 1, 1, 1, 1, 1, 1, 1, 1, 1, 1, 1, 1, 1, 1, 1, 1, 1, 1, 1, 1, 1, 1, 1, 1, 1, 1, 1, 1, 1, 1, 1, 1, 1, 1, 1, 1, 1, 1, 1, 1, 1, 1, 1, 1, 1, 1, 1, 1, 1, 1, 1, 1, 1, 1, 1, 1, 1, 1, 1, 1, 1, 1, 1, 1, 1, 1, 1, 1, 1, 1, 1, 1, 1, 1, 1, 1, 1, 1, 1, 1, 1, 1, 1, 1, 1, 1, 1, 1, 1, 1, 1, 1, 1, 1, 1, 1, 1, 1, 1, 1, 1, 1, 1, 1, 1, 1, 1, 1, 1, 1, 1, 1, 1, 1, 1, 1, 1, 1, 1, 1, 1, 1, 1, 1, 1, 1, 1, 1, 1, 1, 1, 1, 1, 1, 1, 1, 1, 1, 1, 1, 1, 1, 1, 1, 1, 1, 1, 1, 1, 1, 1, 1, 1, 1, 1, 1, 1, 1, 1, 1, 1, 1, 1, 1, 1, 1, 1, 1, 1, 1, 1, 1, 1, 1, 1, 1, 1, 1, 1, 1, 1, 1, 1, 1, 1, 1, 1, 1, 1, 1, 1, 1, 1, 1, 1, 1, 1, 1, 1, 1, 1, 1, 1, 1, 1, 1, 1, 1, 1, 1, 1, 1, 1, 1, 1, 1, 1, 1, 1, 1, 1, 1, 1, 1, 1, 1, 1, 1, 1, 1, 1, 1, 1, 1, 1, 1, 1, 1, 1, 1, 1, 1, 1, 1, 1, 1, 1, 1, 1, 1, 1, 1, 1, 1, 1, 1, 1, 1, 1, 1, 1, 1, 1, 1, 1, 1, 1, 1, 1, 1, 1, 1, 1, 1, 1, 1, 1, 1, 1, 1, 1, 1, 1, 1, 1, 1, 1, 1, 1, 1, 1, 1, 1, 1, 1, 1, 1, 1, 1, 1, 1, 1, 1, 1, 1, 1, 1, 1, 1, 1, 1, 1, 1, 1, 1, 1, 1, 1, 1, 1, 1, 1, 1, 1, 1, 1, 1, 1, 1, 1, 1, 1, 1, 1, 1, 1, 1, 1, 1, 1, 1, 1, 1, 1, 1, 1, 1, 1, 1, 1, 1, 1, 1, 1, 1, 1, 1, 1, 1, 1, 1, 1, 1, 1, 1, 1, 1, 1, 1, 1, 1, 1, 1, 1, 1, 1, 1, 1, 1, 1, 1, 1, 1, 1, 1, 1, 1, 1, 1, 1, 1, 1, 1, 1, 1, 1, 1, 1, 1, 1, 1, 1, 1, 1, 1, 1, 1, 1, 1, 1, 1, 1, 1, 1, 1, 1, 1, 1, 1, 1, 1, 1, 1, 1, 1, 1, 1, 1, 1, 1, 1, 1, 1, 1, 1, 1, 1, 1, 1, 1, 1, 1, 1, 1, 1, 1, 1, 1, 1, 1, 1, 1, 1, 1, 1, 1, 1, 1, 1, 1, 1, 1, 1, 1, 1, 1, 1, 1, 1, 1, 1, 1, 1, 1, 1, 1, 1, 1, 1, 1, 1, 1, 1, 1, 1, 1, 1, 1, 1, 1, 1, 1, 1, 1, 1, 1, 1, 1, 1, 1, 1, 1, 1, 1, 1, 1, 1, 1, 1, 1, 1, 1, 1, 1, 1, 1, 1, 1, 1, 1, 1, 1, 1, 1, 1, 1, 1, 1, 1, 1, 1, 1, 1, 1, 1, 1, 1, 1, 1, 1, 1, 1, 1, 1, 1, 1, 1, 1, 1, 1, 1, 1, 1, 1, 1, 1, 1, 1, 1, 1, 1, 1, 1, 1, 1, 1, 1, 1, 1, 1, 1, 1, 1, 1, 1, 1, 1, 1, 1, 1, 1, 1, 1, 1, 1, 1, 1, 1, 1, 1, 1, 1, 1, 1, 1, 1, 1, 1, 1, 1, 1, 1, 1, 1, 1, 1, 1, 1, 1, 1, 1, 1, 1, 1, 1, 1, 1, 1, 1, 1, 1, 1, 1, 1, 1, 1, 1, 1, 1, 1, 1, 1, 1, 1, 1, 1, 1, 1, 1, 1, 1, 1, 1, 1, 1, 1, 1, 1, 1, 1, 1, 1, 1, 1, 1, 1, 1, 1, 1, 1, 1, 1, 1, 1, 1, 1, 1, 1, 1, 1, 1, 1, 1, 1, 1, 1, 1, 1, 1, 1, 1, 1, 1, 1, 1, 1, 1, 1, 1, 1, 1, 1, 1, 1, 1, 1, 1, 1, 1, 1, 1, 1, 1, 1, 1, 1, 1, 1, 1, 1, 1, 1, 1, 1, 1, 1, 1, 1, 1, 1, 1, 1, 1, 1, 1, 1, 1, 1, 1, 1, 1, 1, 1, 1, 1, 1, 1, 1, 1, 1, 1, 1, 1, 1, 1, 1, 1, 1, 1, 1, 1, 1, 1, 1, 1, 1, 1, 1, 1, 1, 1, 1, 1, 1, 1, 1, 1, 1, 1, 1, 1, 1, 1, 1, 1, 1, 1, 1, 1, 1, 1, 1, 1, 1, 1, 1, 1, 1, 1, 1, 1, 1, 1, 1, 1, 1, 1, 1, 1, 1, 1, 1, 1, 1, 1, 1, 1, 1, 1, 1, 1, 1, 1, 1, 1, 1, 1, 1, 1, 1, 1, 1, 1, 1, 1, 1, 1, 1, 1, 1, 1, 1, 1, 1, 1, 1, 1, 1, 1, 1, 1, 1, 1, 1, 1, 1, 1, 1, 1, 1, 1, 1, 1, 1, 1, 1, 1, 1, 1, 1, 1, 1, 1, 1, 1, 1, 1, 1, 1, 1, 1, 1, 1, 1, 1, 1, 1, 1, 1, 1, 1, 1, 1, 1, 1, 1, 1, 1, 1, 1, 1, 1, 1, 1, 1, 1, 1, 1, 1, 1, 1, 1, 1, 1, 1, 1, 1, 1, 1, 1, 1, 1, 1, 1, 1, 1, 1, 1, 1, 1, 1, 1, 1, 1, 1, 1, 1, 1, 1, 1, 1, 1, 1, 1, 1, 1, 1, 1, 1, 1, 1, 1, 1, 1, 1, 1, 1, 1, 1, 1, 1, 1, 1, 1, 1, 1, 1, 1, 1, 1, 1, 1, 1, 1, 1, 1, 1, 1, 1, 1, 1, 1, 1, 1, 1, 1, 1, 1, 1, 1, 1, 1, 1, 1, 1, 1, 1, 1, 1, 1, 1, 1, 1, 1, 1, 1, 1, 1, 1, 1, 1, 1, 1, 1, 1, 1, 1, 1, 1, 1, 1, 1, 1, 1, 1, 1, 1, 1, 1, 1, 1, 1, 1, 1, 1, 1, 1, 1, 1, 1, 1, 1, 1, 1, 1, 1, 1, 1, 1, 1, 1, 1, 1, 1, 1, 1, 1, 1, 1, 1, 1, 1, 1, 1, 1, 1, 1, 1, 1, 1, 1, 1, 1, 1, 1, 1, 1, 1, 1, 1, 1, 1, 1, 1, 1, 1, 1, 1, 1, 1, 1, 1, 1, 1, 1, 1, 1, 1, 1, 1, 1, 1, 1, 1, 1, 1, 1, 1, 1, 1, 1, 1, 1, 1, 1, 1, 1, 1, 1, 1, 1, 1, 1, 1, 1, 1, 1, 1, 1, 1, 1, 1, 1, 1, 1, 1, 1, 1, 1, 1, 1, 1, 1, 1, 1, 1, 1, 1, 1, 1, 1, 1, 1, 1, 1, 1, 1, 1, 1, 1, 1, 1, 1, 1, 1, 1, 1, 1, 1, 1, 1, 1, 1, 1, 1, 1, 1, 1, 1, 1, 1, 1, 1, 1, 1, 1, 1, 1, 1, 1, 1, 1, 1, 1, 1, 1, 1, 1, 1, 1, 1, 1, 1, 1, 1, 1, 1, 1, 1, 1, 1, 1, 1, 1, 1, 1, 1, 1, 1, 1, 1, 1, 1, 1, 1, 1, 1, 1, 1, 1, 1, 1, 1, 1, 1, 1, 1, 1, 1, 1, 1, 1, 1, 1, 1, 1, 1, 1, 1, 1, 1, 1, 1, 1, 1, 1, 1, 1, 1, 1, 1, 1, 1, 1, 1, 1, 1, 1, 1, 1, 1, 1, 1, 1, 1, 1, 1, 1, 1, 1, 1, 1, 1, 1, 1, 1, 1, 1, 1, 1, 1, 1, 1, 1, 1, 1, 1, 1, 1, 1, 1, 1, 1, 1, 1, 1, 1, 1, 1, 1, 1, 1, 1, 1, 1, 1, 1, 1, 1, 1, 1, 1, 1, 1, 1, 1, 1, 1, 1, 1, 1, 1, 1, 1, 1, 1, 1, 1, 1, 1, 1, 1, 1, 1, 1, 1, 1, 1, 1, 1, 1, 1, 1, 1, 1, 1, 1, 1, 1, 1, 1, 1, 1, 1, 1, 1, 1, 1, 1, 1, 1, 1, 1, 1, 1, 1, 1, 1, 1, 1, 1, 1, 1, 1, 1, 1, 1, 1, 1, 1, 1, 1, 1, 1, 1, 1, 1, 1, 1, 1, 1, 1, 1, 1, 1, 1, 1, 1, 1, 1, 1, 1, 1, 1, 1, 1, 1, 1, 1, 1, 1, 1, 1, 1, 1, 1, 1, 1, 1, 1, 1, 1, 1, 1, 1, 1, 1, 1, 1, 1, 1, 1, 1, 1, 1, 1, 1, 1, 1, 1, 1, 1, 1, 1, 1, 1, 1, 1, 1, 1, 1, 1, 1, 1, 1, 1, 1, 1, 1, 1, 1, 1, 1, 1, 1, 1, 1, 1, 1, 1, 1, 1, 1, 1, 1, 1, 1, 1, 1, 1, 1, 1, 1, 1, 1, 1, 1, 1, 1, 1, 1, 1, 1, 1, 1, 1, 1, 1, 1, 1, 1, 1, 1, 1, 1, 1, 1, 1, 1, 1, 1, 1, 1, 1, 1, 1, 1, 1, 1, 1, 1, 1, 1, 1, 1, 1, 1, 1, 1, 1, 1, 1, 1, 1, 1, 1, 1, 1, 1, 1, 1, 1, 1, 1, 1, 1, 1, 1, 1, 1, 1, 1, 1, 1, 1, 1, 1, 1, 1, 1, 1, 1, 1, 1, 1, 1, 1, 1, 1, 1, 1, 1, 1, 1, 1, 1, 1, 1, 1, 1, 1, 1, 1, 1, 1, 1, 1, 1, 1, 1, 1, 1, 1, 1, 1, 1, 1, 1, 1, 1, 1, 1, 1, 1, 1, 1, 1, 1, 1, 1, 1, 1, 1, 1, 1, 1, 1, 1, 1, 1, 1, 1, 1, 1, 1, 1, 1, 1, 1, 1, 1, 1, 1, 1, 1, 1, 1, 1, 1, 1, 1, 1, 1, 1, 1, 1, 1, 1, 1, 1, 1, 1, 1, 1, 1, 1, 1, 1, 1, 1, 1, 1, 1, 1, 1, 1, 1, 1, 1, 1, 1, 1, 1, 1, 1, 1, 1, 1, 1, 1, 1, 1, 1, 1, 1, 1, 1, 1, 1, 1, 1, 1, 1, 1, 1, 1, 1, 1, 1, 1, 1, 1, 1, 1, 1, 1, 1, 1, 1, 1, 1, 1, 1, 1, 1, 1, 1, 1, 1, 1, 1, 1, 1, 1, 1, 1, 1, 1, 1, 1, 1, 1, 1, 1, 1, 1, 1, 1, 1, 1, 1, 1, 1, 1, 1, 1, 1, 1, 1, 1, 1, 1, 1, 1, 1, 1, 1, 1, 1, 1, 1, 1, 1, 1, 1, 1, 1, 1, 1, 1, 1, 1, 1, 1, 1, 1, 1, 1, 1, 1, 1, 1, 1, 1, 1, 1, 1, 1, 1, 1, 1, 1, 1, 1, 1, 1, 1, 1, 1, 1, 1, 1, 1, 1, 1, 1, 1, 1, 1, 1, 1, 1, 1, 1, 1, 1, 1, 1, 1, 1, 1, 1, 1, 1, 1, 1, 1, 1, 1, 1, 1, 1, 1, 1, 1, 1, 1, 1, 1, 1, 1, 1, 1, 1, 1, 1, 1, 1, 1, 1, 1, 1, 1, 1, 1, 1, 1, 1, 1, 1, 1, 1, 1, 1, 1, 1, 1, 1, 1, 1, 1, 1, 1, 1, 1, 1, 1, 1, 1, 1, 1, 1, 1, 1, 1, 1, 1, 1, 1, 1, 1, 1, 1, 1, 1, 1, 1, 1, 1, 1, 1, 1, 1, 1, 1, 1, 1, 1, 1, 1, 1, 1, 1, 1, 1, 1, 1, 1, 1, 1, 1, 1, 1, 1, 1, 1, 1, 1, 1, 1, 1, 1, 1, 1, 1, 1, 1, 1, 1, 1, 1, 1, 1, 1, 1, 1, 1, 1, 1, 1, 1, 1, 1, 1, 1, 1, 1, 1, 1, 1, 1, 1, 1, 1, 1, 1, 1, 1, 1, 1, 1, 1, 1, 1, 1, 1, 1, 1, 1, 1, 1, 1, 1, 1, 1, 1, 1, 1, 1, 1, 1, 1, 1, 1, 1, 1, 1, 1, 1, 1, 1, 1, 1, 1, 1, 1, 1, 1, 1, 1, 1, 1, 1, 1, 1, 1, 1, 1, 1, 1, 1, 1, 1, 1, 1, 1, 1, 1, 1, 1, 1, 1, 1, 1, 1, 1, 1, 1, 1, 1, 1, 1, 1, 1, 1, 1, 1, 1, 1, 1, 1, 1, 1, 1, 1, 1, 1, 1, 1, 1, 1, 1, 1, 1, 1, 1, 1, 1, 1, 1, 1, 1, 1, 1, 1, 1, 1, 1, 1, 1, 1, 1, 1, 1, 1, 1, 1, 1, 1, 1, 1, 1, 1, 1, 1, 1, 1, 1, 1, 1, 1, 1, 1, 1, 1, 1, 1, 1, 1, 1, 1, 1, 1, 1, 1, 1, 1, 1, 1, 1, 1, 1, 1, 1, 1, 1, 1, 1, 1, 1, 1, 1, 1, 1, 1, 1, 1, 1, 1, 1, 1, 1, 1, 1, 1, 1, 1, 1, 1, 1, 1, 1, 1, 1, 1, 1, 1, 1, 1, 1, 1, 1, 1, 1, 1, 1, 1, 1, 1, 1, 1, 1, 1, 1, 1, 1, 1, 1, 1, 1, 1, 1, 1, 1, 1, 1, 1, 1, 1, 1, 1, 1, 1, 1, 1, 1, 1, 1, 1, 1, 1, 1, 1, 1, 1, 1, 1, 1, 1, 1, 1, 1, 1, 1, 1, 1, 1, 1, 1, 1, 1, 1, 1, 1, 1, 1, 1, 1, 1, 1, 1, 1, 1, 1, 1, 1, 1, 1, 1, 1, 1, 1, 1, 1, 1, 1, 1, 1, 1, 1, 1, 1, 1, 1, 1, 1, 1, 1, 1, 1, 1, 1, 1, 1, 1, 1, 1, 1, 1, 1, 1, 1, 1, 1, 1, 1, 1, 1, 1, 1, 1, 1, 1, 1, 1, 1, 1, 1, 1, 1, 1, 1, 1, 1, 1, 1, 1, 1, 1, 1, 1, 1, 1, 1, 1, 1, 1, 1, 1, 1, 1, 1, 1, 1, 1, 1, 1, 1, 1, 1, 1, 1, 1, 1, 1, 1, 1, 1, 1, 1, 1, 1, 1, 1, 1, 1, 1, 1, 1, 1, 1, 1, 1, 1, 1, 1, 1, 1, 1, 1, 1, 1, 1, 1, 1, 1, 1, 1, 1, 1, 1, 1, 1, 1, 1, 1, 1, 1, 1, 1, 1, 1, 1, 1, 1, 1, 1, 1, 1, 1, 1, 1, 1, 1, 1, 1, 1, 1, 1, 1, 1, 1, 1, 1, 1, 1, 1, 1, 1, 1, 1, 1, 1, 1, 1, 1, 1, 1, 1, 1, 1, 1, 1, 1, 1, 1, 1, 1, 1, 1, 1, 1, 1, 1, 1, 1, 1, 1, 1, 1, 1, 1, 1, 1, 1, 1, 1, 1, 1, 1, 1, 1, 1, 1, 1, 1, 1, 1, 1, 1, 1, 1, 1, 1, 1, 1, 1, 1, 1, 1, 1, 1, 1, 1, 1, 1, 1, 1, 1, 1, 1, 1, 1, 1, 1, 1, 1, 1, 1, 1, 1, 1, 1, 1, 1, 1, 1, 1, 1, 1, 1, 1, 1, 1, 1, 1, 1, 1, 1, 1, 1, 1, 1, 1, 1, 1, 1, 1, 1, 1, 1, 1, 1, 1, 1, 1, 1, 1, 1, 1, 1, 1, 1, 1, 1, 1, 1, 1, 1, 1, 1, 1, 1, 1, 1, 1, 1, 1, 1, 1, 1, 1, 1, 1, 1, 1, 1, 1, 1, 1, 1, 1, 1, 1, 1, 1, 1, 1, 1, 1, 1, 1, 1, 1, 1, 1, 1, 1, 1, 1, 1, 1, 1, 1, 1, 1, 1, 1, 1, 1, 1, 1, 1, 1, 1, 1, 1, 1, 1, 1, 1, 1, 1, 1, 1, 1, 1, 1, 1, 1, 1, 1, 1, 1, 1, 1, 1, 1, 1, 1, 1, 1, 1, 1, 1, 1, 1, 1, 1, 1, 1, 1, 1, 1, 1, 1, 1, 1, 1, 1, 1, 1, 1, 1, 1, 1, 1, 1, 1, 1, 1, 1, 1, 1, 1, 1, 1, 1, 1, 1, 1, 1, 1, 1, 1, 1, 1, 1, 1, 1, 1, 1, 1, 1, 1, 1, 1, 1, 1, 1, 1, 1, 1, 1, 1, 1, 1, 1, 1, 1, 1, 1, 1, 1, 1, 1, 1, 1, 1, 1, 1, 1, 1, 1, 1, 1, 1, 1, 1, 1, 1, 1, 1, 1, 1, 1, 1, 1, 1, 1, 1, 1, 1, 1, 1, 1, 1, 1, 1, 1, 1, 1, 1, 1, 1, 1, 1, 1, 1, 1, 1, 1, 1, 1, 1, 1, 1, 1, 1, 1, 1, 1, 1, 1, 1, 1, 1, 1, 1, 1, 1, 1, 1, 1, 1, 1, 1, 1, 1, 1, 1, 1, 1, 1, 1, 1, 1, 1, 1, 1, 1, 1, 1, 1, 1, 1, 1, 1, 1, 1, 1, 1, 1, 1, 1, 1, 1, 1, 1, 1, 1, 1, 1, 1, 1, 1, 1, 1, 1, 1, 1, 1, 1, 1, 1, 1, 1, 1, 1, 1, 1, 1, 1, 1, 1, 1, 1, 1, 1, 1, 1, 1, 1, 1, 1, 1, 1, 1, 1, 1, 1, 1, 1, 1, 1, 1, 1, 1, 1, 1, 1, 1, 1, 1, 1, 1, 1, 1, 1, 1, 1, 1, 1, 1, 1, 1, 1, 1, 1, 1, 1, 1, 1, 1, 1, 1, 1, 1, 1, 1, 1, 1, 1, 1, 1, 1, 1, 1, 1, 1, 1, 1, 1, 1, 1, 1, 1, 1, 1, 1, 1, 1, 1, 1, 1, 1, 1, 1, 1, 1, 1, 1, 1, 1, 1, 1, 1, 1, 1, 1, 1, 1, 1, 1, 1, 1, 1, 1, 1, 1, 1, 1, 1, 1, 1, 1, 1, 1, 1, 1, 1, 1, 1, 1, 1, 1, 1, 1, 1, 1, 1, 1, 1, 1, 1, 1, 1, 1, 1, 1, 1, 1, 1, 1, 1, 1, 1, 1, 1, 1, 1, 1, 1, 1, 1, 1, 1, 1, 1, 1, 1, 1, 1, 1, 1, 1, 1, 1, 1, 1, 1, 1, 1, 1, 1, 1, 1, 1, 1, 1, 1, 1, 1, 1, 1, 1, 1, 1, 1, 1, 1, 1, 1, 1, 1, 1, 1, 1, 1, 1, 1, 1, 1, 1, 1, 1, 1, 1, 1, 1, 1, 1, 1, 1, 1, 1, 1, 1, 1, 1, 1, 1, 1, 1, 1, 1, 1, 1, 1, 1, 1, 1, 1, 1, 1, 1, 1, 1, 1, 1, 1, 1, 1, 1, 1, 1, 1, 1, 1, 1, 1, 1, 1, 1, 1, 1, 1, 1, 1, 1, 1, 1, 1, 1, 1, 1, 1, 1, 1, 1, 1, 1, 1, 1, 1, 1, 1, 1, 1, 1, 1, 1, 1, 1, 1, 1, 1, 1, 1, 1, 1, 1, 1, 1, 1, 1, 1, 1, 1, 1, 1, 1, 1, 1, 1, 1, 1, 1, 1, 1, 1, 1, 1, 1, 1, 1, 1, 1, 1, 1, 1, 1, 1, 1, 1, 0, 1, 1, 1, 1, 1, 1, 1, 1, 1, 1, 1, 1, 1, 1, 1, 1, 1, 1, 1, 1, 1, 1, 1, 1, 1, 1, 1, 1, 1, 1, 1, 1, 1, 1, 1, 1, 1, 1, 1, 1, 1, 1, 1, 1, 1, 1, 1, 1, 1, 1, 1, 1, 1, 1, 1, 1, 1, 1, 1, 1, 1, 1, 1, 1, 1, 1, 1, 1, 1, 1, 1, 1, 1, 1, 1, 1, 1, 1, 1, 1, 1, 1, 1, 1, 1, 1, 1, 1, 1, 1, 1, 1, 1, 1, 1, 1, 1, 1, 1, 1, 1, 1, 1, 1, 1, 1, 1, 1, 1, 1, 1, 1, 1, 1, 1, 1, 1, 1, 1, 1, 1, 1, 1, 1, 1, 1, 1, 1, 1, 1, 1, 1, 1, 1, 1, 1, 1, 1, 1, 1, 1, 1, 1, 1, 1, 1, 1, 1, 1, 1, 1, 1, 1, 1, 1, 1, 1, 1, 1, 1, 1, 1, 1, 1, 1, 1, 1, 1, 1, 1, 1, 1, 1, 1, 1, 1, 1, 1, 1, 1, 1, 1, 1, 1, 1, 1, 1, 1, 1, 1, 1, 1, 1, 1, 1, 1, 1, 1, 1, 1, 1, 1, 1, 1, 1, 1, 1, 1, 1, 1, 1, 1, 1, 1, 1, 1, 1, 1, 1, 1, 1, 1, 1, 1, 1, 1, 1, 1, 1, 1, 1, 1, 1, 1, 1, 1, 1, 1, 1, 1, 1, 1, 1, 1, 1, 1, 1, 1, 1, 1, 1, 1, 1, 1, 1, 1, 1, 1, 1, 1, 1, 1, 1, 1, 1, 1, 1, 1, 1, 1, 1, 1, 1, 1, 1, 1, 1, 1, 1, 1, 1, 1, 1, 1, 1, 1, 1, 1, 1, 1, 1, 1, 1, 1, 1, 1, 1, 1, 1, 1, 1, 1, 1, 1, 1, 1, 1, 1, 1, 1, 1, 1, 1, 1, 1, 1, 1, 1, 1, 1, 1, 1, 1, 1, 1, 1, 1, 1, 1, 1, 1, 1, 1, 1, 1, 1, 1, 1, 1, 1, 1, 1, 1, 1, 1, 1, 1, 1, 1, 1, 1, 1, 1, 1, 1, 1, 1, 1, 1, 1, 1, 1, 1, 1, 1, 1, 1, 1, 1, 1, 1, 1, 1, 1, 1, 1, 1, 1, 1, 1, 1, 1, 1, 1, 1, 1, 1, 1, 1, 1, 1, 1, 1, 1, 1, 1, 1, 1, 1, 1, 1, 1, 1, 1, 1, 1, 1, 1, 1, 1, 1, 1, 1, 1, 1, 1, 1, 1, 1, 1, 1, 1, 1, 1, 1, 1, 1, 1, 1, 1, 1, 1, 1, 1, 1, 1, 1, 1, 1, 1, 1, 1, 1, 1, 1, 1, 1, 1, 1, 1, 1, 1, 1, 1, 1, 1, 1, 1, 1, 1, 1, 1, 1, 1, 1, 1, 1, 1, 1, 1, 1, 1, 1, 1, 1, 1, 1, 1, 1, 1, 1, 1, 1, 1, 1, 1, 1, 1, 1, 1, 1, 1, 1, 1, 1, 1, 1, 1, 1, 1, 1, 1, 1, 1, 1, 1, 1, 1, 1, 1, 1, 1, 1, 1, 1, 1, 1, 1, 1, 1, 1, 1, 1, 1, 1, 1, 1, 1, 1, 1, 1, 1, 1, 1, 1, 1, 1, 1, 1, 1, 1, 1, 1, 1, 1, 1, 1, 1, 1, 1, 1, 1, 1, 1, 1, 1, 1, 1, 1, 1, 1, 1, 1, 1, 1, 1, 1, 1, 1, 1, 1, 1, 1, 1, 1, 1, 1, 1, 1, 1, 1, 1, 1, 1, 1, 1, 1, 1, 1, 1, 1, 1, 1, 1, 1, 1, 1, 1, 1, 1, 1, 1, 1, 1, 1, 1, 1, 1, 1, 1, 1, 1, 1, 1, 1, 1, 1, 1, 1, 1, 1, 1, 1, 1, 1, 1, 1, 1, 1, 1, 1, 1, 1, 1, 1, 1, 1, 1, 1, 1, 1, 1, 1, 1, 1, 1, 1, 1, 1, 1, 1, 1, 1, 1, 1, 1, 1, 1, 1, 1, 1, 1, 1, 1, 1, 1, 1, 1, 1, 1, 1, 1, 1, 1, 1, 1, 1, 1, 1, 1, 1, 1, 1, 1, 1, 1, 1, 1, 1, 1, 1, 1, 1, 1, 1, 1, 1, 1, 1, 1, 1, 1, 1, 1, 1, 1, 1, 1, 1, 1, 1, 1, 1, 1, 1, 1, 1, 1, 1, 1, 1, 1, 1, 1, 1, 1, 1, 1, 1, 1, 1, 1, 1, 1, 1, 1, 1, 1, 1, 1, 1, 1, 1, 1, 1, 1, 1, 1, 1, 1, 1, 1, 1, 1, 1, 1, 1, 1, 1, 1, 1, 1, 1, 1, 1, 1, 1, 1, 1, 1, 1, 1, 1, 1, 1, 1, 1, 1, 1, 1, 1, 1, 1, 1, 1, 1, 1, 1, 1, 1, 1, 1, 1, 1, 1, 1, 1, 1, 1, 1, 1, 1, 1, 1, 1, 1, 1, 1, 1, 1, 1, 1, 1, 1, 1, 1, 1, 1, 1, 1, 1, 1, 1, 1, 1, 1, 1, 1, 1, 1, 1, 1, 1, 1, 1, 1, 1, 1, 1, 1, 1, 1, 1, 1, 1, 1, 1, 1, 1, 1, 1, 1, 1, 1, 1, 1, 1, 1, 1, 1, 1, 1, 1, 1, 1, 1, 1, 1, 1, 1, 1, 1, 1, 1, 1, 1, 1, 1, 1, 1, 1, 1, 1, 1, 1, 1, 1, 1, 1, 1, 1, 1, 1, 1, 1, 1, 1, 1, 1, 1, 1, 1, 1, 1, 1, 1, 1, 1, 1, 1, 1, 1, 1, 1, 1, 1, 1, 1, 1, 1, 1, 1, 1, 1, 1, 1, 1, 1, 1, 1, 1, 1, 1, 1, 1, 1, 1, 1, 1, 1, 1, 1, 1, 1, 1, 1, 1, 1, 1, 1, 1, 1, 1, 1, 1, 1, 1, 1, 1, 1, 1, 1, 1, 1, 1, 1, 1, 1, 1, 1, 1, 1, 1, 1, 1, 1, 1, 1, 1, 1, 1, 1, 1, 1, 1, 1, 1, 1, 1, 1, 1, 1, 1, 1, 1, 1, 1, 1, 1, 1, 1, 1, 1, 1, 1, 1, 1, 1, 1, 1, 1, 1, 1, 1, 1, 1, 1, 1, 1, 1, 1, 1, 1, 1, 1, 1, 1, 1, 1, 1, 1, 1, 1, 1, 1, 1, 1, 1, 1, 1, 1, 1, 1, 1, 1, 1, 1, 1, 1, 1, 1, 1, 1, 1, 1, 1, 1, 1, 1, 1, 1, 1, 1, 1, 1, 1, 1, 1, 1, 1, 1, 1, 1, 1, 1, 1, 1, 1, 1, 1, 1, 1, 1, 1, 1, 1, 1, 1, 1, 1, 1, 1, 1, 1, 1, 1, 1, 1, 1, 1, 1, 1, 1, 1, 1, 1, 1, 1, 1, 1, 1, 1, 1, 1, 1, 1, 1, 1, 1, 1, 1, 1, 1, 1, 1, 1, 1, 1, 1, 1, 1, 1, 1, 1, 1, 1, 1, 1, 1, 1, 1, 1, 1, 1, 1, 1, 1, 1, 1, 1, 1, 1, 1, 1, 1, 1, 1, 1, 1, 1, 1, 1, 1, 1, 1, 1, 1, 1, 1, 1, 1, 1, 1, 1, 1, 1, 1, 1, 1, 1, 1, 1, 1, 1, 1, 1, 1, 1, 1, 1, 1, 1, 1, 1, 1, 1, 1, 1, 1, 1, 1, 1, 1, 1, 1, 1, 1, 1, 1, 1, 1, 1, 1, 1, 1, 1, 1, 1, 1, 1, 1, 1, 1, 1, 1, 1, 1, 1, 1, 1, 1, 1, 1, 1, 1, 1, 1, 1, 1, 1, 1, 1, 1, 1, 1, 1, 1, 1, 1, 1, 1, 1, 1, 1, 1, 1, 1, 1, 1, 1, 1, 1, 1, 1, 1, 1, 1, 1, 1, 1, 1, 1, 1, 1, 1, 1, 1, 1, 1, 1, 1, 1, 1, 1, 1, 1, 1, 1, 1, 1, 1, 1, 1, 1, 1, 1, 1, 1, 1, 1, 1, 1, 1, 1, 1, 1, 1, 1, 1, 1, 1, 1, 1, 1, 1, 1, 1, 1, 1, 1, 1, 1, 1, 1, 1, 1, 1, 1, 1, 1, 1, 1, 1, 1, 1, 1, 1, 1, 1, 1, 1, 1, 1, 1, 1, 1, 1, 1, 1, 1, 1, 1, 1, 1, 1, 1, 1, 1, 1, 1, 1, 1, 1, 1, 1, 1, 1, 1, 1, 1, 1, 1, 1, 1, 1, 1, 1, 1, 1, 1, 1, 1, 1, 1, 1, 1, 1, 1, 1, 1, 1, 1, 1, 1, 1, 1, 1, 1, 1, 1, 1, 1, 1, 1, 1, 1, 1, 1, 1, 1, 1, 1, 1, 1, 1, 1, 1, 1, 1, 1, 1, 1, 1, 1, 1, 1, 1, 1, 1, 1, 1, 1, 1, 1, 1, 1, 1, 1, 1, 1, 1, 1, 1, 1, 1, 1, 1, 1, 1, 1, 1, 1, 1, 1, 1, 1, 1, 1, 1, 1, 1, 1, 1, 1, 1, 1, 1, 1, 1, 1, 1, 1, 1, 1, 1, 1, 1, 1, 1, 1, 1, 1, 1, 1, 1, 1, 1, 1, 1, 1, 1, 1, 1, 1, 1, 1, 1, 1, 1, 1, 1, 1, 1, 1, 1, 1, 1, 1, 1, 1, 1, 1, 1, 1, 1, 1, 1, 1, 1, 1, 1, 1, 1, 1, 1, 1, 1, 1, 1, 1, 1, 1, 1, 1, 1, 1, 1, 1, 1, 1, 1, 1, 1, 1, 1, 1, 1, 1, 1, 1, 1, 1, 1, 1, 1, 1, 1, 1, 1, 1, 1, 1, 1, 1, 1, 1, 1, 1, 1, 1, 1, 1, 1, 1, 1, 1, 1, 1, 1, 1, 1, 1, 1, 1, 1, 1, 1, 1, 1, 1, 1, 1, 1, 1, 1, 1, 1, 1, 1, 1, 1, 1, 1, 1, 1, 1, 1, 1, 1, 1, 1, 1, 1, 1, 1, 1, 1, 1, 1, 1, 1, 1, 1, 1, 1, 1, 1, 1, 1, 1, 1, 1, 1, 1, 1, 1, 1, 1, 1, 1, 1, 1, 1, 1, 1, 1, 1, 1, 1, 1, 1, 1, 1, 1, 1, 1, 1, 1, 1, 1, 1, 1, 1, 1, 1, 1, 1, 1, 1, 1, 1, 1, 1, 1, 1, 1, 1, 1, 1, 1, 1, 1, 1, 1, 1, 1, 1, 1, 1, 1, 1, 1, 1, 1, 1, 1, 1, 1, 1, 1, 1, 1, 1, 1, 1, 1, 1, 1, 1, 1, 1, 1, 1, 1, 1, 1, 1, 1, 1, 1, 1, 1, 1, 1, 1, 1, 1, 1, 1, 1, 1, 1, 1, 1, 1, 1, 1, 1, 1, 1, 1, 1, 1, 1, 1, 1, 1, 1, 1, 1, 1, 1, 1, 1, 1, 1, 1, 1, 1, 1, 1, 1, 1, 1, 1, 1, 1, 1, 1, 1, 1, 1, 1, 1, 1, 1, 1, 1, 1, 1, 1, 1, 1, 1, 1, 1, 1, 1, 1, 1, 1, 1, 1, 1, 1, 1, 1, 1, 1, 1, 1, 1, 1, 1, 1, 1, 1, 1, 1, 1, 1, 1, 1, 1, 1, 1, 1, 1, 1, 1, 1, 1, 1, 1, 1, 1, 1, 1, 1, 1, 1, 1, 1, 1, 1, 1, 1, 1, 1, 1, 1, 1, 1, 1, 1, 1, 1, 1, 1, 1, 1, 1, 1, 1, 1, 1, 1, 1, 1, 1, 1, 1, 1, 1, 1, 1, 1, 1, 1, 1, 1, 1, 1, 1, 1, 1, 1, 1, 1, 1, 1, 1, 1, 1, 1, 1, 1, 1, 1, 1, 1, 1, 1, 1, 1, 1, 1, 1, 1, 1, 1, 1, 1, 1, 1, 1, 1, 1, 1, 1, 1, 1, 1, 1, 1, 1, 1, 1, 1, 1, 1, 1, 1, 1, 1, 1, 1, 1, 1, 1, 1, 1, 1, 1, 1, 1, 1, 1, 1, 1, 1, 1, 1, 1, 1, 1, 1, 1, 1, 1, 1, 1, 1, 1, 1, 1, 1, 1, 1, 1, 1, 1, 1, 1, 1, 1, 1, 1, 1, 1, 1, 1, 1, 1, 1, 1, 1, 1, 1, 1, 1, 1, 1, 1, 1, 1, 1, 1, 1, 1, 1, 1, 1, 1, 1, 1, 1, 1, 1, 1, 1, 1, 1, 1, 1, 1, 1, 1, 1, 1, 1, 1, 1, 1, 1, 1, 1, 1, 1, 1, 1, 1, 1, 1, 1, 1, 1, 1, 1, 1, 1, 1, 1, 1, 1, 1, 1, 1, 1, 1, 1, 1, 1, 1, 1, 1, 1, 1, 1, 0, 1, 1, 1, 1, 1, 1, 1, 1, 1, 1, 1, 1, 1, 0, 1, 1, 1, 1, 1, 1, 1, 1, 1, 1, 1, 1, 1, 1, 1, 1, 1, 1, 1, 1, 1, 1, 1, 1, 1, 1, 1, 1, 1, 1, 1, 1, 1, 1, 1, 1, 1, 1, 1, 1, 1, 1, 1, 1, 1, 1, 1, 1, 1, 1, 1, 1, 1, 1, 1, 1, 1, 1, 1, 1, 1, 1, 1, 1, 1, 1, 1, 1, 1, 1, 1, 1, 1, 1, 1, 1, 1, 1, 1, 1, 1, 1, 1, 1, 1, 1, 1, 1, 1, 1, 1, 1, 1, 1, 1, 1, 1, 1, 1, 1, 1, 1, 1, 1, 1, 1, 1, 1, 1, 1, 1, 1, 1, 1, 1, 1, 1, 1, 1, 1, 1, 1, 1, 1, 1, 1, 1, 1, 1, 1, 1, 1, 1, 1, 1, 1, 1, 1, 1, 1, 1, 1, 1, 1, 1, 1, 1, 1, 1, 1, 1, 1, 1, 1, 1, 1, 1, 1, 1, 1, 1, 1, 1, 1, 1, 1, 1, 1, 1, 1, 1, 1, 1, 1, 1, 1, 1, 1, 1, 1, 1, 1, 1, 1, 1, 1, 1, 1, 1, 1, 1, 1, 1, 1, 1, 1, 1, 1, 1, 1, 1, 1, 1, 1, 1, 1, 1, 1, 1, 1, 1, 1, 1, 1, 1, 1, 1, 1, 1, 1, 1, 1, 1, 1, 1, 1, 1, 1, 1, 1, 1, 1, 1, 1, 1, 1, 1, 1, 1, 1, 1, 1, 1, 1, 1, 1, 1, 1, 1, 1, 1, 1, 1, 1, 1, 1, 1, 1, 1, 1, 1, 1, 1, 1, 1, 1, 1, 1, 1, 1, 1, 1, 1, 1, 1, 1, 1, 1, 1, 1, 1, 1, 1, 1, 1, 1, 1, 1, 1, 1, 1, 1, 1, 1, 1, 1, 1, 1, 1, 1, 1, 1, 1, 1, 1, 1, 1, 1, 1, 1, 1, 1, 1, 1, 1, 1, 1, 1, 1, 1, 1, 1, 1, 1, 1, 1, 1, 1, 1, 1, 1, 1, 1, 1, 1, 1, 1, 1, 1, 1, 1, 1, 1, 1, 1, 1, 1, 1, 1, 1, 1, 1, 1, 1, 1, 1, 1, 1, 1, 1, 1, 1, 1, 1, 1, 1, 1, 1, 1, 1, 1, 1, 1, 1, 1, 1, 1, 1, 1, 1, 1, 1, 1, 1, 1, 1, 1, 1, 1, 1, 1, 1, 1, 1, 1, 1, 1, 1, 1, 1, 1, 1, 1, 1, 1, 1, 1, 1, 1, 1, 1, 1, 1, 1, 1, 1, 1, 1, 1, 1, 1, 1, 1, 1, 1, 1, 1, 1, 1, 1, 1, 1, 1, 1, 1, 1, 1, 1, 1, 1, 1, 1, 1, 1, 1, 1, 1, 1, 1, 1, 1, 1, 1, 1, 1, 1, 1, 1, 1, 1, 1, 1, 1, 1, 1, 1, 1, 1, 1, 1, 1, 1, 1, 1, 1, 1, 1, 1, 1, 1, 1, 1, 1, 1, 1, 1, 1, 1, 1, 1, 1, 1, 1, 1, 1, 1, 1, 1, 1, 1, 1, 1, 1, 1, 1, 1, 1, 1, 1, 1, 1, 1, 1, 1, 1, 1, 1, 1, 1, 1, 1, 1, 1, 1, 1, 1, 1, 1, 1, 1, 1, 1, 1, 1, 1, 1, 1, 1, 1, 1, 1, 1, 1, 1, 1, 1, 1, 1, 1, 1, 1, 1, 1, 1, 1, 1, 1, 1, 1, 1, 1, 1, 1, 1, 1, 1, 1, 1, 1, 1, 1, 1, 1, 1, 1, 1, 1, 1, 1, 1, 1, 1, 1, 1, 1, 1, 1, 1, 1, 1, 1, 1, 1, 1, 1, 1, 1, 1, 1, 1, 1, 1, 1, 1, 1, 1, 1, 1, 1, 1, 1, 1, 1, 1, 1, 1, 1, 1, 1, 1, 1, 1, 1, 1, 1, 1, 1, 1, 1, 1, 1, 1, 1, 1, 1, 1, 1, 1, 1, 1, 1, 1, 1, 1, 1, 1, 1, 1, 1, 1, 1, 1, 1, 1, 1, 1, 1, 1, 1, 1, 1, 1, 1, 1, 1, 1, 1, 1, 1, 1, 1, 1, 1, 1, 1, 1, 1, 1, 1, 1, 1, 1, 1, 1, 1, 1, 1, 1, 1, 1, 1, 1, 1, 1, 1, 1, 1, 1, 1, 1, 1, 1, 1, 1, 1, 1, 1, 1, 1, 1, 1, 1, 1, 1, 1, 1, 1, 1, 1, 1, 1, 1, 1, 1, 1, 1, 1, 1, 1, 1, 1, 1, 1, 1, 1, 1, 1, 1, 1, 1, 1, 1, 1, 1, 1, 1, 1, 1, 1, 1, 1, 1, 1, 1, 1, 1, 1, 1, 1, 1, 1, 1, 1, 1, 1, 1, 1, 1, 1, 1, 1, 1, 1, 1, 1, 1, 1, 1, 1, 1, 1, 1, 1, 1, 1, 1, 1, 1, 1, 1, 1, 1, 1, 1, 1, 1, 1, 1, 1, 1, 1, 1, 1, 1, 1, 1, 1, 1, 1, 1, 1, 1, 1, 1, 1, 1, 1, 1, 1, 1, 1, 1, 1, 1, 1, 1, 1, 1, 1, 1, 1, 1, 1, 1, 1, 1, 1, 1, 1, 1, 1, 1, 1, 1, 1, 1, 1, 1, 1, 0]\n",
            "['ISIC_0024698', 'ISIC_0024693', 'ISIC_0025964', 'ISIC_0030623', 'ISIC_0027190', 'ISIC_0031023', 'ISIC_0028086', 'ISIC_0031177', 'ISIC_0026993', 'ISIC_0026120', 'ISIC_0028412', 'ISIC_0030417', 'ISIC_0026531', 'ISIC_0032396', 'ISIC_0030443', 'ISIC_0031499', 'ISIC_0025450', 'ISIC_0024586', 'ISIC_0025451', 'ISIC_0032248', 'ISIC_0028445', 'ISIC_0027076', 'ISIC_0029512', 'ISIC_0027872', 'ISIC_0030486', 'ISIC_0029028', 'ISIC_0027125', 'ISIC_0029575', 'ISIC_0028361', 'ISIC_0029081', 'ISIC_0025744', 'ISIC_0030119', 'ISIC_0028215', 'ISIC_0025303', 'ISIC_0030129', 'ISIC_0032214', 'ISIC_0028069', 'ISIC_0028579', 'ISIC_0029281', 'ISIC_0024367', 'ISIC_0030281', 'ISIC_0024481', 'ISIC_0031118', 'ISIC_0030080', 'ISIC_0031953', 'ISIC_0031406', 'ISIC_0026115', 'ISIC_0026281', 'ISIC_0027277', 'ISIC_0028642', 'ISIC_0032079', 'ISIC_0026150', 'ISIC_0031642', 'ISIC_0027043', 'ISIC_0027174', 'ISIC_0025277', 'ISIC_0024729', 'ISIC_0031711', 'ISIC_0025234', 'ISIC_0029000', 'ISIC_0025955', 'ISIC_0025751', 'ISIC_0026754', 'ISIC_0027063', 'ISIC_0032331', 'ISIC_0032400', 'ISIC_0024545', 'ISIC_0028109', 'ISIC_0033186', 'ISIC_0030060', 'ISIC_0030211', 'ISIC_0026892', 'ISIC_0024987', 'ISIC_0030171', 'ISIC_0028291', 'ISIC_0024898', 'ISIC_0029538', 'ISIC_0032313', 'ISIC_0027769', 'ISIC_0029913', 'ISIC_0026909', 'ISIC_0026113', 'ISIC_0032265', 'ISIC_0032308', 'ISIC_0025081', 'ISIC_0030134', 'ISIC_0030445', 'ISIC_0030798', 'ISIC_0026596', 'ISIC_0028056', 'ISIC_0032019', 'ISIC_0025155', 'ISIC_0031557', 'ISIC_0024792', 'ISIC_0030898', 'ISIC_0032244', 'ISIC_0028901', 'ISIC_0032098', 'ISIC_0025603', 'ISIC_0029651', 'ISIC_0032044', 'ISIC_0030759', 'ISIC_0024886', 'ISIC_0027102', 'ISIC_0025904', 'ISIC_0032450', 'ISIC_0027253', 'ISIC_0032046', 'ISIC_0029163', 'ISIC_0029630', 'ISIC_0024624', 'ISIC_0025674', 'ISIC_0031369', 'ISIC_0029547', 'ISIC_0026622', 'ISIC_0028326', 'ISIC_0027060', 'ISIC_0031941', 'ISIC_0024315', 'ISIC_0030818', 'ISIC_0026360', 'ISIC_0025996', 'ISIC_0025219', 'ISIC_0026458', 'ISIC_0024951', 'ISIC_0030106', 'ISIC_0024702', 'ISIC_0024972', 'ISIC_0031779', 'ISIC_0028442', 'ISIC_0031745', 'ISIC_0031586', 'ISIC_0031972', 'ISIC_0030539', 'ISIC_0031977', 'ISIC_0026296', 'ISIC_0025018', 'ISIC_0028519', 'ISIC_0024767', 'ISIC_0031517', 'ISIC_0028022', 'ISIC_0024967', 'ISIC_0029370', 'ISIC_0031958', 'ISIC_0026369', 'ISIC_0030521', 'ISIC_0027487', 'ISIC_0029212', 'ISIC_0030089', 'ISIC_0027616', 'ISIC_0027261', 'ISIC_0028505', 'ISIC_0025153', 'ISIC_0031598', 'ISIC_0025363', 'ISIC_0029473', 'ISIC_0027651', 'ISIC_0030014', 'ISIC_0027238', 'ISIC_0029571', 'ISIC_0024675', 'ISIC_0025891', 'ISIC_0027693', 'ISIC_0029017', 'ISIC_0032220', 'ISIC_0028127', 'ISIC_0030165', 'ISIC_0025927', 'ISIC_0031189', 'ISIC_0032190', 'ISIC_0025783', 'ISIC_0029241', 'ISIC_0027352', 'ISIC_0029558', 'ISIC_0031890', 'ISIC_0031545', 'ISIC_0028219', 'ISIC_0026314', 'ISIC_0024875', 'ISIC_0026950', 'ISIC_0027033', 'ISIC_0027822', 'ISIC_0029242', 'ISIC_0027263', 'ISIC_0026247', 'ISIC_0028467', 'ISIC_0026158', 'ISIC_0029216', 'ISIC_0026489', 'ISIC_0028878', 'ISIC_0033312', 'ISIC_0024400', 'ISIC_0029884', 'ISIC_0028900', 'ISIC_0027387', 'ISIC_0024911', 'ISIC_0027659', 'ISIC_0030223', 'ISIC_0032182', 'ISIC_0027721', 'ISIC_0026697', 'ISIC_0030760', 'ISIC_0028565', 'ISIC_0034006', 'ISIC_0028087', 'ISIC_0026664', 'ISIC_0029660', 'ISIC_0024496', 'ISIC_0028415', 'ISIC_0028041', 'ISIC_0028696', 'ISIC_0029343', 'ISIC_0030552', 'ISIC_0029726', 'ISIC_0029513', 'ISIC_0024853', 'ISIC_0028916', 'ISIC_0028029', 'ISIC_0030824', 'ISIC_0028325', 'ISIC_0024537', 'ISIC_0031310', 'ISIC_0032408', 'ISIC_0030440', 'ISIC_0024732', 'ISIC_0025489', 'ISIC_0025265', 'ISIC_0028489', 'ISIC_0026236', 'ISIC_0028317', 'ISIC_0031013', 'ISIC_0028969', 'ISIC_0032441', 'ISIC_0030324', 'ISIC_0025394', 'ISIC_0027260', 'ISIC_0027604', 'ISIC_0029434', 'ISIC_0026963', 'ISIC_0028211', 'ISIC_0027300', 'ISIC_0028512', 'ISIC_0024310', 'ISIC_0033496', 'ISIC_0032927', 'ISIC_0024865', 'ISIC_0025324', 'ISIC_0026996', 'ISIC_0030681', 'ISIC_0027327', 'ISIC_0025589', 'ISIC_0024756', 'ISIC_0029562', 'ISIC_0029453', 'ISIC_0034071', 'ISIC_0033573', 'ISIC_0026086', 'ISIC_0025035', 'ISIC_0027776', 'ISIC_0025835', 'ISIC_0030828', 'ISIC_0032847', 'ISIC_0033654', 'ISIC_0030575', 'ISIC_0033931', 'ISIC_0033268', 'ISIC_0032750', 'ISIC_0032888', 'ISIC_0033968', 'ISIC_0033333', 'ISIC_0033717', 'ISIC_0034120', 'ISIC_0032532', 'ISIC_0033500', 'ISIC_0033834', 'ISIC_0033678', 'ISIC_0034046', 'ISIC_0032550', 'ISIC_0033700', 'ISIC_0026188', 'ISIC_0032604', 'ISIC_0033428', 'ISIC_0028746', 'ISIC_0033975', 'ISIC_0033278', 'ISIC_0033679', 'ISIC_0034141', 'ISIC_0033643', 'ISIC_0032629', 'ISIC_0033152', 'ISIC_0033636', 'ISIC_0029909', 'ISIC_0033432', 'ISIC_0032833', 'ISIC_0034236', 'ISIC_0033027', 'ISIC_0034118', 'ISIC_0033476', 'ISIC_0033047', 'ISIC_0025987', 'ISIC_0032017', 'ISIC_0033946', 'ISIC_0033369', 'ISIC_0032447', 'ISIC_0033655', 'ISIC_0033831', 'ISIC_0032583', 'ISIC_0034162', 'ISIC_0032187', 'ISIC_0032976', 'ISIC_0033274', 'ISIC_0026745', 'ISIC_0033034', 'ISIC_0034294', 'ISIC_0034202', 'ISIC_0033416', 'ISIC_0032662', 'ISIC_0033452', 'ISIC_0033074', 'ISIC_0034087', 'ISIC_0032722', 'ISIC_0033204', 'ISIC_0033953', 'ISIC_0032823', 'ISIC_0032733', 'ISIC_0033183', 'ISIC_0032564', 'ISIC_0034140', 'ISIC_0034256', 'ISIC_0032984', 'ISIC_0033362', 'ISIC_0033947', 'ISIC_0033881', 'ISIC_0029363', 'ISIC_0033820', 'ISIC_0033814', 'ISIC_0032875', 'ISIC_0033802', 'ISIC_0033429', 'ISIC_0032685', 'ISIC_0032903', 'ISIC_0033323', 'ISIC_0032637', 'ISIC_0032993', 'ISIC_0033804', 'ISIC_0033801', 'ISIC_0033216', 'ISIC_0033154', 'ISIC_0033192', 'ISIC_0027100', 'ISIC_0034222', 'ISIC_0032569', 'ISIC_0034064', 'ISIC_0033902', 'ISIC_0032774', 'ISIC_0032840', 'ISIC_0034313', 'ISIC_0033570', 'ISIC_0032602', 'ISIC_0032724', 'ISIC_0033129', 'ISIC_0033180', 'ISIC_0033962', 'ISIC_0033603', 'ISIC_0033325', 'ISIC_0034208', 'ISIC_0033068', 'ISIC_0034218', 'ISIC_0034263', 'ISIC_0034262', 'ISIC_0033103', 'ISIC_0034106', 'ISIC_0033725', 'ISIC_0032537', 'ISIC_0033287', 'ISIC_0033286', 'ISIC_0032586', 'ISIC_0029632', 'ISIC_0033485', 'ISIC_0033175', 'ISIC_0033886', 'ISIC_0032892', 'ISIC_0033942', 'ISIC_0033473', 'ISIC_0030564', 'ISIC_0033337', 'ISIC_0033594', 'ISIC_0029209', 'ISIC_0026976', 'ISIC_0033275', 'ISIC_0033938', 'ISIC_0032841', 'ISIC_0033819', 'ISIC_0032544', 'ISIC_0032844', 'ISIC_0032921', 'ISIC_0034117', 'ISIC_0033415', 'ISIC_0033240', 'ISIC_0032782', 'ISIC_0032522', 'ISIC_0033595', 'ISIC_0034059', 'ISIC_0033063', 'ISIC_0033174', 'ISIC_0033239', 'ISIC_0033985', 'ISIC_0032726', 'ISIC_0033272', 'ISIC_0032718', 'ISIC_0032736', 'ISIC_0033317', 'ISIC_0034269', 'ISIC_0033956', 'ISIC_0033241', 'ISIC_0032598', 'ISIC_0034289', 'ISIC_0033980', 'ISIC_0032533', 'ISIC_0033986', 'ISIC_0033004', 'ISIC_0024900', 'ISIC_0032072', 'ISIC_0033578', 'ISIC_0034100', 'ISIC_0032940', 'ISIC_0032511', 'ISIC_0033687', 'ISIC_0034085', 'ISIC_0033299', 'ISIC_0033479', 'ISIC_0033522', 'ISIC_0033911', 'ISIC_0033779', 'ISIC_0032638', 'ISIC_0032603', 'ISIC_0033871', 'ISIC_0032955', 'ISIC_0032812', 'ISIC_0033619', 'ISIC_0034065', 'ISIC_0034132', 'ISIC_0033038', 'ISIC_0033630', 'ISIC_0032879', 'ISIC_0034012', 'ISIC_0034150', 'ISIC_0028082', 'ISIC_0033209', 'ISIC_0034074', 'ISIC_0032699', 'ISIC_0033848', 'ISIC_0032622', 'ISIC_0034246', 'ISIC_0032915', 'ISIC_0028460', 'ISIC_0033883', 'ISIC_0034145', 'ISIC_0032981', 'ISIC_0033470', 'ISIC_0034094', 'ISIC_0033560', 'ISIC_0034061', 'ISIC_0032716', 'ISIC_0034159', 'ISIC_0024482', 'ISIC_0033477', 'ISIC_0034092', 'ISIC_0033863', 'ISIC_0034180', 'ISIC_0033267', 'ISIC_0034005', 'ISIC_0033872', 'ISIC_0032617', 'ISIC_0032965', 'ISIC_0034242', 'ISIC_0033117', 'ISIC_0034104', 'ISIC_0032547', 'ISIC_0033644', 'ISIC_0033806', 'ISIC_0032913', 'ISIC_0033651', 'ISIC_0033304', 'ISIC_0032806', 'ISIC_0033624', 'ISIC_0033238', 'ISIC_0034089', 'ISIC_0034048', 'ISIC_0033905', 'ISIC_0033981', 'ISIC_0033336', 'ISIC_0033405', 'ISIC_0034188', 'ISIC_0033269', 'ISIC_0033569', 'ISIC_0032535', 'ISIC_0033042', 'ISIC_0032081', 'ISIC_0034034', 'ISIC_0033217', 'ISIC_0033728', 'ISIC_0033901', 'ISIC_0032917', 'ISIC_0032925', 'ISIC_0032797', 'ISIC_0032596', 'ISIC_0032856', 'ISIC_0033193', 'ISIC_0033125', 'ISIC_0032810', 'ISIC_0033324', 'ISIC_0034316', 'ISIC_0033710', 'ISIC_0033469', 'ISIC_0033663', 'ISIC_0034284', 'ISIC_0031709', 'ISIC_0032517', 'ISIC_0032684', 'ISIC_0034052', 'ISIC_0033171', 'ISIC_0034022', 'ISIC_0033017', 'ISIC_0033874', 'ISIC_0033754', 'ISIC_0032938', 'ISIC_0025531', 'ISIC_0032610', 'ISIC_0032958', 'ISIC_0033538', 'ISIC_0032836', 'ISIC_0033444', 'ISIC_0034183', 'ISIC_0033426', 'ISIC_0033546', 'ISIC_0032869', 'ISIC_0033524', 'ISIC_0034101', 'ISIC_0030333', 'ISIC_0032695', 'ISIC_0033310', 'ISIC_0027306', 'ISIC_0034253', 'ISIC_0033120', 'ISIC_0033081', 'ISIC_0034211', 'ISIC_0028410', 'ISIC_0033545', 'ISIC_0026430', 'ISIC_0033141', 'ISIC_0033261', 'ISIC_0032766', 'ISIC_0030031', 'ISIC_0028655', 'ISIC_0032531', 'ISIC_0032970', 'ISIC_0027402', 'ISIC_0030391', 'ISIC_0032845', 'ISIC_0034036', 'ISIC_0030238', 'ISIC_0032968', 'ISIC_0029265', 'ISIC_0032462', 'ISIC_0033704', 'ISIC_0034239', 'ISIC_0034287', 'ISIC_0031479', 'ISIC_0033166', 'ISIC_0033320', 'ISIC_0032526', 'ISIC_0033813', 'ISIC_0032624', 'ISIC_0033977', 'ISIC_0034002', 'ISIC_0033387', 'ISIC_0025592', 'ISIC_0032552', 'ISIC_0033279', 'ISIC_0032887', 'ISIC_0034205', 'ISIC_0033612', 'ISIC_0034049', 'ISIC_0033300', 'ISIC_0033616', 'ISIC_0029606', 'ISIC_0033099', 'ISIC_0032723', 'ISIC_0032751', 'ISIC_0032597', 'ISIC_0032982', 'ISIC_0033196', 'ISIC_0032653', 'ISIC_0032730', 'ISIC_0032709', 'ISIC_0033206', 'ISIC_0033518', 'ISIC_0033843', 'ISIC_0033344', 'ISIC_0032988', 'ISIC_0033812', 'ISIC_0033653', 'ISIC_0032698', 'ISIC_0033611', 'ISIC_0033586', 'ISIC_0033226', 'ISIC_0033198', 'ISIC_0032790', 'ISIC_0033245', 'ISIC_0033029', 'ISIC_0030883', 'ISIC_0028582', 'ISIC_0033670', 'ISIC_0029740', 'ISIC_0033593', 'ISIC_0032212', 'ISIC_0025775', 'ISIC_0029828', 'ISIC_0031588', 'ISIC_0028502', 'ISIC_0028239', 'ISIC_0031325', 'ISIC_0032115', 'ISIC_0025251', 'ISIC_0025843', 'ISIC_0031503', 'ISIC_0025384', 'ISIC_0032446', 'ISIC_0032285', 'ISIC_0027347', 'ISIC_0029979', 'ISIC_0029624', 'ISIC_0024415', 'ISIC_0025311', 'ISIC_0026425', 'ISIC_0026555', 'ISIC_0031282', 'ISIC_0029961', 'ISIC_0026583', 'ISIC_0032226', 'ISIC_0031536', 'ISIC_0026681', 'ISIC_0026780', 'ISIC_0025218', 'ISIC_0026211', 'ISIC_0025457', 'ISIC_0029594', 'ISIC_0031575', 'ISIC_0028266', 'ISIC_0032060', 'ISIC_0029303', 'ISIC_0026054', 'ISIC_0029347', 'ISIC_0028727', 'ISIC_0027315', 'ISIC_0028455', 'ISIC_0030435', 'ISIC_0024535', 'ISIC_0026824', 'ISIC_0024968', 'ISIC_0025320', 'ISIC_0031184', 'ISIC_0024828', 'ISIC_0027725', 'ISIC_0028298', 'ISIC_0024364', 'ISIC_0031269', 'ISIC_0025398', 'ISIC_0030035', 'ISIC_0031403', 'ISIC_0026011', 'ISIC_0026518', 'ISIC_0030993', 'ISIC_0027479', 'ISIC_0031068', 'ISIC_0025338', 'ISIC_0030791', 'ISIC_0031463', 'ISIC_0027944', 'ISIC_0031974', 'ISIC_0024896', 'ISIC_0029153', 'ISIC_0028480', 'ISIC_0030517', 'ISIC_0031455', 'ISIC_0026768', 'ISIC_0029569', 'ISIC_0029351', 'ISIC_0024376', 'ISIC_0030102', 'ISIC_0031486', 'ISIC_0029526', 'ISIC_0028446', 'ISIC_0031895', 'ISIC_0030072', 'ISIC_0025723', 'ISIC_0024872', 'ISIC_0031935', 'ISIC_0030820', 'ISIC_0032210', 'ISIC_0031845', 'ISIC_0027278', 'ISIC_0026641', 'ISIC_0028185', 'ISIC_0028090', 'ISIC_0028879', 'ISIC_0030148', 'ISIC_0029540', 'ISIC_0028924', 'ISIC_0032016', 'ISIC_0032048', 'ISIC_0026255', 'ISIC_0030013', 'ISIC_0031371', 'ISIC_0025585', 'ISIC_0030523', 'ISIC_0031100', 'ISIC_0031671', 'ISIC_0025079', 'ISIC_0029637', 'ISIC_0024979', 'ISIC_0024462', 'ISIC_0025415', 'ISIC_0027974', 'ISIC_0031207', 'ISIC_0025143', 'ISIC_0030918', 'ISIC_0025161', 'ISIC_0031926', 'ISIC_0027324', 'ISIC_0031652', 'ISIC_0030846', 'ISIC_0029829', 'ISIC_0025407', 'ISIC_0031297', 'ISIC_0032391', 'ISIC_0029149', 'ISIC_0032169', 'ISIC_0024584', 'ISIC_0029870', 'ISIC_0028164', 'ISIC_0025528', 'ISIC_0027000', 'ISIC_0027221', 'ISIC_0031833', 'ISIC_0028289', 'ISIC_0031164', 'ISIC_0029998', 'ISIC_0031579', 'ISIC_0027810', 'ISIC_0026339', 'ISIC_0032317', 'ISIC_0029997', 'ISIC_0029685', 'ISIC_0025053', 'ISIC_0030338', 'ISIC_0030907', 'ISIC_0030428', 'ISIC_0026039', 'ISIC_0029373', 'ISIC_0025692', 'ISIC_0030421', 'ISIC_0029911', 'ISIC_0030682', 'ISIC_0027634', 'ISIC_0024357', 'ISIC_0026755', 'ISIC_0027784', 'ISIC_0028359', 'ISIC_0031332', 'ISIC_0031966', 'ISIC_0027268', 'ISIC_0026948', 'ISIC_0026246', 'ISIC_0028889', 'ISIC_0032501', 'ISIC_0028779', 'ISIC_0025095', 'ISIC_0027585', 'ISIC_0028302', 'ISIC_0026038', 'ISIC_0028917', 'ISIC_0029888', 'ISIC_0024861', 'ISIC_0032087', 'ISIC_0032387', 'ISIC_0026172', 'ISIC_0031604', 'ISIC_0027808', 'ISIC_0025593', 'ISIC_0025487', 'ISIC_0029273', 'ISIC_0025206', 'ISIC_0027854', 'ISIC_0027752', 'ISIC_0025416', 'ISIC_0030617', 'ISIC_0029496', 'ISIC_0025287', 'ISIC_0024327', 'ISIC_0027339', 'ISIC_0028339', 'ISIC_0031331', 'ISIC_0025432', 'ISIC_0026557', 'ISIC_0027170', 'ISIC_0031997', 'ISIC_0030669', 'ISIC_0032490', 'ISIC_0030642', 'ISIC_0025364', 'ISIC_0027703', 'ISIC_0030050', 'ISIC_0026234', 'ISIC_0024365', 'ISIC_0025934', 'ISIC_0025675', 'ISIC_0030573', 'ISIC_0029293', 'ISIC_0025325', 'ISIC_0027717', 'ISIC_0029966', 'ISIC_0028424', 'ISIC_0027411', 'ISIC_0025636', 'ISIC_0026036', 'ISIC_0024945', 'ISIC_0028932', 'ISIC_0027732', 'ISIC_0031106', 'ISIC_0026214', 'ISIC_0025676', 'ISIC_0025142', 'ISIC_0024407', 'ISIC_0032434', 'ISIC_0030016', 'ISIC_0026806', 'ISIC_0025365', 'ISIC_0027160', 'ISIC_0028395', 'ISIC_0028515', 'ISIC_0030287', 'ISIC_0027316', 'ISIC_0026621', 'ISIC_0029239', 'ISIC_0027426', 'ISIC_0025914', 'ISIC_0030888', 'ISIC_0025501', 'ISIC_0030599', 'ISIC_0032153', 'ISIC_0025201', 'ISIC_0029523', 'ISIC_0030541', 'ISIC_0032211', 'ISIC_0027836', 'ISIC_0026565', 'ISIC_0027195', 'ISIC_0028682', 'ISIC_0029112', 'ISIC_0026399', 'ISIC_0029290', 'ISIC_0025749', 'ISIC_0029258', 'ISIC_0025224', 'ISIC_0031388', 'ISIC_0026098', 'ISIC_0028482', 'ISIC_0028034', 'ISIC_0029336', 'ISIC_0027429', 'ISIC_0028690', 'ISIC_0026585', 'ISIC_0025353', 'ISIC_0026914', 'ISIC_0024980', 'ISIC_0031653', 'ISIC_0028353', 'ISIC_0030128', 'ISIC_0032100', 'ISIC_0026169', 'ISIC_0031632', 'ISIC_0025813', 'ISIC_0031453', 'ISIC_0026242', 'ISIC_0030214', 'ISIC_0027422', 'ISIC_0025722', 'ISIC_0031099', 'ISIC_0028282', 'ISIC_0028639', 'ISIC_0028136', 'ISIC_0026435', 'ISIC_0026476', 'ISIC_0031773', 'ISIC_0031881', 'ISIC_0026283', 'ISIC_0029892', 'ISIC_0027912', 'ISIC_0029943', 'ISIC_0029561', 'ISIC_0026682', 'ISIC_0027416', 'ISIC_0028848', 'ISIC_0028862', 'ISIC_0024746', 'ISIC_0029044', 'ISIC_0028054', 'ISIC_0030550', 'ISIC_0031704', 'ISIC_0030235', 'ISIC_0024580', 'ISIC_0025930', 'ISIC_0031701', 'ISIC_0028594', 'ISIC_0031185', 'ISIC_0024369', 'ISIC_0029463', 'ISIC_0029815', 'ISIC_0028196', 'ISIC_0030968', 'ISIC_0029008', 'ISIC_0024636', 'ISIC_0032025', 'ISIC_0031157', 'ISIC_0031234', 'ISIC_0031907', 'ISIC_0025966', 'ISIC_0027834', 'ISIC_0025922', 'ISIC_0032254', 'ISIC_0024544', 'ISIC_0030903', 'ISIC_0025994', 'ISIC_0028962', 'ISIC_0030292', 'ISIC_0029015', 'ISIC_0025205', 'ISIC_0028668', 'ISIC_0031730', 'ISIC_0030469', 'ISIC_0030170', 'ISIC_0025056', 'ISIC_0026232', 'ISIC_0030322', 'ISIC_0030885', 'ISIC_0031638', 'ISIC_0026562', 'ISIC_0028270', 'ISIC_0027576', 'ISIC_0027389', 'ISIC_0031330', 'ISIC_0024433', 'ISIC_0032011', 'ISIC_0030540', 'ISIC_0031151', 'ISIC_0024593', 'ISIC_0029184', 'ISIC_0030308', 'ISIC_0030470', 'ISIC_0025221', 'ISIC_0027124', 'ISIC_0032366', 'ISIC_0028827', 'ISIC_0027816', 'ISIC_0028539', 'ISIC_0030936', 'ISIC_0030168', 'ISIC_0031229', 'ISIC_0031777', 'ISIC_0025558', 'ISIC_0026520', 'ISIC_0028007', 'ISIC_0024692', 'ISIC_0030729', 'ISIC_0030457', 'ISIC_0029729', 'ISIC_0028768', 'ISIC_0026383', 'ISIC_0025794', 'ISIC_0028888', 'ISIC_0028137', 'ISIC_0027691', 'ISIC_0024473', 'ISIC_0024791', 'ISIC_0028805', 'ISIC_0032442', 'ISIC_0025255', 'ISIC_0026778', 'ISIC_0028462', 'ISIC_0025052', 'ISIC_0030302', 'ISIC_0028812', 'ISIC_0031606', 'ISIC_0031422', 'ISIC_0032453', 'ISIC_0029784', 'ISIC_0029633', 'ISIC_0027136', 'ISIC_0028546', 'ISIC_0028111', 'ISIC_0030880', 'ISIC_0025041', 'ISIC_0027763', 'ISIC_0026700', 'ISIC_0031174', 'ISIC_0031319', 'ISIC_0028025', 'ISIC_0027572', 'ISIC_0027212', 'ISIC_0030376', 'ISIC_0029822', 'ISIC_0027886', 'ISIC_0031776', 'ISIC_0027932', 'ISIC_0029385', 'ISIC_0026986', 'ISIC_0024464', 'ISIC_0027301', 'ISIC_0026836', 'ISIC_0028864', 'ISIC_0029918', 'ISIC_0028694', 'ISIC_0025044', 'ISIC_0025635', 'ISIC_0031237', 'ISIC_0026613', 'ISIC_0025508', 'ISIC_0029876', 'ISIC_0024788', 'ISIC_0028975', 'ISIC_0029701', 'ISIC_0027843', 'ISIC_0029118', 'ISIC_0026185', 'ISIC_0026137', 'ISIC_0028523', 'ISIC_0030536', 'ISIC_0030902', 'ISIC_0024493', 'ISIC_0026891', 'ISIC_0028260', 'ISIC_0024863', 'ISIC_0031837', 'ISIC_0030774', 'ISIC_0030041', 'ISIC_0025615', 'ISIC_0029317', 'ISIC_0025900', 'ISIC_0030797', 'ISIC_0031690', 'ISIC_0026594', 'ISIC_0026936', 'ISIC_0026075', 'ISIC_0024512', 'ISIC_0027939', 'ISIC_0027164', 'ISIC_0029619', 'ISIC_0024637', 'ISIC_0027276', 'ISIC_0024879', 'ISIC_0030906', 'ISIC_0025120', 'ISIC_0031291', 'ISIC_0031947', 'ISIC_0030904', 'ISIC_0024868', 'ISIC_0024884', 'ISIC_0031938', 'ISIC_0027290', 'ISIC_0029386', 'ISIC_0027220', 'ISIC_0029410', 'ISIC_0029675', 'ISIC_0029751', 'ISIC_0026175', 'ISIC_0030293', 'ISIC_0031035', 'ISIC_0029604', 'ISIC_0028967', 'ISIC_0031771', 'ISIC_0028044', 'ISIC_0031572', 'ISIC_0032426', 'ISIC_0030411', 'ISIC_0030315', 'ISIC_0030269', 'ISIC_0028597', 'ISIC_0031571', 'ISIC_0032059', 'ISIC_0031069', 'ISIC_0024348', 'ISIC_0028356', 'ISIC_0027919', 'ISIC_0031219', 'ISIC_0031781', 'ISIC_0024690', 'ISIC_0025175', 'ISIC_0028175', 'ISIC_0025444', 'ISIC_0025274', 'ISIC_0030120', 'ISIC_0026057', 'ISIC_0025878', 'ISIC_0027375', 'ISIC_0031534', 'ISIC_0025613', 'ISIC_0027564', 'ISIC_0027145', 'ISIC_0025256', 'ISIC_0026465', 'ISIC_0026256', 'ISIC_0028365', 'ISIC_0028108', 'ISIC_0031477', 'ISIC_0031153', 'ISIC_0030483', 'ISIC_0024421', 'ISIC_0026366', 'ISIC_0027661', 'ISIC_0025192', 'ISIC_0027085', 'ISIC_0027251', 'ISIC_0031995', 'ISIC_0028572', 'ISIC_0026168', 'ISIC_0029469', 'ISIC_0030289', 'ISIC_0028933', 'ISIC_0027356', 'ISIC_0030836', 'ISIC_0029618', 'ISIC_0030204', 'ISIC_0028242', 'ISIC_0028699', 'ISIC_0030003', 'ISIC_0032321', 'ISIC_0030658', 'ISIC_0032193', 'ISIC_0030944', 'ISIC_0025298', 'ISIC_0030566', 'ISIC_0028142', 'ISIC_0028613', 'ISIC_0024887', 'ISIC_0027121', 'ISIC_0028466', 'ISIC_0027591', 'ISIC_0030400', 'ISIC_0030282', 'ISIC_0028935', 'ISIC_0024985', 'ISIC_0025514', 'ISIC_0026136', 'ISIC_0024856', 'ISIC_0028921', 'ISIC_0024598', 'ISIC_0025054', 'ISIC_0029703', 'ISIC_0031699', 'ISIC_0031213', 'ISIC_0031038', 'ISIC_0032337', 'ISIC_0029211', 'ISIC_0027467', 'ISIC_0031102', 'ISIC_0026659', 'ISIC_0032231', 'ISIC_0028869', 'ISIC_0028705', 'ISIC_0028775', 'ISIC_0025080', 'ISIC_0029950', 'ISIC_0025910', 'ISIC_0030761', 'ISIC_0031402', 'ISIC_0031461', 'ISIC_0030862', 'ISIC_0030049', 'ISIC_0025536', 'ISIC_0027318', 'ISIC_0032162', 'ISIC_0025979', 'ISIC_0026021', 'ISIC_0025375', 'ISIC_0026079', 'ISIC_0030957', 'ISIC_0025833', 'ISIC_0030547', 'ISIC_0031288', 'ISIC_0027106', 'ISIC_0031392', 'ISIC_0025947', 'ISIC_0031909', 'ISIC_0026822', 'ISIC_0025559', 'ISIC_0030787', 'ISIC_0030000', 'ISIC_0028819', 'ISIC_0026460', 'ISIC_0028426', 'ISIC_0031199', 'ISIC_0029023', 'ISIC_0026960', 'ISIC_0027764', 'ISIC_0026817', 'ISIC_0029274', 'ISIC_0027165', 'ISIC_0031250', 'ISIC_0025084', 'ISIC_0028337', 'ISIC_0031438', 'ISIC_0028077', 'ISIC_0029132', 'ISIC_0024429', 'ISIC_0029972', 'ISIC_0030519', 'ISIC_0026949', 'ISIC_0028428', 'ISIC_0026225', 'ISIC_0029142', 'ISIC_0028861', 'ISIC_0027373', 'ISIC_0031021', 'ISIC_0028319', 'ISIC_0024309', 'ISIC_0031469']\n",
            "1228\n"
          ]
        }
      ],
      "source": [
        "print(dx)\n",
        "print(dx_labels)\n",
        "melC = 0\n",
        "nvC = 0\n",
        "indexLst = []\n",
        "for i in range(len(dx)):\n",
        "  if dx[i] == \"nv\" and nvC < 614:\n",
        "    indexLst.append(i)\n",
        "    nvC += 1\n",
        "  if dx[i] == \"mel\" and melC < 614:\n",
        "    indexLst.append(i)\n",
        "    melC +=1\n",
        "\n",
        "\n",
        "image_id2 = []\n",
        "dx2 =[]\n",
        "for i in indexLst:\n",
        "  image_id2.append(image_id[i])\n",
        "  dx2.append(dx[i])\n",
        "\n",
        "print(image_id2)\n",
        "print(len(dx2))\n",
        "\n",
        "dx = dx2\n",
        "# dx_type = metadata_df['dx_type'].to_list()\n",
        "image_id = image_id2\n",
        "le = preprocessing.LabelEncoder()\n",
        "dx_labels = list(le.fit_transform(dx))"
      ]
    },
    {
      "cell_type": "code",
      "execution_count": 5,
      "metadata": {
        "colab": {
          "base_uri": "https://localhost:8080/"
        },
        "id": "NSviWqebNpz2",
        "outputId": "8a9fc841-02bd-43af-d044-d29c2c49aba1"
      },
      "outputs": [
        {
          "data": {
            "text/plain": [
              "1228"
            ]
          },
          "execution_count": 5,
          "metadata": {},
          "output_type": "execute_result"
        }
      ],
      "source": [
        "len(image_id)"
      ]
    },
    {
      "cell_type": "code",
      "execution_count": 6,
      "metadata": {
        "id": "yIdyAXuktRg6"
      },
      "outputs": [],
      "source": [
        "X_train, X_temp, y_train, y_temp = train_test_split(image_id, dx_labels, stratify=dx_labels, test_size=0.201)\n",
        "X_val, X_test, y_val, y_test = train_test_split(X_temp, y_temp, stratify=y_temp, test_size=0.5)\n",
        "\n",
        "sample_num = 0\n",
        "splits = ['train', 'test', 'val']\n",
        "X_data = [X_train, X_test, X_val]\n",
        "y_data = [y_train, y_test, y_val]\n",
        "for j in range(0, len(splits)):\n",
        "    for i in range(0, len(X_data[j])):\n",
        "        destination = '/home/uditha/snap/snapd-desktop-integration/current/Desktop/FYP/dataset/VIT/BaseViT/' + splits[j] + '/' + str(y_data[j][i]) + '/' + X_data[j][i] + '.jpg'\n",
        "        source = '/home/uditha/snap/snapd-desktop-integration/current/Desktop/FYP/dataset/ham10000/' + X_data[j][i] + '.jpg'\n",
        "        os.system(\"cp \" + \" \" + source + \" \" + destination)\n",
        "        sample_num+=1"
      ]
    },
    {
      "cell_type": "code",
      "execution_count": 7,
      "metadata": {
        "colab": {
          "base_uri": "https://localhost:8080/"
        },
        "id": "xTbopkDAspdG",
        "outputId": "17f598f6-683f-49ea-f704-2241057be009"
      },
      "outputs": [
        {
          "name": "stdout",
          "output_type": "stream",
          "text": [
            "981\n",
            "124\n",
            "123\n"
          ]
        }
      ],
      "source": [
        "print(len(X_data[0]))\n",
        "print(len(X_data[1]))\n",
        "print(len(X_data[2]))\n"
      ]
    },
    {
      "cell_type": "code",
      "execution_count": 8,
      "metadata": {},
      "outputs": [
        {
          "data": {
            "text/plain": [
              "981"
            ]
          },
          "execution_count": 8,
          "metadata": {},
          "output_type": "execute_result"
        }
      ],
      "source": [
        "len(y_train)"
      ]
    },
    {
      "cell_type": "code",
      "execution_count": 9,
      "metadata": {
        "id": "LPDccGq31alo"
      },
      "outputs": [],
      "source": [
        "# !ls /content/gdrive/MyDrive/VIT/BaseVit/Dataset"
      ]
    },
    {
      "cell_type": "markdown",
      "metadata": {
        "id": "yQ5TBzDGvOeQ"
      },
      "source": [
        "## ViT base"
      ]
    },
    {
      "cell_type": "code",
      "execution_count": 10,
      "metadata": {
        "colab": {
          "base_uri": "https://localhost:8080/"
        },
        "id": "bKi4AoOeyCgZ",
        "outputId": "7cd78e47-0a8d-4079-c21e-12fec34af9db"
      },
      "outputs": [],
      "source": [
        "# !pip install vit-pytorch\n",
        "# !pip3 install seaborn\n"
      ]
    },
    {
      "cell_type": "code",
      "execution_count": 11,
      "metadata": {
        "id": "-20XYiuuvdHK"
      },
      "outputs": [],
      "source": [
        "from __future__ import print_function\n",
        "from PIL import Image\n",
        "from vit_pytorch import ViT\n",
        "import torch.nn as nn\n",
        "import torch.optim as optim\n",
        "from torchvision import datasets, transforms\n",
        "from torch.optim.lr_scheduler import StepLR\n",
        "from torch.utils.data import DataLoader, Dataset\n",
        "import glob\n",
        "import pandas as pd\n",
        "from sklearn import preprocessing\n",
        "from sklearn.model_selection import train_test_split\n",
        "import os\n",
        "import pickle\n",
        "import collections\n",
        "import torch\n",
        "import matplotlib.pyplot as plt\n",
        "from sklearn.metrics import confusion_matrix, mean_squared_error, classification_report\n",
        "import numpy as np\n",
        "import seaborn as sn"
      ]
    },
    {
      "cell_type": "code",
      "execution_count": 12,
      "metadata": {
        "id": "yn7vW0U1sICJ"
      },
      "outputs": [],
      "source": [
        "# Setting CUDA Device:\n",
        "torch.cuda.set_device(0)\n",
        "# CUDA_VISIBLE_DEVICES= [1,2]"
      ]
    },
    {
      "cell_type": "code",
      "execution_count": null,
      "metadata": {
        "id": "XanYdlmbsIFJ"
      },
      "outputs": [],
      "source": []
    },
    {
      "cell_type": "code",
      "execution_count": 13,
      "metadata": {
        "id": "bZlIcqgUsIHm"
      },
      "outputs": [],
      "source": [
        "# Importing metadata:\n",
        "total_df = pd.read_csv('/home/uditha/snap/snapd-desktop-integration/current/Desktop/FYP/dataset/ham10000/HAM10000_metadata.csv')\n",
        "file_list = glob.glob(r'/home/uditha/snap/snapd-desktop-integration/current/Desktop/FYP/dataset/HAM1000Zip/skin-cancer-mnist-ham10000/HAM10000_images_part_2/*.jpg')"
      ]
    },
    {
      "cell_type": "code",
      "execution_count": 14,
      "metadata": {
        "colab": {
          "base_uri": "https://localhost:8080/"
        },
        "id": "0TMr4ug9sIK3",
        "outputId": "d91d321c-a001-4edd-960b-aab358821ad8"
      },
      "outputs": [
        {
          "name": "stdout",
          "output_type": "stream",
          "text": [
            "1228\n"
          ]
        }
      ],
      "source": [
        "# Generating labels:\n",
        "y_all = []\n",
        "melC = 0\n",
        "nvC = 0\n",
        "file_list2 = []\n",
        "for name in file_list:\n",
        "    head, tail = os.path.split(name)\n",
        "    # print(head,\"###########\", tail)\n",
        "    tail = tail.replace('.jpg', '')\n",
        "    row = ( total_df.loc [total_df['image_id'] == tail]['dx'] ).values.astype(str)\n",
        "    # print(row)\n",
        "    if str(row[0]) == \"nv\" and nvC < 614:\n",
        "      y_all.append(str(row[0]))\n",
        "      nvC += 1\n",
        "      file_list2.append(name)\n",
        "    if str(row[0]) == \"mel\" and melC < 614:\n",
        "      y_all.append(str(row[0]))\n",
        "      melC +=1\n",
        "      file_list2.append(name)\n",
        "print(len(y_all))\n",
        "    "
      ]
    },
    {
      "cell_type": "code",
      "execution_count": 15,
      "metadata": {
        "id": "VY7640EpcYh2"
      },
      "outputs": [],
      "source": [
        "y_all.count(\"mel\")\n",
        "len(file_list2)\n",
        "file_list = file_list2"
      ]
    },
    {
      "cell_type": "code",
      "execution_count": 16,
      "metadata": {
        "id": "IivK_ZjosINJ"
      },
      "outputs": [],
      "source": [
        "# Encodeing lables:\n",
        "le = preprocessing.LabelEncoder()\n",
        "y_all1 = le.fit_transform(y_all)"
      ]
    },
    {
      "cell_type": "code",
      "execution_count": 17,
      "metadata": {
        "colab": {
          "base_uri": "https://localhost:8080/"
        },
        "id": "J5hmEhAshEaU",
        "outputId": "b82140db-0662-4013-9491-3697932d03a3"
      },
      "outputs": [
        {
          "name": "stdout",
          "output_type": "stream",
          "text": [
            "1228\n"
          ]
        }
      ],
      "source": [
        "# print(y_all)\n",
        "print(len(y_all1))"
      ]
    },
    {
      "cell_type": "code",
      "execution_count": 18,
      "metadata": {
        "id": "vGN6EYHQsIPg"
      },
      "outputs": [],
      "source": [
        "# Applying test train split\n",
        "X_train, X_temp, y_train, y_temp = train_test_split(file_list, y_all1, random_state=1, stratify=y_all1, test_size=0.201)\n",
        "X_val, X_test, y_val, y_test = train_test_split(X_temp, y_temp, random_state=1, stratify=y_temp, test_size=0.5)\n"
      ]
    },
    {
      "cell_type": "code",
      "execution_count": null,
      "metadata": {},
      "outputs": [],
      "source": []
    },
    {
      "cell_type": "code",
      "execution_count": 19,
      "metadata": {
        "colab": {
          "base_uri": "https://localhost:8080/"
        },
        "id": "QtReOMPmyq1h",
        "outputId": "dec23590-eabd-48c5-f0e0-c4013e068dba"
      },
      "outputs": [
        {
          "name": "stdout",
          "output_type": "stream",
          "text": [
            "124\n"
          ]
        }
      ],
      "source": [
        "print(len(X_test))"
      ]
    },
    {
      "cell_type": "code",
      "execution_count": 20,
      "metadata": {
        "id": "xRve1xzesiyk"
      },
      "outputs": [],
      "source": [
        "# Creating Dataset:\n",
        "data_transforms = transforms.Compose(\n",
        "    [\n",
        "        transforms.Resize((224, 224)),\n",
        "        # transforms.RandomHorizontalFlip(),\n",
        "        # transforms.RandomResizedCrop(224),\n",
        "        transforms.ToTensor(),\n",
        "    ]\n",
        ")"
      ]
    },
    {
      "cell_type": "code",
      "execution_count": 21,
      "metadata": {
        "id": "InXGFFCusi6n"
      },
      "outputs": [],
      "source": [
        "class MyDataset(Dataset):\n",
        "    def __init__(self, file_list, y_all, transform=None):\n",
        "        self.file_list = file_list\n",
        "        self.transform = transform\n",
        "        self.y_all = y_all\n",
        "\n",
        "\n",
        "    def __getitem__(self, index1):\n",
        "        img_path = self.file_list[index1]\n",
        "        img = Image.open(img_path)\n",
        "        img_transformed = self.transform(img)\n",
        "        label = self.y_all[index1]\n",
        "        return img_transformed, label\n",
        "\n",
        "    def __len__(self):\n",
        "      return len(self.file_list)\n"
      ]
    },
    {
      "cell_type": "code",
      "execution_count": 22,
      "metadata": {
        "id": "SgMgqBGtsi9C"
      },
      "outputs": [],
      "source": [
        "train_data = MyDataset(X_train, y_train, transform=data_transforms)\n",
        "valid_data = MyDataset(X_val, y_val, transform=data_transforms)\n",
        "test_data = MyDataset(X_test, y_test, transform=data_transforms)\n",
        "\n",
        "# Fixing Dataloader:\n",
        "train_loader = DataLoader(dataset = train_data, batch_size=32, shuffle=True )\n",
        "valid_loader = DataLoader(dataset = valid_data, batch_size=32, shuffle=True)\n",
        "test_loader = DataLoader(dataset = test_data, batch_size=32, shuffle=True)\n"
      ]
    },
    {
      "cell_type": "code",
      "execution_count": 90,
      "metadata": {},
      "outputs": [],
      "source": [
        "X_train = np.array(X_train)\n",
        "X_val = np.array(X_val)\n",
        "X_test = np.array(X_test)\n",
        "\n",
        "\n",
        "y_train = np.array(y_train)\n",
        "y_val = np.array(y_val)\n",
        "y_test = np.array(y_test)"
      ]
    },
    {
      "cell_type": "code",
      "execution_count": 23,
      "metadata": {},
      "outputs": [
        {
          "data": {
            "text/plain": [
              "4"
            ]
          },
          "execution_count": 23,
          "metadata": {},
          "output_type": "execute_result"
        }
      ],
      "source": [
        "len(valid_loader)"
      ]
    },
    {
      "cell_type": "code",
      "execution_count": 24,
      "metadata": {},
      "outputs": [
        {
          "name": "stdout",
          "output_type": "stream",
          "text": [
            "........\n",
            "torch.Size([32, 3, 224, 224])\n",
            "........\n",
            "torch.Size([32, 3, 224, 224])\n",
            "........\n",
            "torch.Size([32, 3, 224, 224])\n",
            "........\n",
            "torch.Size([32, 3, 224, 224])\n",
            "........\n",
            "torch.Size([32, 3, 224, 224])\n",
            "........\n",
            "torch.Size([32, 3, 224, 224])\n",
            "........\n",
            "torch.Size([32, 3, 224, 224])\n",
            "........\n",
            "torch.Size([32, 3, 224, 224])\n",
            "........\n",
            "torch.Size([32, 3, 224, 224])\n",
            "........\n",
            "torch.Size([32, 3, 224, 224])\n",
            "........\n",
            "torch.Size([32, 3, 224, 224])\n",
            "........\n",
            "torch.Size([32, 3, 224, 224])\n",
            "........\n",
            "torch.Size([32, 3, 224, 224])\n",
            "........\n",
            "torch.Size([32, 3, 224, 224])\n",
            "........\n",
            "torch.Size([32, 3, 224, 224])\n",
            "........\n",
            "torch.Size([32, 3, 224, 224])\n",
            "........\n",
            "torch.Size([32, 3, 224, 224])\n",
            "........\n",
            "torch.Size([32, 3, 224, 224])\n",
            "........\n",
            "torch.Size([32, 3, 224, 224])\n",
            "........\n",
            "torch.Size([32, 3, 224, 224])\n",
            "........\n",
            "torch.Size([32, 3, 224, 224])\n",
            "........\n",
            "torch.Size([32, 3, 224, 224])\n",
            "........\n",
            "torch.Size([32, 3, 224, 224])\n",
            "........\n",
            "torch.Size([32, 3, 224, 224])\n",
            "........\n",
            "torch.Size([32, 3, 224, 224])\n",
            "........\n",
            "torch.Size([32, 3, 224, 224])\n",
            "........\n",
            "torch.Size([32, 3, 224, 224])\n",
            "........\n",
            "torch.Size([32, 3, 224, 224])\n",
            "........\n",
            "torch.Size([32, 3, 224, 224])\n",
            "........\n",
            "torch.Size([32, 3, 224, 224])\n",
            "........\n",
            "torch.Size([21, 3, 224, 224])\n"
          ]
        }
      ],
      "source": [
        "for data, label in train_loader:\n",
        "    print(\"........\")\n",
        "    print(data.size())"
      ]
    },
    {
      "cell_type": "code",
      "execution_count": 25,
      "metadata": {},
      "outputs": [],
      "source": [
        "# Hyperparameters:\n",
        "num_epochs = 100\n",
        "# batch_size_list = [32, 64, 128]\n",
        "batch_size = 32\n",
        "# lr_list = [3e-5, 2e-4, 1e-3, 5e-6]\n",
        "lr_list = [0.0001]\n",
        "# gamma_list = [0.9, 0.7]  # for learning rate scheduler\n",
        "gamma_list = [0.7]"
      ]
    },
    {
      "cell_type": "code",
      "execution_count": 26,
      "metadata": {
        "id": "zky8VzIvsi_b"
      },
      "outputs": [],
      "source": [
        "\n",
        "# Model Specifications\n",
        "model = ViT(\n",
        "    image_size = 224,\n",
        "    patch_size = 32,\n",
        "    num_classes = 2,\n",
        "    dim = 1024,\n",
        "    depth = 6,\n",
        "    heads = 16,\n",
        "    mlp_dim = 2048,\n",
        "    dropout = 0.1,\n",
        "    emb_dropout = 0.1\n",
        ").to(torch.device(\"cuda\"))\n",
        "\n"
      ]
    },
    {
      "cell_type": "code",
      "execution_count": 63,
      "metadata": {},
      "outputs": [],
      "source": [
        "input_shape=(224,224,3)\n",
        "image_size=224"
      ]
    },
    {
      "cell_type": "code",
      "execution_count": 67,
      "metadata": {},
      "outputs": [],
      "source": [
        "@tf.function\n",
        "def load(image_file, target):\n",
        "    image = tf.io.read_file(image_file)\n",
        "    image = tf.image.decode_jpeg(image)\n",
        "\n",
        "    image_ = tf.cast(image, tf.float32)\n",
        "    return image_, target"
      ]
    },
    {
      "cell_type": "code",
      "execution_count": 71,
      "metadata": {},
      "outputs": [],
      "source": [
        "\n",
        "X_train = np.asarray(X_train)\n",
        "train_batch = (\n",
        "    tf.data.Dataset\n",
        "    .from_tensor_slices((X_train,y_train))\n",
        "    .map(load, num_parallel_calls=AUTOTUNE)\n",
        "    .shuffle(7)\n",
        "    .batch(X_train.shape[0]-100)\n",
        ")"
      ]
    },
    {
      "cell_type": "code",
      "execution_count": 69,
      "metadata": {},
      "outputs": [],
      "source": [
        "import numpy as np \n",
        "import pandas as pd \n",
        "import os\n",
        "import gc\n",
        "from sklearn.model_selection import train_test_split\n",
        "\n",
        "import tensorflow as tf\n",
        "from tensorflow import keras\n",
        "from tensorflow.keras import layers\n",
        "import tensorflow_addons as tfa\n",
        "\n",
        "# Display\n",
        "from IPython.display import Image, display\n",
        "import matplotlib.pyplot as plt\n",
        "import matplotlib.cm as cm\n",
        "\n",
        "\n",
        "AUTOTUNE = tf.data.experimental.AUTOTUNE"
      ]
    },
    {
      "cell_type": "code",
      "execution_count": 72,
      "metadata": {},
      "outputs": [
        {
          "name": "stderr",
          "output_type": "stream",
          "text": [
            "2023-04-11 11:45:13.780621: I tensorflow/core/common_runtime/executor.cc:1197] [/device:CPU:0] (DEBUG INFO) Executor start aborting (this does not indicate an error and you can ignore this message): INVALID_ARGUMENT: You must feed a value for placeholder tensor 'Placeholder/_0' with dtype string and shape [981]\n",
            "\t [[{{node Placeholder/_0}}]]\n",
            "2023-04-11 11:45:13.780886: I tensorflow/core/common_runtime/executor.cc:1197] [/device:CPU:0] (DEBUG INFO) Executor start aborting (this does not indicate an error and you can ignore this message): INVALID_ARGUMENT: You must feed a value for placeholder tensor 'Placeholder/_0' with dtype string and shape [981]\n",
            "\t [[{{node Placeholder/_0}}]]\n",
            "2023-04-11 11:45:14.428800: W tensorflow/tsl/framework/cpu_allocator_impl.cc:83] Allocation of 2854440000 exceeds 10% of free system memory.\n"
          ]
        }
      ],
      "source": [
        "data_augmentation = keras.Sequential(\n",
        "    [\n",
        "        layers.experimental.preprocessing.Normalization(),\n",
        "        layers.experimental.preprocessing.Resizing(image_size, image_size),\n",
        "        layers.experimental.preprocessing.RandomFlip(\"horizontal\"),\n",
        "        layers.experimental.preprocessing.RandomRotation(factor=0.02),\n",
        "        layers.experimental.preprocessing.RandomZoom(\n",
        "            height_factor = 0.2, width_factor = 0.2\n",
        "        ),\n",
        "    ],\n",
        "     name=\"data_augmentation\",\n",
        ")\n",
        "# Compute the mean and the variance of the training data for normalization.\n",
        "CompleteBatchData  =next(iter(train_batch))[0]\n",
        "data_augmentation.layers[0].adapt(CompleteBatchData)"
      ]
    },
    {
      "cell_type": "code",
      "execution_count": 73,
      "metadata": {},
      "outputs": [],
      "source": [
        "class Patches(layers.Layer):\n",
        "    def __init__(self, patch_size):\n",
        "        super(Patches, self).__init__()\n",
        "        self.patch_size = patch_size\n",
        "        \n",
        "    def call(self, images):\n",
        "        batch_size = tf.shape(images)[0]\n",
        "        patches = tf.image.extract_patches(\n",
        "            images = images,\n",
        "            sizes = [1, self.patch_size, self.patch_size, 1],\n",
        "            strides=[1, self.patch_size, self.patch_size, 1],\n",
        "            rates=[1, 1, 1, 1],\n",
        "            padding=\"VALID\",\n",
        "        )\n",
        "        patch_dims = patches.shape[-1]\n",
        "        #print(patches.shape)\n",
        "        patches = tf.reshape(patches, [batch_size, -1, patch_dims])\n",
        "        return patches"
      ]
    },
    {
      "cell_type": "code",
      "execution_count": 81,
      "metadata": {},
      "outputs": [],
      "source": [
        "num_classes=2\n",
        "learning_rate = 1e-4 #0.001\n",
        "weight_decay = 0.0001\n",
        "batch_size = 256\n",
        "num_epochs = 100\n",
        "# We'll resize input images to this size\n",
        "image_size =  256 \n",
        "# Size of the patches to be extract from the input images\n",
        "patch_size = 20  \n",
        "num_patches = (image_size // patch_size) ** 2\n",
        "projection_dim = 128 #64\n",
        "num_heads = 6 #4\n",
        "# Size of the transformer layers\n",
        "transformer_units = [\n",
        "    projection_dim * 2,\n",
        "    projection_dim,\n",
        "]  \n",
        "transformer_layers = 3 #8\n",
        "# Size of the dense layers of the final classifier\n",
        "mlp_head_units = [256] #[1024, 512]  "
      ]
    },
    {
      "cell_type": "code",
      "execution_count": 75,
      "metadata": {},
      "outputs": [],
      "source": [
        "class PatchEncoder(layers.Layer):\n",
        "    def __init__(self, num_of_patches, projection_dim):\n",
        "        super(PatchEncoder, self).__init__()\n",
        "        self.num_patches = num_patches\n",
        "        self.projection = layers.Dense(units = projection_dim)\n",
        "        self.position_embedding = layers.Embedding(\n",
        "            input_dim = num_patches, output_dim = projection_dim\n",
        "        )\n",
        "        \n",
        "    def call(self, patch):\n",
        "        positions = tf.range(start=0, limit=self.num_patches, delta=1)\n",
        "        encode = self.projection(patch) + self.position_embedding(positions)\n",
        "        return encode"
      ]
    },
    {
      "cell_type": "code",
      "execution_count": 82,
      "metadata": {},
      "outputs": [],
      "source": [
        "def vit_model():\n",
        "    inputs = layers.Input(shape=input_shape)\n",
        "    # Augment data.\n",
        "    augmented = data_augmentation(inputs)\n",
        "    # Create patches.\n",
        "    patches = Patches(patch_size)(augmented)\n",
        "    # Encode patches.\n",
        "    encoded_patches = PatchEncoder(num_patches, projection_dim)(patches)\n",
        "    \n",
        "    # Create multiple layers of the Transformer block.\n",
        "    for _ in range(transformer_layers):\n",
        "        # Layer normalization 1.\n",
        "        x1 = layers.BatchNormalization()(encoded_patches)\n",
        "        # create a multi-head attention layer\n",
        "        attention_output = layers.MultiHeadAttention(\n",
        "            num_heads=num_heads, key_dim=projection_dim, dropout=0.1\n",
        "        )(x1, x1)\n",
        "        # Skip connection 1.\n",
        "        x2 = layers.Add()([attention_output, encoded_patches])\n",
        "        # Layer normalization 2.\n",
        "        x3 = layers.BatchNormalization()(x2)\n",
        "        # MLP.\n",
        "        x3 = mlp(x3, hidden_units=transformer_units, dropout_rate=0.1)\n",
        "        # Skip connection 2.\n",
        "        encoded_patches = layers.Add()([x3, x2])\n",
        "        \n",
        "    # Create a [batch_size, projection_dim] tensor.\n",
        "    representation = layers.LayerNormalization()(encoded_patches)\n",
        "    representation = layers.Flatten()(representation)\n",
        "    representation = layers.Dropout(0.5)(representation)\n",
        "    # Add MLP\n",
        "    features = mlp(representation, hidden_units = mlp_head_units, dropout_rate=0.5)\n",
        "    # Classify outputs.\n",
        "    logits = layers.Dense(num_classes, activation='softmax')(features)\n",
        "    # create keras model\n",
        "    model = keras.Model(inputs=inputs, outputs=logits)\n",
        "    return model"
      ]
    },
    {
      "cell_type": "code",
      "execution_count": 87,
      "metadata": {},
      "outputs": [],
      "source": [
        "def experiment(model):\n",
        "    optimizer = tfa.optimizers.AdamW(\n",
        "        learning_rate=learning_rate, weight_decay=weight_decay\n",
        "    )\n",
        "    \n",
        "    model.compile(\n",
        "        optimizer=optimizer,\n",
        "        loss=keras.losses.CategoricalCrossentropy(from_logits=True),\n",
        "        metrics=[\n",
        "            keras.metrics.CategoricalAccuracy(name=\"accuracy\"),\n",
        "            keras.metrics.AUC( name=\"AUC\"),\n",
        "        ],\n",
        "     )\n",
        "    checkpoint_filepath = \"./tmp/checkpoint\"\n",
        "    checkpoint_callback = keras.callbacks.ModelCheckpoint(\n",
        "        checkpoint_filepath,\n",
        "        monitor=\"val_accuracy\",\n",
        "        save_best_only=True,\n",
        "        save_weights_only=True,\n",
        "    )\n",
        "\n",
        "    history = model.fit(train_loader ,\n",
        "                        batch_size=batch_size,\n",
        "                        epochs=num_epochs,\n",
        "                        validation_data=test_loader,\n",
        "                        callbacks=[checkpoint_callback])\n",
        "    model.load_weights(checkpoint_filepath)\n",
        "    _, accuracy, auc = model.evaluate(test_loader)\n",
        "    print(f\"Test accuracy: {round(accuracy * 100, 2)}%\")\n",
        "    print(f\"Test AUC: {round(auc * 100, 2)}%\")\n",
        "\n",
        "    return history"
      ]
    },
    {
      "cell_type": "code",
      "execution_count": 79,
      "metadata": {},
      "outputs": [],
      "source": [
        "def mlp(x, hidden_units, dropout_rate):\n",
        "    for units in hidden_units:\n",
        "        x = layers.Dense(units, activation = tf.nn.gelu)(x)\n",
        "        x = layers.Dropout(dropout_rate)(x)\n",
        "    return x"
      ]
    },
    {
      "cell_type": "code",
      "execution_count": 88,
      "metadata": {},
      "outputs": [
        {
          "name": "stdout",
          "output_type": "stream",
          "text": [
            "Model: \"model_1\"\n",
            "__________________________________________________________________________________________________\n",
            " Layer (type)                   Output Shape         Param #     Connected to                     \n",
            "==================================================================================================\n",
            " input_5 (InputLayer)           [(None, 224, 224, 3  0           []                               \n",
            "                                )]                                                                \n",
            "                                                                                                  \n",
            " data_augmentation (Sequential)  (None, 224, 224, 3)  7          ['input_5[0][0]']                \n",
            "                                                                                                  \n",
            " patches_3 (Patches)            (None, None, 1200)   0           ['data_augmentation[3][0]']      \n",
            "                                                                                                  \n",
            " patch_encoder_3 (PatchEncoder)  (None, 144, 128)    172160      ['patches_3[0][0]']              \n",
            "                                                                                                  \n",
            " batch_normalization_14 (BatchN  (None, 144, 128)    512         ['patch_encoder_3[0][0]']        \n",
            " ormalization)                                                                                    \n",
            "                                                                                                  \n",
            " multi_head_attention_7 (MultiH  (None, 144, 128)    395648      ['batch_normalization_14[0][0]', \n",
            " eadAttention)                                                    'batch_normalization_14[0][0]'] \n",
            "                                                                                                  \n",
            " add_13 (Add)                   (None, 144, 128)     0           ['multi_head_attention_7[0][0]', \n",
            "                                                                  'patch_encoder_3[0][0]']        \n",
            "                                                                                                  \n",
            " batch_normalization_15 (BatchN  (None, 144, 128)    512         ['add_13[0][0]']                 \n",
            " ormalization)                                                                                    \n",
            "                                                                                                  \n",
            " dense_19 (Dense)               (None, 144, 256)     33024       ['batch_normalization_15[0][0]'] \n",
            "                                                                                                  \n",
            " dropout_16 (Dropout)           (None, 144, 256)     0           ['dense_19[0][0]']               \n",
            "                                                                                                  \n",
            " dense_20 (Dense)               (None, 144, 128)     32896       ['dropout_16[0][0]']             \n",
            "                                                                                                  \n",
            " dropout_17 (Dropout)           (None, 144, 128)     0           ['dense_20[0][0]']               \n",
            "                                                                                                  \n",
            " add_14 (Add)                   (None, 144, 128)     0           ['dropout_17[0][0]',             \n",
            "                                                                  'add_13[0][0]']                 \n",
            "                                                                                                  \n",
            " batch_normalization_16 (BatchN  (None, 144, 128)    512         ['add_14[0][0]']                 \n",
            " ormalization)                                                                                    \n",
            "                                                                                                  \n",
            " multi_head_attention_8 (MultiH  (None, 144, 128)    395648      ['batch_normalization_16[0][0]', \n",
            " eadAttention)                                                    'batch_normalization_16[0][0]'] \n",
            "                                                                                                  \n",
            " add_15 (Add)                   (None, 144, 128)     0           ['multi_head_attention_8[0][0]', \n",
            "                                                                  'add_14[0][0]']                 \n",
            "                                                                                                  \n",
            " batch_normalization_17 (BatchN  (None, 144, 128)    512         ['add_15[0][0]']                 \n",
            " ormalization)                                                                                    \n",
            "                                                                                                  \n",
            " dense_21 (Dense)               (None, 144, 256)     33024       ['batch_normalization_17[0][0]'] \n",
            "                                                                                                  \n",
            " dropout_18 (Dropout)           (None, 144, 256)     0           ['dense_21[0][0]']               \n",
            "                                                                                                  \n",
            " dense_22 (Dense)               (None, 144, 128)     32896       ['dropout_18[0][0]']             \n",
            "                                                                                                  \n",
            " dropout_19 (Dropout)           (None, 144, 128)     0           ['dense_22[0][0]']               \n",
            "                                                                                                  \n",
            " add_16 (Add)                   (None, 144, 128)     0           ['dropout_19[0][0]',             \n",
            "                                                                  'add_15[0][0]']                 \n",
            "                                                                                                  \n",
            " batch_normalization_18 (BatchN  (None, 144, 128)    512         ['add_16[0][0]']                 \n",
            " ormalization)                                                                                    \n",
            "                                                                                                  \n",
            " multi_head_attention_9 (MultiH  (None, 144, 128)    395648      ['batch_normalization_18[0][0]', \n",
            " eadAttention)                                                    'batch_normalization_18[0][0]'] \n",
            "                                                                                                  \n",
            " add_17 (Add)                   (None, 144, 128)     0           ['multi_head_attention_9[0][0]', \n",
            "                                                                  'add_16[0][0]']                 \n",
            "                                                                                                  \n",
            " batch_normalization_19 (BatchN  (None, 144, 128)    512         ['add_17[0][0]']                 \n",
            " ormalization)                                                                                    \n",
            "                                                                                                  \n",
            " dense_23 (Dense)               (None, 144, 256)     33024       ['batch_normalization_19[0][0]'] \n",
            "                                                                                                  \n",
            " dropout_20 (Dropout)           (None, 144, 256)     0           ['dense_23[0][0]']               \n",
            "                                                                                                  \n",
            " dense_24 (Dense)               (None, 144, 128)     32896       ['dropout_20[0][0]']             \n",
            "                                                                                                  \n",
            " dropout_21 (Dropout)           (None, 144, 128)     0           ['dense_24[0][0]']               \n",
            "                                                                                                  \n",
            " add_18 (Add)                   (None, 144, 128)     0           ['dropout_21[0][0]',             \n",
            "                                                                  'add_17[0][0]']                 \n",
            "                                                                                                  \n",
            " layer_normalization_2 (LayerNo  (None, 144, 128)    256         ['add_18[0][0]']                 \n",
            " rmalization)                                                                                     \n",
            "                                                                                                  \n",
            " flatten_2 (Flatten)            (None, 18432)        0           ['layer_normalization_2[0][0]']  \n",
            "                                                                                                  \n",
            " dropout_22 (Dropout)           (None, 18432)        0           ['flatten_2[0][0]']              \n",
            "                                                                                                  \n",
            " dense_25 (Dense)               (None, 256)          4718848     ['dropout_22[0][0]']             \n",
            "                                                                                                  \n",
            " dropout_23 (Dropout)           (None, 256)          0           ['dense_25[0][0]']               \n",
            "                                                                                                  \n",
            " dense_26 (Dense)               (None, 2)            514         ['dropout_23[0][0]']             \n",
            "                                                                                                  \n",
            "==================================================================================================\n",
            "Total params: 6,279,561\n",
            "Trainable params: 6,278,018\n",
            "Non-trainable params: 1,543\n",
            "__________________________________________________________________________________________________\n"
          ]
        }
      ],
      "source": [
        "vit_classifier = vit_model()\n",
        "vit_classifier.summary()"
      ]
    },
    {
      "cell_type": "code",
      "execution_count": 89,
      "metadata": {},
      "outputs": [
        {
          "ename": "ValueError",
          "evalue": "Failed to find data adapter that can handle input: <class 'torch.utils.data.dataloader.DataLoader'>, <class 'NoneType'>",
          "output_type": "error",
          "traceback": [
            "\u001b[0;31m---------------------------------------------------------------------------\u001b[0m",
            "\u001b[0;31mValueError\u001b[0m                                Traceback (most recent call last)",
            "Cell \u001b[0;32mIn[89], line 1\u001b[0m\n\u001b[0;32m----> 1\u001b[0m history \u001b[39m=\u001b[39m experiment(vit_classifier)\n",
            "Cell \u001b[0;32mIn[87], line 22\u001b[0m, in \u001b[0;36mexperiment\u001b[0;34m(model)\u001b[0m\n\u001b[1;32m     14\u001b[0m checkpoint_filepath \u001b[39m=\u001b[39m \u001b[39m\"\u001b[39m\u001b[39m./tmp/checkpoint\u001b[39m\u001b[39m\"\u001b[39m\n\u001b[1;32m     15\u001b[0m checkpoint_callback \u001b[39m=\u001b[39m keras\u001b[39m.\u001b[39mcallbacks\u001b[39m.\u001b[39mModelCheckpoint(\n\u001b[1;32m     16\u001b[0m     checkpoint_filepath,\n\u001b[1;32m     17\u001b[0m     monitor\u001b[39m=\u001b[39m\u001b[39m\"\u001b[39m\u001b[39mval_accuracy\u001b[39m\u001b[39m\"\u001b[39m,\n\u001b[1;32m     18\u001b[0m     save_best_only\u001b[39m=\u001b[39m\u001b[39mTrue\u001b[39;00m,\n\u001b[1;32m     19\u001b[0m     save_weights_only\u001b[39m=\u001b[39m\u001b[39mTrue\u001b[39;00m,\n\u001b[1;32m     20\u001b[0m )\n\u001b[0;32m---> 22\u001b[0m history \u001b[39m=\u001b[39m model\u001b[39m.\u001b[39;49mfit(train_loader ,\n\u001b[1;32m     23\u001b[0m                     batch_size\u001b[39m=\u001b[39;49mbatch_size,\n\u001b[1;32m     24\u001b[0m                     epochs\u001b[39m=\u001b[39;49mnum_epochs,\n\u001b[1;32m     25\u001b[0m                     validation_data\u001b[39m=\u001b[39;49mtest_loader,\n\u001b[1;32m     26\u001b[0m                     callbacks\u001b[39m=\u001b[39;49m[checkpoint_callback])\n\u001b[1;32m     27\u001b[0m model\u001b[39m.\u001b[39mload_weights(checkpoint_filepath)\n\u001b[1;32m     28\u001b[0m _, accuracy, auc \u001b[39m=\u001b[39m model\u001b[39m.\u001b[39mevaluate(test_loader)\n",
            "File \u001b[0;32m~/.local/lib/python3.10/site-packages/keras/utils/traceback_utils.py:70\u001b[0m, in \u001b[0;36mfilter_traceback.<locals>.error_handler\u001b[0;34m(*args, **kwargs)\u001b[0m\n\u001b[1;32m     67\u001b[0m     filtered_tb \u001b[39m=\u001b[39m _process_traceback_frames(e\u001b[39m.\u001b[39m__traceback__)\n\u001b[1;32m     68\u001b[0m     \u001b[39m# To get the full stack trace, call:\u001b[39;00m\n\u001b[1;32m     69\u001b[0m     \u001b[39m# `tf.debugging.disable_traceback_filtering()`\u001b[39;00m\n\u001b[0;32m---> 70\u001b[0m     \u001b[39mraise\u001b[39;00m e\u001b[39m.\u001b[39mwith_traceback(filtered_tb) \u001b[39mfrom\u001b[39;00m \u001b[39mNone\u001b[39m\n\u001b[1;32m     71\u001b[0m \u001b[39mfinally\u001b[39;00m:\n\u001b[1;32m     72\u001b[0m     \u001b[39mdel\u001b[39;00m filtered_tb\n",
            "File \u001b[0;32m~/.local/lib/python3.10/site-packages/keras/engine/data_adapter.py:1082\u001b[0m, in \u001b[0;36mselect_data_adapter\u001b[0;34m(x, y)\u001b[0m\n\u001b[1;32m   1079\u001b[0m adapter_cls \u001b[39m=\u001b[39m [\u001b[39mcls\u001b[39m \u001b[39mfor\u001b[39;00m \u001b[39mcls\u001b[39m \u001b[39min\u001b[39;00m ALL_ADAPTER_CLS \u001b[39mif\u001b[39;00m \u001b[39mcls\u001b[39m\u001b[39m.\u001b[39mcan_handle(x, y)]\n\u001b[1;32m   1080\u001b[0m \u001b[39mif\u001b[39;00m \u001b[39mnot\u001b[39;00m adapter_cls:\n\u001b[1;32m   1081\u001b[0m     \u001b[39m# TODO(scottzhu): This should be a less implementation-specific error.\u001b[39;00m\n\u001b[0;32m-> 1082\u001b[0m     \u001b[39mraise\u001b[39;00m \u001b[39mValueError\u001b[39;00m(\n\u001b[1;32m   1083\u001b[0m         \u001b[39m\"\u001b[39m\u001b[39mFailed to find data adapter that can handle input: \u001b[39m\u001b[39m{}\u001b[39;00m\u001b[39m, \u001b[39m\u001b[39m{}\u001b[39;00m\u001b[39m\"\u001b[39m\u001b[39m.\u001b[39mformat(\n\u001b[1;32m   1084\u001b[0m             _type_name(x), _type_name(y)\n\u001b[1;32m   1085\u001b[0m         )\n\u001b[1;32m   1086\u001b[0m     )\n\u001b[1;32m   1087\u001b[0m \u001b[39melif\u001b[39;00m \u001b[39mlen\u001b[39m(adapter_cls) \u001b[39m>\u001b[39m \u001b[39m1\u001b[39m:\n\u001b[1;32m   1088\u001b[0m     \u001b[39mraise\u001b[39;00m \u001b[39mRuntimeError\u001b[39;00m(\n\u001b[1;32m   1089\u001b[0m         \u001b[39m\"\u001b[39m\u001b[39mData adapters should be mutually exclusive for \u001b[39m\u001b[39m\"\u001b[39m\n\u001b[1;32m   1090\u001b[0m         \u001b[39m\"\u001b[39m\u001b[39mhandling inputs. Found multiple adapters \u001b[39m\u001b[39m{}\u001b[39;00m\u001b[39m to handle \u001b[39m\u001b[39m\"\u001b[39m\n\u001b[1;32m   1091\u001b[0m         \u001b[39m\"\u001b[39m\u001b[39minput: \u001b[39m\u001b[39m{}\u001b[39;00m\u001b[39m, \u001b[39m\u001b[39m{}\u001b[39;00m\u001b[39m\"\u001b[39m\u001b[39m.\u001b[39mformat(adapter_cls, _type_name(x), _type_name(y))\n\u001b[1;32m   1092\u001b[0m     )\n",
            "\u001b[0;31mValueError\u001b[0m: Failed to find data adapter that can handle input: <class 'torch.utils.data.dataloader.DataLoader'>, <class 'NoneType'>"
          ]
        }
      ],
      "source": [
        "history = experiment(vit_classifier)"
      ]
    },
    {
      "cell_type": "code",
      "execution_count": 84,
      "metadata": {},
      "outputs": [],
      "source": []
    },
    {
      "cell_type": "code",
      "execution_count": null,
      "metadata": {},
      "outputs": [],
      "source": []
    },
    {
      "cell_type": "code",
      "execution_count": null,
      "metadata": {},
      "outputs": [],
      "source": []
    },
    {
      "cell_type": "code",
      "execution_count": null,
      "metadata": {},
      "outputs": [],
      "source": []
    },
    {
      "cell_type": "code",
      "execution_count": null,
      "metadata": {},
      "outputs": [],
      "source": []
    },
    {
      "cell_type": "code",
      "execution_count": null,
      "metadata": {},
      "outputs": [],
      "source": []
    },
    {
      "cell_type": "code",
      "execution_count": null,
      "metadata": {},
      "outputs": [],
      "source": []
    },
    {
      "cell_type": "code",
      "execution_count": null,
      "metadata": {},
      "outputs": [],
      "source": []
    },
    {
      "cell_type": "code",
      "execution_count": null,
      "metadata": {},
      "outputs": [],
      "source": []
    },
    {
      "cell_type": "code",
      "execution_count": null,
      "metadata": {},
      "outputs": [],
      "source": []
    },
    {
      "cell_type": "code",
      "execution_count": null,
      "metadata": {},
      "outputs": [],
      "source": []
    },
    {
      "cell_type": "code",
      "execution_count": null,
      "metadata": {},
      "outputs": [],
      "source": []
    },
    {
      "cell_type": "code",
      "execution_count": null,
      "metadata": {},
      "outputs": [],
      "source": []
    },
    {
      "cell_type": "code",
      "execution_count": 85,
      "metadata": {
        "colab": {
          "base_uri": "https://localhost:8080/"
        },
        "id": "RTLJ4skWsjCO",
        "outputId": "98a3670b-f828-4dd0-9fac-71881eb8a4c9"
      },
      "outputs": [
        {
          "ename": "AttributeError",
          "evalue": "'Functional' object has no attribute 'parameters'",
          "output_type": "error",
          "traceback": [
            "\u001b[0;31m---------------------------------------------------------------------------\u001b[0m",
            "\u001b[0;31mAttributeError\u001b[0m                            Traceback (most recent call last)",
            "Cell \u001b[0;32mIn[85], line 9\u001b[0m\n\u001b[1;32m      7\u001b[0m \u001b[39mfor\u001b[39;00m lr \u001b[39min\u001b[39;00m lr_list:\n\u001b[1;32m      8\u001b[0m     \u001b[39mfor\u001b[39;00m gamma \u001b[39min\u001b[39;00m gamma_list:\n\u001b[0;32m----> 9\u001b[0m         optimizer \u001b[39m=\u001b[39m optim\u001b[39m.\u001b[39mAdam(model\u001b[39m.\u001b[39;49mparameters(), lr\u001b[39m=\u001b[39mlr)\n\u001b[1;32m     10\u001b[0m         criterion \u001b[39m=\u001b[39m nn\u001b[39m.\u001b[39mCrossEntropyLoss()\n\u001b[1;32m     11\u001b[0m         scheduler \u001b[39m=\u001b[39m StepLR(optimizer, step_size\u001b[39m=\u001b[39m\u001b[39m1\u001b[39m, gamma\u001b[39m=\u001b[39mgamma)\n",
            "\u001b[0;31mAttributeError\u001b[0m: 'Functional' object has no attribute 'parameters'"
          ]
        }
      ],
      "source": [
        "\n",
        "#start training\n",
        "train_loss_list_list = []\n",
        "val_loss_list_list = []\n",
        "train_acc_list_list = []\n",
        "val_acc_list_list = []\n",
        "\n",
        "for lr in lr_list:\n",
        "    for gamma in gamma_list:\n",
        "        optimizer = optim.Adam(model.parameters(), lr=lr)\n",
        "        criterion = nn.CrossEntropyLoss()\n",
        "        scheduler = StepLR(optimizer, step_size=1, gamma=gamma)\n",
        "\n",
        "        train_loss_list = []\n",
        "        val_loss_list = []\n",
        "        train_acc_list = []\n",
        "        val_acc_list = []\n",
        "        print(\"lr:\", lr, \"    gamma:\", gamma)\n",
        "        for epoch in range(num_epochs):\n",
        "            epoch_loss = 0\n",
        "            epoch_accuracy = 0\n",
        "            for data, label in train_loader:\n",
        "                data = data.to(torch.device(\"cuda\"))\n",
        "                label = label.to(torch.device(\"cuda\"))\n",
        "                output = model(data)\n",
        "                loss = criterion(output, label)\n",
        "                optimizer.zero_grad()\n",
        "                loss.backward()\n",
        "                optimizer.step()\n",
        "                accuracy = (output.argmax(dim=1) == label).float().mean()\n",
        "                epoch_accuracy += accuracy / len(train_loader)\n",
        "                epoch_loss += loss / len(train_loader)\n",
        "            with torch.no_grad():\n",
        "                epoch_val_accuracy = 0\n",
        "                epoch_val_loss = 0\n",
        "                for data, label in valid_loader:\n",
        "                    data = data.to(torch.device(\"cuda\"))\n",
        "                    label = label.to(torch.device(\"cuda\"))\n",
        "                    val_output = model(data)\n",
        "                    val_loss = criterion(val_output, label)\n",
        "                    acc = (val_output.argmax(dim=1) == label).float().mean()\n",
        "                    epoch_val_accuracy += acc / len(valid_loader)\n",
        "                    epoch_val_loss += val_loss / len(valid_loader)\n",
        "            train_loss_list.append(epoch_loss.detach().cpu().numpy().flatten()[0])\n",
        "            train_acc_list.append(epoch_accuracy.detach().cpu().numpy().flatten()[0])\n",
        "            val_loss_list.append(epoch_val_loss.detach().cpu().numpy().flatten()[0])\n",
        "            val_acc_list.append(epoch_val_accuracy.detach().cpu().numpy().flatten()[0])\n",
        "            print(\n",
        "                f\"Epoch : {epoch+1} - loss : {epoch_loss:.4f} - acc: {epoch_accuracy:.4f} - val_loss : {epoch_val_loss:.4f} - val_acc: {epoch_val_accuracy:.4f}\\n\"\n",
        "            )\n",
        "        val_acc_list_list.append(val_acc_list)\n",
        "        val_loss_list_list.append(val_loss_list)\n",
        "        train_acc_list_list.append(train_acc_list)\n",
        "        train_loss_list_list.append(train_loss_list)\n"
      ]
    },
    {
      "cell_type": "code",
      "execution_count": 28,
      "metadata": {
        "id": "e62sfq2ksjFF"
      },
      "outputs": [],
      "source": [
        "\n",
        "torch.save(model.state_dict(), '/home/uditha/snap/snapd-desktop-integration/current/Desktop/FYP/vit/Base Vit/FinalModelsSimple/ViT_model.pth')\n",
        "metrices = [train_loss_list, val_loss_list, train_acc_list, val_acc_list]\n",
        "with open(\"/home/uditha/snap/snapd-desktop-integration/current/Desktop/FYP/vit/Base Vit/FinalModelsSimple/ViT_metrices.pk\", \"wb\") as fp:   #Pickling\n",
        "    pickle.dump(metrices, fp)\n",
        "\n",
        "# a = []\n",
        "# for i in range(0, num_epochs):\n",
        "#     a.append(val_acc_list[i].detach().cpu().numpy().flatten()[0])\n",
        "# maxi = []\n",
        "# for i in range(0, 8):\n",
        "#     maxi.append(max(val_acc_list_list[i]))\n",
        "\n"
      ]
    },
    {
      "cell_type": "code",
      "execution_count": 29,
      "metadata": {
        "colab": {
          "base_uri": "https://localhost:8080/"
        },
        "id": "6vSKWH80sjHL",
        "outputId": "52c82f5f-afd4-4b8c-c0ea-6acea3eda3f3"
      },
      "outputs": [
        {
          "data": {
            "text/plain": [
              "ViT(\n",
              "  (to_patch_embedding): Sequential(\n",
              "    (0): Rearrange('b c (h p1) (w p2) -> b (h w) (p1 p2 c)', p1=32, p2=32)\n",
              "    (1): LayerNorm((3072,), eps=1e-05, elementwise_affine=True)\n",
              "    (2): Linear(in_features=3072, out_features=1024, bias=True)\n",
              "    (3): LayerNorm((1024,), eps=1e-05, elementwise_affine=True)\n",
              "  )\n",
              "  (dropout): Dropout(p=0.1, inplace=False)\n",
              "  (transformer): Transformer(\n",
              "    (layers): ModuleList(\n",
              "      (0-5): 6 x ModuleList(\n",
              "        (0): PreNorm(\n",
              "          (norm): LayerNorm((1024,), eps=1e-05, elementwise_affine=True)\n",
              "          (fn): Attention(\n",
              "            (attend): Softmax(dim=-1)\n",
              "            (dropout): Dropout(p=0.1, inplace=False)\n",
              "            (to_qkv): Linear(in_features=1024, out_features=3072, bias=False)\n",
              "            (to_out): Sequential(\n",
              "              (0): Linear(in_features=1024, out_features=1024, bias=True)\n",
              "              (1): Dropout(p=0.1, inplace=False)\n",
              "            )\n",
              "          )\n",
              "        )\n",
              "        (1): PreNorm(\n",
              "          (norm): LayerNorm((1024,), eps=1e-05, elementwise_affine=True)\n",
              "          (fn): FeedForward(\n",
              "            (net): Sequential(\n",
              "              (0): Linear(in_features=1024, out_features=2048, bias=True)\n",
              "              (1): GELU(approximate='none')\n",
              "              (2): Dropout(p=0.1, inplace=False)\n",
              "              (3): Linear(in_features=2048, out_features=1024, bias=True)\n",
              "              (4): Dropout(p=0.1, inplace=False)\n",
              "            )\n",
              "          )\n",
              "        )\n",
              "      )\n",
              "    )\n",
              "  )\n",
              "  (to_latent): Identity()\n",
              "  (mlp_head): Sequential(\n",
              "    (0): LayerNorm((1024,), eps=1e-05, elementwise_affine=True)\n",
              "    (1): Linear(in_features=1024, out_features=2, bias=True)\n",
              "  )\n",
              ")"
            ]
          },
          "execution_count": 29,
          "metadata": {},
          "output_type": "execute_result"
        }
      ],
      "source": [
        "# loading model:\n",
        "oldP = \"/home/uditha/snap/snapd-desktop-integration/current/Desktop/FYP/vit/Base Vit/FinalModelsSimple/ViT_model.pth\"\n",
        "model.load_state_dict(torch.load(oldP))\n",
        "model.eval()"
      ]
    },
    {
      "cell_type": "code",
      "execution_count": 30,
      "metadata": {
        "colab": {
          "base_uri": "https://localhost:8080/"
        },
        "id": "PGkS-UTXs2XR",
        "outputId": "f891159e-62a1-4aa7-ad54-1b91420e53bd"
      },
      "outputs": [
        {
          "name": "stdout",
          "output_type": "stream",
          "text": [
            "123\n",
            "step:  0\n",
            "step:  100\n",
            "step:  100\n",
            "step:  100\n",
            "step:  100\n"
          ]
        }
      ],
      "source": [
        "# Creating Validation predictions and metrics:\n",
        "\n",
        "pred = []\n",
        "pred_label = []\n",
        "i=0\n",
        "criterion = nn.CrossEntropyLoss()\n",
        "print(len(X_val))\n",
        "for i in range(0,len(X_val)):\n",
        "    with torch.no_grad():\n",
        "        epoch_val_accuracy = 0\n",
        "        epoch_val_loss = 0\n",
        "\n",
        "        for data, label in valid_loader: #! Change: test_loader --> valid_loader           \n",
        "            if i%100==0:\n",
        "                print(\"step: \", i)\n",
        "            i +=1\n",
        "            data = data.to(torch.device(\"cuda\"))\n",
        "            label = label.to(torch.device(\"cuda\"))\n",
        "            val_output = model(data)\n",
        "            val_loss = criterion(val_output, label)\n",
        "            pred.append(list(val_output.argmax(dim=1).detach().cpu().numpy()))\n",
        "            pred_label.append(list(label.detach().cpu().numpy()))\n",
        "            acc = (val_output.argmax(dim=1) == label).float().mean()\n",
        "            epoch_val_accuracy += acc / len(valid_loader)\n",
        "            epoch_val_loss += val_loss / len(valid_loader)\n",
        "\n",
        "val_pred_flat = [item for sublist in pred for item in sublist]\n",
        "val_pred_label_flat = [item for sublist in pred_label for item in sublist]"
      ]
    },
    {
      "cell_type": "code",
      "execution_count": 31,
      "metadata": {},
      "outputs": [
        {
          "name": "stdout",
          "output_type": "stream",
          "text": [
            "124\n"
          ]
        }
      ],
      "source": [
        "# len(test_loader)\n",
        "print(len(test_loader.dataset))"
      ]
    },
    {
      "cell_type": "code",
      "execution_count": 32,
      "metadata": {
        "colab": {
          "base_uri": "https://localhost:8080/"
        },
        "id": "QPLZjjsRs2ae",
        "outputId": "41e685eb-f90c-42d7-9e01-281598e10ef0"
      },
      "outputs": [
        {
          "name": "stdout",
          "output_type": "stream",
          "text": [
            "124\n",
            "step:  0\n",
            "[1, 0, 1, 1, 1, 1, 0, 1, 0, 1, 1, 0, 1, 0, 1, 0, 0, 1, 0, 1, 1, 1, 0, 1, 0, 0, 0, 1, 1, 1, 1, 1]\n",
            "[0, 1, 1, 1, 1, 1, 0, 1, 1, 0, 0, 0, 1, 0, 1, 1, 1, 0, 1, 0, 0, 1, 0, 1, 0, 0, 1, 1, 1, 1, 0, 1]\n",
            "[0, 0, 0, 1, 1, 1, 0, 0, 0, 1, 0, 0, 0, 1, 0, 0, 0, 1, 1, 0, 1, 0, 1, 1, 0, 1, 1, 0, 1, 0, 0, 0]\n",
            "[1, 1, 1, 1, 0, 1, 1, 0, 0, 1, 0, 1, 1, 0, 1, 0, 1, 1, 1, 0, 0, 1, 1, 1, 1, 1, 1, 1]\n"
          ]
        }
      ],
      "source": [
        "# Creating test set predictions and mertrices:\n",
        "\n",
        "pred = []\n",
        "pred_label = []\n",
        "i=0\n",
        "criterion = nn.CrossEntropyLoss()\n",
        "print(len(X_test))\n",
        "for i in range(0,len(X_test)):    \n",
        "    # test_data = MyDataset([X_test[i]], [y_test[i]], transform=transforms)\n",
        "    # test_loader = DataLoader(dataset = test_data, batch_size=1, shuffle=False)\n",
        "    with torch.no_grad():\n",
        "        epoch_val_accuracy = 0\n",
        "        epoch_val_loss = 0\n",
        "\n",
        "        for data, label in test_loader:            \n",
        "            if i%100==0:\n",
        "                print(\"step: \", i)\n",
        "            i +=1\n",
        "            data = data.to(torch.device(\"cuda\"))\n",
        "            label = label.to(torch.device(\"cuda\"))\n",
        "            val_output = model(data)            \n",
        "            val_loss = criterion(val_output, label)\n",
        "            pred.append(list(val_output.argmax(dim=1).detach().cpu().numpy()))\n",
        "            print(list(val_output.argmax(dim=1).detach().cpu().numpy()))\n",
        "            pred_label.append(list(label.detach().cpu().numpy()))\n",
        "            acc = (val_output.argmax(dim=1) == label).float().mean()\n",
        "            epoch_val_accuracy += acc / len(test_loader)\n",
        "            epoch_val_loss += val_loss / len(test_loader)\n",
        "        \n",
        "        break\n",
        "\n",
        "test_pred_flat = [item for sublist in pred for item in sublist]\n",
        "test_pred_label_flat = [item for sublist in pred_label for item in sublist]\n",
        "\n",
        "predictions = [val_pred_flat, val_pred_label_flat, test_pred_flat, test_pred_label_flat]\n",
        "with open(\"/home/uditha/snap/snapd-desktop-integration/current/Desktop/FYP/vit/Base Vit/FinalModelsSimple/ViT_predictions.pk\", \"wb\") as fp:   #Pickling\n",
        "    pickle.dump(predictions, fp)"
      ]
    },
    {
      "cell_type": "code",
      "execution_count": 33,
      "metadata": {},
      "outputs": [],
      "source": [
        "test_pred_flat_1 = [len(sublist) for sublist in pred ]"
      ]
    },
    {
      "cell_type": "code",
      "execution_count": 34,
      "metadata": {
        "colab": {
          "base_uri": "https://localhost:8080/",
          "height": 1000
        },
        "id": "fRKEKXpCs2eN",
        "outputId": "6a58e2c5-8b51-4c3d-cb14-cded27f89d47"
      },
      "outputs": [
        {
          "name": "stdout",
          "output_type": "stream",
          "text": [
            "\n",
            "\n",
            "ViT MODEL:  \n",
            "              precision    recall  f1-score   support\n",
            "\n",
            "           0     0.6452    0.7692    0.7018        52\n",
            "           1     0.8065    0.6944    0.7463        72\n",
            "\n",
            "    accuracy                         0.7258       124\n",
            "   macro avg     0.7258    0.7318    0.7240       124\n",
            "weighted avg     0.7388    0.7258    0.7276       124\n",
            "\n",
            "[0, 0, 1, 1, 0, 0, 0, 0, 0, 1, 1, 1, 0, 1, 1, 0, 0, 0, 0, 1, 0, 0, 1, 1, 0, 0, 0, 1, 1, 1, 1, 1, 1, 1, 1, 1, 0, 1, 0, 1, 1, 0, 0, 0, 0, 0, 0, 1, 1, 0, 1, 0, 1, 0, 0, 1, 1, 0, 1, 1, 1, 1, 0, 1, 1, 0, 0, 1, 1, 0, 0, 0, 0, 1, 0, 0, 0, 1, 0, 0, 0, 1, 0, 0, 0, 1, 1, 1, 0, 0, 1, 0, 1, 0, 1, 0, 0, 1, 0, 1, 0, 1, 1, 0, 1, 1, 0, 1, 1, 0, 0, 1, 1, 0, 1, 1, 0, 1, 1, 0, 0, 1, 1, 1]\n"
          ]
        },
        {
          "data": {
            "image/png": "[encoded data removed]",
            "text/plain": [
              "<Figure size 640x480 with 1 Axes>"
            ]
          },
          "metadata": {},
          "output_type": "display_data"
        },
        {
          "data": {
            "image/png": "[encoded data removed]",
            "text/plain": [
              "<Figure size 500x400 with 2 Axes>"
            ]
          },
          "metadata": {},
          "output_type": "display_data"
        }
      ],
      "source": [
        "\n",
        "# Plotting training and val accuracy with training steps:\n",
        "train_acc_list = metrices[2]\n",
        "val_acc_list = metrices[3]\n",
        "\n",
        "plt.plot(range(0,len(val_acc_list)), val_acc_list, color='b', label='Validation accuracy')\n",
        "plt.plot(range(0,len(train_acc_list)), train_acc_list, color='r', label='Training accuracy')\n",
        "plt.title(\"Training and Validation accuracy\")\n",
        "plt.xlabel(\"Steps:\")\n",
        "plt.ylabel(\"Accuracy:\")\n",
        "\n",
        "# Precsion and recall:\n",
        "# with open('./final_models_simple/ViT_predictions.pk', 'rb') as f:\n",
        "#     predictions = pickle.load(f)\n",
        "\n",
        "val_pred_flat = predictions[0]\n",
        "val_pred_label_flat = predictions[1]\n",
        "test_pred_flat = predictions[2]\n",
        "test_pred_label_flat = predictions[3]\n",
        "print(\"\\n\\nViT MODEL:  \")\n",
        "print(classification_report(test_pred_flat, test_pred_label_flat,digits=4))\n",
        "# Confusion Matrix:\n",
        "y_true = test_pred_label_flat\n",
        "y_pred = test_pred_flat\n",
        "print(y_true)\n",
        "data = confusion_matrix(y_true, y_pred)\n",
        "df_cm = pd.DataFrame(data, columns=np.unique(y_true), index = np.unique(y_true))\n",
        "df_cm.index.name = 'Actual'\n",
        "df_cm.columns.name = 'Predicted'\n",
        "plt.figure(figsize = (5,4))\n",
        "sn.set(font_scale=1.4)#for label size\n",
        "sn.heatmap(df_cm, cmap=\"Blues\", annot=True,annot_kws={\"size\":10}, fmt='d')# font size\n",
        "plt.title(\"Confusion matrix for ViT model\")\n",
        "plt.show()"
      ]
    },
    {
      "cell_type": "code",
      "execution_count": 35,
      "metadata": {},
      "outputs": [
        {
          "data": {
            "text/plain": [
              "array([[40, 22],\n",
              "       [12, 50]])"
            ]
          },
          "execution_count": 35,
          "metadata": {},
          "output_type": "execute_result"
        }
      ],
      "source": [
        "data"
      ]
    },
    {
      "cell_type": "code",
      "execution_count": 36,
      "metadata": {
        "id": "B4VmemLJs2hW"
      },
      "outputs": [
        {
          "data": {
            "text/plain": [
              "15129"
            ]
          },
          "execution_count": 36,
          "metadata": {},
          "output_type": "execute_result"
        }
      ],
      "source": [
        "len(predictions[1])"
      ]
    },
    {
      "cell_type": "code",
      "execution_count": null,
      "metadata": {},
      "outputs": [],
      "source": []
    },
    {
      "attachments": {},
      "cell_type": "markdown",
      "metadata": {},
      "source": [
        "## Grad CAM"
      ]
    },
    {
      "cell_type": "code",
      "execution_count": null,
      "metadata": {},
      "outputs": [],
      "source": []
    }
  ],
  "metadata": {
    "accelerator": "GPU",
    "colab": {
      "provenance": []
    },
    "gpuClass": "standard",
    "kernelspec": {
      "display_name": "Python 3 (ipykernel)",
      "language": "python",
      "name": "python3"
    },
    "language_info": {
      "codemirror_mode": {
        "name": "ipython",
        "version": 3
      },
      "file_extension": ".py",
      "mimetype": "text/x-python",
      "name": "python",
      "nbconvert_exporter": "python",
      "pygments_lexer": "ipython3",
      "version": "3.10.6"
    }
  },
  "nbformat": 4,
  "nbformat_minor": 0
}
