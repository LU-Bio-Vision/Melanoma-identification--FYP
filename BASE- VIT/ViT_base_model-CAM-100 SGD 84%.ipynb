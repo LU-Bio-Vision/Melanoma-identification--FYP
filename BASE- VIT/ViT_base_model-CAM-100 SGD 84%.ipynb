{
  "cells": [
    {
      "cell_type": "markdown",
      "metadata": {
        "id": "eGJscg-YvIIg"
      },
      "source": [
        "## Data Preprocessing"
      ]
    },
    {
      "cell_type": "code",
      "execution_count": 1,
      "metadata": {
        "id": "bl0iXmKYvW_x"
      },
      "outputs": [],
      "source": [
        "from PIL import Image\n",
        "import numpy as np\n",
        "import glob\n",
        "import pandas as pd\n",
        "from sklearn import preprocessing\n",
        "from sklearn.model_selection import train_test_split\n",
        "import os"
      ]
    },
    {
      "cell_type": "code",
      "execution_count": 2,
      "metadata": {
        "id": "IjEo4j9Ts-oi"
      },
      "outputs": [],
      "source": [
        "# file_list1 = glob.glob(r'/content/gdrive/MyDrive/Research Workspace/Dataset/Kaggle/Skin cancer data set/HAM10000_images_part_1/*.jpg')\n",
        "# file_list2 = glob.glob(r'/content/gdrive/MyDrive/Research Workspace/Dataset/Kaggle/Skin cancer data set/HAM10000_images_part_2/*.jpg')\n",
        "metadata_df = pd.read_csv('/home/uditha/snap/snapd-desktop-integration/current/Desktop/FYP/dataset/ham10000/HAM10000_metadata.csv')\n",
        "\n",
        "\n",
        "metadata_df = metadata_df[(metadata_df.dx != \"akiec\") & (metadata_df.dx != \"bkl\")&(metadata_df.dx != \"df\") & (metadata_df.dx != \"bcc\") & (metadata_df.dx != \"vasc\")]\n",
        "dx = metadata_df['dx'].to_list()\n",
        "# dx_type = metadata_df['dx_type'].to_list()\n",
        "image_id = metadata_df['image_id'].to_list()\n",
        "le = preprocessing.LabelEncoder()\n",
        "dx_labels = list(le.fit_transform(dx))\n"
      ]
    },
    {
      "cell_type": "code",
      "execution_count": 3,
      "metadata": {
        "colab": {
          "base_uri": "https://localhost:8080/"
        },
        "id": "B5-YjEvbMMXK",
        "outputId": "4589d486-e754-4f0a-ce1b-cc4bd7f1574c"
      },
      "outputs": [
        {
          "name": "stdout",
          "output_type": "stream",
          "text": [
            "['nv', 'nv', 'mel', 'mel', 'mel', 'mel', 'mel', 'mel', 'mel', 'mel', 'mel', 'mel', 'mel', 'mel', 'mel', 'mel', 'mel', 'mel', 'mel', 'mel', 'mel', 'mel', 'mel', 'mel', 'mel', 'mel', 'mel', 'mel', 'mel', 'mel', 'mel', 'mel', 'mel', 'mel', 'mel', 'mel', 'mel', 'mel', 'mel', 'mel', 'mel', 'mel', 'mel', 'mel', 'mel', 'mel', 'mel', 'mel', 'mel', 'mel', 'mel', 'mel', 'mel', 'mel', 'mel', 'mel', 'mel', 'mel', 'mel', 'mel', 'mel', 'mel', 'mel', 'mel', 'mel', 'mel', 'mel', 'mel', 'mel', 'mel', 'mel', 'mel', 'mel', 'mel', 'mel', 'mel', 'mel', 'mel', 'mel', 'mel', 'mel', 'mel', 'mel', 'mel', 'mel', 'mel', 'mel', 'mel', 'mel', 'mel', 'mel', 'mel', 'mel', 'mel', 'mel', 'mel', 'mel', 'mel', 'mel', 'mel', 'mel', 'mel', 'mel', 'mel', 'mel', 'mel', 'mel', 'mel', 'mel', 'mel', 'mel', 'mel', 'mel', 'mel', 'mel', 'mel', 'mel', 'mel', 'mel', 'mel', 'mel', 'mel', 'mel', 'mel', 'mel', 'mel', 'mel', 'mel', 'mel', 'mel', 'mel', 'mel', 'mel', 'mel', 'mel', 'mel', 'mel', 'mel', 'mel', 'mel', 'mel', 'mel', 'mel', 'mel', 'mel', 'mel', 'mel', 'mel', 'mel', 'mel', 'mel', 'mel', 'mel', 'mel', 'mel', 'mel', 'mel', 'mel', 'mel', 'mel', 'mel', 'mel', 'mel', 'mel', 'mel', 'mel', 'mel', 'mel', 'mel', 'mel', 'mel', 'mel', 'mel', 'mel', 'mel', 'mel', 'mel', 'mel', 'mel', 'mel', 'mel', 'mel', 'mel', 'mel', 'mel', 'mel', 'mel', 'mel', 'mel', 'mel', 'mel', 'mel', 'mel', 'mel', 'mel', 'mel', 'mel', 'mel', 'mel', 'mel', 'mel', 'mel', 'mel', 'mel', 'mel', 'mel', 'mel', 'mel', 'mel', 'mel', 'mel', 'mel', 'mel', 'mel', 'mel', 'mel', 'mel', 'mel', 'mel', 'mel', 'mel', 'mel', 'mel', 'mel', 'mel', 'mel', 'mel', 'mel', 'mel', 'mel', 'mel', 'mel', 'mel', 'mel', 'mel', 'mel', 'mel', 'mel', 'mel', 'mel', 'mel', 'mel', 'mel', 'mel', 'mel', 'mel', 'mel', 'mel', 'mel', 'mel', 'mel', 'mel', 'mel', 'mel', 'mel', 'mel', 'mel', 'mel', 'mel', 'mel', 'mel', 'mel', 'mel', 'mel', 'mel', 'mel', 'mel', 'mel', 'mel', 'mel', 'mel', 'mel', 'mel', 'mel', 'mel', 'mel', 'mel', 'mel', 'mel', 'mel', 'mel', 'mel', 'mel', 'mel', 'mel', 'mel', 'mel', 'mel', 'mel', 'mel', 'mel', 'mel', 'mel', 'mel', 'mel', 'mel', 'mel', 'mel', 'mel', 'mel', 'mel', 'mel', 'mel', 'mel', 'mel', 'mel', 'mel', 'mel', 'mel', 'mel', 'mel', 'mel', 'mel', 'mel', 'mel', 'mel', 'mel', 'mel', 'mel', 'mel', 'mel', 'mel', 'mel', 'mel', 'mel', 'mel', 'mel', 'mel', 'mel', 'mel', 'mel', 'mel', 'mel', 'mel', 'mel', 'mel', 'mel', 'mel', 'mel', 'mel', 'mel', 'mel', 'mel', 'mel', 'mel', 'mel', 'mel', 'mel', 'mel', 'mel', 'mel', 'mel', 'mel', 'mel', 'mel', 'mel', 'mel', 'mel', 'mel', 'mel', 'mel', 'mel', 'mel', 'mel', 'mel', 'mel', 'mel', 'mel', 'mel', 'mel', 'mel', 'mel', 'mel', 'mel', 'mel', 'mel', 'mel', 'mel', 'mel', 'mel', 'mel', 'mel', 'mel', 'mel', 'mel', 'mel', 'mel', 'mel', 'mel', 'mel', 'mel', 'mel', 'mel', 'mel', 'mel', 'mel', 'mel', 'mel', 'mel', 'mel', 'mel', 'mel', 'mel', 'mel', 'mel', 'mel', 'mel', 'mel', 'mel', 'mel', 'mel', 'mel', 'mel', 'mel', 'mel', 'mel', 'mel', 'mel', 'mel', 'mel', 'mel', 'mel', 'mel', 'mel', 'mel', 'mel', 'mel', 'mel', 'mel', 'mel', 'mel', 'mel', 'mel', 'mel', 'mel', 'mel', 'mel', 'mel', 'mel', 'mel', 'mel', 'mel', 'mel', 'mel', 'mel', 'mel', 'mel', 'mel', 'mel', 'mel', 'mel', 'mel', 'mel', 'mel', 'mel', 'mel', 'mel', 'mel', 'mel', 'mel', 'mel', 'mel', 'mel', 'mel', 'mel', 'mel', 'mel', 'mel', 'mel', 'mel', 'mel', 'mel', 'mel', 'mel', 'mel', 'mel', 'mel', 'mel', 'mel', 'mel', 'mel', 'mel', 'mel', 'mel', 'mel', 'mel', 'mel', 'mel', 'mel', 'mel', 'mel', 'mel', 'mel', 'mel', 'mel', 'mel', 'mel', 'mel', 'mel', 'mel', 'mel', 'mel', 'mel', 'mel', 'mel', 'mel', 'mel', 'mel', 'mel', 'mel', 'mel', 'mel', 'mel', 'mel', 'mel', 'mel', 'mel', 'mel', 'mel', 'mel', 'mel', 'mel', 'mel', 'mel', 'mel', 'mel', 'mel', 'mel', 'mel', 'mel', 'mel', 'mel', 'mel', 'mel', 'mel', 'mel', 'mel', 'mel', 'mel', 'mel', 'mel', 'mel', 'mel', 'mel', 'mel', 'mel', 'mel', 'mel', 'mel', 'mel', 'mel', 'mel', 'mel', 'mel', 'mel', 'mel', 'mel', 'mel', 'mel', 'mel', 'mel', 'mel', 'mel', 'mel', 'mel', 'mel', 'mel', 'mel', 'mel', 'mel', 'mel', 'mel', 'mel', 'mel', 'mel', 'mel', 'mel', 'mel', 'mel', 'mel', 'mel', 'mel', 'mel', 'mel', 'mel', 'mel', 'mel', 'mel', 'mel', 'mel', 'mel', 'mel', 'mel', 'mel', 'mel', 'mel', 'mel', 'mel', 'mel', 'mel', 'mel', 'mel', 'mel', 'mel', 'mel', 'mel', 'mel', 'mel', 'mel', 'mel', 'mel', 'mel', 'mel', 'mel', 'mel', 'mel', 'mel', 'mel', 'mel', 'mel', 'mel', 'mel', 'mel', 'mel', 'mel', 'mel', 'mel', 'mel', 'mel', 'mel', 'mel', 'mel', 'mel', 'mel', 'mel', 'mel', 'mel', 'mel', 'mel', 'mel', 'mel', 'mel', 'mel', 'mel', 'mel', 'mel', 'mel', 'mel', 'mel', 'mel', 'mel', 'mel', 'mel', 'mel', 'mel', 'mel', 'mel', 'mel', 'mel', 'mel', 'mel', 'mel', 'mel', 'mel', 'mel', 'mel', 'mel', 'mel', 'mel', 'mel', 'mel', 'mel', 'mel', 'mel', 'mel', 'mel', 'mel', 'mel', 'mel', 'mel', 'mel', 'mel', 'mel', 'mel', 'mel', 'mel', 'mel', 'mel', 'mel', 'mel', 'mel', 'mel', 'mel', 'mel', 'mel', 'mel', 'mel', 'mel', 'mel', 'mel', 'mel', 'mel', 'mel', 'mel', 'mel', 'mel', 'mel', 'mel', 'mel', 'mel', 'mel', 'mel', 'mel', 'mel', 'mel', 'mel', 'mel', 'mel', 'mel', 'mel', 'mel', 'mel', 'mel', 'mel', 'mel', 'mel', 'mel', 'mel', 'mel', 'mel', 'mel', 'mel', 'mel', 'mel', 'mel', 'mel', 'mel', 'mel', 'mel', 'mel', 'mel', 'mel', 'mel', 'mel', 'mel', 'mel', 'mel', 'mel', 'mel', 'mel', 'mel', 'mel', 'mel', 'mel', 'mel', 'mel', 'mel', 'mel', 'mel', 'mel', 'mel', 'mel', 'mel', 'mel', 'mel', 'mel', 'mel', 'mel', 'mel', 'mel', 'mel', 'mel', 'mel', 'mel', 'mel', 'mel', 'mel', 'mel', 'mel', 'mel', 'mel', 'mel', 'mel', 'mel', 'mel', 'mel', 'mel', 'mel', 'mel', 'mel', 'mel', 'mel', 'mel', 'mel', 'mel', 'mel', 'mel', 'mel', 'mel', 'mel', 'mel', 'mel', 'mel', 'mel', 'mel', 'mel', 'mel', 'mel', 'mel', 'mel', 'mel', 'mel', 'mel', 'mel', 'mel', 'mel', 'mel', 'mel', 'mel', 'mel', 'mel', 'mel', 'mel', 'mel', 'mel', 'mel', 'mel', 'mel', 'mel', 'mel', 'mel', 'mel', 'mel', 'mel', 'mel', 'mel', 'mel', 'mel', 'mel', 'mel', 'mel', 'mel', 'mel', 'mel', 'mel', 'mel', 'mel', 'mel', 'mel', 'mel', 'mel', 'mel', 'mel', 'mel', 'mel', 'mel', 'mel', 'mel', 'mel', 'mel', 'mel', 'mel', 'mel', 'mel', 'mel', 'mel', 'mel', 'mel', 'mel', 'mel', 'mel', 'mel', 'mel', 'mel', 'mel', 'mel', 'mel', 'mel', 'mel', 'mel', 'mel', 'mel', 'mel', 'mel', 'mel', 'mel', 'mel', 'mel', 'mel', 'mel', 'mel', 'mel', 'mel', 'mel', 'mel', 'mel', 'mel', 'mel', 'mel', 'mel', 'mel', 'mel', 'mel', 'mel', 'mel', 'mel', 'mel', 'mel', 'mel', 'mel', 'mel', 'mel', 'mel', 'mel', 'mel', 'mel', 'mel', 'mel', 'mel', 'mel', 'mel', 'mel', 'mel', 'mel', 'mel', 'mel', 'mel', 'mel', 'mel', 'mel', 'mel', 'mel', 'mel', 'mel', 'mel', 'mel', 'mel', 'mel', 'mel', 'mel', 'mel', 'mel', 'mel', 'mel', 'mel', 'mel', 'mel', 'mel', 'mel', 'mel', 'mel', 'mel', 'mel', 'mel', 'mel', 'mel', 'mel', 'mel', 'mel', 'mel', 'mel', 'mel', 'mel', 'mel', 'mel', 'mel', 'mel', 'mel', 'mel', 'mel', 'mel', 'mel', 'mel', 'mel', 'mel', 'mel', 'mel', 'mel', 'mel', 'mel', 'mel', 'mel', 'mel', 'mel', 'mel', 'mel', 'mel', 'mel', 'mel', 'mel', 'mel', 'mel', 'mel', 'mel', 'mel', 'mel', 'mel', 'mel', 'mel', 'mel', 'mel', 'mel', 'mel', 'mel', 'mel', 'mel', 'mel', 'mel', 'mel', 'mel', 'mel', 'mel', 'mel', 'mel', 'mel', 'mel', 'mel', 'mel', 'mel', 'mel', 'mel', 'mel', 'mel', 'mel', 'mel', 'mel', 'mel', 'mel', 'mel', 'mel', 'mel', 'mel', 'mel', 'mel', 'mel', 'mel', 'mel', 'mel', 'mel', 'mel', 'mel', 'mel', 'mel', 'mel', 'mel', 'mel', 'mel', 'mel', 'mel', 'mel', 'mel', 'mel', 'mel', 'mel', 'mel', 'mel', 'mel', 'mel', 'mel', 'mel', 'mel', 'mel', 'mel', 'mel', 'mel', 'mel', 'mel', 'mel', 'mel', 'mel', 'mel', 'mel', 'mel', 'mel', 'mel', 'mel', 'mel', 'mel', 'mel', 'mel', 'mel', 'mel', 'mel', 'mel', 'mel', 'mel', 'mel', 'mel', 'mel', 'mel', 'mel', 'mel', 'mel', 'mel', 'mel', 'mel', 'mel', 'mel', 'mel', 'mel', 'mel', 'mel', 'mel', 'mel', 'mel', 'mel', 'mel', 'mel', 'mel', 'mel', 'mel', 'nv', 'nv', 'nv', 'nv', 'nv', 'nv', 'nv', 'nv', 'nv', 'nv', 'nv', 'nv', 'nv', 'nv', 'nv', 'nv', 'nv', 'nv', 'nv', 'nv', 'nv', 'nv', 'nv', 'nv', 'nv', 'nv', 'nv', 'nv', 'nv', 'nv', 'nv', 'nv', 'nv', 'nv', 'nv', 'nv', 'nv', 'nv', 'nv', 'nv', 'nv', 'nv', 'nv', 'nv', 'nv', 'nv', 'nv', 'nv', 'nv', 'nv', 'nv', 'nv', 'nv', 'nv', 'nv', 'nv', 'nv', 'nv', 'nv', 'nv', 'nv', 'nv', 'nv', 'nv', 'nv', 'nv', 'nv', 'nv', 'nv', 'nv', 'nv', 'nv', 'nv', 'nv', 'nv', 'nv', 'nv', 'nv', 'nv', 'nv', 'nv', 'nv', 'nv', 'nv', 'nv', 'nv', 'nv', 'nv', 'nv', 'nv', 'nv', 'nv', 'nv', 'nv', 'nv', 'nv', 'nv', 'nv', 'nv', 'nv', 'nv', 'nv', 'nv', 'nv', 'nv', 'nv', 'nv', 'nv', 'nv', 'nv', 'nv', 'nv', 'nv', 'nv', 'nv', 'nv', 'nv', 'nv', 'nv', 'nv', 'nv', 'nv', 'nv', 'nv', 'nv', 'nv', 'nv', 'nv', 'nv', 'nv', 'nv', 'nv', 'nv', 'nv', 'nv', 'nv', 'nv', 'nv', 'nv', 'nv', 'nv', 'nv', 'nv', 'nv', 'nv', 'nv', 'nv', 'nv', 'nv', 'nv', 'nv', 'nv', 'nv', 'nv', 'nv', 'nv', 'nv', 'nv', 'nv', 'nv', 'nv', 'nv', 'nv', 'nv', 'nv', 'nv', 'nv', 'nv', 'nv', 'nv', 'nv', 'nv', 'nv', 'nv', 'nv', 'nv', 'nv', 'nv', 'nv', 'nv', 'nv', 'nv', 'nv', 'nv', 'nv', 'nv', 'nv', 'nv', 'nv', 'nv', 'nv', 'nv', 'nv', 'nv', 'nv', 'nv', 'nv', 'nv', 'nv', 'nv', 'nv', 'nv', 'nv', 'nv', 'nv', 'nv', 'nv', 'nv', 'nv', 'nv', 'nv', 'nv', 'nv', 'nv', 'nv', 'nv', 'nv', 'nv', 'nv', 'nv', 'nv', 'nv', 'nv', 'nv', 'nv', 'nv', 'nv', 'nv', 'nv', 'nv', 'nv', 'nv', 'nv', 'nv', 'nv', 'nv', 'nv', 'nv', 'nv', 'nv', 'nv', 'nv', 'nv', 'nv', 'nv', 'nv', 'nv', 'nv', 'nv', 'nv', 'nv', 'nv', 'nv', 'nv', 'nv', 'nv', 'nv', 'nv', 'nv', 'nv', 'nv', 'nv', 'nv', 'nv', 'nv', 'nv', 'nv', 'nv', 'nv', 'nv', 'nv', 'nv', 'nv', 'nv', 'nv', 'nv', 'nv', 'nv', 'nv', 'nv', 'nv', 'nv', 'nv', 'nv', 'nv', 'nv', 'nv', 'nv', 'nv', 'nv', 'nv', 'nv', 'nv', 'nv', 'nv', 'nv', 'nv', 'nv', 'nv', 'nv', 'nv', 'nv', 'nv', 'nv', 'nv', 'nv', 'nv', 'nv', 'nv', 'nv', 'nv', 'nv', 'nv', 'nv', 'nv', 'nv', 'nv', 'nv', 'nv', 'nv', 'nv', 'nv', 'nv', 'nv', 'nv', 'nv', 'nv', 'nv', 'nv', 'nv', 'nv', 'nv', 'nv', 'nv', 'nv', 'nv', 'nv', 'nv', 'nv', 'nv', 'nv', 'nv', 'nv', 'nv', 'nv', 'nv', 'nv', 'nv', 'nv', 'nv', 'nv', 'nv', 'nv', 'nv', 'nv', 'nv', 'nv', 'nv', 'nv', 'nv', 'nv', 'nv', 'nv', 'nv', 'nv', 'nv', 'nv', 'nv', 'nv', 'nv', 'nv', 'nv', 'nv', 'nv', 'nv', 'nv', 'nv', 'nv', 'nv', 'nv', 'nv', 'nv', 'nv', 'nv', 'nv', 'nv', 'nv', 'nv', 'nv', 'nv', 'nv', 'nv', 'nv', 'nv', 'nv', 'nv', 'nv', 'nv', 'nv', 'nv', 'nv', 'nv', 'nv', 'nv', 'nv', 'nv', 'nv', 'nv', 'nv', 'nv', 'nv', 'nv', 'nv', 'nv', 'nv', 'nv', 'nv', 'nv', 'nv', 'nv', 'nv', 'nv', 'nv', 'nv', 'nv', 'nv', 'nv', 'nv', 'nv', 'nv', 'nv', 'nv', 'nv', 'nv', 'nv', 'nv', 'nv', 'nv', 'nv', 'nv', 'nv', 'nv', 'nv', 'nv', 'nv', 'nv', 'nv', 'nv', 'nv', 'nv', 'nv', 'nv', 'nv', 'nv', 'nv', 'nv', 'nv', 'nv', 'nv', 'nv', 'nv', 'nv', 'nv', 'nv', 'nv', 'nv', 'nv', 'nv', 'nv', 'nv', 'nv', 'nv', 'nv', 'nv', 'nv', 'nv', 'nv', 'nv', 'nv', 'nv', 'nv', 'nv', 'nv', 'nv', 'nv', 'nv', 'nv', 'nv', 'nv', 'nv', 'nv', 'nv', 'nv', 'nv', 'nv', 'nv', 'nv', 'nv', 'nv', 'nv', 'nv', 'nv', 'nv', 'nv', 'nv', 'nv', 'nv', 'nv', 'nv', 'nv', 'nv', 'nv', 'nv', 'nv', 'nv', 'nv', 'nv', 'nv', 'nv', 'nv', 'nv', 'nv', 'nv', 'nv', 'nv', 'nv', 'nv', 'nv', 'nv', 'nv', 'nv', 'nv', 'nv', 'nv', 'nv', 'nv', 'nv', 'nv', 'nv', 'nv', 'nv', 'nv', 'nv', 'nv', 'nv', 'nv', 'nv', 'nv', 'nv', 'nv', 'nv', 'nv', 'nv', 'nv', 'nv', 'nv', 'nv', 'nv', 'nv', 'nv', 'nv', 'nv', 'nv', 'nv', 'nv', 'nv', 'nv', 'nv', 'nv', 'nv', 'nv', 'nv', 'nv', 'nv', 'nv', 'nv', 'nv', 'nv', 'nv', 'nv', 'nv', 'nv', 'nv', 'nv', 'nv', 'nv', 'nv', 'nv', 'nv', 'nv', 'nv', 'nv', 'nv', 'nv', 'nv', 'nv', 'nv', 'nv', 'nv', 'nv', 'nv', 'nv', 'nv', 'nv', 'nv', 'nv', 'nv', 'nv', 'nv', 'nv', 'nv', 'nv', 'nv', 'nv', 'nv', 'nv', 'nv', 'nv', 'nv', 'nv', 'nv', 'nv', 'nv', 'nv', 'nv', 'nv', 'nv', 'nv', 'nv', 'nv', 'nv', 'nv', 'nv', 'nv', 'nv', 'nv', 'nv', 'nv', 'nv', 'nv', 'nv', 'nv', 'nv', 'nv', 'nv', 'nv', 'nv', 'nv', 'nv', 'nv', 'nv', 'nv', 'nv', 'nv', 'nv', 'nv', 'nv', 'nv', 'nv', 'nv', 'nv', 'nv', 'nv', 'nv', 'nv', 'nv', 'nv', 'nv', 'nv', 'nv', 'nv', 'nv', 'nv', 'nv', 'nv', 'nv', 'nv', 'nv', 'nv', 'nv', 'nv', 'nv', 'nv', 'nv', 'nv', 'nv', 'nv', 'nv', 'nv', 'nv', 'nv', 'nv', 'nv', 'nv', 'nv', 'nv', 'nv', 'nv', 'nv', 'nv', 'nv', 'nv', 'nv', 'nv', 'nv', 'nv', 'nv', 'nv', 'nv', 'nv', 'nv', 'nv', 'nv', 'nv', 'nv', 'nv', 'nv', 'nv', 'nv', 'nv', 'nv', 'nv', 'nv', 'nv', 'nv', 'nv', 'nv', 'nv', 'nv', 'nv', 'nv', 'nv', 'nv', 'nv', 'nv', 'nv', 'nv', 'nv', 'nv', 'nv', 'nv', 'nv', 'nv', 'nv', 'nv', 'nv', 'nv', 'nv', 'nv', 'nv', 'nv', 'nv', 'nv', 'nv', 'nv', 'nv', 'nv', 'nv', 'nv', 'nv', 'nv', 'nv', 'nv', 'nv', 'nv', 'nv', 'nv', 'nv', 'nv', 'nv', 'nv', 'nv', 'nv', 'nv', 'nv', 'nv', 'nv', 'nv', 'nv', 'nv', 'nv', 'nv', 'nv', 'nv', 'nv', 'nv', 'nv', 'nv', 'nv', 'nv', 'nv', 'nv', 'nv', 'nv', 'nv', 'nv', 'nv', 'nv', 'nv', 'nv', 'nv', 'nv', 'nv', 'nv', 'nv', 'nv', 'nv', 'nv', 'nv', 'nv', 'nv', 'nv', 'nv', 'nv', 'nv', 'nv', 'nv', 'nv', 'nv', 'nv', 'nv', 'nv', 'nv', 'nv', 'nv', 'nv', 'nv', 'nv', 'nv', 'nv', 'nv', 'nv', 'nv', 'nv', 'nv', 'nv', 'nv', 'nv', 'nv', 'nv', 'nv', 'nv', 'nv', 'nv', 'nv', 'nv', 'nv', 'nv', 'nv', 'nv', 'nv', 'nv', 'nv', 'nv', 'nv', 'nv', 'nv', 'nv', 'nv', 'nv', 'nv', 'nv', 'nv', 'nv', 'nv', 'nv', 'nv', 'nv', 'nv', 'nv', 'nv', 'nv', 'nv', 'nv', 'nv', 'nv', 'nv', 'nv', 'nv', 'nv', 'nv', 'nv', 'nv', 'nv', 'nv', 'nv', 'nv', 'nv', 'nv', 'nv', 'nv', 'nv', 'nv', 'nv', 'nv', 'nv', 'nv', 'nv', 'nv', 'nv', 'nv', 'nv', 'nv', 'nv', 'nv', 'nv', 'nv', 'nv', 'nv', 'nv', 'nv', 'nv', 'nv', 'nv', 'nv', 'nv', 'nv', 'nv', 'nv', 'nv', 'nv', 'nv', 'nv', 'nv', 'nv', 'nv', 'nv', 'nv', 'nv', 'nv', 'nv', 'nv', 'nv', 'nv', 'nv', 'nv', 'nv', 'nv', 'nv', 'nv', 'nv', 'nv', 'nv', 'nv', 'nv', 'nv', 'nv', 'nv', 'nv', 'nv', 'nv', 'nv', 'nv', 'nv', 'nv', 'nv', 'nv', 'nv', 'nv', 'nv', 'nv', 'nv', 'nv', 'nv', 'nv', 'nv', 'nv', 'nv', 'nv', 'nv', 'nv', 'nv', 'nv', 'nv', 'nv', 'nv', 'nv', 'nv', 'nv', 'nv', 'nv', 'nv', 'nv', 'nv', 'nv', 'nv', 'nv', 'nv', 'nv', 'nv', 'nv', 'nv', 'nv', 'nv', 'nv', 'nv', 'nv', 'nv', 'nv', 'nv', 'nv', 'nv', 'nv', 'nv', 'nv', 'nv', 'nv', 'nv', 'nv', 'nv', 'nv', 'nv', 'nv', 'nv', 'nv', 'nv', 'nv', 'nv', 'nv', 'nv', 'nv', 'nv', 'nv', 'nv', 'nv', 'nv', 'nv', 'nv', 'nv', 'nv', 'nv', 'nv', 'nv', 'nv', 'nv', 'nv', 'nv', 'nv', 'nv', 'nv', 'nv', 'nv', 'nv', 'nv', 'nv', 'nv', 'nv', 'nv', 'nv', 'nv', 'nv', 'nv', 'nv', 'nv', 'nv', 'nv', 'nv', 'nv', 'nv', 'nv', 'nv', 'nv', 'nv', 'nv', 'nv', 'nv', 'nv', 'nv', 'nv', 'nv', 'nv', 'nv', 'nv', 'nv', 'nv', 'nv', 'nv', 'nv', 'nv', 'nv', 'nv', 'nv', 'nv', 'nv', 'nv', 'nv', 'nv', 'nv', 'nv', 'nv', 'nv', 'nv', 'nv', 'nv', 'nv', 'nv', 'nv', 'nv', 'nv', 'nv', 'nv', 'nv', 'nv', 'nv', 'nv', 'nv', 'nv', 'nv', 'nv', 'nv', 'nv', 'nv', 'nv', 'nv', 'nv', 'nv', 'nv', 'nv', 'nv', 'nv', 'nv', 'nv', 'nv', 'nv', 'nv', 'nv', 'nv', 'nv', 'nv', 'nv', 'nv', 'nv', 'nv', 'nv', 'nv', 'nv', 'nv', 'nv', 'nv', 'nv', 'nv', 'nv', 'nv', 'nv', 'nv', 'nv', 'nv', 'nv', 'nv', 'nv', 'nv', 'nv', 'nv', 'nv', 'nv', 'nv', 'nv', 'nv', 'nv', 'nv', 'nv', 'nv', 'nv', 'nv', 'nv', 'nv', 'nv', 'nv', 'nv', 'nv', 'nv', 'nv', 'nv', 'nv', 'nv', 'nv', 'nv', 'nv', 'nv', 'nv', 'nv', 'nv', 'nv', 'nv', 'nv', 'nv', 'nv', 'nv', 'nv', 'nv', 'nv', 'nv', 'nv', 'nv', 'nv', 'nv', 'nv', 'nv', 'nv', 'nv', 'nv', 'nv', 'nv', 'nv', 'nv', 'nv', 'nv', 'nv', 'nv', 'nv', 'nv', 'nv', 'nv', 'nv', 'nv', 'nv', 'nv', 'nv', 'nv', 'nv', 'nv', 'nv', 'nv', 'nv', 'nv', 'nv', 'nv', 'nv', 'nv', 'nv', 'nv', 'nv', 'nv', 'nv', 'nv', 'nv', 'nv', 'nv', 'nv', 'nv', 'nv', 'nv', 'nv', 'nv', 'nv', 'nv', 'nv', 'nv', 'nv', 'nv', 'nv', 'nv', 'nv', 'nv', 'nv', 'nv', 'nv', 'nv', 'nv', 'nv', 'nv', 'nv', 'nv', 'nv', 'nv', 'nv', 'nv', 'nv', 'nv', 'nv', 'nv', 'nv', 'nv', 'nv', 'nv', 'nv', 'nv', 'nv', 'nv', 'nv', 'nv', 'nv', 'nv', 'nv', 'nv', 'nv', 'nv', 'nv', 'nv', 'nv', 'nv', 'nv', 'nv', 'nv', 'nv', 'nv', 'nv', 'nv', 'nv', 'nv', 'nv', 'nv', 'nv', 'nv', 'nv', 'nv', 'nv', 'nv', 'nv', 'nv', 'nv', 'nv', 'nv', 'nv', 'nv', 'nv', 'nv', 'nv', 'nv', 'nv', 'nv', 'nv', 'nv', 'nv', 'nv', 'nv', 'nv', 'nv', 'nv', 'nv', 'nv', 'nv', 'nv', 'nv', 'nv', 'nv', 'nv', 'nv', 'nv', 'nv', 'nv', 'nv', 'nv', 'nv', 'nv', 'nv', 'nv', 'nv', 'nv', 'nv', 'nv', 'nv', 'nv', 'nv', 'nv', 'nv', 'nv', 'nv', 'nv', 'nv', 'nv', 'nv', 'nv', 'nv', 'nv', 'nv', 'nv', 'nv', 'nv', 'nv', 'nv', 'nv', 'nv', 'nv', 'nv', 'nv', 'nv', 'nv', 'nv', 'nv', 'nv', 'nv', 'nv', 'nv', 'nv', 'nv', 'nv', 'nv', 'nv', 'nv', 'nv', 'nv', 'nv', 'nv', 'nv', 'nv', 'nv', 'nv', 'nv', 'nv', 'nv', 'nv', 'nv', 'nv', 'nv', 'nv', 'nv', 'nv', 'nv', 'nv', 'nv', 'nv', 'nv', 'nv', 'nv', 'nv', 'nv', 'nv', 'nv', 'nv', 'nv', 'nv', 'nv', 'nv', 'nv', 'nv', 'nv', 'nv', 'nv', 'nv', 'nv', 'nv', 'nv', 'nv', 'nv', 'nv', 'nv', 'nv', 'nv', 'nv', 'nv', 'nv', 'nv', 'nv', 'nv', 'nv', 'nv', 'nv', 'nv', 'nv', 'nv', 'nv', 'nv', 'nv', 'nv', 'nv', 'nv', 'nv', 'nv', 'nv', 'nv', 'nv', 'nv', 'nv', 'nv', 'nv', 'nv', 'nv', 'nv', 'nv', 'nv', 'nv', 'nv', 'nv', 'nv', 'nv', 'nv', 'nv', 'nv', 'nv', 'nv', 'nv', 'nv', 'nv', 'nv', 'nv', 'nv', 'nv', 'nv', 'nv', 'nv', 'nv', 'nv', 'nv', 'nv', 'nv', 'nv', 'nv', 'nv', 'nv', 'nv', 'nv', 'nv', 'nv', 'nv', 'nv', 'nv', 'nv', 'nv', 'nv', 'nv', 'nv', 'nv', 'nv', 'nv', 'nv', 'nv', 'nv', 'nv', 'nv', 'nv', 'nv', 'nv', 'nv', 'nv', 'nv', 'nv', 'nv', 'nv', 'nv', 'nv', 'nv', 'nv', 'nv', 'nv', 'nv', 'nv', 'nv', 'nv', 'nv', 'nv', 'nv', 'nv', 'nv', 'nv', 'nv', 'nv', 'nv', 'nv', 'nv', 'nv', 'nv', 'nv', 'nv', 'nv', 'nv', 'nv', 'nv', 'nv', 'nv', 'nv', 'nv', 'nv', 'nv', 'nv', 'nv', 'nv', 'nv', 'nv', 'nv', 'nv', 'nv', 'nv', 'nv', 'nv', 'nv', 'nv', 'nv', 'nv', 'nv', 'nv', 'nv', 'nv', 'nv', 'nv', 'nv', 'nv', 'nv', 'nv', 'nv', 'nv', 'nv', 'nv', 'nv', 'nv', 'nv', 'nv', 'nv', 'nv', 'nv', 'nv', 'nv', 'nv', 'nv', 'nv', 'nv', 'nv', 'nv', 'nv', 'nv', 'nv', 'nv', 'nv', 'nv', 'nv', 'nv', 'nv', 'nv', 'nv', 'nv', 'nv', 'nv', 'nv', 'nv', 'nv', 'nv', 'nv', 'nv', 'nv', 'nv', 'nv', 'nv', 'nv', 'nv', 'nv', 'nv', 'nv', 'nv', 'nv', 'nv', 'nv', 'nv', 'nv', 'nv', 'nv', 'nv', 'nv', 'nv', 'nv', 'nv', 'nv', 'nv', 'nv', 'nv', 'nv', 'nv', 'nv', 'nv', 'nv', 'nv', 'nv', 'nv', 'nv', 'nv', 'nv', 'nv', 'nv', 'nv', 'nv', 'nv', 'nv', 'nv', 'nv', 'nv', 'nv', 'nv', 'nv', 'nv', 'nv', 'nv', 'nv', 'nv', 'nv', 'nv', 'nv', 'nv', 'nv', 'nv', 'nv', 'nv', 'nv', 'nv', 'nv', 'nv', 'nv', 'nv', 'nv', 'nv', 'nv', 'nv', 'nv', 'nv', 'nv', 'nv', 'nv', 'nv', 'nv', 'nv', 'nv', 'nv', 'nv', 'nv', 'nv', 'nv', 'nv', 'nv', 'nv', 'nv', 'nv', 'nv', 'nv', 'nv', 'nv', 'nv', 'nv', 'nv', 'nv', 'nv', 'nv', 'nv', 'nv', 'nv', 'nv', 'nv', 'nv', 'nv', 'nv', 'nv', 'nv', 'nv', 'nv', 'nv', 'nv', 'nv', 'nv', 'nv', 'nv', 'nv', 'nv', 'nv', 'nv', 'nv', 'nv', 'nv', 'nv', 'nv', 'nv', 'nv', 'nv', 'nv', 'nv', 'nv', 'nv', 'nv', 'nv', 'nv', 'nv', 'nv', 'nv', 'nv', 'nv', 'nv', 'nv', 'nv', 'nv', 'nv', 'nv', 'nv', 'nv', 'nv', 'nv', 'nv', 'nv', 'nv', 'nv', 'nv', 'nv', 'nv', 'nv', 'nv', 'nv', 'nv', 'nv', 'nv', 'nv', 'nv', 'nv', 'nv', 'nv', 'nv', 'nv', 'nv', 'nv', 'nv', 'nv', 'nv', 'nv', 'nv', 'nv', 'nv', 'nv', 'nv', 'nv', 'nv', 'nv', 'nv', 'nv', 'nv', 'nv', 'nv', 'nv', 'nv', 'nv', 'nv', 'nv', 'nv', 'nv', 'nv', 'nv', 'nv', 'nv', 'nv', 'nv', 'nv', 'nv', 'nv', 'nv', 'nv', 'nv', 'nv', 'nv', 'nv', 'nv', 'nv', 'nv', 'nv', 'nv', 'nv', 'nv', 'nv', 'nv', 'nv', 'nv', 'nv', 'nv', 'nv', 'nv', 'nv', 'nv', 'nv', 'nv', 'nv', 'nv', 'nv', 'nv', 'nv', 'nv', 'nv', 'nv', 'nv', 'nv', 'nv', 'nv', 'nv', 'nv', 'nv', 'nv', 'nv', 'nv', 'nv', 'nv', 'nv', 'nv', 'nv', 'nv', 'nv', 'nv', 'nv', 'nv', 'nv', 'nv', 'nv', 'nv', 'nv', 'nv', 'nv', 'nv', 'nv', 'nv', 'nv', 'nv', 'nv', 'nv', 'nv', 'nv', 'nv', 'nv', 'nv', 'nv', 'nv', 'nv', 'nv', 'nv', 'nv', 'nv', 'nv', 'nv', 'nv', 'nv', 'nv', 'nv', 'nv', 'nv', 'nv', 'nv', 'nv', 'nv', 'nv', 'nv', 'nv', 'nv', 'nv', 'nv', 'nv', 'nv', 'nv', 'nv', 'nv', 'nv', 'nv', 'nv', 'nv', 'nv', 'nv', 'nv', 'nv', 'nv', 'nv', 'nv', 'nv', 'nv', 'nv', 'nv', 'nv', 'nv', 'nv', 'nv', 'nv', 'nv', 'nv', 'nv', 'nv', 'nv', 'nv', 'nv', 'nv', 'nv', 'nv', 'nv', 'nv', 'nv', 'nv', 'nv', 'nv', 'nv', 'nv', 'nv', 'nv', 'nv', 'nv', 'nv', 'nv', 'nv', 'nv', 'nv', 'nv', 'nv', 'nv', 'nv', 'nv', 'nv', 'nv', 'nv', 'nv', 'nv', 'nv', 'nv', 'nv', 'nv', 'nv', 'nv', 'nv', 'nv', 'nv', 'nv', 'nv', 'nv', 'nv', 'nv', 'nv', 'nv', 'nv', 'nv', 'nv', 'nv', 'nv', 'nv', 'nv', 'nv', 'nv', 'nv', 'nv', 'nv', 'nv', 'nv', 'nv', 'nv', 'nv', 'nv', 'nv', 'nv', 'nv', 'nv', 'nv', 'nv', 'nv', 'nv', 'nv', 'nv', 'nv', 'nv', 'nv', 'nv', 'nv', 'nv', 'nv', 'nv', 'nv', 'nv', 'nv', 'nv', 'nv', 'nv', 'nv', 'nv', 'nv', 'nv', 'nv', 'nv', 'nv', 'nv', 'nv', 'nv', 'nv', 'nv', 'nv', 'nv', 'nv', 'nv', 'nv', 'nv', 'nv', 'nv', 'nv', 'nv', 'nv', 'nv', 'nv', 'nv', 'nv', 'nv', 'nv', 'nv', 'nv', 'nv', 'nv', 'nv', 'nv', 'nv', 'nv', 'nv', 'nv', 'nv', 'nv', 'nv', 'nv', 'nv', 'nv', 'nv', 'nv', 'nv', 'nv', 'nv', 'nv', 'nv', 'nv', 'nv', 'nv', 'nv', 'nv', 'nv', 'nv', 'nv', 'nv', 'nv', 'nv', 'nv', 'nv', 'nv', 'nv', 'nv', 'nv', 'nv', 'nv', 'nv', 'nv', 'nv', 'nv', 'nv', 'nv', 'nv', 'nv', 'nv', 'nv', 'nv', 'nv', 'nv', 'nv', 'nv', 'nv', 'nv', 'nv', 'nv', 'nv', 'nv', 'nv', 'nv', 'nv', 'nv', 'nv', 'nv', 'nv', 'nv', 'nv', 'nv', 'nv', 'nv', 'nv', 'nv', 'nv', 'nv', 'nv', 'nv', 'nv', 'nv', 'nv', 'nv', 'nv', 'nv', 'nv', 'nv', 'nv', 'nv', 'nv', 'nv', 'nv', 'nv', 'nv', 'nv', 'nv', 'nv', 'nv', 'nv', 'nv', 'nv', 'nv', 'nv', 'nv', 'nv', 'nv', 'nv', 'nv', 'nv', 'nv', 'nv', 'nv', 'nv', 'nv', 'nv', 'nv', 'nv', 'nv', 'nv', 'nv', 'nv', 'nv', 'nv', 'nv', 'nv', 'nv', 'nv', 'nv', 'nv', 'nv', 'nv', 'nv', 'nv', 'nv', 'nv', 'nv', 'nv', 'nv', 'nv', 'nv', 'nv', 'nv', 'nv', 'nv', 'nv', 'nv', 'nv', 'nv', 'nv', 'nv', 'nv', 'nv', 'nv', 'nv', 'nv', 'nv', 'nv', 'nv', 'nv', 'nv', 'nv', 'nv', 'nv', 'nv', 'nv', 'nv', 'nv', 'nv', 'nv', 'nv', 'nv', 'nv', 'nv', 'nv', 'nv', 'nv', 'nv', 'nv', 'nv', 'nv', 'nv', 'nv', 'nv', 'nv', 'nv', 'nv', 'nv', 'nv', 'nv', 'nv', 'nv', 'nv', 'nv', 'nv', 'nv', 'nv', 'nv', 'nv', 'nv', 'nv', 'nv', 'nv', 'nv', 'nv', 'nv', 'nv', 'nv', 'nv', 'nv', 'nv', 'nv', 'nv', 'nv', 'nv', 'nv', 'nv', 'nv', 'nv', 'nv', 'nv', 'nv', 'nv', 'nv', 'nv', 'nv', 'nv', 'nv', 'nv', 'nv', 'nv', 'nv', 'nv', 'nv', 'nv', 'nv', 'nv', 'nv', 'nv', 'nv', 'nv', 'nv', 'nv', 'nv', 'nv', 'nv', 'nv', 'nv', 'nv', 'nv', 'nv', 'nv', 'nv', 'nv', 'nv', 'nv', 'nv', 'nv', 'nv', 'nv', 'nv', 'nv', 'nv', 'nv', 'nv', 'nv', 'nv', 'nv', 'nv', 'nv', 'nv', 'nv', 'nv', 'nv', 'nv', 'nv', 'nv', 'nv', 'nv', 'nv', 'nv', 'nv', 'nv', 'nv', 'nv', 'nv', 'nv', 'nv', 'nv', 'nv', 'nv', 'nv', 'nv', 'nv', 'nv', 'nv', 'nv', 'nv', 'nv', 'nv', 'nv', 'nv', 'nv', 'nv', 'nv', 'nv', 'nv', 'nv', 'nv', 'nv', 'nv', 'nv', 'nv', 'nv', 'nv', 'nv', 'nv', 'nv', 'nv', 'nv', 'nv', 'nv', 'nv', 'nv', 'nv', 'nv', 'nv', 'nv', 'nv', 'nv', 'nv', 'nv', 'nv', 'nv', 'nv', 'nv', 'nv', 'nv', 'nv', 'nv', 'nv', 'nv', 'nv', 'nv', 'nv', 'nv', 'nv', 'nv', 'nv', 'nv', 'nv', 'nv', 'nv', 'nv', 'nv', 'nv', 'nv', 'nv', 'nv', 'nv', 'nv', 'nv', 'nv', 'nv', 'nv', 'nv', 'nv', 'nv', 'nv', 'nv', 'nv', 'nv', 'nv', 'nv', 'nv', 'nv', 'nv', 'nv', 'nv', 'nv', 'nv', 'nv', 'nv', 'nv', 'nv', 'nv', 'nv', 'nv', 'nv', 'nv', 'nv', 'nv', 'nv', 'nv', 'nv', 'nv', 'nv', 'nv', 'nv', 'nv', 'nv', 'nv', 'nv', 'nv', 'nv', 'nv', 'nv', 'nv', 'nv', 'nv', 'nv', 'nv', 'nv', 'nv', 'nv', 'nv', 'nv', 'nv', 'nv', 'nv', 'nv', 'nv', 'nv', 'nv', 'nv', 'nv', 'nv', 'nv', 'nv', 'nv', 'nv', 'nv', 'nv', 'nv', 'nv', 'nv', 'nv', 'nv', 'nv', 'nv', 'nv', 'nv', 'nv', 'nv', 'nv', 'nv', 'nv', 'nv', 'nv', 'nv', 'nv', 'nv', 'nv', 'nv', 'nv', 'nv', 'nv', 'nv', 'nv', 'nv', 'nv', 'nv', 'nv', 'nv', 'nv', 'nv', 'nv', 'nv', 'nv', 'nv', 'nv', 'nv', 'nv', 'nv', 'nv', 'nv', 'nv', 'nv', 'nv', 'nv', 'nv', 'nv', 'nv', 'nv', 'nv', 'nv', 'nv', 'nv', 'nv', 'nv', 'nv', 'nv', 'nv', 'nv', 'nv', 'nv', 'nv', 'nv', 'nv', 'nv', 'nv', 'nv', 'nv', 'nv', 'nv', 'nv', 'nv', 'nv', 'nv', 'nv', 'nv', 'nv', 'nv', 'nv', 'nv', 'nv', 'nv', 'nv', 'nv', 'nv', 'nv', 'nv', 'nv', 'nv', 'nv', 'nv', 'nv', 'nv', 'nv', 'nv', 'nv', 'nv', 'nv', 'nv', 'nv', 'nv', 'nv', 'nv', 'nv', 'nv', 'nv', 'nv', 'nv', 'nv', 'nv', 'nv', 'nv', 'nv', 'nv', 'nv', 'nv', 'nv', 'nv', 'nv', 'nv', 'nv', 'nv', 'nv', 'nv', 'nv', 'nv', 'nv', 'nv', 'nv', 'nv', 'nv', 'nv', 'nv', 'nv', 'nv', 'nv', 'nv', 'nv', 'nv', 'nv', 'nv', 'nv', 'nv', 'nv', 'nv', 'nv', 'nv', 'nv', 'nv', 'nv', 'nv', 'nv', 'nv', 'nv', 'nv', 'nv', 'nv', 'nv', 'nv', 'nv', 'nv', 'nv', 'nv', 'nv', 'nv', 'nv', 'nv', 'nv', 'nv', 'nv', 'nv', 'nv', 'nv', 'nv', 'nv', 'nv', 'nv', 'nv', 'nv', 'nv', 'nv', 'nv', 'nv', 'nv', 'nv', 'nv', 'nv', 'nv', 'nv', 'nv', 'nv', 'nv', 'nv', 'nv', 'nv', 'nv', 'nv', 'nv', 'nv', 'nv', 'nv', 'nv', 'nv', 'nv', 'nv', 'nv', 'nv', 'nv', 'nv', 'nv', 'nv', 'nv', 'nv', 'nv', 'nv', 'nv', 'nv', 'nv', 'nv', 'nv', 'nv', 'nv', 'nv', 'nv', 'nv', 'nv', 'nv', 'nv', 'nv', 'nv', 'nv', 'nv', 'nv', 'nv', 'nv', 'nv', 'nv', 'nv', 'nv', 'nv', 'nv', 'nv', 'nv', 'nv', 'nv', 'nv', 'nv', 'nv', 'nv', 'nv', 'nv', 'nv', 'nv', 'nv', 'nv', 'nv', 'nv', 'nv', 'nv', 'nv', 'nv', 'nv', 'nv', 'nv', 'nv', 'nv', 'nv', 'nv', 'nv', 'nv', 'nv', 'nv', 'nv', 'nv', 'nv', 'nv', 'nv', 'nv', 'nv', 'nv', 'nv', 'nv', 'nv', 'nv', 'nv', 'nv', 'nv', 'nv', 'nv', 'nv', 'nv', 'nv', 'nv', 'nv', 'nv', 'nv', 'nv', 'nv', 'nv', 'nv', 'nv', 'nv', 'nv', 'nv', 'nv', 'nv', 'nv', 'nv', 'nv', 'nv', 'nv', 'nv', 'nv', 'nv', 'nv', 'nv', 'nv', 'nv', 'nv', 'nv', 'nv', 'nv', 'nv', 'nv', 'nv', 'nv', 'nv', 'nv', 'nv', 'nv', 'nv', 'nv', 'nv', 'nv', 'nv', 'nv', 'nv', 'nv', 'nv', 'nv', 'nv', 'nv', 'nv', 'nv', 'nv', 'nv', 'nv', 'nv', 'nv', 'nv', 'nv', 'nv', 'nv', 'nv', 'nv', 'nv', 'nv', 'nv', 'nv', 'nv', 'nv', 'nv', 'nv', 'nv', 'nv', 'nv', 'nv', 'nv', 'nv', 'nv', 'nv', 'nv', 'nv', 'nv', 'nv', 'nv', 'nv', 'nv', 'nv', 'nv', 'nv', 'nv', 'nv', 'nv', 'nv', 'nv', 'nv', 'nv', 'nv', 'nv', 'nv', 'nv', 'nv', 'nv', 'nv', 'nv', 'nv', 'nv', 'nv', 'nv', 'nv', 'nv', 'nv', 'nv', 'nv', 'nv', 'nv', 'nv', 'nv', 'nv', 'nv', 'nv', 'nv', 'nv', 'nv', 'nv', 'nv', 'nv', 'nv', 'nv', 'nv', 'nv', 'nv', 'nv', 'nv', 'nv', 'nv', 'nv', 'nv', 'nv', 'nv', 'nv', 'nv', 'nv', 'nv', 'nv', 'nv', 'nv', 'nv', 'nv', 'nv', 'nv', 'nv', 'nv', 'nv', 'nv', 'nv', 'nv', 'nv', 'nv', 'nv', 'nv', 'nv', 'nv', 'nv', 'nv', 'nv', 'nv', 'nv', 'nv', 'nv', 'nv', 'nv', 'nv', 'nv', 'nv', 'nv', 'nv', 'nv', 'nv', 'nv', 'nv', 'nv', 'nv', 'nv', 'nv', 'nv', 'nv', 'nv', 'nv', 'nv', 'nv', 'nv', 'nv', 'nv', 'nv', 'nv', 'nv', 'nv', 'nv', 'nv', 'nv', 'nv', 'nv', 'nv', 'nv', 'nv', 'nv', 'nv', 'nv', 'nv', 'nv', 'nv', 'nv', 'nv', 'nv', 'nv', 'nv', 'nv', 'nv', 'nv', 'nv', 'nv', 'nv', 'nv', 'nv', 'nv', 'nv', 'nv', 'nv', 'nv', 'nv', 'nv', 'nv', 'nv', 'nv', 'nv', 'nv', 'nv', 'nv', 'nv', 'nv', 'nv', 'nv', 'nv', 'nv', 'nv', 'nv', 'nv', 'nv', 'nv', 'nv', 'nv', 'nv', 'nv', 'nv', 'nv', 'nv', 'nv', 'nv', 'nv', 'nv', 'nv', 'nv', 'nv', 'nv', 'nv', 'nv', 'nv', 'nv', 'nv', 'nv', 'nv', 'nv', 'nv', 'nv', 'nv', 'nv', 'nv', 'nv', 'nv', 'nv', 'nv', 'nv', 'nv', 'nv', 'nv', 'nv', 'nv', 'nv', 'nv', 'nv', 'nv', 'nv', 'nv', 'nv', 'nv', 'nv', 'nv', 'nv', 'nv', 'nv', 'nv', 'nv', 'nv', 'nv', 'nv', 'nv', 'nv', 'nv', 'nv', 'nv', 'nv', 'nv', 'nv', 'nv', 'nv', 'nv', 'nv', 'nv', 'nv', 'nv', 'nv', 'nv', 'nv', 'nv', 'nv', 'nv', 'nv', 'nv', 'nv', 'nv', 'nv', 'nv', 'nv', 'nv', 'nv', 'nv', 'nv', 'nv', 'nv', 'nv', 'nv', 'nv', 'nv', 'nv', 'nv', 'nv', 'nv', 'nv', 'nv', 'nv', 'nv', 'nv', 'nv', 'nv', 'nv', 'nv', 'nv', 'nv', 'nv', 'nv', 'nv', 'nv', 'nv', 'nv', 'nv', 'nv', 'nv', 'nv', 'nv', 'nv', 'nv', 'nv', 'nv', 'nv', 'nv', 'nv', 'nv', 'nv', 'nv', 'nv', 'nv', 'nv', 'nv', 'nv', 'nv', 'nv', 'nv', 'nv', 'nv', 'nv', 'nv', 'nv', 'nv', 'nv', 'nv', 'nv', 'nv', 'nv', 'nv', 'nv', 'nv', 'nv', 'nv', 'nv', 'nv', 'nv', 'nv', 'nv', 'nv', 'nv', 'nv', 'nv', 'nv', 'nv', 'nv', 'nv', 'nv', 'nv', 'nv', 'nv', 'nv', 'nv', 'nv', 'nv', 'nv', 'nv', 'nv', 'nv', 'nv', 'nv', 'nv', 'nv', 'nv', 'nv', 'nv', 'nv', 'nv', 'nv', 'nv', 'nv', 'nv', 'nv', 'nv', 'nv', 'nv', 'nv', 'nv', 'nv', 'nv', 'nv', 'nv', 'nv', 'nv', 'nv', 'nv', 'nv', 'nv', 'nv', 'nv', 'nv', 'nv', 'nv', 'nv', 'nv', 'nv', 'nv', 'nv', 'nv', 'nv', 'nv', 'nv', 'nv', 'nv', 'nv', 'nv', 'nv', 'nv', 'nv', 'nv', 'nv', 'nv', 'nv', 'nv', 'nv', 'nv', 'nv', 'nv', 'nv', 'nv', 'nv', 'nv', 'nv', 'nv', 'nv', 'nv', 'nv', 'nv', 'nv', 'nv', 'nv', 'nv', 'nv', 'nv', 'nv', 'nv', 'nv', 'nv', 'nv', 'nv', 'nv', 'nv', 'nv', 'nv', 'nv', 'nv', 'nv', 'nv', 'nv', 'nv', 'nv', 'nv', 'nv', 'nv', 'nv', 'nv', 'nv', 'nv', 'nv', 'nv', 'nv', 'nv', 'nv', 'nv', 'nv', 'nv', 'nv', 'nv', 'nv', 'nv', 'nv', 'nv', 'nv', 'nv', 'nv', 'nv', 'nv', 'nv', 'nv', 'nv', 'nv', 'nv', 'nv', 'nv', 'nv', 'nv', 'nv', 'nv', 'nv', 'nv', 'nv', 'nv', 'nv', 'nv', 'nv', 'nv', 'nv', 'nv', 'nv', 'nv', 'nv', 'nv', 'nv', 'nv', 'nv', 'nv', 'nv', 'nv', 'nv', 'nv', 'nv', 'nv', 'nv', 'nv', 'nv', 'nv', 'nv', 'nv', 'nv', 'nv', 'nv', 'nv', 'nv', 'nv', 'nv', 'nv', 'nv', 'nv', 'nv', 'nv', 'nv', 'nv', 'nv', 'nv', 'nv', 'nv', 'nv', 'nv', 'nv', 'nv', 'nv', 'nv', 'nv', 'nv', 'nv', 'nv', 'nv', 'nv', 'nv', 'nv', 'nv', 'nv', 'nv', 'nv', 'nv', 'nv', 'nv', 'nv', 'nv', 'nv', 'nv', 'nv', 'nv', 'nv', 'nv', 'nv', 'nv', 'nv', 'nv', 'nv', 'nv', 'nv', 'nv', 'nv', 'nv', 'nv', 'nv', 'nv', 'nv', 'nv', 'nv', 'nv', 'nv', 'nv', 'nv', 'nv', 'nv', 'nv', 'nv', 'nv', 'nv', 'nv', 'nv', 'nv', 'nv', 'nv', 'nv', 'nv', 'nv', 'nv', 'nv', 'nv', 'nv', 'nv', 'nv', 'nv', 'nv', 'nv', 'nv', 'nv', 'nv', 'nv', 'nv', 'nv', 'nv', 'nv', 'nv', 'nv', 'nv', 'nv', 'nv', 'nv', 'nv', 'nv', 'nv', 'nv', 'nv', 'nv', 'nv', 'nv', 'nv', 'nv', 'nv', 'nv', 'nv', 'nv', 'nv', 'nv', 'nv', 'nv', 'nv', 'nv', 'nv', 'nv', 'nv', 'nv', 'nv', 'nv', 'nv', 'nv', 'nv', 'nv', 'nv', 'nv', 'nv', 'nv', 'nv', 'nv', 'nv', 'nv', 'nv', 'nv', 'nv', 'nv', 'nv', 'nv', 'nv', 'nv', 'nv', 'nv', 'nv', 'nv', 'nv', 'nv', 'nv', 'nv', 'nv', 'nv', 'nv', 'nv', 'nv', 'nv', 'nv', 'nv', 'nv', 'nv', 'nv', 'nv', 'nv', 'nv', 'nv', 'nv', 'nv', 'nv', 'nv', 'nv', 'nv', 'nv', 'nv', 'nv', 'nv', 'nv', 'nv', 'nv', 'nv', 'nv', 'nv', 'nv', 'nv', 'nv', 'nv', 'nv', 'nv', 'nv', 'nv', 'nv', 'nv', 'nv', 'nv', 'nv', 'nv', 'nv', 'nv', 'nv', 'nv', 'nv', 'nv', 'nv', 'nv', 'nv', 'nv', 'nv', 'nv', 'nv', 'nv', 'nv', 'nv', 'nv', 'nv', 'nv', 'nv', 'nv', 'nv', 'nv', 'nv', 'nv', 'nv', 'nv', 'nv', 'nv', 'nv', 'nv', 'nv', 'nv', 'nv', 'nv', 'nv', 'nv', 'nv', 'nv', 'nv', 'nv', 'nv', 'nv', 'nv', 'nv', 'nv', 'nv', 'nv', 'nv', 'nv', 'nv', 'nv', 'nv', 'nv', 'nv', 'nv', 'nv', 'nv', 'nv', 'nv', 'nv', 'nv', 'nv', 'nv', 'nv', 'nv', 'nv', 'nv', 'nv', 'nv', 'nv', 'nv', 'nv', 'nv', 'nv', 'nv', 'nv', 'nv', 'nv', 'nv', 'nv', 'nv', 'nv', 'nv', 'nv', 'nv', 'nv', 'nv', 'nv', 'nv', 'nv', 'nv', 'nv', 'nv', 'nv', 'nv', 'nv', 'nv', 'nv', 'nv', 'nv', 'nv', 'nv', 'nv', 'nv', 'nv', 'nv', 'nv', 'nv', 'nv', 'nv', 'nv', 'nv', 'nv', 'nv', 'nv', 'nv', 'nv', 'nv', 'nv', 'nv', 'nv', 'nv', 'nv', 'nv', 'nv', 'nv', 'nv', 'nv', 'nv', 'nv', 'nv', 'nv', 'nv', 'nv', 'nv', 'nv', 'nv', 'nv', 'nv', 'nv', 'nv', 'nv', 'nv', 'nv', 'nv', 'nv', 'nv', 'nv', 'nv', 'nv', 'nv', 'nv', 'nv', 'nv', 'nv', 'nv', 'nv', 'nv', 'nv', 'nv', 'nv', 'nv', 'nv', 'nv', 'nv', 'nv', 'nv', 'nv', 'nv', 'nv', 'nv', 'nv', 'nv', 'nv', 'nv', 'nv', 'nv', 'nv', 'nv', 'nv', 'nv', 'nv', 'nv', 'nv', 'nv', 'nv', 'nv', 'nv', 'nv', 'nv', 'nv', 'mel', 'nv', 'nv', 'nv', 'nv', 'nv', 'nv', 'nv', 'nv', 'nv', 'nv', 'nv', 'nv', 'nv', 'nv', 'nv', 'nv', 'nv', 'nv', 'nv', 'nv', 'nv', 'nv', 'nv', 'nv', 'nv', 'nv', 'nv', 'nv', 'nv', 'nv', 'nv', 'nv', 'nv', 'nv', 'nv', 'nv', 'nv', 'nv', 'nv', 'nv', 'nv', 'nv', 'nv', 'nv', 'nv', 'nv', 'nv', 'nv', 'nv', 'nv', 'nv', 'nv', 'nv', 'nv', 'nv', 'nv', 'nv', 'nv', 'nv', 'nv', 'nv', 'nv', 'nv', 'nv', 'nv', 'nv', 'nv', 'nv', 'nv', 'nv', 'nv', 'nv', 'nv', 'nv', 'nv', 'nv', 'nv', 'nv', 'nv', 'nv', 'nv', 'nv', 'nv', 'nv', 'nv', 'nv', 'nv', 'nv', 'nv', 'nv', 'nv', 'nv', 'nv', 'nv', 'nv', 'nv', 'nv', 'nv', 'nv', 'nv', 'nv', 'nv', 'nv', 'nv', 'nv', 'nv', 'nv', 'nv', 'nv', 'nv', 'nv', 'nv', 'nv', 'nv', 'nv', 'nv', 'nv', 'nv', 'nv', 'nv', 'nv', 'nv', 'nv', 'nv', 'nv', 'nv', 'nv', 'nv', 'nv', 'nv', 'nv', 'nv', 'nv', 'nv', 'nv', 'nv', 'nv', 'nv', 'nv', 'nv', 'nv', 'nv', 'nv', 'nv', 'nv', 'nv', 'nv', 'nv', 'nv', 'nv', 'nv', 'nv', 'nv', 'nv', 'nv', 'nv', 'nv', 'nv', 'nv', 'nv', 'nv', 'nv', 'nv', 'nv', 'nv', 'nv', 'nv', 'nv', 'nv', 'nv', 'nv', 'nv', 'nv', 'nv', 'nv', 'nv', 'nv', 'nv', 'nv', 'nv', 'nv', 'nv', 'nv', 'nv', 'nv', 'nv', 'nv', 'nv', 'nv', 'nv', 'nv', 'nv', 'nv', 'nv', 'nv', 'nv', 'nv', 'nv', 'nv', 'nv', 'nv', 'nv', 'nv', 'nv', 'nv', 'nv', 'nv', 'nv', 'nv', 'nv', 'nv', 'nv', 'nv', 'nv', 'nv', 'nv', 'nv', 'nv', 'nv', 'nv', 'nv', 'nv', 'nv', 'nv', 'nv', 'nv', 'nv', 'nv', 'nv', 'nv', 'nv', 'nv', 'nv', 'nv', 'nv', 'nv', 'nv', 'nv', 'nv', 'nv', 'nv', 'nv', 'nv', 'nv', 'nv', 'nv', 'nv', 'nv', 'nv', 'nv', 'nv', 'nv', 'nv', 'nv', 'nv', 'nv', 'nv', 'nv', 'nv', 'nv', 'nv', 'nv', 'nv', 'nv', 'nv', 'nv', 'nv', 'nv', 'nv', 'nv', 'nv', 'nv', 'nv', 'nv', 'nv', 'nv', 'nv', 'nv', 'nv', 'nv', 'nv', 'nv', 'nv', 'nv', 'nv', 'nv', 'nv', 'nv', 'nv', 'nv', 'nv', 'nv', 'nv', 'nv', 'nv', 'nv', 'nv', 'nv', 'nv', 'nv', 'nv', 'nv', 'nv', 'nv', 'nv', 'nv', 'nv', 'nv', 'nv', 'nv', 'nv', 'nv', 'nv', 'nv', 'nv', 'nv', 'nv', 'nv', 'nv', 'nv', 'nv', 'nv', 'nv', 'nv', 'nv', 'nv', 'nv', 'nv', 'nv', 'nv', 'nv', 'nv', 'nv', 'nv', 'nv', 'nv', 'nv', 'nv', 'nv', 'nv', 'nv', 'nv', 'nv', 'nv', 'nv', 'nv', 'nv', 'nv', 'nv', 'nv', 'nv', 'nv', 'nv', 'nv', 'nv', 'nv', 'nv', 'nv', 'nv', 'nv', 'nv', 'nv', 'nv', 'nv', 'nv', 'nv', 'nv', 'nv', 'nv', 'nv', 'nv', 'nv', 'nv', 'nv', 'nv', 'nv', 'nv', 'nv', 'nv', 'nv', 'nv', 'nv', 'nv', 'nv', 'nv', 'nv', 'nv', 'nv', 'nv', 'nv', 'nv', 'nv', 'nv', 'nv', 'nv', 'nv', 'nv', 'nv', 'nv', 'nv', 'nv', 'nv', 'nv', 'nv', 'nv', 'nv', 'nv', 'nv', 'nv', 'nv', 'nv', 'nv', 'nv', 'nv', 'nv', 'nv', 'nv', 'nv', 'nv', 'nv', 'nv', 'nv', 'nv', 'nv', 'nv', 'nv', 'nv', 'nv', 'nv', 'nv', 'nv', 'nv', 'nv', 'nv', 'nv', 'nv', 'nv', 'nv', 'nv', 'nv', 'nv', 'nv', 'nv', 'nv', 'nv', 'nv', 'nv', 'nv', 'nv', 'nv', 'nv', 'nv', 'nv', 'nv', 'nv', 'nv', 'nv', 'nv', 'nv', 'nv', 'nv', 'nv', 'nv', 'nv', 'nv', 'nv', 'nv', 'nv', 'nv', 'nv', 'nv', 'nv', 'nv', 'nv', 'nv', 'nv', 'nv', 'nv', 'nv', 'nv', 'nv', 'nv', 'nv', 'nv', 'nv', 'nv', 'nv', 'nv', 'nv', 'nv', 'nv', 'nv', 'nv', 'nv', 'nv', 'nv', 'nv', 'nv', 'nv', 'nv', 'nv', 'nv', 'nv', 'nv', 'nv', 'nv', 'nv', 'nv', 'nv', 'nv', 'nv', 'nv', 'nv', 'nv', 'nv', 'nv', 'nv', 'nv', 'nv', 'nv', 'nv', 'nv', 'nv', 'nv', 'nv', 'nv', 'nv', 'nv', 'nv', 'nv', 'nv', 'nv', 'nv', 'nv', 'nv', 'nv', 'nv', 'nv', 'nv', 'nv', 'nv', 'nv', 'nv', 'nv', 'nv', 'nv', 'nv', 'nv', 'nv', 'nv', 'nv', 'nv', 'nv', 'nv', 'nv', 'nv', 'nv', 'nv', 'nv', 'nv', 'nv', 'nv', 'nv', 'nv', 'nv', 'nv', 'nv', 'nv', 'nv', 'nv', 'nv', 'nv', 'nv', 'nv', 'nv', 'nv', 'nv', 'nv', 'nv', 'nv', 'nv', 'nv', 'nv', 'nv', 'nv', 'nv', 'nv', 'nv', 'nv', 'nv', 'nv', 'nv', 'nv', 'nv', 'nv', 'nv', 'nv', 'nv', 'nv', 'nv', 'nv', 'nv', 'nv', 'nv', 'nv', 'nv', 'nv', 'nv', 'nv', 'nv', 'nv', 'nv', 'nv', 'nv', 'nv', 'nv', 'nv', 'nv', 'nv', 'nv', 'nv', 'nv', 'nv', 'nv', 'nv', 'nv', 'nv', 'nv', 'nv', 'nv', 'nv', 'nv', 'nv', 'nv', 'nv', 'nv', 'nv', 'nv', 'nv', 'nv', 'nv', 'nv', 'nv', 'nv', 'nv', 'nv', 'nv', 'nv', 'nv', 'nv', 'nv', 'nv', 'nv', 'nv', 'nv', 'nv', 'nv', 'nv', 'nv', 'nv', 'nv', 'nv', 'nv', 'nv', 'nv', 'nv', 'nv', 'nv', 'nv', 'nv', 'nv', 'nv', 'nv', 'nv', 'nv', 'nv', 'nv', 'nv', 'nv', 'nv', 'nv', 'nv', 'nv', 'nv', 'nv', 'nv', 'nv', 'nv', 'nv', 'nv', 'nv', 'nv', 'nv', 'nv', 'nv', 'nv', 'nv', 'nv', 'nv', 'nv', 'nv', 'nv', 'nv', 'nv', 'nv', 'nv', 'nv', 'nv', 'nv', 'nv', 'nv', 'nv', 'nv', 'nv', 'nv', 'nv', 'nv', 'nv', 'nv', 'nv', 'nv', 'nv', 'nv', 'nv', 'nv', 'nv', 'nv', 'nv', 'nv', 'nv', 'nv', 'nv', 'nv', 'nv', 'nv', 'nv', 'nv', 'nv', 'nv', 'nv', 'nv', 'nv', 'nv', 'nv', 'nv', 'nv', 'nv', 'nv', 'nv', 'nv', 'nv', 'nv', 'nv', 'nv', 'nv', 'nv', 'nv', 'nv', 'nv', 'nv', 'nv', 'nv', 'nv', 'nv', 'nv', 'nv', 'nv', 'nv', 'nv', 'nv', 'nv', 'nv', 'nv', 'nv', 'nv', 'nv', 'nv', 'nv', 'nv', 'nv', 'nv', 'nv', 'nv', 'nv', 'nv', 'nv', 'nv', 'nv', 'nv', 'nv', 'nv', 'nv', 'nv', 'nv', 'nv', 'nv', 'nv', 'nv', 'nv', 'nv', 'nv', 'nv', 'nv', 'nv', 'nv', 'nv', 'nv', 'nv', 'nv', 'nv', 'nv', 'nv', 'nv', 'nv', 'nv', 'nv', 'nv', 'nv', 'nv', 'nv', 'nv', 'nv', 'nv', 'nv', 'nv', 'nv', 'nv', 'nv', 'nv', 'nv', 'nv', 'nv', 'nv', 'nv', 'nv', 'nv', 'nv', 'nv', 'nv', 'nv', 'nv', 'nv', 'nv', 'nv', 'nv', 'nv', 'nv', 'nv', 'nv', 'nv', 'nv', 'nv', 'nv', 'nv', 'nv', 'nv', 'nv', 'nv', 'nv', 'nv', 'nv', 'nv', 'nv', 'nv', 'nv', 'nv', 'nv', 'nv', 'nv', 'nv', 'nv', 'nv', 'nv', 'nv', 'nv', 'nv', 'nv', 'nv', 'nv', 'nv', 'nv', 'nv', 'nv', 'nv', 'nv', 'nv', 'nv', 'nv', 'nv', 'nv', 'nv', 'nv', 'nv', 'nv', 'nv', 'nv', 'nv', 'nv', 'nv', 'nv', 'nv', 'nv', 'nv', 'nv', 'nv', 'nv', 'nv', 'nv', 'nv', 'nv', 'nv', 'nv', 'nv', 'nv', 'nv', 'nv', 'nv', 'nv', 'nv', 'nv', 'nv', 'nv', 'nv', 'nv', 'nv', 'nv', 'nv', 'nv', 'nv', 'nv', 'nv', 'nv', 'nv', 'nv', 'nv', 'nv', 'nv', 'nv', 'nv', 'nv', 'nv', 'nv', 'nv', 'nv', 'nv', 'nv', 'nv', 'nv', 'nv', 'nv', 'nv', 'nv', 'nv', 'nv', 'nv', 'nv', 'nv', 'nv', 'nv', 'nv', 'nv', 'nv', 'nv', 'nv', 'nv', 'nv', 'nv', 'nv', 'nv', 'nv', 'nv', 'nv', 'nv', 'nv', 'nv', 'nv', 'nv', 'nv', 'nv', 'nv', 'nv', 'nv', 'nv', 'nv', 'nv', 'nv', 'nv', 'nv', 'nv', 'nv', 'nv', 'nv', 'nv', 'nv', 'nv', 'nv', 'nv', 'nv', 'nv', 'nv', 'nv', 'nv', 'nv', 'nv', 'nv', 'nv', 'nv', 'nv', 'nv', 'nv', 'nv', 'nv', 'nv', 'nv', 'nv', 'nv', 'nv', 'nv', 'nv', 'nv', 'nv', 'nv', 'nv', 'nv', 'nv', 'nv', 'nv', 'nv', 'nv', 'nv', 'nv', 'nv', 'nv', 'nv', 'nv', 'nv', 'nv', 'nv', 'nv', 'nv', 'nv', 'nv', 'nv', 'nv', 'nv', 'nv', 'nv', 'nv', 'nv', 'nv', 'nv', 'nv', 'nv', 'nv', 'nv', 'nv', 'nv', 'nv', 'nv', 'nv', 'nv', 'nv', 'nv', 'nv', 'nv', 'nv', 'nv', 'nv', 'nv', 'nv', 'nv', 'nv', 'nv', 'nv', 'nv', 'nv', 'nv', 'nv', 'nv', 'nv', 'nv', 'nv', 'nv', 'nv', 'nv', 'nv', 'nv', 'nv', 'nv', 'nv', 'nv', 'nv', 'nv', 'nv', 'nv', 'nv', 'nv', 'nv', 'nv', 'nv', 'nv', 'nv', 'nv', 'nv', 'nv', 'nv', 'nv', 'nv', 'nv', 'nv', 'nv', 'nv', 'nv', 'nv', 'nv', 'nv', 'nv', 'nv', 'nv', 'nv', 'nv', 'nv', 'nv', 'nv', 'nv', 'nv', 'nv', 'nv', 'nv', 'nv', 'nv', 'nv', 'nv', 'nv', 'nv', 'nv', 'nv', 'nv', 'nv', 'nv', 'nv', 'nv', 'nv', 'nv', 'nv', 'nv', 'nv', 'nv', 'nv', 'nv', 'nv', 'nv', 'nv', 'nv', 'nv', 'nv', 'nv', 'nv', 'nv', 'nv', 'nv', 'nv', 'nv', 'nv', 'nv', 'nv', 'nv', 'nv', 'nv', 'nv', 'nv', 'nv', 'nv', 'nv', 'nv', 'nv', 'nv', 'nv', 'nv', 'nv', 'nv', 'nv', 'nv', 'nv', 'nv', 'nv', 'nv', 'nv', 'nv', 'nv', 'nv', 'nv', 'nv', 'nv', 'nv', 'nv', 'nv', 'nv', 'nv', 'nv', 'nv', 'nv', 'nv', 'nv', 'nv', 'nv', 'nv', 'nv', 'nv', 'nv', 'nv', 'nv', 'nv', 'nv', 'nv', 'nv', 'nv', 'nv', 'nv', 'nv', 'nv', 'nv', 'nv', 'nv', 'nv', 'nv', 'nv', 'nv', 'nv', 'nv', 'nv', 'nv', 'nv', 'nv', 'nv', 'nv', 'nv', 'nv', 'nv', 'nv', 'nv', 'nv', 'nv', 'nv', 'nv', 'nv', 'nv', 'nv', 'nv', 'nv', 'nv', 'nv', 'nv', 'nv', 'nv', 'nv', 'nv', 'nv', 'nv', 'nv', 'nv', 'nv', 'nv', 'nv', 'nv', 'nv', 'nv', 'nv', 'nv', 'nv', 'nv', 'nv', 'nv', 'nv', 'nv', 'nv', 'nv', 'nv', 'nv', 'nv', 'nv', 'nv', 'nv', 'nv', 'nv', 'nv', 'nv', 'nv', 'nv', 'nv', 'nv', 'nv', 'nv', 'nv', 'nv', 'nv', 'nv', 'nv', 'nv', 'nv', 'nv', 'nv', 'nv', 'nv', 'nv', 'nv', 'nv', 'nv', 'nv', 'nv', 'nv', 'nv', 'nv', 'nv', 'nv', 'nv', 'nv', 'nv', 'nv', 'nv', 'nv', 'nv', 'nv', 'nv', 'nv', 'nv', 'nv', 'nv', 'nv', 'nv', 'nv', 'nv', 'nv', 'nv', 'nv', 'nv', 'nv', 'nv', 'nv', 'nv', 'nv', 'nv', 'nv', 'nv', 'nv', 'nv', 'nv', 'nv', 'nv', 'nv', 'nv', 'nv', 'nv', 'nv', 'nv', 'nv', 'nv', 'nv', 'nv', 'nv', 'nv', 'nv', 'nv', 'nv', 'nv', 'nv', 'nv', 'nv', 'nv', 'nv', 'nv', 'nv', 'nv', 'nv', 'nv', 'nv', 'nv', 'nv', 'nv', 'nv', 'nv', 'nv', 'nv', 'nv', 'nv', 'nv', 'nv', 'nv', 'nv', 'nv', 'nv', 'nv', 'nv', 'nv', 'nv', 'nv', 'nv', 'nv', 'nv', 'nv', 'nv', 'nv', 'nv', 'nv', 'nv', 'nv', 'nv', 'nv', 'nv', 'nv', 'nv', 'nv', 'nv', 'nv', 'nv', 'nv', 'nv', 'nv', 'nv', 'nv', 'nv', 'nv', 'nv', 'nv', 'nv', 'nv', 'nv', 'nv', 'nv', 'nv', 'nv', 'nv', 'nv', 'nv', 'nv', 'nv', 'nv', 'nv', 'nv', 'nv', 'nv', 'nv', 'nv', 'nv', 'nv', 'nv', 'nv', 'nv', 'nv', 'nv', 'nv', 'nv', 'nv', 'nv', 'nv', 'nv', 'nv', 'nv', 'nv', 'nv', 'nv', 'nv', 'nv', 'nv', 'nv', 'nv', 'nv', 'nv', 'nv', 'nv', 'nv', 'nv', 'nv', 'nv', 'nv', 'nv', 'nv', 'nv', 'nv', 'nv', 'nv', 'nv', 'nv', 'nv', 'nv', 'nv', 'nv', 'nv', 'nv', 'nv', 'nv', 'nv', 'nv', 'nv', 'nv', 'nv', 'nv', 'nv', 'nv', 'nv', 'nv', 'nv', 'nv', 'nv', 'nv', 'nv', 'nv', 'nv', 'nv', 'nv', 'nv', 'nv', 'nv', 'nv', 'nv', 'nv', 'nv', 'nv', 'nv', 'nv', 'nv', 'nv', 'nv', 'nv', 'nv', 'nv', 'nv', 'nv', 'nv', 'nv', 'nv', 'nv', 'nv', 'nv', 'nv', 'nv', 'nv', 'nv', 'nv', 'nv', 'nv', 'nv', 'nv', 'nv', 'nv', 'nv', 'nv', 'nv', 'nv', 'nv', 'nv', 'nv', 'nv', 'nv', 'nv', 'nv', 'nv', 'nv', 'nv', 'nv', 'nv', 'nv', 'nv', 'nv', 'nv', 'nv', 'nv', 'nv', 'nv', 'nv', 'nv', 'nv', 'nv', 'nv', 'nv', 'nv', 'nv', 'nv', 'nv', 'nv', 'nv', 'nv', 'nv', 'nv', 'nv', 'nv', 'nv', 'nv', 'nv', 'nv', 'nv', 'nv', 'nv', 'nv', 'nv', 'nv', 'nv', 'nv', 'nv', 'nv', 'nv', 'nv', 'nv', 'nv', 'nv', 'nv', 'nv', 'nv', 'nv', 'nv', 'nv', 'nv', 'nv', 'nv', 'nv', 'nv', 'nv', 'nv', 'nv', 'nv', 'nv', 'nv', 'nv', 'nv', 'nv', 'nv', 'nv', 'nv', 'nv', 'nv', 'nv', 'nv', 'nv', 'nv', 'nv', 'nv', 'nv', 'nv', 'nv', 'nv', 'nv', 'nv', 'nv', 'nv', 'nv', 'nv', 'nv', 'nv', 'nv', 'nv', 'nv', 'nv', 'nv', 'nv', 'nv', 'nv', 'nv', 'nv', 'nv', 'nv', 'nv', 'nv', 'nv', 'nv', 'nv', 'nv', 'nv', 'nv', 'nv', 'nv', 'nv', 'nv', 'nv', 'nv', 'nv', 'nv', 'nv', 'nv', 'nv', 'nv', 'nv', 'nv', 'nv', 'nv', 'nv', 'nv', 'nv', 'nv', 'nv', 'nv', 'nv', 'nv', 'nv', 'nv', 'nv', 'nv', 'nv', 'nv', 'nv', 'nv', 'nv', 'nv', 'nv', 'nv', 'nv', 'nv', 'nv', 'nv', 'nv', 'nv', 'nv', 'nv', 'nv', 'nv', 'nv', 'nv', 'nv', 'nv', 'nv', 'nv', 'nv', 'nv', 'nv', 'nv', 'nv', 'nv', 'nv', 'nv', 'nv', 'nv', 'nv', 'nv', 'nv', 'nv', 'nv', 'nv', 'nv', 'nv', 'nv', 'nv', 'nv', 'nv', 'nv', 'nv', 'nv', 'nv', 'nv', 'nv', 'nv', 'nv', 'nv', 'nv', 'nv', 'nv', 'nv', 'nv', 'nv', 'nv', 'nv', 'nv', 'nv', 'nv', 'nv', 'nv', 'nv', 'nv', 'nv', 'nv', 'nv', 'nv', 'nv', 'nv', 'nv', 'nv', 'nv', 'nv', 'nv', 'nv', 'nv', 'nv', 'nv', 'nv', 'nv', 'nv', 'nv', 'nv', 'nv', 'nv', 'nv', 'nv', 'nv', 'nv', 'nv', 'nv', 'nv', 'nv', 'nv', 'nv', 'nv', 'nv', 'nv', 'nv', 'nv', 'nv', 'nv', 'nv', 'nv', 'nv', 'nv', 'nv', 'nv', 'nv', 'nv', 'nv', 'nv', 'nv', 'nv', 'nv', 'nv', 'nv', 'nv', 'nv', 'nv', 'nv', 'nv', 'nv', 'nv', 'nv', 'nv', 'nv', 'nv', 'nv', 'nv', 'nv', 'nv', 'nv', 'nv', 'nv', 'nv', 'nv', 'nv', 'nv', 'nv', 'nv', 'nv', 'nv', 'nv', 'nv', 'nv', 'nv', 'nv', 'nv', 'nv', 'nv', 'nv', 'nv', 'nv', 'nv', 'nv', 'nv', 'nv', 'nv', 'nv', 'nv', 'nv', 'nv', 'nv', 'nv', 'nv', 'nv', 'nv', 'nv', 'nv', 'nv', 'nv', 'nv', 'nv', 'nv', 'nv', 'nv', 'nv', 'nv', 'nv', 'nv', 'nv', 'nv', 'nv', 'nv', 'nv', 'nv', 'nv', 'nv', 'nv', 'nv', 'nv', 'nv', 'nv', 'nv', 'nv', 'nv', 'nv', 'nv', 'nv', 'nv', 'nv', 'nv', 'nv', 'nv', 'nv', 'nv', 'nv', 'nv', 'nv', 'nv', 'nv', 'nv', 'nv', 'nv', 'nv', 'nv', 'nv', 'nv', 'nv', 'nv', 'nv', 'nv', 'nv', 'nv', 'nv', 'nv', 'nv', 'nv', 'nv', 'nv', 'nv', 'nv', 'nv', 'nv', 'nv', 'nv', 'nv', 'nv', 'nv', 'nv', 'nv', 'nv', 'nv', 'nv', 'nv', 'nv', 'nv', 'nv', 'nv', 'nv', 'nv', 'nv', 'nv', 'nv', 'nv', 'nv', 'nv', 'nv', 'nv', 'nv', 'nv', 'nv', 'nv', 'nv', 'nv', 'nv', 'nv', 'nv', 'nv', 'nv', 'nv', 'nv', 'nv', 'nv', 'nv', 'nv', 'nv', 'nv', 'nv', 'nv', 'nv', 'nv', 'nv', 'nv', 'nv', 'nv', 'nv', 'nv', 'nv', 'nv', 'nv', 'nv', 'nv', 'nv', 'nv', 'nv', 'nv', 'nv', 'nv', 'nv', 'nv', 'nv', 'nv', 'nv', 'nv', 'nv', 'nv', 'nv', 'nv', 'nv', 'nv', 'nv', 'nv', 'nv', 'nv', 'nv', 'nv', 'nv', 'nv', 'nv', 'nv', 'nv', 'nv', 'nv', 'nv', 'nv', 'nv', 'nv', 'nv', 'nv', 'nv', 'nv', 'nv', 'nv', 'nv', 'nv', 'nv', 'nv', 'nv', 'nv', 'nv', 'nv', 'nv', 'nv', 'nv', 'mel', 'nv', 'nv', 'nv', 'nv', 'nv', 'nv', 'nv', 'nv', 'nv', 'nv', 'nv', 'nv', 'nv', 'mel', 'nv', 'nv', 'nv', 'nv', 'nv', 'nv', 'nv', 'nv', 'nv', 'nv', 'nv', 'nv', 'nv', 'nv', 'nv', 'nv', 'nv', 'nv', 'nv', 'nv', 'nv', 'nv', 'nv', 'nv', 'nv', 'nv', 'nv', 'nv', 'nv', 'nv', 'nv', 'nv', 'nv', 'nv', 'nv', 'nv', 'nv', 'nv', 'nv', 'nv', 'nv', 'nv', 'nv', 'nv', 'nv', 'nv', 'nv', 'nv', 'nv', 'nv', 'nv', 'nv', 'nv', 'nv', 'nv', 'nv', 'nv', 'nv', 'nv', 'nv', 'nv', 'nv', 'nv', 'nv', 'nv', 'nv', 'nv', 'nv', 'nv', 'nv', 'nv', 'nv', 'nv', 'nv', 'nv', 'nv', 'nv', 'nv', 'nv', 'nv', 'nv', 'nv', 'nv', 'nv', 'nv', 'nv', 'nv', 'nv', 'nv', 'nv', 'nv', 'nv', 'nv', 'nv', 'nv', 'nv', 'nv', 'nv', 'nv', 'nv', 'nv', 'nv', 'nv', 'nv', 'nv', 'nv', 'nv', 'nv', 'nv', 'nv', 'nv', 'nv', 'nv', 'nv', 'nv', 'nv', 'nv', 'nv', 'nv', 'nv', 'nv', 'nv', 'nv', 'nv', 'nv', 'nv', 'nv', 'nv', 'nv', 'nv', 'nv', 'nv', 'nv', 'nv', 'nv', 'nv', 'nv', 'nv', 'nv', 'nv', 'nv', 'nv', 'nv', 'nv', 'nv', 'nv', 'nv', 'nv', 'nv', 'nv', 'nv', 'nv', 'nv', 'nv', 'nv', 'nv', 'nv', 'nv', 'nv', 'nv', 'nv', 'nv', 'nv', 'nv', 'nv', 'nv', 'nv', 'nv', 'nv', 'nv', 'nv', 'nv', 'nv', 'nv', 'nv', 'nv', 'nv', 'nv', 'nv', 'nv', 'nv', 'nv', 'nv', 'nv', 'nv', 'nv', 'nv', 'nv', 'nv', 'nv', 'nv', 'nv', 'nv', 'nv', 'nv', 'nv', 'nv', 'nv', 'nv', 'nv', 'nv', 'nv', 'nv', 'nv', 'nv', 'nv', 'nv', 'nv', 'nv', 'nv', 'nv', 'nv', 'nv', 'nv', 'nv', 'nv', 'nv', 'nv', 'nv', 'nv', 'nv', 'nv', 'nv', 'nv', 'nv', 'nv', 'nv', 'nv', 'nv', 'nv', 'nv', 'nv', 'nv', 'nv', 'nv', 'nv', 'nv', 'nv', 'nv', 'nv', 'nv', 'nv', 'nv', 'nv', 'nv', 'nv', 'nv', 'nv', 'nv', 'nv', 'nv', 'nv', 'nv', 'nv', 'nv', 'nv', 'nv', 'nv', 'nv', 'nv', 'nv', 'nv', 'nv', 'nv', 'nv', 'nv', 'nv', 'nv', 'nv', 'nv', 'nv', 'nv', 'nv', 'nv', 'nv', 'nv', 'nv', 'nv', 'nv', 'nv', 'nv', 'nv', 'nv', 'nv', 'nv', 'nv', 'nv', 'nv', 'nv', 'nv', 'nv', 'nv', 'nv', 'nv', 'nv', 'nv', 'nv', 'nv', 'nv', 'nv', 'nv', 'nv', 'nv', 'nv', 'nv', 'nv', 'nv', 'nv', 'nv', 'nv', 'nv', 'nv', 'nv', 'nv', 'nv', 'nv', 'nv', 'nv', 'nv', 'nv', 'nv', 'nv', 'nv', 'nv', 'nv', 'nv', 'nv', 'nv', 'nv', 'nv', 'nv', 'nv', 'nv', 'nv', 'nv', 'nv', 'nv', 'nv', 'nv', 'nv', 'nv', 'nv', 'nv', 'nv', 'nv', 'nv', 'nv', 'nv', 'nv', 'nv', 'nv', 'nv', 'nv', 'nv', 'nv', 'nv', 'nv', 'nv', 'nv', 'nv', 'nv', 'nv', 'nv', 'nv', 'nv', 'nv', 'nv', 'nv', 'nv', 'nv', 'nv', 'nv', 'nv', 'nv', 'nv', 'nv', 'nv', 'nv', 'nv', 'nv', 'nv', 'nv', 'nv', 'nv', 'nv', 'nv', 'nv', 'nv', 'nv', 'nv', 'nv', 'nv', 'nv', 'nv', 'nv', 'nv', 'nv', 'nv', 'nv', 'nv', 'nv', 'nv', 'nv', 'nv', 'nv', 'nv', 'nv', 'nv', 'nv', 'nv', 'nv', 'nv', 'nv', 'nv', 'nv', 'nv', 'nv', 'nv', 'nv', 'nv', 'nv', 'nv', 'nv', 'nv', 'nv', 'nv', 'nv', 'nv', 'nv', 'nv', 'nv', 'nv', 'nv', 'nv', 'nv', 'nv', 'nv', 'nv', 'nv', 'nv', 'nv', 'nv', 'nv', 'nv', 'nv', 'nv', 'nv', 'nv', 'nv', 'nv', 'nv', 'nv', 'nv', 'nv', 'nv', 'nv', 'nv', 'nv', 'nv', 'nv', 'nv', 'nv', 'nv', 'nv', 'nv', 'nv', 'nv', 'nv', 'nv', 'nv', 'nv', 'nv', 'nv', 'nv', 'nv', 'nv', 'nv', 'nv', 'nv', 'nv', 'nv', 'nv', 'nv', 'nv', 'nv', 'nv', 'nv', 'nv', 'nv', 'nv', 'nv', 'nv', 'nv', 'nv', 'nv', 'nv', 'nv', 'nv', 'nv', 'nv', 'nv', 'nv', 'nv', 'nv', 'nv', 'nv', 'nv', 'nv', 'nv', 'nv', 'nv', 'nv', 'nv', 'nv', 'nv', 'nv', 'nv', 'nv', 'nv', 'nv', 'nv', 'nv', 'nv', 'nv', 'nv', 'nv', 'nv', 'nv', 'nv', 'nv', 'nv', 'nv', 'nv', 'nv', 'nv', 'nv', 'nv', 'nv', 'nv', 'nv', 'nv', 'nv', 'nv', 'nv', 'nv', 'nv', 'nv', 'nv', 'nv', 'nv', 'nv', 'nv', 'nv', 'nv', 'nv', 'nv', 'nv', 'nv', 'nv', 'nv', 'nv', 'nv', 'nv', 'nv', 'nv', 'nv', 'nv', 'nv', 'nv', 'nv', 'nv', 'nv', 'nv', 'nv', 'nv', 'nv', 'nv', 'nv', 'nv', 'nv', 'nv', 'nv', 'nv', 'nv', 'nv', 'nv', 'nv', 'nv', 'nv', 'nv', 'nv', 'nv', 'nv', 'nv', 'nv', 'nv', 'nv', 'nv', 'nv', 'nv', 'nv', 'nv', 'nv', 'nv', 'nv', 'nv', 'nv', 'nv', 'nv', 'nv', 'nv', 'nv', 'nv', 'nv', 'nv', 'nv', 'nv', 'nv', 'nv', 'nv', 'nv', 'nv', 'nv', 'nv', 'nv', 'nv', 'nv', 'nv', 'nv', 'nv', 'nv', 'nv', 'nv', 'nv', 'nv', 'nv', 'nv', 'nv', 'nv', 'nv', 'nv', 'nv', 'nv', 'nv', 'nv', 'nv', 'nv', 'nv', 'nv', 'nv', 'nv', 'nv', 'nv', 'nv', 'nv', 'nv', 'nv', 'nv', 'nv', 'nv', 'nv', 'nv', 'nv', 'nv', 'nv', 'nv', 'nv', 'nv', 'nv', 'nv', 'nv', 'nv', 'nv', 'nv', 'nv', 'nv', 'nv', 'nv', 'nv', 'nv', 'nv', 'nv', 'nv', 'nv', 'nv', 'nv', 'nv', 'nv', 'nv', 'nv', 'nv', 'nv', 'nv', 'nv', 'nv', 'nv', 'nv', 'nv', 'nv', 'nv', 'nv', 'nv', 'nv', 'nv', 'nv', 'nv', 'nv', 'nv', 'nv', 'nv', 'nv', 'nv', 'nv', 'nv', 'nv', 'nv', 'nv', 'nv', 'nv', 'nv', 'nv', 'nv', 'nv', 'nv', 'nv', 'nv', 'nv', 'nv', 'nv', 'nv', 'nv', 'nv', 'nv', 'nv', 'nv', 'nv', 'nv', 'nv', 'nv', 'nv', 'nv', 'nv', 'nv', 'nv', 'nv', 'nv', 'nv', 'nv', 'nv', 'nv', 'nv', 'nv', 'nv', 'nv', 'nv', 'nv', 'nv', 'nv', 'nv', 'nv', 'nv', 'nv', 'nv', 'nv', 'nv', 'nv', 'nv', 'nv', 'nv', 'nv', 'nv', 'nv', 'nv', 'nv', 'nv', 'nv', 'nv', 'nv', 'nv', 'nv', 'nv', 'nv', 'nv', 'nv', 'nv', 'nv', 'nv', 'nv', 'nv', 'nv', 'nv', 'nv', 'nv', 'nv', 'nv', 'nv', 'nv', 'nv', 'nv', 'nv', 'nv', 'nv', 'nv', 'nv', 'nv', 'nv', 'nv', 'nv', 'nv', 'nv', 'nv', 'nv', 'nv', 'nv', 'nv', 'nv', 'nv', 'nv', 'nv', 'nv', 'nv', 'nv', 'nv', 'nv', 'nv', 'nv', 'nv', 'nv', 'nv', 'nv', 'nv', 'nv', 'nv', 'nv', 'nv', 'nv', 'nv', 'nv', 'nv', 'nv', 'nv', 'nv', 'nv', 'nv', 'nv', 'nv', 'nv', 'nv', 'nv', 'mel']\n",
            "[1, 1, 0, 0, 0, 0, 0, 0, 0, 0, 0, 0, 0, 0, 0, 0, 0, 0, 0, 0, 0, 0, 0, 0, 0, 0, 0, 0, 0, 0, 0, 0, 0, 0, 0, 0, 0, 0, 0, 0, 0, 0, 0, 0, 0, 0, 0, 0, 0, 0, 0, 0, 0, 0, 0, 0, 0, 0, 0, 0, 0, 0, 0, 0, 0, 0, 0, 0, 0, 0, 0, 0, 0, 0, 0, 0, 0, 0, 0, 0, 0, 0, 0, 0, 0, 0, 0, 0, 0, 0, 0, 0, 0, 0, 0, 0, 0, 0, 0, 0, 0, 0, 0, 0, 0, 0, 0, 0, 0, 0, 0, 0, 0, 0, 0, 0, 0, 0, 0, 0, 0, 0, 0, 0, 0, 0, 0, 0, 0, 0, 0, 0, 0, 0, 0, 0, 0, 0, 0, 0, 0, 0, 0, 0, 0, 0, 0, 0, 0, 0, 0, 0, 0, 0, 0, 0, 0, 0, 0, 0, 0, 0, 0, 0, 0, 0, 0, 0, 0, 0, 0, 0, 0, 0, 0, 0, 0, 0, 0, 0, 0, 0, 0, 0, 0, 0, 0, 0, 0, 0, 0, 0, 0, 0, 0, 0, 0, 0, 0, 0, 0, 0, 0, 0, 0, 0, 0, 0, 0, 0, 0, 0, 0, 0, 0, 0, 0, 0, 0, 0, 0, 0, 0, 0, 0, 0, 0, 0, 0, 0, 0, 0, 0, 0, 0, 0, 0, 0, 0, 0, 0, 0, 0, 0, 0, 0, 0, 0, 0, 0, 0, 0, 0, 0, 0, 0, 0, 0, 0, 0, 0, 0, 0, 0, 0, 0, 0, 0, 0, 0, 0, 0, 0, 0, 0, 0, 0, 0, 0, 0, 0, 0, 0, 0, 0, 0, 0, 0, 0, 0, 0, 0, 0, 0, 0, 0, 0, 0, 0, 0, 0, 0, 0, 0, 0, 0, 0, 0, 0, 0, 0, 0, 0, 0, 0, 0, 0, 0, 0, 0, 0, 0, 0, 0, 0, 0, 0, 0, 0, 0, 0, 0, 0, 0, 0, 0, 0, 0, 0, 0, 0, 0, 0, 0, 0, 0, 0, 0, 0, 0, 0, 0, 0, 0, 0, 0, 0, 0, 0, 0, 0, 0, 0, 0, 0, 0, 0, 0, 0, 0, 0, 0, 0, 0, 0, 0, 0, 0, 0, 0, 0, 0, 0, 0, 0, 0, 0, 0, 0, 0, 0, 0, 0, 0, 0, 0, 0, 0, 0, 0, 0, 0, 0, 0, 0, 0, 0, 0, 0, 0, 0, 0, 0, 0, 0, 0, 0, 0, 0, 0, 0, 0, 0, 0, 0, 0, 0, 0, 0, 0, 0, 0, 0, 0, 0, 0, 0, 0, 0, 0, 0, 0, 0, 0, 0, 0, 0, 0, 0, 0, 0, 0, 0, 0, 0, 0, 0, 0, 0, 0, 0, 0, 0, 0, 0, 0, 0, 0, 0, 0, 0, 0, 0, 0, 0, 0, 0, 0, 0, 0, 0, 0, 0, 0, 0, 0, 0, 0, 0, 0, 0, 0, 0, 0, 0, 0, 0, 0, 0, 0, 0, 0, 0, 0, 0, 0, 0, 0, 0, 0, 0, 0, 0, 0, 0, 0, 0, 0, 0, 0, 0, 0, 0, 0, 0, 0, 0, 0, 0, 0, 0, 0, 0, 0, 0, 0, 0, 0, 0, 0, 0, 0, 0, 0, 0, 0, 0, 0, 0, 0, 0, 0, 0, 0, 0, 0, 0, 0, 0, 0, 0, 0, 0, 0, 0, 0, 0, 0, 0, 0, 0, 0, 0, 0, 0, 0, 0, 0, 0, 0, 0, 0, 0, 0, 0, 0, 0, 0, 0, 0, 0, 0, 0, 0, 0, 0, 0, 0, 0, 0, 0, 0, 0, 0, 0, 0, 0, 0, 0, 0, 0, 0, 0, 0, 0, 0, 0, 0, 0, 0, 0, 0, 0, 0, 0, 0, 0, 0, 0, 0, 0, 0, 0, 0, 0, 0, 0, 0, 0, 0, 0, 0, 0, 0, 0, 0, 0, 0, 0, 0, 0, 0, 0, 0, 0, 0, 0, 0, 0, 0, 0, 0, 0, 0, 0, 0, 0, 0, 0, 0, 0, 0, 0, 0, 0, 0, 0, 0, 0, 0, 0, 0, 0, 0, 0, 0, 0, 0, 0, 0, 0, 0, 0, 0, 0, 0, 0, 0, 0, 0, 0, 0, 0, 0, 0, 0, 0, 0, 0, 0, 0, 0, 0, 0, 0, 0, 0, 0, 0, 0, 0, 0, 0, 0, 0, 0, 0, 0, 0, 0, 0, 0, 0, 0, 0, 0, 0, 0, 0, 0, 0, 0, 0, 0, 0, 0, 0, 0, 0, 0, 0, 0, 0, 0, 0, 0, 0, 0, 0, 0, 0, 0, 0, 0, 0, 0, 0, 0, 0, 0, 0, 0, 0, 0, 0, 0, 0, 0, 0, 0, 0, 0, 0, 0, 0, 0, 0, 0, 0, 0, 0, 0, 0, 0, 0, 0, 0, 0, 0, 0, 0, 0, 0, 0, 0, 0, 0, 0, 0, 0, 0, 0, 0, 0, 0, 0, 0, 0, 0, 0, 0, 0, 0, 0, 0, 0, 0, 0, 0, 0, 0, 0, 0, 0, 0, 0, 0, 0, 0, 0, 0, 0, 0, 0, 0, 0, 0, 0, 0, 0, 0, 0, 0, 0, 0, 0, 0, 0, 0, 0, 0, 0, 0, 0, 0, 0, 0, 0, 0, 0, 0, 0, 0, 0, 0, 0, 0, 0, 0, 0, 0, 0, 0, 0, 0, 0, 0, 0, 0, 0, 0, 0, 0, 0, 0, 0, 0, 0, 0, 0, 0, 0, 0, 0, 0, 0, 0, 0, 0, 0, 0, 0, 0, 0, 0, 0, 0, 0, 0, 0, 0, 0, 0, 0, 0, 0, 0, 0, 0, 0, 0, 0, 0, 0, 0, 0, 0, 0, 0, 0, 0, 0, 0, 0, 0, 0, 0, 0, 0, 0, 0, 0, 0, 0, 0, 0, 0, 0, 0, 0, 0, 0, 0, 0, 0, 0, 0, 0, 0, 0, 0, 0, 0, 0, 0, 0, 0, 0, 0, 0, 0, 0, 0, 0, 0, 0, 0, 0, 0, 0, 0, 0, 0, 0, 0, 0, 0, 0, 0, 0, 0, 0, 0, 0, 0, 0, 0, 0, 0, 0, 0, 0, 0, 0, 0, 0, 0, 0, 0, 0, 0, 0, 0, 0, 0, 0, 0, 0, 0, 0, 0, 0, 0, 0, 0, 0, 0, 0, 0, 0, 0, 0, 0, 0, 0, 0, 0, 0, 0, 0, 0, 0, 0, 0, 0, 0, 0, 0, 0, 0, 0, 0, 0, 0, 0, 0, 0, 0, 0, 0, 0, 0, 0, 0, 0, 0, 0, 0, 0, 0, 0, 0, 0, 0, 0, 0, 0, 0, 0, 0, 0, 0, 0, 0, 0, 0, 0, 0, 0, 0, 0, 0, 0, 0, 0, 0, 0, 0, 0, 0, 0, 1, 1, 1, 1, 1, 1, 1, 1, 1, 1, 1, 1, 1, 1, 1, 1, 1, 1, 1, 1, 1, 1, 1, 1, 1, 1, 1, 1, 1, 1, 1, 1, 1, 1, 1, 1, 1, 1, 1, 1, 1, 1, 1, 1, 1, 1, 1, 1, 1, 1, 1, 1, 1, 1, 1, 1, 1, 1, 1, 1, 1, 1, 1, 1, 1, 1, 1, 1, 1, 1, 1, 1, 1, 1, 1, 1, 1, 1, 1, 1, 1, 1, 1, 1, 1, 1, 1, 1, 1, 1, 1, 1, 1, 1, 1, 1, 1, 1, 1, 1, 1, 1, 1, 1, 1, 1, 1, 1, 1, 1, 1, 1, 1, 1, 1, 1, 1, 1, 1, 1, 1, 1, 1, 1, 1, 1, 1, 1, 1, 1, 1, 1, 1, 1, 1, 1, 1, 1, 1, 1, 1, 1, 1, 1, 1, 1, 1, 1, 1, 1, 1, 1, 1, 1, 1, 1, 1, 1, 1, 1, 1, 1, 1, 1, 1, 1, 1, 1, 1, 1, 1, 1, 1, 1, 1, 1, 1, 1, 1, 1, 1, 1, 1, 1, 1, 1, 1, 1, 1, 1, 1, 1, 1, 1, 1, 1, 1, 1, 1, 1, 1, 1, 1, 1, 1, 1, 1, 1, 1, 1, 1, 1, 1, 1, 1, 1, 1, 1, 1, 1, 1, 1, 1, 1, 1, 1, 1, 1, 1, 1, 1, 1, 1, 1, 1, 1, 1, 1, 1, 1, 1, 1, 1, 1, 1, 1, 1, 1, 1, 1, 1, 1, 1, 1, 1, 1, 1, 1, 1, 1, 1, 1, 1, 1, 1, 1, 1, 1, 1, 1, 1, 1, 1, 1, 1, 1, 1, 1, 1, 1, 1, 1, 1, 1, 1, 1, 1, 1, 1, 1, 1, 1, 1, 1, 1, 1, 1, 1, 1, 1, 1, 1, 1, 1, 1, 1, 1, 1, 1, 1, 1, 1, 1, 1, 1, 1, 1, 1, 1, 1, 1, 1, 1, 1, 1, 1, 1, 1, 1, 1, 1, 1, 1, 1, 1, 1, 1, 1, 1, 1, 1, 1, 1, 1, 1, 1, 1, 1, 1, 1, 1, 1, 1, 1, 1, 1, 1, 1, 1, 1, 1, 1, 1, 1, 1, 1, 1, 1, 1, 1, 1, 1, 1, 1, 1, 1, 1, 1, 1, 1, 1, 1, 1, 1, 1, 1, 1, 1, 1, 1, 1, 1, 1, 1, 1, 1, 1, 1, 1, 1, 1, 1, 1, 1, 1, 1, 1, 1, 1, 1, 1, 1, 1, 1, 1, 1, 1, 1, 1, 1, 1, 1, 1, 1, 1, 1, 1, 1, 1, 1, 1, 1, 1, 1, 1, 1, 1, 1, 1, 1, 1, 1, 1, 1, 1, 1, 1, 1, 1, 1, 1, 1, 1, 1, 1, 1, 1, 1, 1, 1, 1, 1, 1, 1, 1, 1, 1, 1, 1, 1, 1, 1, 1, 1, 1, 1, 1, 1, 1, 1, 1, 1, 1, 1, 1, 1, 1, 1, 1, 1, 1, 1, 1, 1, 1, 1, 1, 1, 1, 1, 1, 1, 1, 1, 1, 1, 1, 1, 1, 1, 1, 1, 1, 1, 1, 1, 1, 1, 1, 1, 1, 1, 1, 1, 1, 1, 1, 1, 1, 1, 1, 1, 1, 1, 1, 1, 1, 1, 1, 1, 1, 1, 1, 1, 1, 1, 1, 1, 1, 1, 1, 1, 1, 1, 1, 1, 1, 1, 1, 1, 1, 1, 1, 1, 1, 1, 1, 1, 1, 1, 1, 1, 1, 1, 1, 1, 1, 1, 1, 1, 1, 1, 1, 1, 1, 1, 1, 1, 1, 1, 1, 1, 1, 1, 1, 1, 1, 1, 1, 1, 1, 1, 1, 1, 1, 1, 1, 1, 1, 1, 1, 1, 1, 1, 1, 1, 1, 1, 1, 1, 1, 1, 1, 1, 1, 1, 1, 1, 1, 1, 1, 1, 1, 1, 1, 1, 1, 1, 1, 1, 1, 1, 1, 1, 1, 1, 1, 1, 1, 1, 1, 1, 1, 1, 1, 1, 1, 1, 1, 1, 1, 1, 1, 1, 1, 1, 1, 1, 1, 1, 1, 1, 1, 1, 1, 1, 1, 1, 1, 1, 1, 1, 1, 1, 1, 1, 1, 1, 1, 1, 1, 1, 1, 1, 1, 1, 1, 1, 1, 1, 1, 1, 1, 1, 1, 1, 1, 1, 1, 1, 1, 1, 1, 1, 1, 1, 1, 1, 1, 1, 1, 1, 1, 1, 1, 1, 1, 1, 1, 1, 1, 1, 1, 1, 1, 1, 1, 1, 1, 1, 1, 1, 1, 1, 1, 1, 1, 1, 1, 1, 1, 1, 1, 1, 1, 1, 1, 1, 1, 1, 1, 1, 1, 1, 1, 1, 1, 1, 1, 1, 1, 1, 1, 1, 1, 1, 1, 1, 1, 1, 1, 1, 1, 1, 1, 1, 1, 1, 1, 1, 1, 1, 1, 1, 1, 1, 1, 1, 1, 1, 1, 1, 1, 1, 1, 1, 1, 1, 1, 1, 1, 1, 1, 1, 1, 1, 1, 1, 1, 1, 1, 1, 1, 1, 1, 1, 1, 1, 1, 1, 1, 1, 1, 1, 1, 1, 1, 1, 1, 1, 1, 1, 1, 1, 1, 1, 1, 1, 1, 1, 1, 1, 1, 1, 1, 1, 1, 1, 1, 1, 1, 1, 1, 1, 1, 1, 1, 1, 1, 1, 1, 1, 1, 1, 1, 1, 1, 1, 1, 1, 1, 1, 1, 1, 1, 1, 1, 1, 1, 1, 1, 1, 1, 1, 1, 1, 1, 1, 1, 1, 1, 1, 1, 1, 1, 1, 1, 1, 1, 1, 1, 1, 1, 1, 1, 1, 1, 1, 1, 1, 1, 1, 1, 1, 1, 1, 1, 1, 1, 1, 1, 1, 1, 1, 1, 1, 1, 1, 1, 1, 1, 1, 1, 1, 1, 1, 1, 1, 1, 1, 1, 1, 1, 1, 1, 1, 1, 1, 1, 1, 1, 1, 1, 1, 1, 1, 1, 1, 1, 1, 1, 1, 1, 1, 1, 1, 1, 1, 1, 1, 1, 1, 1, 1, 1, 1, 1, 1, 1, 1, 1, 1, 1, 1, 1, 1, 1, 1, 1, 1, 1, 1, 1, 1, 1, 1, 1, 1, 1, 1, 1, 1, 1, 1, 1, 1, 1, 1, 1, 1, 1, 1, 1, 1, 1, 1, 1, 1, 1, 1, 1, 1, 1, 1, 1, 1, 1, 1, 1, 1, 1, 1, 1, 1, 1, 1, 1, 1, 1, 1, 1, 1, 1, 1, 1, 1, 1, 1, 1, 1, 1, 1, 1, 1, 1, 1, 1, 1, 1, 1, 1, 1, 1, 1, 1, 1, 1, 1, 1, 1, 1, 1, 1, 1, 1, 1, 1, 1, 1, 1, 1, 1, 1, 1, 1, 1, 1, 1, 1, 1, 1, 1, 1, 1, 1, 1, 1, 1, 1, 1, 1, 1, 1, 1, 1, 1, 1, 1, 1, 1, 1, 1, 1, 1, 1, 1, 1, 1, 1, 1, 1, 1, 1, 1, 1, 1, 1, 1, 1, 1, 1, 1, 1, 1, 1, 1, 1, 1, 1, 1, 1, 1, 1, 1, 1, 1, 1, 1, 1, 1, 1, 1, 1, 1, 1, 1, 1, 1, 1, 1, 1, 1, 1, 1, 1, 1, 1, 1, 1, 1, 1, 1, 1, 1, 1, 1, 1, 1, 1, 1, 1, 1, 1, 1, 1, 1, 1, 1, 1, 1, 1, 1, 1, 1, 1, 1, 1, 1, 1, 1, 1, 1, 1, 1, 1, 1, 1, 1, 1, 1, 1, 1, 1, 1, 1, 1, 1, 1, 1, 1, 1, 1, 1, 1, 1, 1, 1, 1, 1, 1, 1, 1, 1, 1, 1, 1, 1, 1, 1, 1, 1, 1, 1, 1, 1, 1, 1, 1, 1, 1, 1, 1, 1, 1, 1, 1, 1, 1, 1, 1, 1, 1, 1, 1, 1, 1, 1, 1, 1, 1, 1, 1, 1, 1, 1, 1, 1, 1, 1, 1, 1, 1, 1, 1, 1, 1, 1, 1, 1, 1, 1, 1, 1, 1, 1, 1, 1, 1, 1, 1, 1, 1, 1, 1, 1, 1, 1, 1, 1, 1, 1, 1, 1, 1, 1, 1, 1, 1, 1, 1, 1, 1, 1, 1, 1, 1, 1, 1, 1, 1, 1, 1, 1, 1, 1, 1, 1, 1, 1, 1, 1, 1, 1, 1, 1, 1, 1, 1, 1, 1, 1, 1, 1, 1, 1, 1, 1, 1, 1, 1, 1, 1, 1, 1, 1, 1, 1, 1, 1, 1, 1, 1, 1, 1, 1, 1, 1, 1, 1, 1, 1, 1, 1, 1, 1, 1, 1, 1, 1, 1, 1, 1, 1, 1, 1, 1, 1, 1, 1, 1, 1, 1, 1, 1, 1, 1, 1, 1, 1, 1, 1, 1, 1, 1, 1, 1, 1, 1, 1, 1, 1, 1, 1, 1, 1, 1, 1, 1, 1, 1, 1, 1, 1, 1, 1, 1, 1, 1, 1, 1, 1, 1, 1, 1, 1, 1, 1, 1, 1, 1, 1, 1, 1, 1, 1, 1, 1, 1, 1, 1, 1, 1, 1, 1, 1, 1, 1, 1, 1, 1, 1, 1, 1, 1, 1, 1, 1, 1, 1, 1, 1, 1, 1, 1, 1, 1, 1, 1, 1, 1, 1, 1, 1, 1, 1, 1, 1, 1, 1, 1, 1, 1, 1, 1, 1, 1, 1, 1, 1, 1, 1, 1, 1, 1, 1, 1, 1, 1, 1, 1, 1, 1, 1, 1, 1, 1, 1, 1, 1, 1, 1, 1, 1, 1, 1, 1, 1, 1, 1, 1, 1, 1, 1, 1, 1, 1, 1, 1, 1, 1, 1, 1, 1, 1, 1, 1, 1, 1, 1, 1, 1, 1, 1, 1, 1, 1, 1, 1, 1, 1, 1, 1, 1, 1, 1, 1, 1, 1, 1, 1, 1, 1, 1, 1, 1, 1, 1, 1, 1, 1, 1, 1, 1, 1, 1, 1, 1, 1, 1, 1, 1, 1, 1, 1, 1, 1, 1, 1, 1, 1, 1, 1, 1, 1, 1, 1, 1, 1, 1, 1, 1, 1, 1, 1, 1, 1, 1, 1, 1, 1, 1, 1, 1, 1, 1, 1, 1, 1, 1, 1, 1, 1, 1, 1, 1, 1, 1, 1, 1, 1, 1, 1, 1, 1, 1, 1, 1, 1, 1, 1, 1, 1, 1, 1, 1, 1, 1, 1, 1, 1, 1, 1, 1, 1, 1, 1, 1, 1, 1, 1, 1, 1, 1, 1, 1, 1, 1, 1, 1, 1, 1, 1, 1, 1, 1, 1, 1, 1, 1, 1, 1, 1, 1, 1, 1, 1, 1, 1, 1, 1, 1, 1, 1, 1, 1, 1, 1, 1, 1, 1, 1, 1, 1, 1, 1, 1, 1, 1, 1, 1, 1, 1, 1, 1, 1, 1, 1, 1, 1, 1, 1, 1, 1, 1, 1, 1, 1, 1, 1, 1, 1, 1, 1, 1, 1, 1, 1, 1, 1, 1, 1, 1, 1, 1, 1, 1, 1, 1, 1, 1, 1, 1, 1, 1, 1, 1, 1, 1, 1, 1, 1, 1, 1, 1, 1, 1, 1, 1, 1, 1, 1, 1, 1, 1, 1, 1, 1, 1, 1, 1, 1, 1, 1, 1, 1, 1, 1, 1, 1, 1, 1, 1, 1, 1, 1, 1, 1, 1, 1, 1, 1, 1, 1, 1, 1, 1, 1, 1, 1, 1, 1, 1, 1, 1, 1, 1, 1, 1, 1, 1, 1, 1, 1, 1, 1, 1, 1, 1, 1, 1, 1, 1, 1, 1, 1, 1, 1, 1, 1, 1, 1, 1, 1, 1, 1, 1, 1, 1, 1, 1, 1, 1, 1, 1, 1, 1, 1, 1, 1, 1, 1, 1, 1, 1, 1, 1, 1, 1, 1, 1, 1, 1, 1, 1, 1, 1, 1, 1, 1, 1, 1, 1, 1, 1, 1, 1, 1, 1, 1, 1, 1, 1, 1, 1, 1, 1, 1, 1, 1, 1, 1, 1, 1, 1, 1, 1, 1, 1, 1, 1, 1, 1, 1, 1, 1, 1, 1, 1, 1, 1, 1, 1, 1, 1, 1, 1, 1, 1, 1, 1, 1, 1, 1, 1, 1, 1, 1, 1, 1, 1, 1, 1, 1, 1, 1, 1, 1, 1, 1, 1, 1, 1, 1, 1, 1, 1, 1, 1, 1, 1, 1, 1, 1, 1, 1, 1, 1, 1, 1, 1, 1, 1, 1, 1, 1, 1, 1, 1, 1, 1, 1, 1, 1, 1, 1, 1, 1, 1, 1, 1, 1, 1, 1, 1, 1, 1, 1, 1, 1, 1, 1, 1, 1, 1, 1, 1, 1, 1, 1, 1, 1, 1, 1, 1, 1, 1, 1, 1, 1, 1, 1, 1, 1, 1, 1, 1, 1, 1, 1, 1, 1, 1, 1, 1, 1, 1, 1, 1, 1, 1, 1, 1, 1, 1, 1, 1, 1, 1, 1, 1, 1, 1, 1, 1, 1, 1, 1, 1, 1, 1, 1, 1, 1, 1, 1, 1, 1, 1, 1, 1, 1, 1, 1, 1, 1, 1, 1, 1, 1, 1, 1, 1, 1, 1, 1, 1, 1, 1, 1, 1, 1, 1, 1, 1, 1, 1, 1, 1, 1, 1, 1, 1, 1, 1, 1, 1, 1, 1, 1, 1, 1, 1, 1, 1, 1, 1, 1, 1, 1, 1, 1, 1, 1, 1, 1, 1, 1, 1, 1, 1, 1, 1, 1, 1, 1, 1, 1, 1, 1, 1, 1, 1, 1, 1, 1, 1, 1, 1, 1, 1, 1, 1, 1, 1, 1, 1, 1, 1, 1, 1, 1, 1, 1, 1, 1, 1, 1, 1, 1, 1, 1, 1, 1, 1, 1, 1, 1, 1, 1, 1, 1, 1, 1, 1, 1, 1, 1, 1, 1, 1, 1, 1, 1, 1, 1, 1, 1, 1, 1, 1, 1, 1, 1, 1, 1, 1, 1, 1, 1, 1, 1, 1, 1, 1, 1, 1, 1, 1, 1, 1, 1, 1, 1, 1, 1, 1, 1, 1, 1, 1, 1, 1, 1, 1, 1, 1, 1, 1, 1, 1, 1, 1, 1, 1, 1, 1, 1, 1, 1, 1, 1, 1, 1, 1, 1, 1, 1, 1, 1, 1, 1, 1, 1, 1, 1, 1, 1, 1, 1, 1, 1, 1, 1, 1, 1, 1, 1, 1, 1, 1, 1, 1, 1, 1, 1, 1, 1, 1, 1, 1, 1, 1, 1, 1, 1, 1, 1, 1, 1, 1, 1, 1, 1, 1, 1, 1, 1, 1, 1, 1, 1, 1, 1, 1, 1, 1, 1, 1, 1, 1, 1, 1, 1, 1, 1, 1, 1, 1, 1, 1, 1, 1, 1, 1, 1, 1, 1, 1, 1, 1, 1, 1, 1, 1, 1, 1, 1, 1, 1, 1, 1, 1, 1, 1, 1, 1, 1, 1, 1, 1, 1, 1, 1, 1, 1, 1, 1, 1, 1, 1, 1, 1, 1, 1, 1, 1, 1, 1, 1, 1, 1, 1, 1, 1, 1, 1, 1, 1, 1, 1, 1, 1, 1, 1, 1, 1, 1, 1, 1, 1, 1, 1, 1, 1, 1, 1, 1, 1, 1, 1, 1, 1, 1, 1, 1, 1, 1, 1, 1, 1, 1, 1, 1, 1, 1, 1, 1, 1, 1, 1, 1, 1, 1, 1, 1, 1, 1, 1, 1, 1, 1, 1, 1, 1, 1, 1, 1, 1, 1, 1, 1, 1, 1, 1, 1, 1, 1, 1, 1, 1, 1, 1, 1, 1, 1, 1, 1, 1, 1, 1, 1, 1, 1, 1, 1, 1, 1, 1, 1, 1, 1, 1, 1, 1, 1, 1, 1, 1, 1, 1, 1, 1, 1, 1, 1, 1, 1, 1, 1, 1, 1, 1, 1, 1, 1, 1, 1, 1, 1, 1, 1, 1, 1, 1, 1, 1, 1, 1, 1, 1, 1, 1, 1, 1, 1, 1, 1, 1, 1, 1, 1, 1, 1, 1, 1, 1, 1, 1, 1, 1, 1, 1, 1, 1, 1, 1, 1, 1, 1, 1, 1, 1, 1, 1, 1, 1, 1, 1, 1, 1, 1, 1, 1, 1, 1, 1, 1, 1, 1, 1, 1, 1, 1, 1, 1, 1, 1, 1, 1, 1, 1, 1, 1, 1, 1, 1, 1, 1, 1, 1, 1, 1, 1, 1, 1, 1, 1, 1, 1, 1, 1, 1, 1, 1, 1, 1, 1, 1, 1, 1, 1, 1, 1, 1, 1, 1, 1, 1, 1, 1, 1, 1, 1, 1, 1, 1, 1, 1, 1, 1, 1, 1, 1, 1, 1, 1, 1, 1, 1, 1, 1, 1, 1, 1, 1, 1, 1, 1, 1, 1, 1, 1, 1, 1, 1, 1, 1, 1, 1, 1, 1, 1, 1, 1, 1, 1, 1, 1, 1, 1, 1, 1, 1, 1, 1, 1, 1, 1, 1, 1, 1, 1, 1, 1, 1, 1, 1, 1, 1, 1, 1, 1, 1, 1, 1, 1, 1, 1, 1, 1, 1, 1, 1, 1, 1, 1, 1, 1, 1, 1, 1, 1, 1, 1, 1, 1, 1, 1, 1, 1, 1, 1, 1, 1, 1, 1, 1, 1, 1, 1, 1, 1, 1, 1, 1, 1, 1, 1, 1, 1, 1, 1, 1, 1, 1, 1, 1, 1, 1, 1, 1, 1, 1, 1, 1, 1, 1, 1, 1, 1, 1, 1, 1, 1, 1, 1, 1, 1, 1, 1, 1, 1, 1, 1, 1, 1, 1, 1, 1, 1, 1, 1, 1, 1, 1, 1, 1, 1, 1, 1, 1, 1, 1, 1, 1, 1, 1, 1, 1, 1, 1, 1, 1, 1, 1, 1, 1, 1, 1, 1, 1, 1, 1, 1, 1, 1, 1, 1, 1, 1, 1, 1, 1, 1, 1, 1, 1, 1, 1, 1, 1, 1, 1, 1, 1, 1, 1, 1, 1, 1, 1, 1, 1, 1, 1, 1, 1, 1, 1, 1, 1, 1, 1, 1, 1, 1, 1, 1, 1, 1, 1, 1, 1, 1, 1, 1, 1, 1, 1, 1, 1, 1, 1, 1, 1, 1, 1, 1, 1, 1, 1, 1, 1, 1, 1, 1, 1, 1, 1, 1, 1, 1, 1, 1, 1, 1, 1, 1, 1, 1, 1, 1, 1, 1, 1, 1, 1, 1, 1, 1, 1, 1, 1, 1, 1, 1, 1, 1, 1, 1, 1, 1, 1, 1, 1, 1, 1, 1, 1, 1, 1, 1, 1, 1, 1, 1, 1, 1, 1, 1, 1, 1, 1, 1, 1, 1, 1, 1, 1, 1, 1, 1, 1, 1, 1, 1, 1, 1, 1, 1, 1, 1, 1, 1, 1, 1, 1, 1, 1, 1, 1, 1, 1, 1, 1, 1, 1, 1, 1, 1, 1, 1, 1, 1, 1, 1, 1, 1, 1, 1, 1, 1, 1, 1, 1, 1, 1, 1, 1, 1, 1, 1, 1, 1, 1, 1, 1, 1, 1, 1, 1, 1, 1, 1, 1, 1, 1, 1, 1, 1, 1, 1, 1, 1, 1, 1, 1, 1, 1, 1, 1, 1, 1, 1, 1, 1, 1, 1, 1, 1, 1, 1, 1, 1, 1, 1, 1, 1, 1, 1, 1, 1, 1, 1, 1, 1, 1, 1, 1, 1, 1, 1, 1, 1, 1, 1, 1, 1, 1, 1, 1, 1, 1, 1, 1, 1, 1, 1, 1, 1, 1, 1, 1, 1, 1, 1, 1, 1, 1, 1, 1, 1, 1, 1, 1, 1, 1, 1, 1, 1, 1, 1, 1, 1, 1, 1, 1, 1, 1, 1, 1, 1, 1, 1, 1, 1, 1, 1, 1, 1, 1, 1, 1, 1, 1, 1, 1, 1, 1, 1, 1, 1, 1, 1, 1, 1, 1, 1, 1, 1, 1, 1, 1, 1, 1, 1, 1, 1, 1, 1, 1, 1, 1, 1, 1, 1, 1, 1, 1, 1, 1, 1, 1, 1, 1, 1, 1, 1, 1, 1, 1, 1, 1, 1, 1, 1, 1, 1, 1, 1, 1, 1, 1, 1, 1, 1, 1, 1, 1, 1, 1, 1, 1, 1, 1, 1, 1, 1, 1, 1, 1, 1, 1, 1, 1, 1, 1, 1, 1, 1, 1, 1, 1, 1, 1, 1, 1, 1, 1, 1, 1, 1, 1, 1, 1, 1, 1, 1, 1, 1, 1, 1, 1, 1, 1, 1, 1, 1, 1, 1, 1, 1, 1, 1, 1, 1, 1, 1, 1, 1, 1, 1, 1, 1, 1, 1, 1, 1, 1, 1, 1, 1, 1, 1, 1, 1, 1, 1, 1, 1, 1, 1, 1, 1, 1, 1, 1, 1, 1, 1, 1, 1, 1, 1, 1, 1, 1, 1, 1, 1, 1, 1, 1, 1, 1, 1, 1, 1, 1, 1, 1, 1, 1, 1, 1, 1, 1, 1, 1, 1, 1, 1, 1, 1, 1, 1, 1, 1, 1, 1, 1, 1, 1, 1, 1, 1, 1, 1, 1, 1, 1, 1, 1, 1, 1, 1, 1, 1, 1, 1, 1, 1, 1, 1, 1, 1, 1, 1, 1, 1, 1, 1, 1, 1, 1, 1, 1, 1, 1, 1, 1, 1, 1, 1, 1, 1, 1, 1, 1, 1, 1, 1, 1, 1, 1, 1, 1, 1, 1, 1, 1, 1, 1, 1, 1, 1, 1, 1, 1, 1, 1, 1, 1, 1, 1, 1, 1, 1, 1, 1, 1, 1, 1, 1, 1, 1, 1, 1, 1, 1, 1, 1, 1, 1, 1, 1, 1, 1, 1, 1, 1, 1, 1, 1, 1, 1, 1, 1, 1, 1, 1, 1, 1, 1, 1, 1, 1, 1, 1, 1, 1, 1, 1, 1, 1, 1, 1, 1, 1, 1, 1, 1, 1, 1, 1, 1, 1, 1, 1, 1, 1, 1, 1, 1, 1, 1, 1, 1, 1, 1, 1, 1, 1, 1, 1, 1, 1, 1, 1, 1, 1, 1, 1, 1, 1, 1, 1, 1, 1, 1, 1, 1, 1, 1, 1, 1, 1, 1, 1, 1, 1, 1, 1, 1, 1, 1, 1, 1, 1, 1, 1, 1, 1, 1, 1, 1, 1, 1, 1, 1, 1, 1, 1, 1, 1, 1, 1, 1, 1, 1, 1, 1, 1, 1, 1, 1, 1, 1, 1, 1, 1, 1, 1, 1, 1, 1, 1, 1, 1, 1, 1, 1, 1, 1, 1, 1, 1, 1, 1, 1, 1, 1, 1, 1, 1, 1, 1, 1, 1, 1, 1, 1, 1, 1, 1, 1, 1, 1, 1, 1, 1, 1, 1, 1, 1, 1, 1, 1, 1, 1, 1, 1, 1, 1, 1, 1, 1, 1, 1, 1, 1, 1, 1, 1, 1, 1, 1, 1, 1, 1, 1, 1, 1, 1, 1, 1, 1, 1, 1, 1, 1, 1, 1, 1, 1, 1, 1, 1, 1, 1, 1, 1, 1, 1, 1, 1, 1, 1, 1, 1, 1, 1, 1, 1, 1, 1, 1, 1, 1, 1, 1, 1, 1, 1, 1, 1, 1, 1, 1, 1, 1, 1, 1, 1, 1, 1, 1, 1, 1, 1, 1, 1, 1, 1, 1, 1, 1, 1, 1, 1, 1, 1, 1, 1, 1, 1, 1, 1, 1, 1, 1, 1, 1, 1, 1, 1, 1, 1, 1, 1, 1, 1, 1, 1, 1, 1, 1, 1, 1, 1, 1, 1, 1, 1, 1, 1, 1, 1, 1, 1, 1, 1, 1, 1, 1, 1, 1, 1, 1, 1, 1, 1, 1, 1, 1, 1, 1, 1, 1, 1, 1, 1, 1, 1, 1, 1, 1, 1, 1, 1, 1, 1, 1, 1, 1, 1, 1, 1, 1, 1, 1, 1, 0, 1, 1, 1, 1, 1, 1, 1, 1, 1, 1, 1, 1, 1, 1, 1, 1, 1, 1, 1, 1, 1, 1, 1, 1, 1, 1, 1, 1, 1, 1, 1, 1, 1, 1, 1, 1, 1, 1, 1, 1, 1, 1, 1, 1, 1, 1, 1, 1, 1, 1, 1, 1, 1, 1, 1, 1, 1, 1, 1, 1, 1, 1, 1, 1, 1, 1, 1, 1, 1, 1, 1, 1, 1, 1, 1, 1, 1, 1, 1, 1, 1, 1, 1, 1, 1, 1, 1, 1, 1, 1, 1, 1, 1, 1, 1, 1, 1, 1, 1, 1, 1, 1, 1, 1, 1, 1, 1, 1, 1, 1, 1, 1, 1, 1, 1, 1, 1, 1, 1, 1, 1, 1, 1, 1, 1, 1, 1, 1, 1, 1, 1, 1, 1, 1, 1, 1, 1, 1, 1, 1, 1, 1, 1, 1, 1, 1, 1, 1, 1, 1, 1, 1, 1, 1, 1, 1, 1, 1, 1, 1, 1, 1, 1, 1, 1, 1, 1, 1, 1, 1, 1, 1, 1, 1, 1, 1, 1, 1, 1, 1, 1, 1, 1, 1, 1, 1, 1, 1, 1, 1, 1, 1, 1, 1, 1, 1, 1, 1, 1, 1, 1, 1, 1, 1, 1, 1, 1, 1, 1, 1, 1, 1, 1, 1, 1, 1, 1, 1, 1, 1, 1, 1, 1, 1, 1, 1, 1, 1, 1, 1, 1, 1, 1, 1, 1, 1, 1, 1, 1, 1, 1, 1, 1, 1, 1, 1, 1, 1, 1, 1, 1, 1, 1, 1, 1, 1, 1, 1, 1, 1, 1, 1, 1, 1, 1, 1, 1, 1, 1, 1, 1, 1, 1, 1, 1, 1, 1, 1, 1, 1, 1, 1, 1, 1, 1, 1, 1, 1, 1, 1, 1, 1, 1, 1, 1, 1, 1, 1, 1, 1, 1, 1, 1, 1, 1, 1, 1, 1, 1, 1, 1, 1, 1, 1, 1, 1, 1, 1, 1, 1, 1, 1, 1, 1, 1, 1, 1, 1, 1, 1, 1, 1, 1, 1, 1, 1, 1, 1, 1, 1, 1, 1, 1, 1, 1, 1, 1, 1, 1, 1, 1, 1, 1, 1, 1, 1, 1, 1, 1, 1, 1, 1, 1, 1, 1, 1, 1, 1, 1, 1, 1, 1, 1, 1, 1, 1, 1, 1, 1, 1, 1, 1, 1, 1, 1, 1, 1, 1, 1, 1, 1, 1, 1, 1, 1, 1, 1, 1, 1, 1, 1, 1, 1, 1, 1, 1, 1, 1, 1, 1, 1, 1, 1, 1, 1, 1, 1, 1, 1, 1, 1, 1, 1, 1, 1, 1, 1, 1, 1, 1, 1, 1, 1, 1, 1, 1, 1, 1, 1, 1, 1, 1, 1, 1, 1, 1, 1, 1, 1, 1, 1, 1, 1, 1, 1, 1, 1, 1, 1, 1, 1, 1, 1, 1, 1, 1, 1, 1, 1, 1, 1, 1, 1, 1, 1, 1, 1, 1, 1, 1, 1, 1, 1, 1, 1, 1, 1, 1, 1, 1, 1, 1, 1, 1, 1, 1, 1, 1, 1, 1, 1, 1, 1, 1, 1, 1, 1, 1, 1, 1, 1, 1, 1, 1, 1, 1, 1, 1, 1, 1, 1, 1, 1, 1, 1, 1, 1, 1, 1, 1, 1, 1, 1, 1, 1, 1, 1, 1, 1, 1, 1, 1, 1, 1, 1, 1, 1, 1, 1, 1, 1, 1, 1, 1, 1, 1, 1, 1, 1, 1, 1, 1, 1, 1, 1, 1, 1, 1, 1, 1, 1, 1, 1, 1, 1, 1, 1, 1, 1, 1, 1, 1, 1, 1, 1, 1, 1, 1, 1, 1, 1, 1, 1, 1, 1, 1, 1, 1, 1, 1, 1, 1, 1, 1, 1, 1, 1, 1, 1, 1, 1, 1, 1, 1, 1, 1, 1, 1, 1, 1, 1, 1, 1, 1, 1, 1, 1, 1, 1, 1, 1, 1, 1, 1, 1, 1, 1, 1, 1, 1, 1, 1, 1, 1, 1, 1, 1, 1, 1, 1, 1, 1, 1, 1, 1, 1, 1, 1, 1, 1, 1, 1, 1, 1, 1, 1, 1, 1, 1, 1, 1, 1, 1, 1, 1, 1, 1, 1, 1, 1, 1, 1, 1, 1, 1, 1, 1, 1, 1, 1, 1, 1, 1, 1, 1, 1, 1, 1, 1, 1, 1, 1, 1, 1, 1, 1, 1, 1, 1, 1, 1, 1, 1, 1, 1, 1, 1, 1, 1, 1, 1, 1, 1, 1, 1, 1, 1, 1, 1, 1, 1, 1, 1, 1, 1, 1, 1, 1, 1, 1, 1, 1, 1, 1, 1, 1, 1, 1, 1, 1, 1, 1, 1, 1, 1, 1, 1, 1, 1, 1, 1, 1, 1, 1, 1, 1, 1, 1, 1, 1, 1, 1, 1, 1, 1, 1, 1, 1, 1, 1, 1, 1, 1, 1, 1, 1, 1, 1, 1, 1, 1, 1, 1, 1, 1, 1, 1, 1, 1, 1, 1, 1, 1, 1, 1, 1, 1, 1, 1, 1, 1, 1, 1, 1, 1, 1, 1, 1, 1, 1, 1, 1, 1, 1, 1, 1, 1, 1, 1, 1, 1, 1, 1, 1, 1, 1, 1, 1, 1, 1, 1, 1, 1, 1, 1, 1, 1, 1, 1, 1, 1, 1, 1, 1, 1, 1, 1, 1, 1, 1, 1, 1, 1, 1, 1, 1, 1, 1, 1, 1, 1, 1, 1, 1, 1, 1, 1, 1, 1, 1, 1, 1, 1, 1, 1, 1, 1, 1, 1, 1, 1, 1, 1, 1, 1, 1, 1, 1, 1, 1, 1, 1, 1, 1, 1, 1, 1, 1, 1, 1, 1, 1, 1, 1, 1, 1, 1, 1, 1, 1, 1, 1, 1, 1, 1, 1, 1, 1, 1, 1, 1, 1, 1, 1, 1, 1, 1, 1, 1, 1, 1, 1, 1, 1, 1, 1, 1, 1, 1, 1, 1, 1, 1, 1, 1, 1, 1, 1, 1, 1, 1, 1, 1, 1, 1, 1, 1, 1, 1, 1, 1, 1, 1, 1, 1, 1, 1, 1, 1, 1, 1, 1, 1, 1, 1, 1, 1, 1, 1, 1, 1, 1, 1, 1, 1, 1, 1, 1, 1, 1, 1, 1, 1, 1, 1, 1, 1, 1, 1, 1, 1, 1, 1, 1, 1, 1, 1, 1, 1, 1, 1, 1, 1, 1, 1, 1, 1, 1, 1, 1, 1, 1, 1, 1, 1, 1, 1, 1, 1, 1, 1, 1, 1, 1, 1, 1, 1, 1, 1, 1, 1, 1, 1, 1, 1, 1, 1, 1, 1, 1, 1, 1, 1, 1, 1, 1, 1, 1, 1, 1, 1, 1, 1, 1, 1, 1, 1, 1, 1, 1, 1, 1, 1, 1, 1, 1, 1, 1, 1, 1, 1, 1, 1, 1, 1, 1, 1, 1, 1, 1, 1, 1, 1, 1, 1, 1, 1, 1, 1, 1, 1, 1, 1, 1, 1, 1, 1, 1, 1, 1, 1, 1, 1, 1, 1, 1, 1, 1, 1, 1, 1, 1, 1, 1, 1, 1, 1, 1, 1, 1, 1, 1, 1, 1, 1, 1, 1, 1, 1, 1, 1, 1, 1, 1, 1, 1, 1, 1, 1, 1, 1, 1, 1, 1, 1, 1, 1, 1, 1, 1, 1, 1, 1, 1, 1, 1, 1, 1, 1, 1, 1, 1, 1, 1, 1, 1, 1, 1, 1, 1, 1, 1, 1, 1, 1, 1, 1, 1, 1, 1, 1, 1, 1, 1, 1, 1, 1, 1, 1, 1, 1, 1, 1, 1, 1, 1, 1, 1, 1, 1, 1, 1, 1, 1, 1, 1, 1, 1, 1, 1, 1, 1, 1, 1, 1, 1, 1, 1, 1, 1, 1, 1, 1, 1, 1, 1, 1, 1, 1, 1, 1, 1, 1, 1, 1, 1, 1, 1, 1, 1, 1, 1, 1, 1, 1, 1, 1, 1, 1, 1, 1, 1, 1, 1, 1, 1, 1, 1, 1, 1, 1, 1, 1, 1, 1, 1, 1, 1, 1, 1, 1, 1, 1, 1, 1, 1, 1, 1, 1, 1, 1, 1, 1, 1, 1, 1, 1, 1, 1, 1, 1, 1, 1, 1, 1, 1, 1, 1, 1, 1, 1, 1, 1, 1, 1, 1, 1, 1, 1, 1, 1, 1, 1, 1, 1, 1, 1, 1, 1, 1, 1, 1, 1, 1, 1, 1, 1, 1, 1, 1, 1, 1, 1, 1, 1, 1, 1, 1, 1, 1, 1, 1, 1, 1, 1, 1, 1, 1, 1, 1, 1, 1, 1, 1, 1, 1, 1, 1, 1, 1, 1, 1, 1, 1, 1, 1, 1, 1, 1, 1, 1, 1, 1, 1, 1, 1, 1, 1, 1, 1, 1, 1, 1, 1, 1, 1, 1, 1, 1, 1, 1, 1, 1, 1, 1, 1, 1, 1, 1, 1, 1, 1, 1, 1, 1, 1, 1, 1, 1, 1, 1, 1, 1, 1, 1, 1, 1, 1, 1, 1, 1, 1, 1, 1, 1, 1, 1, 1, 1, 1, 1, 1, 1, 1, 1, 1, 1, 1, 1, 1, 1, 1, 1, 1, 1, 1, 1, 1, 1, 1, 1, 1, 1, 1, 1, 1, 1, 1, 1, 1, 1, 1, 1, 1, 1, 1, 1, 1, 1, 1, 1, 1, 1, 1, 1, 1, 1, 1, 1, 1, 1, 1, 1, 1, 1, 1, 1, 1, 1, 1, 1, 1, 1, 1, 1, 1, 1, 1, 1, 1, 1, 1, 1, 1, 1, 1, 1, 1, 1, 1, 1, 1, 1, 1, 1, 1, 1, 1, 1, 1, 1, 1, 1, 1, 1, 1, 1, 1, 1, 1, 1, 1, 1, 1, 1, 1, 1, 1, 1, 1, 1, 1, 1, 1, 1, 1, 1, 1, 1, 1, 1, 1, 1, 1, 1, 1, 1, 1, 1, 1, 1, 1, 1, 1, 1, 1, 1, 1, 1, 1, 1, 1, 1, 1, 1, 1, 1, 1, 1, 1, 1, 1, 1, 1, 1, 1, 1, 1, 1, 1, 1, 1, 1, 1, 1, 1, 1, 1, 1, 1, 1, 1, 1, 1, 1, 1, 1, 1, 1, 1, 1, 1, 1, 1, 1, 1, 1, 1, 1, 1, 1, 1, 1, 1, 1, 1, 1, 1, 1, 1, 1, 1, 1, 1, 1, 1, 1, 1, 1, 1, 1, 1, 1, 1, 1, 1, 1, 1, 1, 1, 1, 1, 1, 1, 1, 1, 1, 1, 1, 1, 1, 1, 1, 1, 1, 1, 1, 1, 1, 1, 1, 1, 1, 1, 1, 1, 1, 1, 1, 1, 1, 1, 1, 1, 1, 1, 1, 1, 1, 1, 1, 1, 1, 1, 1, 1, 1, 1, 1, 1, 1, 1, 1, 1, 1, 1, 1, 1, 1, 1, 1, 1, 1, 1, 1, 1, 1, 1, 1, 1, 1, 1, 1, 1, 1, 1, 1, 1, 1, 1, 1, 1, 1, 1, 1, 1, 1, 1, 1, 1, 1, 1, 1, 1, 1, 1, 1, 1, 1, 1, 1, 1, 1, 1, 1, 1, 1, 1, 1, 1, 1, 1, 1, 1, 1, 1, 1, 1, 1, 1, 1, 1, 1, 1, 1, 1, 1, 1, 1, 1, 1, 1, 1, 1, 1, 1, 1, 1, 1, 1, 1, 1, 1, 1, 1, 1, 1, 1, 1, 1, 1, 1, 1, 1, 1, 1, 1, 1, 1, 1, 1, 1, 1, 1, 1, 1, 1, 1, 1, 1, 1, 1, 1, 1, 1, 1, 1, 1, 1, 1, 1, 1, 1, 1, 1, 1, 1, 1, 1, 1, 1, 1, 1, 1, 1, 1, 1, 1, 1, 1, 1, 1, 1, 1, 1, 1, 1, 1, 1, 1, 1, 1, 1, 1, 1, 1, 1, 1, 1, 1, 1, 1, 1, 1, 1, 1, 1, 1, 1, 1, 1, 1, 1, 1, 1, 1, 1, 1, 1, 1, 1, 1, 1, 1, 1, 1, 1, 1, 1, 1, 1, 1, 1, 1, 1, 1, 1, 1, 1, 1, 1, 1, 1, 1, 1, 1, 1, 1, 1, 1, 1, 1, 1, 1, 1, 1, 1, 1, 1, 1, 1, 1, 1, 1, 1, 1, 1, 1, 1, 1, 1, 1, 1, 1, 1, 1, 1, 1, 1, 1, 1, 1, 1, 1, 1, 1, 1, 1, 1, 1, 1, 1, 1, 1, 1, 1, 1, 1, 1, 1, 1, 1, 1, 1, 1, 1, 1, 1, 1, 1, 1, 1, 1, 1, 1, 1, 1, 1, 1, 1, 1, 1, 1, 1, 1, 1, 1, 1, 1, 1, 1, 1, 1, 1, 1, 1, 1, 1, 1, 1, 1, 1, 1, 1, 1, 1, 1, 1, 1, 1, 1, 1, 1, 1, 1, 1, 1, 1, 1, 0, 1, 1, 1, 1, 1, 1, 1, 1, 1, 1, 1, 1, 1, 0, 1, 1, 1, 1, 1, 1, 1, 1, 1, 1, 1, 1, 1, 1, 1, 1, 1, 1, 1, 1, 1, 1, 1, 1, 1, 1, 1, 1, 1, 1, 1, 1, 1, 1, 1, 1, 1, 1, 1, 1, 1, 1, 1, 1, 1, 1, 1, 1, 1, 1, 1, 1, 1, 1, 1, 1, 1, 1, 1, 1, 1, 1, 1, 1, 1, 1, 1, 1, 1, 1, 1, 1, 1, 1, 1, 1, 1, 1, 1, 1, 1, 1, 1, 1, 1, 1, 1, 1, 1, 1, 1, 1, 1, 1, 1, 1, 1, 1, 1, 1, 1, 1, 1, 1, 1, 1, 1, 1, 1, 1, 1, 1, 1, 1, 1, 1, 1, 1, 1, 1, 1, 1, 1, 1, 1, 1, 1, 1, 1, 1, 1, 1, 1, 1, 1, 1, 1, 1, 1, 1, 1, 1, 1, 1, 1, 1, 1, 1, 1, 1, 1, 1, 1, 1, 1, 1, 1, 1, 1, 1, 1, 1, 1, 1, 1, 1, 1, 1, 1, 1, 1, 1, 1, 1, 1, 1, 1, 1, 1, 1, 1, 1, 1, 1, 1, 1, 1, 1, 1, 1, 1, 1, 1, 1, 1, 1, 1, 1, 1, 1, 1, 1, 1, 1, 1, 1, 1, 1, 1, 1, 1, 1, 1, 1, 1, 1, 1, 1, 1, 1, 1, 1, 1, 1, 1, 1, 1, 1, 1, 1, 1, 1, 1, 1, 1, 1, 1, 1, 1, 1, 1, 1, 1, 1, 1, 1, 1, 1, 1, 1, 1, 1, 1, 1, 1, 1, 1, 1, 1, 1, 1, 1, 1, 1, 1, 1, 1, 1, 1, 1, 1, 1, 1, 1, 1, 1, 1, 1, 1, 1, 1, 1, 1, 1, 1, 1, 1, 1, 1, 1, 1, 1, 1, 1, 1, 1, 1, 1, 1, 1, 1, 1, 1, 1, 1, 1, 1, 1, 1, 1, 1, 1, 1, 1, 1, 1, 1, 1, 1, 1, 1, 1, 1, 1, 1, 1, 1, 1, 1, 1, 1, 1, 1, 1, 1, 1, 1, 1, 1, 1, 1, 1, 1, 1, 1, 1, 1, 1, 1, 1, 1, 1, 1, 1, 1, 1, 1, 1, 1, 1, 1, 1, 1, 1, 1, 1, 1, 1, 1, 1, 1, 1, 1, 1, 1, 1, 1, 1, 1, 1, 1, 1, 1, 1, 1, 1, 1, 1, 1, 1, 1, 1, 1, 1, 1, 1, 1, 1, 1, 1, 1, 1, 1, 1, 1, 1, 1, 1, 1, 1, 1, 1, 1, 1, 1, 1, 1, 1, 1, 1, 1, 1, 1, 1, 1, 1, 1, 1, 1, 1, 1, 1, 1, 1, 1, 1, 1, 1, 1, 1, 1, 1, 1, 1, 1, 1, 1, 1, 1, 1, 1, 1, 1, 1, 1, 1, 1, 1, 1, 1, 1, 1, 1, 1, 1, 1, 1, 1, 1, 1, 1, 1, 1, 1, 1, 1, 1, 1, 1, 1, 1, 1, 1, 1, 1, 1, 1, 1, 1, 1, 1, 1, 1, 1, 1, 1, 1, 1, 1, 1, 1, 1, 1, 1, 1, 1, 1, 1, 1, 1, 1, 1, 1, 1, 1, 1, 1, 1, 1, 1, 1, 1, 1, 1, 1, 1, 1, 1, 1, 1, 1, 1, 1, 1, 1, 1, 1, 1, 1, 1, 1, 1, 1, 1, 1, 1, 1, 1, 1, 1, 1, 1, 1, 1, 1, 1, 1, 1, 1, 1, 1, 1, 1, 1, 1, 1, 1, 1, 1, 1, 1, 1, 1, 1, 1, 1, 1, 1, 1, 1, 1, 1, 1, 1, 1, 1, 1, 1, 1, 1, 1, 1, 1, 1, 1, 1, 1, 1, 1, 1, 1, 1, 1, 1, 1, 1, 1, 1, 1, 1, 1, 1, 1, 1, 1, 1, 1, 1, 1, 1, 1, 1, 1, 1, 1, 1, 1, 1, 1, 1, 1, 1, 1, 1, 1, 1, 1, 1, 1, 1, 1, 1, 1, 1, 1, 1, 1, 1, 1, 1, 1, 1, 1, 1, 1, 1, 1, 1, 1, 1, 1, 1, 1, 1, 1, 1, 1, 1, 1, 1, 1, 1, 1, 1, 1, 1, 1, 1, 1, 1, 1, 1, 1, 1, 1, 1, 1, 1, 1, 1, 1, 1, 1, 1, 1, 1, 1, 1, 1, 1, 1, 1, 1, 1, 1, 1, 1, 1, 1, 1, 1, 1, 1, 1, 1, 1, 1, 1, 1, 1, 1, 1, 1, 1, 1, 1, 1, 1, 1, 1, 1, 1, 1, 1, 1, 1, 1, 1, 1, 1, 1, 1, 1, 1, 1, 1, 1, 1, 1, 1, 1, 1, 1, 1, 1, 1, 1, 1, 1, 1, 1, 1, 1, 1, 1, 1, 1, 1, 1, 1, 1, 1, 1, 1, 1, 1, 1, 1, 1, 1, 1, 1, 1, 1, 1, 1, 1, 1, 1, 1, 1, 1, 1, 1, 1, 1, 1, 1, 1, 1, 1, 1, 1, 1, 1, 1, 1, 1, 1, 1, 1, 1, 1, 1, 1, 1, 1, 1, 1, 1, 1, 1, 1, 1, 1, 1, 1, 1, 1, 1, 1, 1, 1, 1, 1, 1, 1, 1, 1, 1, 1, 1, 1, 1, 1, 1, 1, 1, 1, 0]\n",
            "['ISIC_0024698', 'ISIC_0024693', 'ISIC_0025964', 'ISIC_0030623', 'ISIC_0027190', 'ISIC_0031023', 'ISIC_0028086', 'ISIC_0031177', 'ISIC_0026993', 'ISIC_0026120', 'ISIC_0028412', 'ISIC_0030417', 'ISIC_0026531', 'ISIC_0032396', 'ISIC_0030443', 'ISIC_0031499', 'ISIC_0025450', 'ISIC_0024586', 'ISIC_0025451', 'ISIC_0032248', 'ISIC_0028445', 'ISIC_0027076', 'ISIC_0029512', 'ISIC_0027872', 'ISIC_0030486', 'ISIC_0029028', 'ISIC_0027125', 'ISIC_0029575', 'ISIC_0028361', 'ISIC_0029081', 'ISIC_0025744', 'ISIC_0030119', 'ISIC_0028215', 'ISIC_0025303', 'ISIC_0030129', 'ISIC_0032214', 'ISIC_0028069', 'ISIC_0028579', 'ISIC_0029281', 'ISIC_0024367', 'ISIC_0030281', 'ISIC_0024481', 'ISIC_0031118', 'ISIC_0030080', 'ISIC_0031953', 'ISIC_0031406', 'ISIC_0026115', 'ISIC_0026281', 'ISIC_0027277', 'ISIC_0028642', 'ISIC_0032079', 'ISIC_0026150', 'ISIC_0031642', 'ISIC_0027043', 'ISIC_0027174', 'ISIC_0025277', 'ISIC_0024729', 'ISIC_0031711', 'ISIC_0025234', 'ISIC_0029000', 'ISIC_0025955', 'ISIC_0025751', 'ISIC_0026754', 'ISIC_0027063', 'ISIC_0032331', 'ISIC_0032400', 'ISIC_0024545', 'ISIC_0028109', 'ISIC_0033186', 'ISIC_0030060', 'ISIC_0030211', 'ISIC_0026892', 'ISIC_0024987', 'ISIC_0030171', 'ISIC_0028291', 'ISIC_0024898', 'ISIC_0029538', 'ISIC_0032313', 'ISIC_0027769', 'ISIC_0029913', 'ISIC_0026909', 'ISIC_0026113', 'ISIC_0032265', 'ISIC_0032308', 'ISIC_0025081', 'ISIC_0030134', 'ISIC_0030445', 'ISIC_0030798', 'ISIC_0026596', 'ISIC_0028056', 'ISIC_0032019', 'ISIC_0025155', 'ISIC_0031557', 'ISIC_0024792', 'ISIC_0030898', 'ISIC_0032244', 'ISIC_0028901', 'ISIC_0032098', 'ISIC_0025603', 'ISIC_0029651', 'ISIC_0032044', 'ISIC_0030759', 'ISIC_0024886', 'ISIC_0027102', 'ISIC_0025904', 'ISIC_0032450', 'ISIC_0027253', 'ISIC_0032046', 'ISIC_0029163', 'ISIC_0029630', 'ISIC_0024624', 'ISIC_0025674', 'ISIC_0031369', 'ISIC_0029547', 'ISIC_0026622', 'ISIC_0028326', 'ISIC_0027060', 'ISIC_0031941', 'ISIC_0024315', 'ISIC_0030818', 'ISIC_0026360', 'ISIC_0025996', 'ISIC_0025219', 'ISIC_0026458', 'ISIC_0024951', 'ISIC_0030106', 'ISIC_0024702', 'ISIC_0024972', 'ISIC_0031779', 'ISIC_0028442', 'ISIC_0031745', 'ISIC_0031586', 'ISIC_0031972', 'ISIC_0030539', 'ISIC_0031977', 'ISIC_0026296', 'ISIC_0025018', 'ISIC_0028519', 'ISIC_0024767', 'ISIC_0031517', 'ISIC_0028022', 'ISIC_0024967', 'ISIC_0029370', 'ISIC_0031958', 'ISIC_0026369', 'ISIC_0030521', 'ISIC_0027487', 'ISIC_0029212', 'ISIC_0030089', 'ISIC_0027616', 'ISIC_0027261', 'ISIC_0028505', 'ISIC_0025153', 'ISIC_0031598', 'ISIC_0025363', 'ISIC_0029473', 'ISIC_0027651', 'ISIC_0030014', 'ISIC_0027238', 'ISIC_0029571', 'ISIC_0024675', 'ISIC_0025891', 'ISIC_0027693', 'ISIC_0029017', 'ISIC_0032220', 'ISIC_0028127', 'ISIC_0030165', 'ISIC_0025927', 'ISIC_0031189', 'ISIC_0032190', 'ISIC_0025783', 'ISIC_0029241', 'ISIC_0027352', 'ISIC_0029558', 'ISIC_0031890', 'ISIC_0031545', 'ISIC_0028219', 'ISIC_0026314', 'ISIC_0024875', 'ISIC_0026950', 'ISIC_0027033', 'ISIC_0027822', 'ISIC_0029242', 'ISIC_0027263', 'ISIC_0026247', 'ISIC_0028467', 'ISIC_0026158', 'ISIC_0029216', 'ISIC_0026489', 'ISIC_0028878', 'ISIC_0033312', 'ISIC_0024400', 'ISIC_0029884', 'ISIC_0028900', 'ISIC_0027387', 'ISIC_0024911', 'ISIC_0027659', 'ISIC_0030223', 'ISIC_0032182', 'ISIC_0027721', 'ISIC_0026697', 'ISIC_0030760', 'ISIC_0028565', 'ISIC_0034006', 'ISIC_0028087', 'ISIC_0026664', 'ISIC_0029660', 'ISIC_0024496', 'ISIC_0028415', 'ISIC_0028041', 'ISIC_0028696', 'ISIC_0029343', 'ISIC_0030552', 'ISIC_0029726', 'ISIC_0029513', 'ISIC_0024853', 'ISIC_0028916', 'ISIC_0028029', 'ISIC_0030824', 'ISIC_0028325', 'ISIC_0024537', 'ISIC_0031310', 'ISIC_0032408', 'ISIC_0030440', 'ISIC_0024732', 'ISIC_0025489', 'ISIC_0025265', 'ISIC_0028489', 'ISIC_0026236', 'ISIC_0028317', 'ISIC_0031013', 'ISIC_0028969', 'ISIC_0032441', 'ISIC_0030324', 'ISIC_0025394', 'ISIC_0027260', 'ISIC_0027604', 'ISIC_0029434', 'ISIC_0026963', 'ISIC_0028211', 'ISIC_0027300', 'ISIC_0028512', 'ISIC_0024310', 'ISIC_0033496', 'ISIC_0032927', 'ISIC_0024865', 'ISIC_0025324', 'ISIC_0026996', 'ISIC_0030681', 'ISIC_0027327', 'ISIC_0025589', 'ISIC_0024756', 'ISIC_0029562', 'ISIC_0029453', 'ISIC_0034071', 'ISIC_0033573', 'ISIC_0026086', 'ISIC_0025035', 'ISIC_0027776', 'ISIC_0025835', 'ISIC_0030828', 'ISIC_0032847', 'ISIC_0033654', 'ISIC_0030575', 'ISIC_0033931', 'ISIC_0033268', 'ISIC_0032750', 'ISIC_0032888', 'ISIC_0033968', 'ISIC_0033333', 'ISIC_0033717', 'ISIC_0034120', 'ISIC_0032532', 'ISIC_0033500', 'ISIC_0033834', 'ISIC_0033678', 'ISIC_0034046', 'ISIC_0032550', 'ISIC_0033700', 'ISIC_0026188', 'ISIC_0032604', 'ISIC_0033428', 'ISIC_0028746', 'ISIC_0033975', 'ISIC_0033278', 'ISIC_0033679', 'ISIC_0034141', 'ISIC_0033643', 'ISIC_0032629', 'ISIC_0033152', 'ISIC_0033636', 'ISIC_0029909', 'ISIC_0033432', 'ISIC_0032833', 'ISIC_0034236', 'ISIC_0033027', 'ISIC_0034118', 'ISIC_0033476', 'ISIC_0033047', 'ISIC_0025987', 'ISIC_0032017', 'ISIC_0033946', 'ISIC_0033369', 'ISIC_0032447', 'ISIC_0033655', 'ISIC_0033831', 'ISIC_0032583', 'ISIC_0034162', 'ISIC_0032187', 'ISIC_0032976', 'ISIC_0033274', 'ISIC_0026745', 'ISIC_0033034', 'ISIC_0034294', 'ISIC_0034202', 'ISIC_0033416', 'ISIC_0032662', 'ISIC_0033452', 'ISIC_0033074', 'ISIC_0034087', 'ISIC_0032722', 'ISIC_0033204', 'ISIC_0033953', 'ISIC_0032823', 'ISIC_0032733', 'ISIC_0033183', 'ISIC_0032564', 'ISIC_0034140', 'ISIC_0034256', 'ISIC_0032984', 'ISIC_0033362', 'ISIC_0033947', 'ISIC_0033881', 'ISIC_0029363', 'ISIC_0033820', 'ISIC_0033814', 'ISIC_0032875', 'ISIC_0033802', 'ISIC_0033429', 'ISIC_0032685', 'ISIC_0032903', 'ISIC_0033323', 'ISIC_0032637', 'ISIC_0032993', 'ISIC_0033804', 'ISIC_0033801', 'ISIC_0033216', 'ISIC_0033154', 'ISIC_0033192', 'ISIC_0027100', 'ISIC_0034222', 'ISIC_0032569', 'ISIC_0034064', 'ISIC_0033902', 'ISIC_0032774', 'ISIC_0032840', 'ISIC_0034313', 'ISIC_0033570', 'ISIC_0032602', 'ISIC_0032724', 'ISIC_0033129', 'ISIC_0033180', 'ISIC_0033962', 'ISIC_0033603', 'ISIC_0033325', 'ISIC_0034208', 'ISIC_0033068', 'ISIC_0034218', 'ISIC_0034263', 'ISIC_0034262', 'ISIC_0033103', 'ISIC_0034106', 'ISIC_0033725', 'ISIC_0032537', 'ISIC_0033287', 'ISIC_0033286', 'ISIC_0032586', 'ISIC_0029632', 'ISIC_0033485', 'ISIC_0033175', 'ISIC_0033886', 'ISIC_0032892', 'ISIC_0033942', 'ISIC_0033473', 'ISIC_0030564', 'ISIC_0033337', 'ISIC_0033594', 'ISIC_0029209', 'ISIC_0026976', 'ISIC_0033275', 'ISIC_0033938', 'ISIC_0032841', 'ISIC_0033819', 'ISIC_0032544', 'ISIC_0032844', 'ISIC_0032921', 'ISIC_0034117', 'ISIC_0033415', 'ISIC_0033240', 'ISIC_0032782', 'ISIC_0032522', 'ISIC_0033595', 'ISIC_0034059', 'ISIC_0033063', 'ISIC_0033174', 'ISIC_0033239', 'ISIC_0033985', 'ISIC_0032726', 'ISIC_0033272', 'ISIC_0032718', 'ISIC_0032736', 'ISIC_0033317', 'ISIC_0034269', 'ISIC_0033956', 'ISIC_0033241', 'ISIC_0032598', 'ISIC_0034289', 'ISIC_0033980', 'ISIC_0032533', 'ISIC_0033986', 'ISIC_0033004', 'ISIC_0024900', 'ISIC_0032072', 'ISIC_0033578', 'ISIC_0034100', 'ISIC_0032940', 'ISIC_0032511', 'ISIC_0033687', 'ISIC_0034085', 'ISIC_0033299', 'ISIC_0033479', 'ISIC_0033522', 'ISIC_0033911', 'ISIC_0033779', 'ISIC_0032638', 'ISIC_0032603', 'ISIC_0033871', 'ISIC_0032955', 'ISIC_0032812', 'ISIC_0033619', 'ISIC_0034065', 'ISIC_0034132', 'ISIC_0033038', 'ISIC_0033630', 'ISIC_0032879', 'ISIC_0034012', 'ISIC_0034150', 'ISIC_0028082', 'ISIC_0033209', 'ISIC_0034074', 'ISIC_0032699', 'ISIC_0033848', 'ISIC_0032622', 'ISIC_0034246', 'ISIC_0032915', 'ISIC_0028460', 'ISIC_0033883', 'ISIC_0034145', 'ISIC_0032981', 'ISIC_0033470', 'ISIC_0034094', 'ISIC_0033560', 'ISIC_0034061', 'ISIC_0032716', 'ISIC_0034159', 'ISIC_0024482', 'ISIC_0033477', 'ISIC_0034092', 'ISIC_0033863', 'ISIC_0034180', 'ISIC_0033267', 'ISIC_0034005', 'ISIC_0033872', 'ISIC_0032617', 'ISIC_0032965', 'ISIC_0034242', 'ISIC_0033117', 'ISIC_0034104', 'ISIC_0032547', 'ISIC_0033644', 'ISIC_0033806', 'ISIC_0032913', 'ISIC_0033651', 'ISIC_0033304', 'ISIC_0032806', 'ISIC_0033624', 'ISIC_0033238', 'ISIC_0034089', 'ISIC_0034048', 'ISIC_0033905', 'ISIC_0033981', 'ISIC_0033336', 'ISIC_0033405', 'ISIC_0034188', 'ISIC_0033269', 'ISIC_0033569', 'ISIC_0032535', 'ISIC_0033042', 'ISIC_0032081', 'ISIC_0034034', 'ISIC_0033217', 'ISIC_0033728', 'ISIC_0033901', 'ISIC_0032917', 'ISIC_0032925', 'ISIC_0032797', 'ISIC_0032596', 'ISIC_0032856', 'ISIC_0033193', 'ISIC_0033125', 'ISIC_0032810', 'ISIC_0033324', 'ISIC_0034316', 'ISIC_0033710', 'ISIC_0033469', 'ISIC_0033663', 'ISIC_0034284', 'ISIC_0031709', 'ISIC_0032517', 'ISIC_0032684', 'ISIC_0034052', 'ISIC_0033171', 'ISIC_0034022', 'ISIC_0033017', 'ISIC_0033874', 'ISIC_0033754', 'ISIC_0032938', 'ISIC_0025531', 'ISIC_0032610', 'ISIC_0032958', 'ISIC_0033538', 'ISIC_0032836', 'ISIC_0033444', 'ISIC_0034183', 'ISIC_0033426', 'ISIC_0033546', 'ISIC_0032869', 'ISIC_0033524', 'ISIC_0034101', 'ISIC_0030333', 'ISIC_0032695', 'ISIC_0033310', 'ISIC_0027306', 'ISIC_0034253', 'ISIC_0033120', 'ISIC_0033081', 'ISIC_0034211', 'ISIC_0028410', 'ISIC_0033545', 'ISIC_0026430', 'ISIC_0033141', 'ISIC_0033261', 'ISIC_0032766', 'ISIC_0030031', 'ISIC_0028655', 'ISIC_0032531', 'ISIC_0032970', 'ISIC_0027402', 'ISIC_0030391', 'ISIC_0032845', 'ISIC_0034036', 'ISIC_0030238', 'ISIC_0032968', 'ISIC_0029265', 'ISIC_0032462', 'ISIC_0033704', 'ISIC_0034239', 'ISIC_0034287', 'ISIC_0031479', 'ISIC_0033166', 'ISIC_0033320', 'ISIC_0032526', 'ISIC_0033813', 'ISIC_0032624', 'ISIC_0033977', 'ISIC_0034002', 'ISIC_0033387', 'ISIC_0025592', 'ISIC_0032552', 'ISIC_0033279', 'ISIC_0032887', 'ISIC_0034205', 'ISIC_0033612', 'ISIC_0034049', 'ISIC_0033300', 'ISIC_0033616', 'ISIC_0029606', 'ISIC_0033099', 'ISIC_0032723', 'ISIC_0032751', 'ISIC_0032597', 'ISIC_0032982', 'ISIC_0033196', 'ISIC_0032653', 'ISIC_0032730', 'ISIC_0032709', 'ISIC_0033206', 'ISIC_0033518', 'ISIC_0033843', 'ISIC_0033344', 'ISIC_0032988', 'ISIC_0033812', 'ISIC_0033653', 'ISIC_0032698', 'ISIC_0033611', 'ISIC_0033586', 'ISIC_0033226', 'ISIC_0033198', 'ISIC_0032790', 'ISIC_0033245', 'ISIC_0033029', 'ISIC_0030883', 'ISIC_0028582', 'ISIC_0033670', 'ISIC_0029740', 'ISIC_0033593', 'ISIC_0032212', 'ISIC_0025775', 'ISIC_0029828', 'ISIC_0031588', 'ISIC_0028502', 'ISIC_0028239', 'ISIC_0031325', 'ISIC_0032115', 'ISIC_0025251', 'ISIC_0025843', 'ISIC_0031503', 'ISIC_0025384', 'ISIC_0032446', 'ISIC_0032285', 'ISIC_0027347', 'ISIC_0029979', 'ISIC_0029624', 'ISIC_0024415', 'ISIC_0025311', 'ISIC_0026425', 'ISIC_0026555', 'ISIC_0031282', 'ISIC_0029961', 'ISIC_0026583', 'ISIC_0032226', 'ISIC_0031536', 'ISIC_0026681', 'ISIC_0026780', 'ISIC_0025218', 'ISIC_0026211', 'ISIC_0025457', 'ISIC_0029594', 'ISIC_0031575', 'ISIC_0028266', 'ISIC_0032060', 'ISIC_0029303', 'ISIC_0026054', 'ISIC_0029347', 'ISIC_0028727', 'ISIC_0027315', 'ISIC_0028455', 'ISIC_0030435', 'ISIC_0024535', 'ISIC_0026824', 'ISIC_0024968', 'ISIC_0025320', 'ISIC_0031184', 'ISIC_0024828', 'ISIC_0027725', 'ISIC_0028298', 'ISIC_0024364', 'ISIC_0031269', 'ISIC_0025398', 'ISIC_0030035', 'ISIC_0031403', 'ISIC_0026011', 'ISIC_0026518', 'ISIC_0030993', 'ISIC_0027479', 'ISIC_0031068', 'ISIC_0025338', 'ISIC_0030791', 'ISIC_0031463', 'ISIC_0027944', 'ISIC_0031974', 'ISIC_0024896', 'ISIC_0029153', 'ISIC_0028480', 'ISIC_0030517', 'ISIC_0031455', 'ISIC_0026768', 'ISIC_0029569', 'ISIC_0029351', 'ISIC_0024376', 'ISIC_0030102', 'ISIC_0031486', 'ISIC_0029526', 'ISIC_0028446', 'ISIC_0031895', 'ISIC_0030072', 'ISIC_0025723', 'ISIC_0024872', 'ISIC_0031935', 'ISIC_0030820', 'ISIC_0032210', 'ISIC_0031845', 'ISIC_0027278', 'ISIC_0026641', 'ISIC_0028185', 'ISIC_0028090', 'ISIC_0028879', 'ISIC_0030148', 'ISIC_0029540', 'ISIC_0028924', 'ISIC_0032016', 'ISIC_0032048', 'ISIC_0026255', 'ISIC_0030013', 'ISIC_0031371', 'ISIC_0025585', 'ISIC_0030523', 'ISIC_0031100', 'ISIC_0031671', 'ISIC_0025079', 'ISIC_0029637', 'ISIC_0024979', 'ISIC_0024462', 'ISIC_0025415', 'ISIC_0027974', 'ISIC_0031207', 'ISIC_0025143', 'ISIC_0030918', 'ISIC_0025161', 'ISIC_0031926', 'ISIC_0027324', 'ISIC_0031652', 'ISIC_0030846', 'ISIC_0029829', 'ISIC_0025407', 'ISIC_0031297', 'ISIC_0032391', 'ISIC_0029149', 'ISIC_0032169', 'ISIC_0024584', 'ISIC_0029870', 'ISIC_0028164', 'ISIC_0025528', 'ISIC_0027000', 'ISIC_0027221', 'ISIC_0031833', 'ISIC_0028289', 'ISIC_0031164', 'ISIC_0029998', 'ISIC_0031579', 'ISIC_0027810', 'ISIC_0026339', 'ISIC_0032317', 'ISIC_0029997', 'ISIC_0029685', 'ISIC_0025053', 'ISIC_0030338', 'ISIC_0030907', 'ISIC_0030428', 'ISIC_0026039', 'ISIC_0029373', 'ISIC_0025692', 'ISIC_0030421', 'ISIC_0029911', 'ISIC_0030682', 'ISIC_0027634', 'ISIC_0024357', 'ISIC_0026755', 'ISIC_0027784', 'ISIC_0028359', 'ISIC_0031332', 'ISIC_0031966', 'ISIC_0027268', 'ISIC_0026948', 'ISIC_0026246', 'ISIC_0028889', 'ISIC_0032501', 'ISIC_0028779', 'ISIC_0025095', 'ISIC_0027585', 'ISIC_0028302', 'ISIC_0026038', 'ISIC_0028917', 'ISIC_0029888', 'ISIC_0024861', 'ISIC_0032087', 'ISIC_0032387', 'ISIC_0026172', 'ISIC_0031604', 'ISIC_0027808', 'ISIC_0025593', 'ISIC_0025487', 'ISIC_0029273', 'ISIC_0025206', 'ISIC_0027854', 'ISIC_0027752', 'ISIC_0025416', 'ISIC_0030617', 'ISIC_0029496', 'ISIC_0025287', 'ISIC_0024327', 'ISIC_0027339', 'ISIC_0028339', 'ISIC_0031331', 'ISIC_0025432', 'ISIC_0026557', 'ISIC_0027170', 'ISIC_0031997', 'ISIC_0030669', 'ISIC_0032490', 'ISIC_0030642', 'ISIC_0025364', 'ISIC_0027703', 'ISIC_0030050', 'ISIC_0026234', 'ISIC_0024365', 'ISIC_0025934', 'ISIC_0025675', 'ISIC_0030573', 'ISIC_0029293', 'ISIC_0025325', 'ISIC_0027717', 'ISIC_0029966', 'ISIC_0028424', 'ISIC_0027411', 'ISIC_0025636', 'ISIC_0026036', 'ISIC_0024945', 'ISIC_0028932', 'ISIC_0027732', 'ISIC_0031106', 'ISIC_0026214', 'ISIC_0025676', 'ISIC_0025142', 'ISIC_0024407', 'ISIC_0032434', 'ISIC_0030016', 'ISIC_0026806', 'ISIC_0025365', 'ISIC_0027160', 'ISIC_0028395', 'ISIC_0028515', 'ISIC_0030287', 'ISIC_0027316', 'ISIC_0026621', 'ISIC_0029239', 'ISIC_0027426', 'ISIC_0025914', 'ISIC_0030888', 'ISIC_0025501', 'ISIC_0030599', 'ISIC_0032153', 'ISIC_0025201', 'ISIC_0029523', 'ISIC_0030541', 'ISIC_0032211', 'ISIC_0027836', 'ISIC_0026565', 'ISIC_0027195', 'ISIC_0028682', 'ISIC_0029112', 'ISIC_0026399', 'ISIC_0029290', 'ISIC_0025749', 'ISIC_0029258', 'ISIC_0025224', 'ISIC_0031388', 'ISIC_0026098', 'ISIC_0028482', 'ISIC_0028034', 'ISIC_0029336', 'ISIC_0027429', 'ISIC_0028690', 'ISIC_0026585', 'ISIC_0025353', 'ISIC_0026914', 'ISIC_0024980', 'ISIC_0031653', 'ISIC_0028353', 'ISIC_0030128', 'ISIC_0032100', 'ISIC_0026169', 'ISIC_0031632', 'ISIC_0025813', 'ISIC_0031453', 'ISIC_0026242', 'ISIC_0030214', 'ISIC_0027422', 'ISIC_0025722', 'ISIC_0031099', 'ISIC_0028282', 'ISIC_0028639', 'ISIC_0028136', 'ISIC_0026435', 'ISIC_0026476', 'ISIC_0031773', 'ISIC_0031881', 'ISIC_0026283', 'ISIC_0029892', 'ISIC_0027912', 'ISIC_0029943', 'ISIC_0029561', 'ISIC_0026682', 'ISIC_0027416', 'ISIC_0028848', 'ISIC_0028862', 'ISIC_0024746', 'ISIC_0029044', 'ISIC_0028054', 'ISIC_0030550', 'ISIC_0031704', 'ISIC_0030235', 'ISIC_0024580', 'ISIC_0025930', 'ISIC_0031701', 'ISIC_0028594', 'ISIC_0031185', 'ISIC_0024369', 'ISIC_0029463', 'ISIC_0029815', 'ISIC_0028196', 'ISIC_0030968', 'ISIC_0029008', 'ISIC_0024636', 'ISIC_0032025', 'ISIC_0031157', 'ISIC_0031234', 'ISIC_0031907', 'ISIC_0025966', 'ISIC_0027834', 'ISIC_0025922', 'ISIC_0032254', 'ISIC_0024544', 'ISIC_0030903', 'ISIC_0025994', 'ISIC_0028962', 'ISIC_0030292', 'ISIC_0029015', 'ISIC_0025205', 'ISIC_0028668', 'ISIC_0031730', 'ISIC_0030469', 'ISIC_0030170', 'ISIC_0025056', 'ISIC_0026232', 'ISIC_0030322', 'ISIC_0030885', 'ISIC_0031638', 'ISIC_0026562', 'ISIC_0028270', 'ISIC_0027576', 'ISIC_0027389', 'ISIC_0031330', 'ISIC_0024433', 'ISIC_0032011', 'ISIC_0030540', 'ISIC_0031151', 'ISIC_0024593', 'ISIC_0029184', 'ISIC_0030308', 'ISIC_0030470', 'ISIC_0025221', 'ISIC_0027124', 'ISIC_0032366', 'ISIC_0028827', 'ISIC_0027816', 'ISIC_0028539', 'ISIC_0030936', 'ISIC_0030168', 'ISIC_0031229', 'ISIC_0031777', 'ISIC_0025558', 'ISIC_0026520', 'ISIC_0028007', 'ISIC_0024692', 'ISIC_0030729', 'ISIC_0030457', 'ISIC_0029729', 'ISIC_0028768', 'ISIC_0026383', 'ISIC_0025794', 'ISIC_0028888', 'ISIC_0028137', 'ISIC_0027691', 'ISIC_0024473', 'ISIC_0024791', 'ISIC_0028805', 'ISIC_0032442', 'ISIC_0025255', 'ISIC_0026778', 'ISIC_0028462', 'ISIC_0025052', 'ISIC_0030302', 'ISIC_0028812', 'ISIC_0031606', 'ISIC_0031422', 'ISIC_0032453', 'ISIC_0029784', 'ISIC_0029633', 'ISIC_0027136', 'ISIC_0028546', 'ISIC_0028111', 'ISIC_0030880', 'ISIC_0025041', 'ISIC_0027763', 'ISIC_0026700', 'ISIC_0031174', 'ISIC_0031319', 'ISIC_0028025', 'ISIC_0027572', 'ISIC_0027212', 'ISIC_0030376', 'ISIC_0029822', 'ISIC_0027886', 'ISIC_0031776', 'ISIC_0027932', 'ISIC_0029385', 'ISIC_0026986', 'ISIC_0024464', 'ISIC_0027301', 'ISIC_0026836', 'ISIC_0028864', 'ISIC_0029918', 'ISIC_0028694', 'ISIC_0025044', 'ISIC_0025635', 'ISIC_0031237', 'ISIC_0026613', 'ISIC_0025508', 'ISIC_0029876', 'ISIC_0024788', 'ISIC_0028975', 'ISIC_0029701', 'ISIC_0027843', 'ISIC_0029118', 'ISIC_0026185', 'ISIC_0026137', 'ISIC_0028523', 'ISIC_0030536', 'ISIC_0030902', 'ISIC_0024493', 'ISIC_0026891', 'ISIC_0028260', 'ISIC_0024863', 'ISIC_0031837', 'ISIC_0030774', 'ISIC_0030041', 'ISIC_0025615', 'ISIC_0029317', 'ISIC_0025900', 'ISIC_0030797', 'ISIC_0031690', 'ISIC_0026594', 'ISIC_0026936', 'ISIC_0026075', 'ISIC_0024512', 'ISIC_0027939', 'ISIC_0027164', 'ISIC_0029619', 'ISIC_0024637', 'ISIC_0027276', 'ISIC_0024879', 'ISIC_0030906', 'ISIC_0025120', 'ISIC_0031291', 'ISIC_0031947', 'ISIC_0030904', 'ISIC_0024868', 'ISIC_0024884', 'ISIC_0031938', 'ISIC_0027290', 'ISIC_0029386', 'ISIC_0027220', 'ISIC_0029410', 'ISIC_0029675', 'ISIC_0029751', 'ISIC_0026175', 'ISIC_0030293', 'ISIC_0031035', 'ISIC_0029604', 'ISIC_0028967', 'ISIC_0031771', 'ISIC_0028044', 'ISIC_0031572', 'ISIC_0032426', 'ISIC_0030411', 'ISIC_0030315', 'ISIC_0030269', 'ISIC_0028597', 'ISIC_0031571', 'ISIC_0032059', 'ISIC_0031069', 'ISIC_0024348', 'ISIC_0028356', 'ISIC_0027919', 'ISIC_0031219', 'ISIC_0031781', 'ISIC_0024690', 'ISIC_0025175', 'ISIC_0028175', 'ISIC_0025444', 'ISIC_0025274', 'ISIC_0030120', 'ISIC_0026057', 'ISIC_0025878', 'ISIC_0027375', 'ISIC_0031534', 'ISIC_0025613', 'ISIC_0027564', 'ISIC_0027145', 'ISIC_0025256', 'ISIC_0026465', 'ISIC_0026256', 'ISIC_0028365', 'ISIC_0028108', 'ISIC_0031477', 'ISIC_0031153', 'ISIC_0030483', 'ISIC_0024421', 'ISIC_0026366', 'ISIC_0027661', 'ISIC_0025192', 'ISIC_0027085', 'ISIC_0027251', 'ISIC_0031995', 'ISIC_0028572', 'ISIC_0026168', 'ISIC_0029469', 'ISIC_0030289', 'ISIC_0028933', 'ISIC_0027356', 'ISIC_0030836', 'ISIC_0029618', 'ISIC_0030204', 'ISIC_0028242', 'ISIC_0028699', 'ISIC_0030003', 'ISIC_0032321', 'ISIC_0030658', 'ISIC_0032193', 'ISIC_0030944', 'ISIC_0025298', 'ISIC_0030566', 'ISIC_0028142', 'ISIC_0028613', 'ISIC_0024887', 'ISIC_0027121', 'ISIC_0028466', 'ISIC_0027591', 'ISIC_0030400', 'ISIC_0030282', 'ISIC_0028935', 'ISIC_0024985', 'ISIC_0025514', 'ISIC_0026136', 'ISIC_0024856', 'ISIC_0028921', 'ISIC_0024598', 'ISIC_0025054', 'ISIC_0029703', 'ISIC_0031699', 'ISIC_0031213', 'ISIC_0031038', 'ISIC_0032337', 'ISIC_0029211', 'ISIC_0027467', 'ISIC_0031102', 'ISIC_0026659', 'ISIC_0032231', 'ISIC_0028869', 'ISIC_0028705', 'ISIC_0028775', 'ISIC_0025080', 'ISIC_0029950', 'ISIC_0025910', 'ISIC_0030761', 'ISIC_0031402', 'ISIC_0031461', 'ISIC_0030862', 'ISIC_0030049', 'ISIC_0025536', 'ISIC_0027318', 'ISIC_0032162', 'ISIC_0025979', 'ISIC_0026021', 'ISIC_0025375', 'ISIC_0026079', 'ISIC_0030957', 'ISIC_0025833', 'ISIC_0030547', 'ISIC_0031288', 'ISIC_0027106', 'ISIC_0031392', 'ISIC_0025947', 'ISIC_0031909', 'ISIC_0026822', 'ISIC_0025559', 'ISIC_0030787', 'ISIC_0030000', 'ISIC_0028819', 'ISIC_0026460', 'ISIC_0028426', 'ISIC_0031199', 'ISIC_0029023', 'ISIC_0026960', 'ISIC_0027764', 'ISIC_0026817', 'ISIC_0029274', 'ISIC_0027165', 'ISIC_0031250', 'ISIC_0025084', 'ISIC_0028337', 'ISIC_0031438', 'ISIC_0028077', 'ISIC_0029132', 'ISIC_0024429', 'ISIC_0029972', 'ISIC_0030519', 'ISIC_0026949', 'ISIC_0028428', 'ISIC_0026225', 'ISIC_0029142', 'ISIC_0028861', 'ISIC_0027373', 'ISIC_0031021', 'ISIC_0028319', 'ISIC_0024309', 'ISIC_0031469']\n",
            "1228\n"
          ]
        }
      ],
      "source": [
        "print(dx)\n",
        "print(dx_labels)\n",
        "melC = 0\n",
        "nvC = 0\n",
        "indexLst = []\n",
        "for i in range(len(dx)):\n",
        "  if dx[i] == \"nv\" and nvC < 614:\n",
        "    indexLst.append(i)\n",
        "    nvC += 1\n",
        "  if dx[i] == \"mel\" and melC < 614:\n",
        "    indexLst.append(i)\n",
        "    melC +=1\n",
        "\n",
        "\n",
        "image_id2 = []\n",
        "dx2 =[]\n",
        "for i in indexLst:\n",
        "  image_id2.append(image_id[i])\n",
        "  dx2.append(dx[i])\n",
        "\n",
        "print(image_id2)\n",
        "print(len(dx2))\n",
        "\n",
        "dx = dx2\n",
        "# dx_type = metadata_df['dx_type'].to_list()\n",
        "image_id = image_id2\n",
        "le = preprocessing.LabelEncoder()\n",
        "dx_labels = list(le.fit_transform(dx))"
      ]
    },
    {
      "cell_type": "code",
      "execution_count": 4,
      "metadata": {
        "id": "yIdyAXuktRg6"
      },
      "outputs": [],
      "source": [
        "X_train, X_temp, y_train, y_temp = train_test_split(image_id, dx_labels, stratify=dx_labels, test_size=0.201)\n",
        "X_val, X_test, y_val, y_test = train_test_split(X_temp, y_temp, stratify=y_temp, test_size=0.5)\n",
        "\n",
        "sample_num = 0\n",
        "splits = ['train', 'test', 'val']\n",
        "X_data = [X_train, X_test, X_val]\n",
        "y_data = [y_train, y_test, y_val]\n",
        "for j in range(0, len(splits)):\n",
        "    for i in range(0, len(X_data[j])):\n",
        "        destination = '/home/uditha/snap/snapd-desktop-integration/current/Desktop/FYP/dataset/VIT/BaseViT/' + splits[j] + '/' + str(y_data[j][i]) + '/' + X_data[j][i] + '.jpg'\n",
        "        source = '/home/uditha/snap/snapd-desktop-integration/current/Desktop/FYP/dataset/ham10000/' + X_data[j][i] + '.jpg'\n",
        "        os.system(\"cp \" + \" \" + source + \" \" + destination)\n",
        "        sample_num+=1"
      ]
    },
    {
      "cell_type": "markdown",
      "metadata": {
        "id": "yQ5TBzDGvOeQ"
      },
      "source": [
        "## ViT base"
      ]
    },
    {
      "cell_type": "code",
      "execution_count": 5,
      "metadata": {
        "id": "-20XYiuuvdHK"
      },
      "outputs": [],
      "source": [
        "from __future__ import print_function\n",
        "from PIL import Image\n",
        "from vit_pytorch import ViT\n",
        "import torch.nn as nn\n",
        "import torch.optim as optim\n",
        "from torchvision import datasets, transforms\n",
        "from torch.optim.lr_scheduler import StepLR\n",
        "from torch.utils.data import DataLoader, Dataset\n",
        "import glob\n",
        "import pandas as pd\n",
        "from sklearn import preprocessing\n",
        "from sklearn.model_selection import train_test_split\n",
        "import os\n",
        "import pickle\n",
        "import collections\n",
        "import torch\n",
        "import matplotlib.pyplot as plt\n",
        "from sklearn.metrics import confusion_matrix, mean_squared_error, classification_report\n",
        "import numpy as np\n",
        "import seaborn as sn"
      ]
    },
    {
      "cell_type": "code",
      "execution_count": 6,
      "metadata": {
        "id": "yn7vW0U1sICJ"
      },
      "outputs": [],
      "source": [
        "# Setting CUDA Device:\n",
        "torch.cuda.set_device(0)\n",
        "# CUDA_VISIBLE_DEVICES= [1,2]"
      ]
    },
    {
      "cell_type": "code",
      "execution_count": 7,
      "metadata": {
        "id": "bZlIcqgUsIHm"
      },
      "outputs": [],
      "source": [
        "# Importing metadata:\n",
        "total_df = pd.read_csv('/home/uditha/snap/snapd-desktop-integration/current/Desktop/FYP/dataset/ham10000/HAM10000_metadata.csv')\n",
        "file_list = glob.glob(r'/home/uditha/snap/snapd-desktop-integration/current/Desktop/FYP/dataset/HAM1000Zip/skin-cancer-mnist-ham10000/HAM10000_images_part_2/*.jpg')"
      ]
    },
    {
      "cell_type": "code",
      "execution_count": 8,
      "metadata": {
        "colab": {
          "base_uri": "https://localhost:8080/"
        },
        "id": "0TMr4ug9sIK3",
        "outputId": "d91d321c-a001-4edd-960b-aab358821ad8"
      },
      "outputs": [
        {
          "name": "stdout",
          "output_type": "stream",
          "text": [
            "1228\n"
          ]
        }
      ],
      "source": [
        "# Generating labels:\n",
        "y_all = []\n",
        "melC = 0\n",
        "nvC = 0\n",
        "file_list2 = []\n",
        "for name in file_list:\n",
        "    head, tail = os.path.split(name)\n",
        "    # print(head,\"###########\", tail)\n",
        "    tail = tail.replace('.jpg', '')\n",
        "    row = ( total_df.loc [total_df['image_id'] == tail]['dx'] ).values.astype(str)\n",
        "    # print(row)\n",
        "    if str(row[0]) == \"nv\" and nvC < 614:\n",
        "      y_all.append(str(row[0]))\n",
        "      nvC += 1\n",
        "      file_list2.append(name)\n",
        "    if str(row[0]) == \"mel\" and melC < 614:\n",
        "      y_all.append(str(row[0]))\n",
        "      melC +=1\n",
        "      file_list2.append(name)\n",
        "print(len(y_all))\n",
        "    "
      ]
    },
    {
      "cell_type": "code",
      "execution_count": 9,
      "metadata": {
        "id": "VY7640EpcYh2"
      },
      "outputs": [],
      "source": [
        "y_all.count(\"mel\")\n",
        "len(file_list2)\n",
        "file_list = file_list2"
      ]
    },
    {
      "cell_type": "code",
      "execution_count": 10,
      "metadata": {
        "id": "IivK_ZjosINJ"
      },
      "outputs": [],
      "source": [
        "# Encodeing lables:\n",
        "le = preprocessing.LabelEncoder()\n",
        "y_all1 = le.fit_transform(y_all)"
      ]
    },
    {
      "cell_type": "code",
      "execution_count": 11,
      "metadata": {
        "id": "vGN6EYHQsIPg"
      },
      "outputs": [],
      "source": [
        "# Applying test train split\n",
        "X_train, X_temp, y_train, y_temp = train_test_split(file_list, y_all1, random_state=1, stratify=y_all1, test_size=0.201)\n",
        "X_val, X_test, y_val, y_test = train_test_split(X_temp, y_temp, random_state=1, stratify=y_temp, test_size=0.5)\n"
      ]
    },
    {
      "cell_type": "code",
      "execution_count": 12,
      "metadata": {
        "id": "xRve1xzesiyk"
      },
      "outputs": [],
      "source": [
        "# Creating Dataset:\n",
        "data_transforms = transforms.Compose(\n",
        "    [\n",
        "        transforms.Resize((224, 224)),\n",
        "        # transforms.RandomHorizontalFlip(),\n",
        "        # transforms.RandomResizedCrop(224),\n",
        "        transforms.ToTensor(),\n",
        "    ]\n",
        ")"
      ]
    },
    {
      "cell_type": "code",
      "execution_count": 13,
      "metadata": {
        "id": "InXGFFCusi6n"
      },
      "outputs": [],
      "source": [
        "class MyDataset(Dataset):\n",
        "    def __init__(self, file_list, y_all, transform=None):\n",
        "        self.file_list = file_list\n",
        "        self.transform = transform\n",
        "        self.y_all = y_all\n",
        "\n",
        "\n",
        "    def __getitem__(self, index1):\n",
        "        img_path = self.file_list[index1]\n",
        "        img = Image.open(img_path)\n",
        "        img_transformed = self.transform(img)\n",
        "        label = self.y_all[index1]\n",
        "        return img_transformed, label\n",
        "\n",
        "    def __len__(self):\n",
        "      return len(self.file_list)\n"
      ]
    },
    {
      "cell_type": "code",
      "execution_count": 14,
      "metadata": {
        "id": "SgMgqBGtsi9C"
      },
      "outputs": [],
      "source": [
        "train_data = MyDataset(X_train, y_train, transform=data_transforms)\n",
        "valid_data = MyDataset(X_val, y_val, transform=data_transforms)\n",
        "test_data = MyDataset(X_test, y_test, transform=data_transforms)\n",
        "\n",
        "# Fixing Dataloader:\n",
        "train_loader = DataLoader(dataset = train_data, batch_size=32, shuffle=True )\n",
        "valid_loader = DataLoader(dataset = valid_data, batch_size=32, shuffle=True)\n",
        "test_loader = DataLoader(dataset = test_data, batch_size=32, shuffle=True)\n"
      ]
    },
    {
      "cell_type": "code",
      "execution_count": 15,
      "metadata": {},
      "outputs": [],
      "source": [
        "# Hyperparameters:\n",
        "num_epochs = 100\n",
        "# batch_size_list = [32, 64, 128]\n",
        "batch_size = 16\n",
        "# lr_list = [3e-5, 2e-4, 1e-3, 5e-6]\n",
        "lr_list = [0.001]\n",
        "# gamma_list = [0.9, 0.7]  # for learning rate scheduler\n",
        "gamma_list = [0.7]"
      ]
    },
    {
      "cell_type": "code",
      "execution_count": 16,
      "metadata": {},
      "outputs": [],
      "source": [
        "# !pip3 install timm"
      ]
    },
    {
      "cell_type": "code",
      "execution_count": 17,
      "metadata": {
        "id": "zky8VzIvsi_b"
      },
      "outputs": [
        {
          "name": "stderr",
          "output_type": "stream",
          "text": [
            "Using cache found in /home/uditha/.cache/torch/hub/facebookresearch_deit_main\n"
          ]
        }
      ],
      "source": [
        "\n",
        "# Model Specifications\n",
        "# model = ViT(\n",
        "#     image_size = 224,\n",
        "#     patch_size = 32,\n",
        "#     num_classes = 2,\n",
        "#     dim = 1024,\n",
        "#     depth = 6,\n",
        "#     heads = 16,\n",
        "#     mlp_dim = 2048,\n",
        "#     dropout = 0.1,\n",
        "#     emb_dropout = 0.1\n",
        "# ).to(torch.device(\"cuda\"))\n",
        "\n",
        "model = torch.hub.load('facebookresearch/deit:main','deit_tiny_patch16_224', pretrained=True).to(torch.device(\"cuda\"))\n",
        "\n",
        "\n"
      ]
    },
    {
      "cell_type": "code",
      "execution_count": 18,
      "metadata": {
        "colab": {
          "base_uri": "https://localhost:8080/"
        },
        "id": "RTLJ4skWsjCO",
        "outputId": "98a3670b-f828-4dd0-9fac-71881eb8a4c9"
      },
      "outputs": [
        {
          "name": "stdout",
          "output_type": "stream",
          "text": [
            "lr: 0.001     gamma: 0.7\n",
            "Epoch : 1 - loss : 1.5777 - acc: 0.5906 - val_loss : 0.5482 - val_acc: 0.7023\n",
            "\n",
            "Epoch : 2 - loss : 0.5566 - acc: 0.7397 - val_loss : 0.8732 - val_acc: 0.6510\n",
            "\n",
            "Epoch : 3 - loss : 0.4805 - acc: 0.7674 - val_loss : 0.6448 - val_acc: 0.7300\n",
            "\n",
            "Epoch : 4 - loss : 0.4930 - acc: 0.7680 - val_loss : 0.4358 - val_acc: 0.7604\n",
            "\n",
            "Epoch : 5 - loss : 0.4051 - acc: 0.8038 - val_loss : 0.4152 - val_acc: 0.7506\n",
            "\n",
            "Epoch : 6 - loss : 0.4005 - acc: 0.8029 - val_loss : 0.4426 - val_acc: 0.7789\n",
            "\n",
            "Epoch : 7 - loss : 0.3609 - acc: 0.8447 - val_loss : 0.4043 - val_acc: 0.7569\n",
            "\n",
            "Epoch : 8 - loss : 0.3432 - acc: 0.8411 - val_loss : 0.5218 - val_acc: 0.7497\n",
            "\n",
            "Epoch : 9 - loss : 0.3800 - acc: 0.8280 - val_loss : 0.6808 - val_acc: 0.7248\n",
            "\n",
            "Epoch : 10 - loss : 0.3423 - acc: 0.8407 - val_loss : 0.3690 - val_acc: 0.8125\n",
            "\n",
            "Epoch : 11 - loss : 0.3216 - acc: 0.8452 - val_loss : 0.4320 - val_acc: 0.7896\n",
            "\n",
            "Epoch : 12 - loss : 0.3019 - acc: 0.8694 - val_loss : 0.4823 - val_acc: 0.7462\n",
            "\n",
            "Epoch : 13 - loss : 0.2960 - acc: 0.8699 - val_loss : 0.7298 - val_acc: 0.7648\n",
            "\n",
            "Epoch : 14 - loss : 0.2804 - acc: 0.8839 - val_loss : 0.7237 - val_acc: 0.6667\n",
            "\n",
            "Epoch : 15 - loss : 0.2786 - acc: 0.8896 - val_loss : 0.3969 - val_acc: 0.8194\n",
            "\n",
            "Epoch : 16 - loss : 0.2178 - acc: 0.9224 - val_loss : 0.5021 - val_acc: 0.7911\n",
            "\n",
            "Epoch : 17 - loss : 0.2933 - acc: 0.8774 - val_loss : 0.5879 - val_acc: 0.7960\n",
            "\n",
            "Epoch : 18 - loss : 0.1872 - acc: 0.9294 - val_loss : 0.4549 - val_acc: 0.8287\n",
            "\n",
            "Epoch : 19 - loss : 0.2118 - acc: 0.9118 - val_loss : 0.4701 - val_acc: 0.8038\n",
            "\n",
            "Epoch : 20 - loss : 0.1612 - acc: 0.9435 - val_loss : 0.4765 - val_acc: 0.8273\n",
            "\n",
            "Epoch : 21 - loss : 0.2183 - acc: 0.9194 - val_loss : 0.4089 - val_acc: 0.8174\n",
            "\n",
            "Epoch : 22 - loss : 0.1038 - acc: 0.9667 - val_loss : 0.5052 - val_acc: 0.8116\n",
            "\n",
            "Epoch : 23 - loss : 0.0754 - acc: 0.9763 - val_loss : 0.4870 - val_acc: 0.8145\n",
            "\n",
            "Epoch : 24 - loss : 0.0448 - acc: 0.9940 - val_loss : 0.5258 - val_acc: 0.8365\n",
            "\n",
            "Epoch : 25 - loss : 0.0257 - acc: 1.0000 - val_loss : 0.5980 - val_acc: 0.8287\n",
            "\n",
            "Epoch : 26 - loss : 0.0167 - acc: 1.0000 - val_loss : 0.5813 - val_acc: 0.8316\n",
            "\n",
            "Epoch : 27 - loss : 0.0124 - acc: 1.0000 - val_loss : 0.6128 - val_acc: 0.8302\n",
            "\n",
            "Epoch : 28 - loss : 0.0103 - acc: 1.0000 - val_loss : 0.6171 - val_acc: 0.8380\n",
            "\n",
            "Epoch : 29 - loss : 0.0085 - acc: 1.0000 - val_loss : 0.6494 - val_acc: 0.8258\n",
            "\n",
            "Epoch : 30 - loss : 0.0073 - acc: 1.0000 - val_loss : 0.6446 - val_acc: 0.8365\n",
            "\n",
            "Epoch : 31 - loss : 0.0065 - acc: 1.0000 - val_loss : 0.6405 - val_acc: 0.8380\n",
            "\n",
            "Epoch : 32 - loss : 0.0058 - acc: 1.0000 - val_loss : 0.6408 - val_acc: 0.8287\n",
            "\n",
            "Epoch : 33 - loss : 0.0052 - acc: 1.0000 - val_loss : 0.6433 - val_acc: 0.8316\n",
            "\n",
            "Epoch : 34 - loss : 0.0047 - acc: 1.0000 - val_loss : 0.6649 - val_acc: 0.8409\n",
            "\n",
            "Epoch : 35 - loss : 0.0043 - acc: 1.0000 - val_loss : 0.6796 - val_acc: 0.8336\n",
            "\n",
            "Epoch : 36 - loss : 0.0040 - acc: 1.0000 - val_loss : 0.6938 - val_acc: 0.8365\n",
            "\n",
            "Epoch : 37 - loss : 0.0037 - acc: 1.0000 - val_loss : 0.6886 - val_acc: 0.8316\n",
            "\n",
            "Epoch : 38 - loss : 0.0034 - acc: 1.0000 - val_loss : 0.6909 - val_acc: 0.8302\n",
            "\n",
            "Epoch : 39 - loss : 0.0032 - acc: 1.0000 - val_loss : 0.7061 - val_acc: 0.8209\n",
            "\n",
            "Epoch : 40 - loss : 0.0030 - acc: 1.0000 - val_loss : 0.7393 - val_acc: 0.8215\n",
            "\n",
            "Epoch : 41 - loss : 0.0028 - acc: 1.0000 - val_loss : 0.7003 - val_acc: 0.8238\n",
            "\n",
            "Epoch : 42 - loss : 0.0027 - acc: 1.0000 - val_loss : 0.7222 - val_acc: 0.8180\n",
            "\n",
            "Epoch : 43 - loss : 0.0025 - acc: 1.0000 - val_loss : 0.7118 - val_acc: 0.8316\n",
            "\n",
            "Epoch : 44 - loss : 0.0024 - acc: 1.0000 - val_loss : 0.7293 - val_acc: 0.8194\n",
            "\n",
            "Epoch : 45 - loss : 0.0023 - acc: 1.0000 - val_loss : 0.7343 - val_acc: 0.8209\n",
            "\n",
            "Epoch : 46 - loss : 0.0022 - acc: 1.0000 - val_loss : 0.7310 - val_acc: 0.8209\n",
            "\n",
            "Epoch : 47 - loss : 0.0021 - acc: 1.0000 - val_loss : 0.7628 - val_acc: 0.8180\n",
            "\n",
            "Epoch : 48 - loss : 0.0020 - acc: 1.0000 - val_loss : 0.7619 - val_acc: 0.8151\n",
            "\n",
            "Epoch : 49 - loss : 0.0019 - acc: 1.0000 - val_loss : 0.7608 - val_acc: 0.8209\n",
            "\n",
            "Epoch : 50 - loss : 0.0019 - acc: 1.0000 - val_loss : 0.7588 - val_acc: 0.8194\n",
            "\n",
            "Epoch : 51 - loss : 0.0018 - acc: 1.0000 - val_loss : 0.7407 - val_acc: 0.8223\n",
            "\n",
            "Epoch : 52 - loss : 0.0017 - acc: 1.0000 - val_loss : 0.7703 - val_acc: 0.8102\n",
            "\n",
            "Epoch : 53 - loss : 0.0017 - acc: 1.0000 - val_loss : 0.7658 - val_acc: 0.8102\n",
            "\n",
            "Epoch : 54 - loss : 0.0016 - acc: 1.0000 - val_loss : 0.7546 - val_acc: 0.8238\n",
            "\n",
            "Epoch : 55 - loss : 0.0016 - acc: 1.0000 - val_loss : 0.7712 - val_acc: 0.8209\n",
            "\n",
            "Epoch : 56 - loss : 0.0015 - acc: 1.0000 - val_loss : 0.7440 - val_acc: 0.8189\n",
            "\n",
            "Epoch : 57 - loss : 0.0015 - acc: 1.0000 - val_loss : 0.7776 - val_acc: 0.8194\n",
            "\n",
            "Epoch : 58 - loss : 0.0014 - acc: 1.0000 - val_loss : 0.7712 - val_acc: 0.8160\n",
            "\n",
            "Epoch : 59 - loss : 0.0014 - acc: 1.0000 - val_loss : 0.8039 - val_acc: 0.8102\n",
            "\n",
            "Epoch : 60 - loss : 0.0014 - acc: 1.0000 - val_loss : 0.7896 - val_acc: 0.8087\n",
            "\n",
            "Epoch : 61 - loss : 0.0013 - acc: 1.0000 - val_loss : 0.7864 - val_acc: 0.8145\n",
            "\n",
            "Epoch : 62 - loss : 0.0013 - acc: 1.0000 - val_loss : 0.7929 - val_acc: 0.8073\n",
            "\n",
            "Epoch : 63 - loss : 0.0013 - acc: 1.0000 - val_loss : 0.8075 - val_acc: 0.8116\n",
            "\n",
            "Epoch : 64 - loss : 0.0012 - acc: 1.0000 - val_loss : 0.7703 - val_acc: 0.8160\n",
            "\n",
            "Epoch : 65 - loss : 0.0012 - acc: 1.0000 - val_loss : 0.7832 - val_acc: 0.8223\n",
            "\n",
            "Epoch : 66 - loss : 0.0012 - acc: 1.0000 - val_loss : 0.7986 - val_acc: 0.8145\n",
            "\n",
            "Epoch : 67 - loss : 0.0011 - acc: 1.0000 - val_loss : 0.7693 - val_acc: 0.8189\n",
            "\n",
            "Epoch : 68 - loss : 0.0011 - acc: 1.0000 - val_loss : 0.7898 - val_acc: 0.8116\n",
            "\n",
            "Epoch : 69 - loss : 0.0011 - acc: 1.0000 - val_loss : 0.7967 - val_acc: 0.8116\n",
            "\n",
            "Epoch : 70 - loss : 0.0011 - acc: 1.0000 - val_loss : 0.8242 - val_acc: 0.8116\n",
            "\n",
            "Epoch : 71 - loss : 0.0010 - acc: 1.0000 - val_loss : 0.8024 - val_acc: 0.8160\n",
            "\n",
            "Epoch : 72 - loss : 0.0010 - acc: 1.0000 - val_loss : 0.7921 - val_acc: 0.8131\n",
            "\n",
            "Epoch : 73 - loss : 0.0010 - acc: 1.0000 - val_loss : 0.8042 - val_acc: 0.8116\n",
            "\n",
            "Epoch : 74 - loss : 0.0010 - acc: 1.0000 - val_loss : 0.8255 - val_acc: 0.8102\n",
            "\n",
            "Epoch : 75 - loss : 0.0010 - acc: 1.0000 - val_loss : 0.8189 - val_acc: 0.8116\n",
            "\n",
            "Epoch : 76 - loss : 0.0009 - acc: 1.0000 - val_loss : 0.8204 - val_acc: 0.8116\n",
            "\n",
            "Epoch : 77 - loss : 0.0009 - acc: 1.0000 - val_loss : 0.8064 - val_acc: 0.8145\n",
            "\n",
            "Epoch : 78 - loss : 0.0009 - acc: 1.0000 - val_loss : 0.8191 - val_acc: 0.8087\n",
            "\n",
            "Epoch : 79 - loss : 0.0009 - acc: 1.0000 - val_loss : 0.8353 - val_acc: 0.8087\n",
            "\n",
            "Epoch : 80 - loss : 0.0009 - acc: 1.0000 - val_loss : 0.8217 - val_acc: 0.8160\n",
            "\n",
            "Epoch : 81 - loss : 0.0009 - acc: 1.0000 - val_loss : 0.8124 - val_acc: 0.8145\n",
            "\n",
            "Epoch : 82 - loss : 0.0008 - acc: 1.0000 - val_loss : 0.8107 - val_acc: 0.8145\n",
            "\n",
            "Epoch : 83 - loss : 0.0008 - acc: 1.0000 - val_loss : 0.8274 - val_acc: 0.8116\n",
            "\n",
            "Epoch : 84 - loss : 0.0008 - acc: 1.0000 - val_loss : 0.8774 - val_acc: 0.8073\n",
            "\n",
            "Epoch : 85 - loss : 0.0008 - acc: 1.0000 - val_loss : 0.8145 - val_acc: 0.8189\n",
            "\n",
            "Epoch : 86 - loss : 0.0008 - acc: 1.0000 - val_loss : 0.8083 - val_acc: 0.8174\n",
            "\n",
            "Epoch : 87 - loss : 0.0008 - acc: 1.0000 - val_loss : 0.8313 - val_acc: 0.8145\n",
            "\n",
            "Epoch : 88 - loss : 0.0008 - acc: 1.0000 - val_loss : 0.8251 - val_acc: 0.8116\n",
            "\n",
            "Epoch : 89 - loss : 0.0008 - acc: 1.0000 - val_loss : 0.8480 - val_acc: 0.8116\n",
            "\n",
            "Epoch : 90 - loss : 0.0007 - acc: 1.0000 - val_loss : 0.8448 - val_acc: 0.8160\n",
            "\n",
            "Epoch : 91 - loss : 0.0007 - acc: 1.0000 - val_loss : 0.8493 - val_acc: 0.8116\n",
            "\n",
            "Epoch : 92 - loss : 0.0007 - acc: 1.0000 - val_loss : 0.8285 - val_acc: 0.8145\n",
            "\n",
            "Epoch : 93 - loss : 0.0007 - acc: 1.0000 - val_loss : 0.8328 - val_acc: 0.8160\n",
            "\n",
            "Epoch : 94 - loss : 0.0007 - acc: 1.0000 - val_loss : 0.8487 - val_acc: 0.8102\n",
            "\n",
            "Epoch : 95 - loss : 0.0007 - acc: 1.0000 - val_loss : 0.8595 - val_acc: 0.8116\n",
            "\n",
            "Epoch : 96 - loss : 0.0007 - acc: 1.0000 - val_loss : 0.8561 - val_acc: 0.8116\n",
            "\n",
            "Epoch : 97 - loss : 0.0007 - acc: 1.0000 - val_loss : 0.8559 - val_acc: 0.8145\n",
            "\n",
            "Epoch : 98 - loss : 0.0007 - acc: 1.0000 - val_loss : 0.8481 - val_acc: 0.8131\n",
            "\n",
            "Epoch : 99 - loss : 0.0007 - acc: 1.0000 - val_loss : 0.8426 - val_acc: 0.8102\n",
            "\n",
            "Epoch : 100 - loss : 0.0006 - acc: 1.0000 - val_loss : 0.8483 - val_acc: 0.8160\n",
            "\n"
          ]
        }
      ],
      "source": [
        "\n",
        "#start training\n",
        "train_loss_list_list = []\n",
        "val_loss_list_list = []\n",
        "train_acc_list_list = []\n",
        "val_acc_list_list = []\n",
        "\n",
        "for lr in lr_list:\n",
        "    for gamma in gamma_list:\n",
        "        optimizer = optim.SGD(model.parameters(), lr=lr)\n",
        "        criterion = nn.CrossEntropyLoss()\n",
        "        scheduler = StepLR(optimizer, step_size=1, gamma=gamma)\n",
        "\n",
        "        train_loss_list = []\n",
        "        val_loss_list = []\n",
        "        train_acc_list = []\n",
        "        val_acc_list = []\n",
        "        print(\"lr:\", lr, \"    gamma:\", gamma)\n",
        "        for epoch in range(num_epochs):\n",
        "            epoch_loss = 0\n",
        "            epoch_accuracy = 0\n",
        "            for data, label in train_loader:\n",
        "                data = data.to(torch.device(\"cuda\"))\n",
        "                label = label.to(torch.device(\"cuda\"))\n",
        "                output = model(data)\n",
        "                loss = criterion(output, label)\n",
        "                optimizer.zero_grad()\n",
        "                loss.backward()\n",
        "                optimizer.step()\n",
        "                accuracy = (output.argmax(dim=1) == label).float().mean()\n",
        "                epoch_accuracy += accuracy / len(train_loader)\n",
        "                epoch_loss += loss / len(train_loader)\n",
        "            with torch.no_grad():\n",
        "                epoch_val_accuracy = 0\n",
        "                epoch_val_loss = 0\n",
        "                for data, label in valid_loader:\n",
        "                    data = data.to(torch.device(\"cuda\"))\n",
        "                    label = label.to(torch.device(\"cuda\"))\n",
        "                    val_output = model(data)\n",
        "                    val_loss = criterion(val_output, label)\n",
        "                    acc = (val_output.argmax(dim=1) == label).float().mean()\n",
        "                    epoch_val_accuracy += acc / len(valid_loader)\n",
        "                    epoch_val_loss += val_loss / len(valid_loader)\n",
        "            train_loss_list.append(epoch_loss.detach().cpu().numpy().flatten()[0])\n",
        "            train_acc_list.append(epoch_accuracy.detach().cpu().numpy().flatten()[0])\n",
        "            val_loss_list.append(epoch_val_loss.detach().cpu().numpy().flatten()[0])\n",
        "            val_acc_list.append(epoch_val_accuracy.detach().cpu().numpy().flatten()[0])\n",
        "            print(\n",
        "                f\"Epoch : {epoch+1} - loss : {epoch_loss:.4f} - acc: {epoch_accuracy:.4f} - val_loss : {epoch_val_loss:.4f} - val_acc: {epoch_val_accuracy:.4f}\\n\"\n",
        "            )\n",
        "        val_acc_list_list.append(val_acc_list)\n",
        "        val_loss_list_list.append(val_loss_list)\n",
        "        train_acc_list_list.append(train_acc_list)\n",
        "        train_loss_list_list.append(train_loss_list)\n"
      ]
    },
    {
      "cell_type": "code",
      "execution_count": 19,
      "metadata": {
        "id": "e62sfq2ksjFF"
      },
      "outputs": [],
      "source": [
        "\n",
        "torch.save(model.state_dict(), '/home/uditha/snap/snapd-desktop-integration/current/Desktop/FYP/vit/Base Vit/FinalModelsSimple/ViT_model.pt')\n",
        "metrices = [train_loss_list, val_loss_list, train_acc_list, val_acc_list]\n",
        "with open(\"/home/uditha/snap/snapd-desktop-integration/current/Desktop/FYP/vit/Base Vit/FinalModelsSimple/ViT_metrices.pk\", \"wb\") as fp:   #Pickling\n",
        "    pickle.dump(metrices, fp)\n",
        "\n",
        "# a = []\n",
        "# for i in range(0, num_epochs):\n",
        "#     a.append(val_acc_list[i].detach().cpu().numpy().flatten()[0])\n",
        "# maxi = []\n",
        "# for i in range(0, 8):\n",
        "#     maxi.append(max(val_acc_list_list[i]))\n",
        "\n"
      ]
    },
    {
      "cell_type": "code",
      "execution_count": 20,
      "metadata": {
        "colab": {
          "base_uri": "https://localhost:8080/"
        },
        "id": "6vSKWH80sjHL",
        "outputId": "52c82f5f-afd4-4b8c-c0ea-6acea3eda3f3"
      },
      "outputs": [
        {
          "data": {
            "text/plain": [
              "VisionTransformer(\n",
              "  (patch_embed): PatchEmbed(\n",
              "    (proj): Conv2d(3, 192, kernel_size=(16, 16), stride=(16, 16))\n",
              "    (norm): Identity()\n",
              "  )\n",
              "  (pos_drop): Dropout(p=0.0, inplace=False)\n",
              "  (norm_pre): Identity()\n",
              "  (blocks): Sequential(\n",
              "    (0): Block(\n",
              "      (norm1): LayerNorm((192,), eps=1e-06, elementwise_affine=True)\n",
              "      (attn): Attention(\n",
              "        (qkv): Linear(in_features=192, out_features=576, bias=True)\n",
              "        (attn_drop): Dropout(p=0.0, inplace=False)\n",
              "        (proj): Linear(in_features=192, out_features=192, bias=True)\n",
              "        (proj_drop): Dropout(p=0.0, inplace=False)\n",
              "      )\n",
              "      (ls1): Identity()\n",
              "      (drop_path1): Identity()\n",
              "      (norm2): LayerNorm((192,), eps=1e-06, elementwise_affine=True)\n",
              "      (mlp): Mlp(\n",
              "        (fc1): Linear(in_features=192, out_features=768, bias=True)\n",
              "        (act): GELU(approximate='none')\n",
              "        (drop1): Dropout(p=0.0, inplace=False)\n",
              "        (fc2): Linear(in_features=768, out_features=192, bias=True)\n",
              "        (drop2): Dropout(p=0.0, inplace=False)\n",
              "      )\n",
              "      (ls2): Identity()\n",
              "      (drop_path2): Identity()\n",
              "    )\n",
              "    (1): Block(\n",
              "      (norm1): LayerNorm((192,), eps=1e-06, elementwise_affine=True)\n",
              "      (attn): Attention(\n",
              "        (qkv): Linear(in_features=192, out_features=576, bias=True)\n",
              "        (attn_drop): Dropout(p=0.0, inplace=False)\n",
              "        (proj): Linear(in_features=192, out_features=192, bias=True)\n",
              "        (proj_drop): Dropout(p=0.0, inplace=False)\n",
              "      )\n",
              "      (ls1): Identity()\n",
              "      (drop_path1): Identity()\n",
              "      (norm2): LayerNorm((192,), eps=1e-06, elementwise_affine=True)\n",
              "      (mlp): Mlp(\n",
              "        (fc1): Linear(in_features=192, out_features=768, bias=True)\n",
              "        (act): GELU(approximate='none')\n",
              "        (drop1): Dropout(p=0.0, inplace=False)\n",
              "        (fc2): Linear(in_features=768, out_features=192, bias=True)\n",
              "        (drop2): Dropout(p=0.0, inplace=False)\n",
              "      )\n",
              "      (ls2): Identity()\n",
              "      (drop_path2): Identity()\n",
              "    )\n",
              "    (2): Block(\n",
              "      (norm1): LayerNorm((192,), eps=1e-06, elementwise_affine=True)\n",
              "      (attn): Attention(\n",
              "        (qkv): Linear(in_features=192, out_features=576, bias=True)\n",
              "        (attn_drop): Dropout(p=0.0, inplace=False)\n",
              "        (proj): Linear(in_features=192, out_features=192, bias=True)\n",
              "        (proj_drop): Dropout(p=0.0, inplace=False)\n",
              "      )\n",
              "      (ls1): Identity()\n",
              "      (drop_path1): Identity()\n",
              "      (norm2): LayerNorm((192,), eps=1e-06, elementwise_affine=True)\n",
              "      (mlp): Mlp(\n",
              "        (fc1): Linear(in_features=192, out_features=768, bias=True)\n",
              "        (act): GELU(approximate='none')\n",
              "        (drop1): Dropout(p=0.0, inplace=False)\n",
              "        (fc2): Linear(in_features=768, out_features=192, bias=True)\n",
              "        (drop2): Dropout(p=0.0, inplace=False)\n",
              "      )\n",
              "      (ls2): Identity()\n",
              "      (drop_path2): Identity()\n",
              "    )\n",
              "    (3): Block(\n",
              "      (norm1): LayerNorm((192,), eps=1e-06, elementwise_affine=True)\n",
              "      (attn): Attention(\n",
              "        (qkv): Linear(in_features=192, out_features=576, bias=True)\n",
              "        (attn_drop): Dropout(p=0.0, inplace=False)\n",
              "        (proj): Linear(in_features=192, out_features=192, bias=True)\n",
              "        (proj_drop): Dropout(p=0.0, inplace=False)\n",
              "      )\n",
              "      (ls1): Identity()\n",
              "      (drop_path1): Identity()\n",
              "      (norm2): LayerNorm((192,), eps=1e-06, elementwise_affine=True)\n",
              "      (mlp): Mlp(\n",
              "        (fc1): Linear(in_features=192, out_features=768, bias=True)\n",
              "        (act): GELU(approximate='none')\n",
              "        (drop1): Dropout(p=0.0, inplace=False)\n",
              "        (fc2): Linear(in_features=768, out_features=192, bias=True)\n",
              "        (drop2): Dropout(p=0.0, inplace=False)\n",
              "      )\n",
              "      (ls2): Identity()\n",
              "      (drop_path2): Identity()\n",
              "    )\n",
              "    (4): Block(\n",
              "      (norm1): LayerNorm((192,), eps=1e-06, elementwise_affine=True)\n",
              "      (attn): Attention(\n",
              "        (qkv): Linear(in_features=192, out_features=576, bias=True)\n",
              "        (attn_drop): Dropout(p=0.0, inplace=False)\n",
              "        (proj): Linear(in_features=192, out_features=192, bias=True)\n",
              "        (proj_drop): Dropout(p=0.0, inplace=False)\n",
              "      )\n",
              "      (ls1): Identity()\n",
              "      (drop_path1): Identity()\n",
              "      (norm2): LayerNorm((192,), eps=1e-06, elementwise_affine=True)\n",
              "      (mlp): Mlp(\n",
              "        (fc1): Linear(in_features=192, out_features=768, bias=True)\n",
              "        (act): GELU(approximate='none')\n",
              "        (drop1): Dropout(p=0.0, inplace=False)\n",
              "        (fc2): Linear(in_features=768, out_features=192, bias=True)\n",
              "        (drop2): Dropout(p=0.0, inplace=False)\n",
              "      )\n",
              "      (ls2): Identity()\n",
              "      (drop_path2): Identity()\n",
              "    )\n",
              "    (5): Block(\n",
              "      (norm1): LayerNorm((192,), eps=1e-06, elementwise_affine=True)\n",
              "      (attn): Attention(\n",
              "        (qkv): Linear(in_features=192, out_features=576, bias=True)\n",
              "        (attn_drop): Dropout(p=0.0, inplace=False)\n",
              "        (proj): Linear(in_features=192, out_features=192, bias=True)\n",
              "        (proj_drop): Dropout(p=0.0, inplace=False)\n",
              "      )\n",
              "      (ls1): Identity()\n",
              "      (drop_path1): Identity()\n",
              "      (norm2): LayerNorm((192,), eps=1e-06, elementwise_affine=True)\n",
              "      (mlp): Mlp(\n",
              "        (fc1): Linear(in_features=192, out_features=768, bias=True)\n",
              "        (act): GELU(approximate='none')\n",
              "        (drop1): Dropout(p=0.0, inplace=False)\n",
              "        (fc2): Linear(in_features=768, out_features=192, bias=True)\n",
              "        (drop2): Dropout(p=0.0, inplace=False)\n",
              "      )\n",
              "      (ls2): Identity()\n",
              "      (drop_path2): Identity()\n",
              "    )\n",
              "    (6): Block(\n",
              "      (norm1): LayerNorm((192,), eps=1e-06, elementwise_affine=True)\n",
              "      (attn): Attention(\n",
              "        (qkv): Linear(in_features=192, out_features=576, bias=True)\n",
              "        (attn_drop): Dropout(p=0.0, inplace=False)\n",
              "        (proj): Linear(in_features=192, out_features=192, bias=True)\n",
              "        (proj_drop): Dropout(p=0.0, inplace=False)\n",
              "      )\n",
              "      (ls1): Identity()\n",
              "      (drop_path1): Identity()\n",
              "      (norm2): LayerNorm((192,), eps=1e-06, elementwise_affine=True)\n",
              "      (mlp): Mlp(\n",
              "        (fc1): Linear(in_features=192, out_features=768, bias=True)\n",
              "        (act): GELU(approximate='none')\n",
              "        (drop1): Dropout(p=0.0, inplace=False)\n",
              "        (fc2): Linear(in_features=768, out_features=192, bias=True)\n",
              "        (drop2): Dropout(p=0.0, inplace=False)\n",
              "      )\n",
              "      (ls2): Identity()\n",
              "      (drop_path2): Identity()\n",
              "    )\n",
              "    (7): Block(\n",
              "      (norm1): LayerNorm((192,), eps=1e-06, elementwise_affine=True)\n",
              "      (attn): Attention(\n",
              "        (qkv): Linear(in_features=192, out_features=576, bias=True)\n",
              "        (attn_drop): Dropout(p=0.0, inplace=False)\n",
              "        (proj): Linear(in_features=192, out_features=192, bias=True)\n",
              "        (proj_drop): Dropout(p=0.0, inplace=False)\n",
              "      )\n",
              "      (ls1): Identity()\n",
              "      (drop_path1): Identity()\n",
              "      (norm2): LayerNorm((192,), eps=1e-06, elementwise_affine=True)\n",
              "      (mlp): Mlp(\n",
              "        (fc1): Linear(in_features=192, out_features=768, bias=True)\n",
              "        (act): GELU(approximate='none')\n",
              "        (drop1): Dropout(p=0.0, inplace=False)\n",
              "        (fc2): Linear(in_features=768, out_features=192, bias=True)\n",
              "        (drop2): Dropout(p=0.0, inplace=False)\n",
              "      )\n",
              "      (ls2): Identity()\n",
              "      (drop_path2): Identity()\n",
              "    )\n",
              "    (8): Block(\n",
              "      (norm1): LayerNorm((192,), eps=1e-06, elementwise_affine=True)\n",
              "      (attn): Attention(\n",
              "        (qkv): Linear(in_features=192, out_features=576, bias=True)\n",
              "        (attn_drop): Dropout(p=0.0, inplace=False)\n",
              "        (proj): Linear(in_features=192, out_features=192, bias=True)\n",
              "        (proj_drop): Dropout(p=0.0, inplace=False)\n",
              "      )\n",
              "      (ls1): Identity()\n",
              "      (drop_path1): Identity()\n",
              "      (norm2): LayerNorm((192,), eps=1e-06, elementwise_affine=True)\n",
              "      (mlp): Mlp(\n",
              "        (fc1): Linear(in_features=192, out_features=768, bias=True)\n",
              "        (act): GELU(approximate='none')\n",
              "        (drop1): Dropout(p=0.0, inplace=False)\n",
              "        (fc2): Linear(in_features=768, out_features=192, bias=True)\n",
              "        (drop2): Dropout(p=0.0, inplace=False)\n",
              "      )\n",
              "      (ls2): Identity()\n",
              "      (drop_path2): Identity()\n",
              "    )\n",
              "    (9): Block(\n",
              "      (norm1): LayerNorm((192,), eps=1e-06, elementwise_affine=True)\n",
              "      (attn): Attention(\n",
              "        (qkv): Linear(in_features=192, out_features=576, bias=True)\n",
              "        (attn_drop): Dropout(p=0.0, inplace=False)\n",
              "        (proj): Linear(in_features=192, out_features=192, bias=True)\n",
              "        (proj_drop): Dropout(p=0.0, inplace=False)\n",
              "      )\n",
              "      (ls1): Identity()\n",
              "      (drop_path1): Identity()\n",
              "      (norm2): LayerNorm((192,), eps=1e-06, elementwise_affine=True)\n",
              "      (mlp): Mlp(\n",
              "        (fc1): Linear(in_features=192, out_features=768, bias=True)\n",
              "        (act): GELU(approximate='none')\n",
              "        (drop1): Dropout(p=0.0, inplace=False)\n",
              "        (fc2): Linear(in_features=768, out_features=192, bias=True)\n",
              "        (drop2): Dropout(p=0.0, inplace=False)\n",
              "      )\n",
              "      (ls2): Identity()\n",
              "      (drop_path2): Identity()\n",
              "    )\n",
              "    (10): Block(\n",
              "      (norm1): LayerNorm((192,), eps=1e-06, elementwise_affine=True)\n",
              "      (attn): Attention(\n",
              "        (qkv): Linear(in_features=192, out_features=576, bias=True)\n",
              "        (attn_drop): Dropout(p=0.0, inplace=False)\n",
              "        (proj): Linear(in_features=192, out_features=192, bias=True)\n",
              "        (proj_drop): Dropout(p=0.0, inplace=False)\n",
              "      )\n",
              "      (ls1): Identity()\n",
              "      (drop_path1): Identity()\n",
              "      (norm2): LayerNorm((192,), eps=1e-06, elementwise_affine=True)\n",
              "      (mlp): Mlp(\n",
              "        (fc1): Linear(in_features=192, out_features=768, bias=True)\n",
              "        (act): GELU(approximate='none')\n",
              "        (drop1): Dropout(p=0.0, inplace=False)\n",
              "        (fc2): Linear(in_features=768, out_features=192, bias=True)\n",
              "        (drop2): Dropout(p=0.0, inplace=False)\n",
              "      )\n",
              "      (ls2): Identity()\n",
              "      (drop_path2): Identity()\n",
              "    )\n",
              "    (11): Block(\n",
              "      (norm1): LayerNorm((192,), eps=1e-06, elementwise_affine=True)\n",
              "      (attn): Attention(\n",
              "        (qkv): Linear(in_features=192, out_features=576, bias=True)\n",
              "        (attn_drop): Dropout(p=0.0, inplace=False)\n",
              "        (proj): Linear(in_features=192, out_features=192, bias=True)\n",
              "        (proj_drop): Dropout(p=0.0, inplace=False)\n",
              "      )\n",
              "      (ls1): Identity()\n",
              "      (drop_path1): Identity()\n",
              "      (norm2): LayerNorm((192,), eps=1e-06, elementwise_affine=True)\n",
              "      (mlp): Mlp(\n",
              "        (fc1): Linear(in_features=192, out_features=768, bias=True)\n",
              "        (act): GELU(approximate='none')\n",
              "        (drop1): Dropout(p=0.0, inplace=False)\n",
              "        (fc2): Linear(in_features=768, out_features=192, bias=True)\n",
              "        (drop2): Dropout(p=0.0, inplace=False)\n",
              "      )\n",
              "      (ls2): Identity()\n",
              "      (drop_path2): Identity()\n",
              "    )\n",
              "  )\n",
              "  (norm): LayerNorm((192,), eps=1e-06, elementwise_affine=True)\n",
              "  (fc_norm): Identity()\n",
              "  (head): Linear(in_features=192, out_features=1000, bias=True)\n",
              ")"
            ]
          },
          "execution_count": 20,
          "metadata": {},
          "output_type": "execute_result"
        }
      ],
      "source": [
        "# loading model:\n",
        "# oldP = \"/home/uditha/snap/snapd-desktop-integration/current/Desktop/FYP/vit/Base Vit/FinalModelsSimple/ViT_model.pth\"\n",
        "# model.load_state_dict(torch.load(oldP))\n",
        "model.eval()"
      ]
    },
    {
      "cell_type": "code",
      "execution_count": 21,
      "metadata": {
        "colab": {
          "base_uri": "https://localhost:8080/"
        },
        "id": "PGkS-UTXs2XR",
        "outputId": "f891159e-62a1-4aa7-ad54-1b91420e53bd"
      },
      "outputs": [
        {
          "name": "stdout",
          "output_type": "stream",
          "text": [
            "123\n",
            "step:  0\n",
            "step:  100\n",
            "step:  100\n",
            "step:  100\n",
            "step:  100\n"
          ]
        }
      ],
      "source": [
        "# Creating Validation predictions and metrics:\n",
        "\n",
        "pred = []\n",
        "pred_label = []\n",
        "i=0\n",
        "criterion = nn.CrossEntropyLoss()\n",
        "print(len(X_val))\n",
        "for i in range(0,len(X_val)):\n",
        "    with torch.no_grad():\n",
        "        epoch_val_accuracy = 0\n",
        "        epoch_val_loss = 0\n",
        "\n",
        "        for data, label in valid_loader: #! Change: test_loader --> valid_loader           \n",
        "            if i%100==0:\n",
        "                print(\"step: \", i)\n",
        "            i +=1\n",
        "            data = data.to(torch.device(\"cuda\"))\n",
        "            label = label.to(torch.device(\"cuda\"))\n",
        "            val_output = model(data)\n",
        "            val_loss = criterion(val_output, label)\n",
        "            pred.append(list(val_output.argmax(dim=1).detach().cpu().numpy()))\n",
        "            pred_label.append(list(label.detach().cpu().numpy()))\n",
        "            acc = (val_output.argmax(dim=1) == label).float().mean()\n",
        "            epoch_val_accuracy += acc / len(valid_loader)\n",
        "            epoch_val_loss += val_loss / len(valid_loader)\n",
        "\n",
        "val_pred_flat = [item for sublist in pred for item in sublist]\n",
        "val_pred_label_flat = [item for sublist in pred_label for item in sublist]"
      ]
    },
    {
      "cell_type": "code",
      "execution_count": 22,
      "metadata": {},
      "outputs": [
        {
          "name": "stdout",
          "output_type": "stream",
          "text": [
            "124\n"
          ]
        }
      ],
      "source": [
        "# len(test_loader)\n",
        "print(len(test_loader.dataset))"
      ]
    },
    {
      "cell_type": "code",
      "execution_count": 23,
      "metadata": {
        "colab": {
          "base_uri": "https://localhost:8080/"
        },
        "id": "QPLZjjsRs2ae",
        "outputId": "41e685eb-f90c-42d7-9e01-281598e10ef0"
      },
      "outputs": [
        {
          "name": "stdout",
          "output_type": "stream",
          "text": [
            "124\n",
            "step:  0\n",
            "[0, 0, 0, 0, 1, 0, 0, 0, 1, 0, 1, 1, 1, 1, 0, 0, 1, 0, 0, 1, 0, 1, 1, 1, 1, 1, 0, 1, 1, 0, 1, 0]\n",
            "[0, 0, 1, 1, 1, 1, 0, 0, 1, 1, 0, 1, 0, 1, 1, 1, 0, 0, 0, 1, 1, 0, 1, 1, 1, 1, 1, 0, 0, 1, 0, 0]\n",
            "[0, 1, 1, 1, 1, 0, 0, 0, 1, 0, 0, 0, 1, 0, 0, 1, 1, 1, 1, 0, 0, 0, 0, 1, 0, 1, 0, 1, 0, 0, 1, 0]\n",
            "[0, 0, 0, 0, 0, 1, 1, 0, 0, 1, 1, 0, 1, 0, 1, 0, 0, 1, 1, 1, 0, 0, 1, 0, 0, 1, 1, 1]\n"
          ]
        }
      ],
      "source": [
        "# Creating test set predictions and mertrices:\n",
        "\n",
        "pred = []\n",
        "pred_label = []\n",
        "i=0\n",
        "criterion = nn.CrossEntropyLoss()\n",
        "print(len(X_test))\n",
        "for i in range(0,len(X_test)):    \n",
        "    # test_data = MyDataset([X_test[i]], [y_test[i]], transform=transforms)\n",
        "    # test_loader = DataLoader(dataset = test_data, batch_size=1, shuffle=False)\n",
        "    with torch.no_grad():\n",
        "        epoch_val_accuracy = 0\n",
        "        epoch_val_loss = 0\n",
        "\n",
        "        for data, label in test_loader:            \n",
        "            if i%100==0:\n",
        "                print(\"step: \", i)\n",
        "            i +=1\n",
        "            data = data.to(torch.device(\"cuda\"))\n",
        "            label = label.to(torch.device(\"cuda\"))\n",
        "            val_output = model(data)            \n",
        "            val_loss = criterion(val_output, label)\n",
        "            pred.append(list(val_output.argmax(dim=1).detach().cpu().numpy()))\n",
        "            print(list(val_output.argmax(dim=1).detach().cpu().numpy()))\n",
        "            pred_label.append(list(label.detach().cpu().numpy()))\n",
        "            acc = (val_output.argmax(dim=1) == label).float().mean()\n",
        "            epoch_val_accuracy += acc / len(test_loader)\n",
        "            epoch_val_loss += val_loss / len(test_loader)\n",
        "        \n",
        "        break\n",
        "\n",
        "test_pred_flat = [item for sublist in pred for item in sublist]\n",
        "test_pred_label_flat = [item for sublist in pred_label for item in sublist]\n",
        "\n",
        "predictions = [val_pred_flat, val_pred_label_flat, test_pred_flat, test_pred_label_flat]\n",
        "with open(\"/home/uditha/snap/snapd-desktop-integration/current/Desktop/FYP/vit/Base Vit/FinalModelsSimple/ViT_predictions.pk\", \"wb\") as fp:   #Pickling\n",
        "    pickle.dump(predictions, fp)"
      ]
    },
    {
      "cell_type": "code",
      "execution_count": 24,
      "metadata": {},
      "outputs": [],
      "source": [
        "test_pred_flat_1 = [len(sublist) for sublist in pred ]"
      ]
    },
    {
      "cell_type": "code",
      "execution_count": 25,
      "metadata": {
        "colab": {
          "base_uri": "https://localhost:8080/",
          "height": 1000
        },
        "id": "fRKEKXpCs2eN",
        "outputId": "6a58e2c5-8b51-4c3d-cb14-cded27f89d47"
      },
      "outputs": [
        {
          "name": "stdout",
          "output_type": "stream",
          "text": [
            "\n",
            "\n",
            "ViT MODEL:  \n",
            "              precision    recall  f1-score   support\n",
            "\n",
            "           0     0.8548    0.8413    0.8480        63\n",
            "           1     0.8387    0.8525    0.8455        61\n",
            "\n",
            "    accuracy                         0.8468       124\n",
            "   macro avg     0.8468    0.8469    0.8468       124\n",
            "weighted avg     0.8469    0.8468    0.8468       124\n",
            "\n",
            "[0, 0, 1, 0, 1, 0, 0, 1, 1, 0, 1, 1, 1, 1, 0, 0, 1, 0, 0, 1, 0, 1, 1, 1, 1, 1, 0, 0, 1, 1, 1, 0, 0, 0, 1, 0, 0, 1, 0, 0, 1, 1, 1, 1, 0, 1, 1, 1, 0, 0, 0, 1, 1, 0, 1, 1, 1, 0, 1, 0, 0, 0, 0, 0, 1, 1, 1, 1, 1, 1, 0, 1, 1, 0, 0, 0, 1, 0, 0, 1, 1, 1, 1, 0, 0, 1, 0, 1, 0, 1, 0, 0, 0, 0, 1, 0, 0, 0, 0, 0, 0, 1, 1, 0, 0, 0, 1, 0, 0, 0, 1, 1, 0, 1, 1, 1, 0, 0, 1, 0, 1, 1, 0, 1]\n"
          ]
        },
        {
          "data": {
            "image/png": "[encoded data removed]",
            "text/plain": [
              "<Figure size 640x480 with 1 Axes>"
            ]
          },
          "metadata": {},
          "output_type": "display_data"
        },
        {
          "data": {
            "image/png": "[encoded data removed]",
            "text/plain": [
              "<Figure size 500x400 with 2 Axes>"
            ]
          },
          "metadata": {},
          "output_type": "display_data"
        }
      ],
      "source": [
        "\n",
        "# Plotting training and val accuracy with training steps:\n",
        "train_acc_list = metrices[2]\n",
        "val_acc_list = metrices[3]\n",
        "\n",
        "plt.plot(range(0,len(val_acc_list)), val_acc_list, color='b', label='Validation accuracy')\n",
        "plt.plot(range(0,len(train_acc_list)), train_acc_list, color='r', label='Training accuracy')\n",
        "plt.title(\"Training and Validation accuracy\")\n",
        "plt.xlabel(\"Steps:\")\n",
        "plt.ylabel(\"Accuracy:\")\n",
        "\n",
        "# Precsion and recall:\n",
        "# with open('./final_models_simple/ViT_predictions.pk', 'rb') as f:\n",
        "#     predictions = pickle.load(f)\n",
        "\n",
        "val_pred_flat = predictions[0]\n",
        "val_pred_label_flat = predictions[1]\n",
        "test_pred_flat = predictions[2]\n",
        "test_pred_label_flat = predictions[3]\n",
        "print(\"\\n\\nViT MODEL:  \")\n",
        "print(classification_report(test_pred_flat, test_pred_label_flat,digits=4))\n",
        "# Confusion Matrix:\n",
        "y_true = test_pred_label_flat\n",
        "y_pred = test_pred_flat\n",
        "print(y_true)\n",
        "data = confusion_matrix(y_true, y_pred)\n",
        "df_cm = pd.DataFrame(data, columns=np.unique(y_true), index = np.unique(y_true))\n",
        "df_cm.index.name = 'Actual'\n",
        "df_cm.columns.name = 'Predicted'\n",
        "plt.figure(figsize = (5,4))\n",
        "sn.set(font_scale=1.4)#for label size\n",
        "sn.heatmap(df_cm, cmap=\"Blues\", annot=True,annot_kws={\"size\":10}, fmt='d')# font size\n",
        "plt.title(\"Confusion matrix for ViT model\")\n",
        "plt.show()"
      ]
    },
    {
      "cell_type": "code",
      "execution_count": 26,
      "metadata": {},
      "outputs": [
        {
          "data": {
            "text/plain": [
              "array([[53,  9],\n",
              "       [10, 52]])"
            ]
          },
          "execution_count": 26,
          "metadata": {},
          "output_type": "execute_result"
        }
      ],
      "source": [
        "data"
      ]
    },
    {
      "cell_type": "code",
      "execution_count": 27,
      "metadata": {
        "id": "B4VmemLJs2hW"
      },
      "outputs": [
        {
          "data": {
            "text/plain": [
              "15129"
            ]
          },
          "execution_count": 27,
          "metadata": {},
          "output_type": "execute_result"
        }
      ],
      "source": [
        "len(predictions[1])"
      ]
    }
  ],
  "metadata": {
    "accelerator": "GPU",
    "colab": {
      "provenance": []
    },
    "gpuClass": "standard",
    "kernelspec": {
      "display_name": "Python 3 (ipykernel)",
      "language": "python",
      "name": "python3"
    },
    "language_info": {
      "codemirror_mode": {
        "name": "ipython",
        "version": 3
      },
      "file_extension": ".py",
      "mimetype": "text/x-python",
      "name": "python",
      "nbconvert_exporter": "python",
      "pygments_lexer": "ipython3",
      "version": "3.10.6"
    }
  },
  "nbformat": 4,
  "nbformat_minor": 0
}
